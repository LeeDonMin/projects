{
 "cells": [
  {
   "cell_type": "markdown",
   "metadata": {},
   "source": [
    "# 실습 1 신용카드 이상 탐지"
   ]
  },
  {
   "cell_type": "markdown",
   "metadata": {},
   "source": [
    "데이터 준비\n",
    "실습에 사용될 데이터는 Kaggle의 Credit Card Fraud Detection 데이터셋입니다. 이 데이터셋은 거래의 시간, 금액과 함께 28개의 PCA 변환된 특성들을 포함하고 있습니다. 'Class' 레이블은 사기 거래를 나타내는 1과 정상 거래를 나타내는 0으로 구분됩니다.\n",
    "\n",
    "데이터를 불러오고, 전처리하는 기본적인 코드는 아래와 같습니다:"
   ]
  },
  {
   "cell_type": "markdown",
   "metadata": {},
   "source": [
    "https://www.kaggle.com/datasets/mlg-ulb/creditcardfraud?resource=download"
   ]
  },
  {
   "cell_type": "code",
   "execution_count": null,
   "metadata": {},
   "outputs": [],
   "source": [
    "import pandas as pd\n",
    "from sklearn.model_selection import train_test_split\n",
    "from sklearn.preprocessing import StandardScaler\n",
    "from sklearn.ensemble import RandomForestClassifier\n",
    "from sklearn.metrics import roc_auc_score\n",
    "from sklearn.linear_model import LogisticRegression\n",
    "from sklearn.tree import DecisionTreeClassifier\n",
    "\n",
    "# 데이터를 불러옵니다.\n",
    "Data = pd.read_csv('creditcard.csv')\n",
    "Data"
   ]
  },
  {
   "cell_type": "code",
   "execution_count": 15,
   "metadata": {},
   "outputs": [
    {
     "name": "stdout",
     "output_type": "stream",
     "text": [
      "Class Distribution:\n",
      "Class\n",
      "0    284315\n",
      "1       492\n",
      "Name: count, dtype: int64\n"
     ]
    }
   ],
   "source": [
    "# target 데이터(class)의 분포를 확인합니다.\n",
    "print(\"Class Distribution:\")\n",
    "print(Data['Class'].value_counts())\n",
    "\n",
    "# 위 모든 feature를 사용해서, class를 예측\n",
    "data = Data.drop('Class',axis=1)\n",
    "target = Data['Class']"
   ]
  },
  {
   "cell_type": "code",
   "execution_count": 16,
   "metadata": {},
   "outputs": [],
   "source": [
    "# 데이터를 훈련 세트와 테스트 세트로 분할합니다.\n",
    "from sklearn.model_selection import train_test_split\n",
    "from sklearn.preprocessing import StandardScaler\n",
    "훈련용_data, 테스트용_data, 훈련용_target, 테스트용_target = train_test_split(data, target, test_size=0.3, random_state=40)\n",
    "# 데이터 표준화 작업을 실시합니다,\n",
    "scaler = StandardScaler()\n",
    "scaler.fit(data)\n",
    "표준화_테스트용_data= scaler.transform(테스트용_data)\n"
   ]
  },
  {
   "cell_type": "code",
   "execution_count": 17,
   "metadata": {},
   "outputs": [
    {
     "name": "stdout",
     "output_type": "stream",
     "text": [
      "Accuracy: 0.9990\n",
      "Precision: 0.9990\n",
      "F1 Score: 0.9990\n"
     ]
    },
    {
     "name": "stderr",
     "output_type": "stream",
     "text": [
      "c:\\Users\\humming\\anaconda3\\Lib\\site-packages\\sklearn\\linear_model\\_logistic.py:469: ConvergenceWarning: lbfgs failed to converge (status=1):\n",
      "STOP: TOTAL NO. of ITERATIONS REACHED LIMIT.\n",
      "\n",
      "Increase the number of iterations (max_iter) or scale the data as shown in:\n",
      "    https://scikit-learn.org/stable/modules/preprocessing.html\n",
      "Please also refer to the documentation for alternative solver options:\n",
      "    https://scikit-learn.org/stable/modules/linear_model.html#logistic-regression\n",
      "  n_iter_i = _check_optimize_result(\n"
     ]
    }
   ],
   "source": [
    "from sklearn.linear_model import LogisticRegression\n",
    "from sklearn.metrics import accuracy_score, precision_score, f1_score\n",
    "\n",
    "# 모델 생성 및 학습\n",
    "lr = LogisticRegression()\n",
    "lr.fit(훈련용_data, 훈련용_target)\n",
    "\n",
    "# 테스트 데이터 예측\n",
    "predictions = lr.predict(테스트용_data)\n",
    "\n",
    "# 평가 지표 계산\n",
    "accuracy = accuracy_score(테스트용_target, predictions)\n",
    "precision = precision_score(테스트용_target, predictions, average='weighted')\n",
    "f1 = f1_score(테스트용_target, predictions, average='weighted')\n",
    "\n",
    "# 결과 출력\n",
    "print(f\"Accuracy: {accuracy:.4f}\")\n",
    "print(f\"Precision: {precision:.4f}\")\n",
    "print(f\"F1 Score: {f1:.4f}\")\n"
   ]
  },
  {
   "cell_type": "markdown",
   "metadata": {},
   "source": [
    "## Decision Tree 로 직접해보기"
   ]
  },
  {
   "cell_type": "code",
   "execution_count": 24,
   "metadata": {},
   "outputs": [
    {
     "name": "stdout",
     "output_type": "stream",
     "text": [
      "AUC Score: 0.8802\n"
     ]
    }
   ],
   "source": [
    "# 결정 트리 모델을 생성하고 학습합니다.\n",
    "\n",
    "# 학습된 모델로 테스트 데이터를 예측하고 평가합니다.\n",
    "\n",
    "# AUC 점수를 계산합니다.\n",
    "\n",
    "from sklearn.tree import DecisionTreeClassifier\n",
    "from sklearn.metrics import roc_auc_score\n",
    "\n",
    "# 결정 트리 모델 생성 및 학습\n",
    "dt = DecisionTreeClassifier()\n",
    "dt.fit(훈련용_data, 훈련용_target)\n",
    "\n",
    "# 테스트 데이터 예측 (확률로 예측)\n",
    "predictions_proba = dt.predict_proba(테스트용_data)\n",
    "\n",
    "# AUC 점수 계산\n",
    "auc = roc_auc_score(테스트용_target, predictions_proba[:, 1])\n",
    "\n",
    "# 결과 출력\n",
    "print(f\"AUC Score: {auc:.4f}\")\n",
    "\n"
   ]
  },
  {
   "cell_type": "markdown",
   "metadata": {},
   "source": [
    "## Random Forest 로 해보기"
   ]
  },
  {
   "cell_type": "code",
   "execution_count": 25,
   "metadata": {},
   "outputs": [
    {
     "name": "stdout",
     "output_type": "stream",
     "text": [
      "AUC Score: 0.9623\n"
     ]
    }
   ],
   "source": [
    "# 랜덤 포레스트 모델을 생성하고 학습합니다.\n",
    "\n",
    "\n",
    "# 학습된 모델로 테스트 데이터를 예측하고 평가합니다.\n",
    "\n",
    "# AUC 점수를 계산합니다.\n",
    "\n",
    "from sklearn.ensemble import RandomForestClassifier\n",
    "from sklearn.metrics import roc_auc_score\n",
    "\n",
    "# 랜덤 포레스트 모델 생성 및 학습\n",
    "rf = RandomForestClassifier()\n",
    "rf.fit(훈련용_data, 훈련용_target)\n",
    "\n",
    "# 테스트 데이터 예측 (확률로 예측)\n",
    "predictions_proba = rf.predict_proba(테스트용_data)\n",
    "\n",
    "# AUC 점수 계산\n",
    "auc = roc_auc_score(테스트용_target, predictions_proba[:, 1])\n",
    "\n",
    "# 결과 출력\n",
    "print(f\"AUC Score: {auc:.4f}\")\n",
    "\n"
   ]
  },
  {
   "cell_type": "markdown",
   "metadata": {},
   "source": [
    "## 퀴즈) SVM 사용해보기"
   ]
  },
  {
   "cell_type": "code",
   "execution_count": 26,
   "metadata": {},
   "outputs": [
    {
     "name": "stdout",
     "output_type": "stream",
     "text": [
      "AUC Score: 0.5776\n"
     ]
    }
   ],
   "source": [
    "from sklearn.svm import SVC\n",
    "from sklearn.metrics import roc_auc_score\n",
    "\n",
    "# SVM 모델 생성 및 학습 (확률 계산을 위해 probability=True 설정)\n",
    "svm = SVC(probability=True)\n",
    "svm.fit(훈련용_data, 훈련용_target)\n",
    "\n",
    "# 테스트 데이터 예측 (확률로 예측)\n",
    "predictions_proba = svm.predict_proba(테스트용_data)\n",
    "\n",
    "# AUC 점수 계산\n",
    "auc = roc_auc_score(테스트용_target, predictions_proba[:, 1])\n",
    "\n",
    "# 결과 출력\n",
    "print(f\"AUC Score: {auc:.4f}\")\n"
   ]
  }
 ],
 "metadata": {
  "kernelspec": {
   "display_name": "base",
   "language": "python",
   "name": "python3"
  },
  "language_info": {
   "codemirror_mode": {
    "name": "ipython",
    "version": 3
   },
   "file_extension": ".py",
   "mimetype": "text/x-python",
   "name": "python",
   "nbconvert_exporter": "python",
   "pygments_lexer": "ipython3",
   "version": "3.12.4"
  }
 },
 "nbformat": 4,
 "nbformat_minor": 2
}
