{
 "cells": [
  {
   "cell_type": "markdown",
   "metadata": {},
   "source": [
    "# Auto Incoder"
   ]
  },
  {
   "cell_type": "markdown",
   "metadata": {},
   "source": [
    "# 은닉 레이어 크기별 오토 인코더 성능 비교"
   ]
  },
  {
   "cell_type": "code",
   "execution_count": null,
   "metadata": {},
   "outputs": [],
   "source": [
    "import matplotlib\n",
    "matplotlib.use(\"TkAgg\")\n",
    "from tensorflow.keras.datasets import mnist\n",
    "from tensorflow.keras.models import Sequential\n",
    "from tensorflow.keras.layers import Dense\n",
    "from tensorflow.keras.utils import to_categorical\n",
    "from matplotlib import pyplot as plt\n",
    "import random\n",
    "\n",
    "\n",
    "# MNIST 데이터셋\n",
    "(X_train, y_train), (X_test, y_test) = mnist.load_data()\n",
    "\n",
    "# 데이터 전처리\n",
    "\n",
    "\n",
    "# 은닉 레이어 크기가 다른 오토인코더를 만든다\n",
    "\n",
    "\n",
    "# 각 오토인코더를 훈련시킨다\n",
    "\n",
    "\n",
    "# 훈련시킨 모델을 사용해 테스트셋의 결과를 예측한다\n"
   ]
  },
  {
   "cell_type": "markdown",
   "metadata": {},
   "source": [
    "### 시각화"
   ]
  },
  {
   "cell_type": "code",
   "execution_count": null,
   "metadata": {},
   "outputs": [],
   "source": [
    "# 각 모델의 결과를 그려 비교한다\n",
    "fig, axes = plt.subplots(7, 5, figsize=(15,15))\n",
    "\n",
    "randomly_selected_imgs = random.sample(range(output_2_model.shape[0]),5)\n",
    "outputs = [X_test, output_1_model, output_2_model, output_4_model, output_8_model, output_16_model, output_32_model]\n",
    "\n",
    "# 서브차트를 하나씩 그린다\n",
    "for row_num, row in enumerate(axes):\n",
    "  for col_num, ax in enumerate(row):\n",
    "    ax.imshow(outputs[row_num][randomly_selected_imgs[col_num]].reshape(28,28), cmap='gray')\n",
    "    ax.grid(False)\n",
    "    ax.set_xticks([])\n",
    "    ax.set_yticks([])\n",
    "\n",
    "plt.show()"
   ]
  },
  {
   "cell_type": "markdown",
   "metadata": {},
   "source": [
    "# 기본 오토 인코더 활용 노이즈 제거"
   ]
  },
  {
   "cell_type": "code",
   "execution_count": null,
   "metadata": {},
   "outputs": [],
   "source": [
    "import matplotlib\n",
    "matplotlib.use(\"TkAgg\")\n",
    "from tensorflow.keras.datasets import mnist\n",
    "from tensorflow.keras.models import Sequential\n",
    "from tensorflow.keras.layers import Dense\n",
    "from matplotlib import pyplot as plt\n",
    "import numpy as np\n",
    "import random\n",
    "\n",
    "\n",
    "# MNIST 데이터셋을 가져온다\n",
    "(X_train, y_train), (X_test, y_test) = mnist.load_data()\n",
    "\n",
    "# 데이터 전처리\n",
    "\n",
    "\n",
    "# MNIST 데이터셋에 노이즈를 추가한다\n",
    "\n",
    "\n",
    "# 모델을 만들고 훈련시킨다\n"
   ]
  },
  {
   "cell_type": "markdown",
   "metadata": {},
   "source": [
    "### 시각화"
   ]
  },
  {
   "cell_type": "code",
   "execution_count": null,
   "metadata": {},
   "outputs": [],
   "source": [
    "# 결과 출력\n",
    "fig, ((ax1, ax2, ax3, ax4, ax5), (ax6, ax7, ax8, ax9, ax10), (ax11,ax12,ax13,ax14,ax15)) = plt.subplots(3, 5)\n",
    "randomly_selected_imgs = random.sample(range(output.shape[0]),5)\n",
    "\n",
    "# 첫 번째 줄에는 원본 이미지를 그린다\n",
    "for i, ax in enumerate([ax1,ax2,ax3,ax4,ax5]):\n",
    "    ax.imshow(X_train[randomly_selected_imgs[i]].reshape(28,28), cmap='gray')\n",
    "    if i == 0:\n",
    "        ax.set_ylabel(\"Original \\n Images\")\n",
    "    ax.grid(False)\n",
    "    ax.set_xticks([])\n",
    "    ax.set_yticks([])\n",
    "\n",
    "# 두 번째 줄에는 노이즈를 추가한 이미지를 그린다\n",
    "for i, ax in enumerate([ax6,ax7,ax8,ax9,ax10]):\n",
    "    ax.imshow(X_test_noised[randomly_selected_imgs[i]].reshape(28,28), cmap='gray')\n",
    "    if i == 0:\n",
    "        ax.set_ylabel(\"Input With \\n Noise Added\")\n",
    "    ax.grid(False)\n",
    "    ax.set_xticks([])\n",
    "    ax.set_yticks([])\n",
    "\n",
    "# 세 번째 줄에는 오토인코더가 출력한 결과 이미지를 그린다\n",
    "for i, ax in enumerate([ax11,ax12,ax13,ax14,ax15]):\n",
    "    ax.imshow(output[randomly_selected_imgs[i]].reshape(28,28), cmap='gray')\n",
    "    if i == 0:\n",
    "        ax.set_ylabel(\"Denoised \\n Output\")\n",
    "    ax.grid(False)\n",
    "    ax.set_xticks([])\n",
    "    ax.set_yticks([])\n",
    "\n",
    "plt.show()"
   ]
  },
  {
   "cell_type": "markdown",
   "metadata": {},
   "source": [
    "# CNN 기반 오토인코더"
   ]
  },
  {
   "cell_type": "code",
   "execution_count": null,
   "metadata": {},
   "outputs": [],
   "source": [
    "import matplotlib\n",
    "matplotlib.use(\"TkAgg\")\n",
    "from keras.datasets import mnist\n",
    "from keras.models import Sequential\n",
    "from keras.layers import Dense, Conv2D\n",
    "from matplotlib import pyplot as plt\n",
    "import numpy as np\n",
    "import random\n",
    "\n",
    "# MNIST 데이터셋을 가져온다\n",
    "(X_train, y_train), (X_test, y_test) = mnist.load_data()\n",
    "\n",
    "# 데이터 전처리\n",
    "\n",
    "\n",
    "# MNIST 데이터셋에 노이즈를 추가한다\n",
    "\n",
    "\n",
    "# 모델을 만든다\n",
    "\n",
    "\n",
    "# 모델 컴파일\n",
    "\n",
    "\n",
    "# 모델 학습\n"
   ]
  },
  {
   "cell_type": "markdown",
   "metadata": {},
   "source": [
    "### 시각화"
   ]
  },
  {
   "cell_type": "code",
   "execution_count": null,
   "metadata": {},
   "outputs": [],
   "source": [
    "fig, ((ax1, ax2, ax3, ax4, ax5), (ax6, ax7, ax8, ax9, ax10), (ax11,ax12,ax13,ax14,ax15)) = plt.subplots(3, 5)\n",
    "randomly_selected_imgs = random.sample(range(output.shape[0]),5)\n",
    "\n",
    "# 첫 번째 줄에는 원본 이미지를 그린다\n",
    "for i, ax in enumerate([ax1,ax2,ax3,ax4,ax5]):\n",
    "    ax.imshow(X_test[randomly_selected_imgs[i]].reshape(28,28), cmap='gray')\n",
    "    if i == 0:\n",
    "        ax.set_ylabel(\"Original \\n Images\")\n",
    "    ax.grid(False)\n",
    "    ax.set_xticks([])\n",
    "    ax.set_yticks([])\n",
    "\n",
    "# 두 번째 줄에는 노이즈를 추가한 이미지를 그린다\n",
    "for i, ax in enumerate([ax6,ax7,ax8,ax9,ax10]):\n",
    "    ax.imshow(X_test_noisy[randomly_selected_imgs[i]].reshape(28,28), cmap='gray')\n",
    "    if i == 0:\n",
    "        ax.set_ylabel(\"Input With \\n Noise Added\")\n",
    "    ax.grid(False)\n",
    "    ax.set_xticks([])\n",
    "    ax.set_yticks([])\n",
    "\n",
    "# 세 번째 줄에는 오토인코더가 출력한 결과 이미지를 그린다\n",
    "for i, ax in enumerate([ax11,ax12,ax13,ax14,ax15]):\n",
    "    ax.imshow(output[randomly_selected_imgs[i]].reshape(28,28), cmap='gray')\n",
    "    if i == 0:\n",
    "        ax.set_ylabel(\"Denoised \\n Output\")\n",
    "    ax.grid(False)\n",
    "    ax.set_xticks([])\n",
    "    ax.set_yticks([])\n",
    "\n",
    "plt.show()"
   ]
  }
 ],
 "metadata": {
  "kernelspec": {
   "display_name": "Python 3",
   "language": "python",
   "name": "python3"
  },
  "language_info": {
   "codemirror_mode": {
    "name": "ipython",
    "version": 3
   },
   "file_extension": ".py",
   "mimetype": "text/x-python",
   "name": "python",
   "nbconvert_exporter": "python",
   "pygments_lexer": "ipython3",
   "version": "3.11.2"
  }
 },
 "nbformat": 4,
 "nbformat_minor": 2
}
