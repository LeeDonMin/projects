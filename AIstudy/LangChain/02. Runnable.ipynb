{
 "cells": [
  {
   "cell_type": "code",
   "execution_count": 1,
   "metadata": {},
   "outputs": [
    {
     "data": {
      "text/plain": [
       "True"
      ]
     },
     "execution_count": 1,
     "metadata": {},
     "output_type": "execute_result"
    }
   ],
   "source": [
    "# .env 파일을 읽어서 환경변수로 설정\n",
    "from dotenv import load_dotenv\n",
    "\n",
    "# 토큰 정보로드\n",
    "load_dotenv()"
   ]
  },
  {
   "cell_type": "code",
   "execution_count": 2,
   "metadata": {},
   "outputs": [
    {
     "name": "stdout",
     "output_type": "stream",
     "text": [
      "LangSmith 추적을 시작합니다.\n",
      "[프로젝트명]\n",
      "Runnable\n"
     ]
    }
   ],
   "source": [
    "# LangSmith 추적을 설정합니다. https://smith.langchain.com\n",
    "# !pip install -qU langchain-teddynote\n",
    "from langchain_teddynote import logging\n",
    "\n",
    "# 프로젝트 이름을 입력합니다.\n",
    "logging.langsmith(\"Runnable\")"
   ]
  },
  {
   "cell_type": "markdown",
   "metadata": {},
   "source": [
    "## Langchain에서 데이터를 효과적으로 전달하는 방법\n",
    "1. RunnablePassthrough\n",
    "2. RunnableParallel\n",
    "3. RunnableLambda"
   ]
  },
  {
   "cell_type": "markdown",
   "metadata": {},
   "source": [
    "\n",
    "### 1. `RunnablePassthrough`: 데이터를 그대로 넘겨(통과시켜)주는 역할"
   ]
  },
  {
   "cell_type": "code",
   "execution_count": 3,
   "metadata": {},
   "outputs": [
    {
     "data": {
      "text/plain": [
       "PromptTemplate(input_variables=['word'], input_types={}, partial_variables={}, template='{word}를 영어로?')\n",
       "| ChatOpenAI(client=<openai.resources.chat.completions.Completions object at 0x7fa50d4f4ee0>, async_client=<openai.resources.chat.completions.AsyncCompletions object at 0x7fa50d4f6fe0>, root_client=<openai.OpenAI object at 0x7fa524448e20>, root_async_client=<openai.AsyncOpenAI object at 0x7fa50d4f4f40>, temperature=0.0, model_kwargs={}, openai_api_key=SecretStr('**********'))"
      ]
     },
     "execution_count": 3,
     "metadata": {},
     "output_type": "execute_result"
    }
   ],
   "source": [
    "from langchain_core.prompts import PromptTemplate\n",
    "from langchain_openai import ChatOpenAI\n",
    "\n",
    "\n",
    "# prompt 와 llm 을 생성합니다.\n",
    "prompt = PromptTemplate.from_template(\"{word}를 영어로?\")\n",
    "llm = ChatOpenAI(temperature=0)\n",
    "\n",
    "# chain 을 생성합니다.\n",
    "chain = prompt | llm\n",
    "chain"
   ]
  },
  {
   "cell_type": "markdown",
   "metadata": {},
   "source": [
    "chain 을 `invoke()` 하여 실행할 때는 입력 데이터의 타입은 ***딕셔너리***"
   ]
  },
  {
   "cell_type": "code",
   "execution_count": 4,
   "metadata": {},
   "outputs": [
    {
     "data": {
      "text/plain": [
       "AIMessage(content='apple', additional_kwargs={'refusal': None}, response_metadata={'token_usage': {'completion_tokens': 1, 'prompt_tokens': 15, 'total_tokens': 16, 'completion_tokens_details': {'audio_tokens': None, 'reasoning_tokens': 0}, 'prompt_tokens_details': {'audio_tokens': None, 'cached_tokens': 0}}, 'model_name': 'gpt-3.5-turbo-0125', 'system_fingerprint': None, 'finish_reason': 'stop', 'logprobs': None}, id='run-bbbeed0e-6fe0-472b-b8d1-af0039e72bab-0', usage_metadata={'input_tokens': 15, 'output_tokens': 1, 'total_tokens': 16, 'input_token_details': {'cache_read': 0}, 'output_token_details': {'reasoning': 0}})"
      ]
     },
     "execution_count": 4,
     "metadata": {},
     "output_type": "execute_result"
    }
   ],
   "source": [
    "# chain 을 실행합니다.\n",
    "chain.invoke({\"word\": '사과'})"
   ]
  },
  {
   "cell_type": "markdown",
   "metadata": {},
   "source": [
    "But, 1개의 변수만 템플릿에 포함하고 있다면, 값만 전달하는 것도 가능"
   ]
  },
  {
   "cell_type": "code",
   "execution_count": 5,
   "metadata": {},
   "outputs": [
    {
     "data": {
      "text/plain": [
       "AIMessage(content='apple', additional_kwargs={'refusal': None}, response_metadata={'token_usage': {'completion_tokens': 1, 'prompt_tokens': 15, 'total_tokens': 16, 'completion_tokens_details': {'audio_tokens': None, 'reasoning_tokens': 0}, 'prompt_tokens_details': {'audio_tokens': None, 'cached_tokens': 0}}, 'model_name': 'gpt-3.5-turbo-0125', 'system_fingerprint': None, 'finish_reason': 'stop', 'logprobs': None}, id='run-fc3e3443-a372-4824-8512-07bb7481faf7-0', usage_metadata={'input_tokens': 15, 'output_tokens': 1, 'total_tokens': 16, 'input_token_details': {'cache_read': 0}, 'output_token_details': {'reasoning': 0}})"
      ]
     },
     "execution_count": 5,
     "metadata": {},
     "output_type": "execute_result"
    }
   ],
   "source": [
    "# chain 을 실행합니다.\n",
    "chain.invoke('사과')"
   ]
  },
  {
   "cell_type": "code",
   "execution_count": 6,
   "metadata": {},
   "outputs": [
    {
     "data": {
      "text/plain": [
       "AIMessage(content='Artificial Intelligence', additional_kwargs={'refusal': None}, response_metadata={'token_usage': {'completion_tokens': 3, 'prompt_tokens': 17, 'total_tokens': 20, 'completion_tokens_details': {'audio_tokens': None, 'reasoning_tokens': 0}, 'prompt_tokens_details': {'audio_tokens': None, 'cached_tokens': 0}}, 'model_name': 'gpt-3.5-turbo-0125', 'system_fingerprint': None, 'finish_reason': 'stop', 'logprobs': None}, id='run-c72479d6-67e9-47ac-8f66-200d762c3cb6-0', usage_metadata={'input_tokens': 17, 'output_tokens': 3, 'total_tokens': 20, 'input_token_details': {'cache_read': 0}, 'output_token_details': {'reasoning': 0}})"
      ]
     },
     "execution_count": 6,
     "metadata": {},
     "output_type": "execute_result"
    }
   ],
   "source": [
    "from langchain_core.runnables import RunnablePassthrough\n",
    "\n",
    "# RunnablePassthrough 는 runnable 객체이며, runnable 객체는 invoke() 메소드를 사용하여 별도 실행이 가능\n",
    "# RunnablePassthrough()를 사용하여 체인 구성\n",
    "runnable_chain = {\"word\": RunnablePassthrough()} | prompt | ChatOpenAI()\n",
    "\n",
    "# dict 값이 RunnablePassthrough() 로 변경됨\n",
    "runnable_chain.invoke('인공지능')"
   ]
  },
  {
   "cell_type": "markdown",
   "metadata": {},
   "source": [
    "### 2. `RunnableParallel`: 여러 작업을 동시에(병렬)로 처리하도록 도와주는 도구"
   ]
  },
  {
   "cell_type": "code",
   "execution_count": 8,
   "metadata": {},
   "outputs": [],
   "source": [
    "from langchain_core.runnables import RunnableParallel\n",
    "\n",
    "chain1 = (\n",
    "    {\"country\": RunnablePassthrough()}\n",
    "    | PromptTemplate.from_template(\"{country} 의 수도는?\")\n",
    "    | ChatOpenAI()\n",
    ")\n",
    "chain2 = (\n",
    "    {\"country\": RunnablePassthrough()}\n",
    "    | PromptTemplate.from_template(\"{country} 의 면적은?\")\n",
    "    | ChatOpenAI()\n",
    ")"
   ]
  },
  {
   "cell_type": "code",
   "execution_count": 9,
   "metadata": {},
   "outputs": [
    {
     "data": {
      "text/plain": [
       "{'capital': AIMessage(content='서울특별시입니다.', additional_kwargs={'refusal': None}, response_metadata={'token_usage': {'completion_tokens': 10, 'prompt_tokens': 19, 'total_tokens': 29, 'completion_tokens_details': {'audio_tokens': None, 'reasoning_tokens': 0}, 'prompt_tokens_details': {'audio_tokens': None, 'cached_tokens': 0}}, 'model_name': 'gpt-3.5-turbo-0125', 'system_fingerprint': None, 'finish_reason': 'stop', 'logprobs': None}, id='run-9dd8f3a7-1b89-419f-955f-81d0f1603932-0', usage_metadata={'input_tokens': 19, 'output_tokens': 10, 'total_tokens': 29, 'input_token_details': {'cache_read': 0}, 'output_token_details': {'reasoning': 0}}),\n",
       " 'area': AIMessage(content='대한민국의 총 면적은 100,363km² 입니다.', additional_kwargs={'refusal': None}, response_metadata={'token_usage': {'completion_tokens': 23, 'prompt_tokens': 20, 'total_tokens': 43, 'completion_tokens_details': {'audio_tokens': None, 'reasoning_tokens': 0}, 'prompt_tokens_details': {'audio_tokens': None, 'cached_tokens': 0}}, 'model_name': 'gpt-3.5-turbo-0125', 'system_fingerprint': None, 'finish_reason': 'stop', 'logprobs': None}, id='run-d8115067-9f20-4713-a40b-b9b8339e7865-0', usage_metadata={'input_tokens': 20, 'output_tokens': 23, 'total_tokens': 43, 'input_token_details': {'cache_read': 0}, 'output_token_details': {'reasoning': 0}})}"
      ]
     },
     "execution_count": 9,
     "metadata": {},
     "output_type": "execute_result"
    }
   ],
   "source": [
    "combined_chain = RunnableParallel(capital=chain1, area=chain2)\n",
    "combined_chain.invoke(\"대한민국\")"
   ]
  },
  {
   "cell_type": "markdown",
   "metadata": {},
   "source": [
    "### 3. `RunnableLambda`: 사용자 정의 함수 매핑하도록 도와주는 도구\n"
   ]
  },
  {
   "cell_type": "code",
   "execution_count": 10,
   "metadata": {},
   "outputs": [],
   "source": [
    "from langchain_core.output_parsers import StrOutputParser\n",
    "from langchain_core.prompts import PromptTemplate\n",
    "from langchain_openai import ChatOpenAI\n",
    "from datetime import datetime\n",
    "from langchain_core.runnables import RunnableLambda, RunnablePassthrough\n",
    "\n",
    "def concat_output(text):\n",
    "    return text['capital'].content + ' ' + text['area'].content"
   ]
  },
  {
   "cell_type": "code",
   "execution_count": 11,
   "metadata": {},
   "outputs": [
    {
     "data": {
      "text/plain": [
       "AIMessage(content='안녕하세요! 서울특별시에 오신 것을 환영합니다! 🌆 대한민국의 총 면적은 약 100,363㎢로, 다채로운 자연경관과 역사적인 명소로 가득한 아름다운 나라입니다. 🇰🇷 함께 즐거운 시간 보내시길 바라요! 🌟', additional_kwargs={'refusal': None}, response_metadata={'token_usage': {'completion_tokens': 116, 'prompt_tokens': 69, 'total_tokens': 185, 'completion_tokens_details': {'audio_tokens': None, 'reasoning_tokens': 0}, 'prompt_tokens_details': {'audio_tokens': None, 'cached_tokens': 0}}, 'model_name': 'gpt-3.5-turbo-0125', 'system_fingerprint': None, 'finish_reason': 'stop', 'logprobs': None}, id='run-c8afdc06-723d-47f2-8774-b41038f9d05b-0', usage_metadata={'input_tokens': 69, 'output_tokens': 116, 'total_tokens': 185, 'input_token_details': {'cache_read': 0}, 'output_token_details': {'reasoning': 0}})"
      ]
     },
     "execution_count": 11,
     "metadata": {},
     "output_type": "execute_result"
    }
   ],
   "source": [
    "final_chain = (combined_chain\n",
    "            | {'info': RunnableLambda(concat_output)} \n",
    "            | PromptTemplate.from_template(\"{info}의 내용을 자연스럽게 다듬고, 이모지를 넣어줘.\")\n",
    "            | ChatOpenAI())\n",
    "\n",
    "final_chain.invoke(\"대한민국\")"
   ]
  },
  {
   "cell_type": "code",
   "execution_count": 14,
   "metadata": {},
   "outputs": [
    {
     "data": {
      "text/plain": [
       "'Oct-14'"
      ]
     },
     "execution_count": 14,
     "metadata": {},
     "output_type": "execute_result"
    }
   ],
   "source": [
    "from langchain_core.output_parsers import StrOutputParser\n",
    "from langchain_core.prompts import PromptTemplate\n",
    "from langchain_openai import ChatOpenAI\n",
    "from datetime import datetime\n",
    "\n",
    "\n",
    "def get_today(a):\n",
    "    # 오늘 날짜를 가져오기\n",
    "    return datetime.today().strftime(\"%b-%d\")\n",
    "\n",
    "\n",
    "# 오늘 날짜를 출력\n",
    "get_today(None)"
   ]
  },
  {
   "cell_type": "code",
   "execution_count": 15,
   "metadata": {},
   "outputs": [],
   "source": [
    "from langchain_core.runnables import RunnableLambda, RunnablePassthrough\n",
    "\n",
    "# prompt 와 llm 을 생성합니다.\n",
    "prompt = PromptTemplate.from_template(\n",
    "    \"{today} 가 생일인 대한민국 유명인 {n} 명을 나열하세요. 생년월일을 표기해 주세요.\"\n",
    ")\n",
    "llm = ChatOpenAI(temperature=0, model_name=\"gpt-4o-mini\")\n",
    "\n",
    "# chain 을 생성합니다.\n",
    "chain = (\n",
    "    {\"today\": RunnableLambda(get_today), \"n\": RunnablePassthrough()}\n",
    "    | prompt\n",
    "    | llm\n",
    "    | StrOutputParser()\n",
    ")"
   ]
  },
  {
   "cell_type": "code",
   "execution_count": 16,
   "metadata": {},
   "outputs": [
    {
     "name": "stdout",
     "output_type": "stream",
     "text": [
      "다음은 10월 14일에 생일인 대한민국의 유명인 3명입니다:\n",
      "\n",
      "1. **이정재** - 1973년 10월 14일\n",
      "2. **김범수** - 1979년 10월 14일\n",
      "3. **이상민** - 1973년 10월 14일\n",
      "\n",
      "이 외에도 다른 유명인들이 있을 수 있지만, 위의 세 명이 대표적인 인물입니다.\n"
     ]
    }
   ],
   "source": [
    "# 출력\n",
    "print(chain.invoke(3))"
   ]
  },
  {
   "cell_type": "markdown",
   "metadata": {},
   "source": [
    "### [실습] Runnnable 세가지를 적절히 사용하여 챗봇 생성\n",
    "\n",
    "- 위 코드를 활용하여 아래 내용에 맞게 작성하시요.\n",
    "- RunnableParallel 사용\n",
    "    - chain1 : `{food}` 재료로 만들 수 있는 메인 디시를 묻는 체인\n",
    "    - chain2 : `{food}` 재료로 만들 수 있는 후식 디저트를 묻는 체인\n",
    "- RunnableLambda 사용\n",
    "    - 두 체인의 결과 값 이어 붙이기 -> `{info}`\n",
    "    - `{info}`를 바탕으로 이모지를 사용하여 우리 음식점 메뉴 추천 홍보문구를 작성해주는 템플릿\n"
   ]
  },
  {
   "cell_type": "code",
   "execution_count": 20,
   "metadata": {},
   "outputs": [
    {
     "name": "stdout",
     "output_type": "stream",
     "text": [
      "content='감자는 다양한 요리에 활용될 수 있는 만능 재료입니다. 아래는 감자를 활용한 여러 가지 메인 요리와 후식 디저트의 예시와 간단한 레시피를 소개합니다.\\n\\n### 메인 요리\\n\\n1. **감자전**\\n   - **재료**: 감자 3개, 양파 1개, 부침가루 1컵, 소금 약간, 식용유\\n   - **레시피**:\\n     1. 감자와 양파를 곱게 갈아줍니다.\\n     2. 갈아낸 감자와 양파에 부침가루와 소금을 넣고 잘 섞어줍니다.\\n     3. 팬에 식용유를 두르고 반죽을 동그랗게 올려 중불에서 양면이 노릇할 때까지 부칩니다.\\n\\n2. **감자탕**\\n   - **재료**: 감자 2개, 돼지등뼈 500g, 대파, 마늘, 고추장, 간장, 고춧가루\\n   - **레시피**:\\n     1. 돼지등뼈를 깨끗이 씻고, 냄비에 물과 함께 넣어 끓여 냄비의 거품을 제거합니다.\\n     2. 감자와 대파, 마늘을 넣고, 고추장, 간장, 고춧가루로 간을 맞춥니다.\\n     3. 모든 재료가 부드러워질 때까지 끓입니다.\\n\\n3. **감자조림**\\n   - **재료**: 감자 4개, 간장 3큰술, 설탕 1큰술, 물 1컵, 참기름\\n   - **레시피**:\\n     1. 감자를 깍둑 썰어 냄비에 넣습니다.\\n     2. 간장, 설탕, 물을 넣고 끓입니다.\\n     3. 중불에서 감자가 익을 때까지 조리며, 마지막에 참기름을 넣어줍니다.\\n\\n4. **감자스프**\\n   - **재료**: 감자 3개, 양파 1개, 마늘 2쪽, 생크림 1컵, 소금, 후추\\n   - **레시피**:\\n     1. 감자, 양파, 마늘을 잘게 썰어 냄비에 넣고 물을 부어 끓입니다.\\n     2. 재료가 부드러워지면 블렌더로 갈아줍니다.\\n     3. 생크림과 소금, 후추로 간을 맞춰 다시 끓입니다.\\n\\n5. **감자 샐러드**\\n   - **재료**: 삶은 감자 3개, 마요네즈 1/2컵, 양파 1/4개, 피클 2개, 소금, 후추\\n   - **레시피**:\\n     1. 삶은 감자를 깍둑 썰고, 양파와 피클도 잘게 썹니다.\\n     2. 모든 재료를 큰 그릇에 넣고 마요네즈, 소금, 후추로 간을 맞춥니다.\\n\\n### 후식 디저트\\n\\n1. **감자전분 떡**\\n   - **재료**: 감자 전분 2컵, 물 1컵, 소금 약간, 원하는 소 (단팥, 견과류 등)\\n   - **레시피**:\\n     1. 감자 전분에 물과 소금을 넣고 잘 섞어 반죽을 만듭니다.\\n     2. 찜통에 넣고 30분간 쪄줍니다.\\n     3. 식힌 후 원하는 소를 넣고 모양을 만들어줍니다.\\n\\n2. **감자 푸딩**\\n   - **재료**: 삶은 감자 2개, 우유 1컵, 설탕 2큰술, 젤라틴 1큰술\\n   - **레시피**:\\n     1. 삶은 감자를 으깨고, 우유와 설탕을 섞습니다.\\n     2. 젤라틴을 물에 불려서 추가한 후 잘 혼합합니다.\\n     3. 그릇에 담아 냉장고에서 굳힙니다.\\n\\n3. **감자 케이크**\\n   - **재료**: 감자 1컵 (으깬 것), 밀가루 1컵, 설탕 1/2컵, 베이킹파우더 1작은술, 계란 2개\\n   - **레시피**:\\n     1. 모든 재료를 잘 섞어 반죽을 만듭니다.\\n     2. 180도로 예열한 오븐에서 30-40분간 구워줍니다.\\n\\n4. **감자 아이스크림**\\n   - **재료**: 삶은 감자 1컵, 크림 1컵, 설탕 1/2컵\\n   - **레시피**:\\n     1. 삶은 감자를 곱게 으깨고, 크림과 설탕을 섞습니다.\\n     2. 믹서기로 잘 갈아준 후, 용기에 담아 냉동실에서 얼립니다.\\n\\n5. **감자 파이**\\n   - **재료**: 감자 2컵 (으깬 것), 파이 크러스트, 설탕 1/2컵, 계란 1개\\n   - **레시피**:\\n     1. 감자를 으깨고 설탕, 계란을 섞어 속 재료를 만듭니다.\\n     2. 파이 크러스트에 속을 채우고 180도로 예열한 오븐에서 30분간 구워줍니다.\\n\\n이처럼 감자는 메인 요리와 후식으로 다양하게 활용될 수 있는 재료입니다. 각 레시피를 따라 해보시고, 감자의 새로운 매력을 발견해보세요!' additional_kwargs={'refusal': None} response_metadata={'token_usage': {'completion_tokens': 1343, 'prompt_tokens': 491, 'total_tokens': 1834, 'completion_tokens_details': {'audio_tokens': None, 'reasoning_tokens': 0}, 'prompt_tokens_details': {'audio_tokens': None, 'cached_tokens': 0}}, 'model_name': 'gpt-4o-mini-2024-07-18', 'system_fingerprint': 'fp_e2bde53e6e', 'finish_reason': 'stop', 'logprobs': None} id='run-8b3e6455-d939-4d78-a6d4-d0563d4136d5-0' usage_metadata={'input_tokens': 491, 'output_tokens': 1343, 'total_tokens': 1834, 'input_token_details': {'cache_read': 0}, 'output_token_details': {'reasoning': 0}}\n"
     ]
    }
   ],
   "source": [
    "from langchain_core.runnables import RunnableParallel, RunnablePassthrough, RunnableLambda\n",
    "from langchain_core.prompts import PromptTemplate\n",
    "from langchain_openai import ChatOpenAI\n",
    "\n",
    "\n",
    "# 첫 번째 체인: 재료로 만들 수 있는 메인 디시를 묻는 체인\n",
    "chain1 = (\n",
    "    {'food': RunnablePassthrough()}\n",
    "    | PromptTemplate.from_template(\"{food}로 만들 수 있는 메인 디시는?\")\n",
    "    | ChatOpenAI(model_name='gpt-4o-mini')\n",
    ")\n",
    "\n",
    "# 두 번째 체인: 재료로 만들 수 있는 후식 디저트를 묻는 체인\n",
    "chain2 = (\n",
    "        {'food': RunnablePassthrough()}\n",
    "    | PromptTemplate.from_template(\"{food}로 만들 수 있는 후식 디저트는?\")\n",
    "    | ChatOpenAI(model_name='gpt-4o-mini')\n",
    ")\n",
    "\n",
    "# 두 체인을 병렬로 실행\n",
    "combined_chain =  RunnableParallel(main=chain1, dessert=chain2)\n",
    "\n",
    "# 두 체인의 결과를 이어 붙이는 함수\n",
    "def concat_food_info(text):\n",
    "    \n",
    "    return text['main'].content + ' ' + text['dessert'].content\n",
    "\n",
    "# {info}를 바탕으로 이모지를 사용하여 우리 음식점 메뉴 추천 홍보문구를 작성해주는 템플릿\n",
    "final_chain = ( \n",
    "               combined_chain\n",
    "               |{'info':RunnableLambda(concat_food_info)}\n",
    "               | PromptTemplate.from_template(\"{info}의 내용을 자연스럽게 다듬고, 레시피를 넣어줘\")\n",
    "               | ChatOpenAI(model_name = 'gpt-4o-mini')\n",
    ")\n",
    "# final_chain.invoke(\"감자\")\n",
    "# # prompt = \n",
    "\n",
    "# 최종 체인은 두 체인의 결과를 이어 붙이고 우리 가게 홍보 문구를 생성하는 작업\n",
    "\n",
    "# 사용자가 생성할 메뉴의 개수를 입력받아 처리\n",
    "final_output = final_chain.invoke({'food':'감자'})\n",
    "\n",
    "# 결과 출력\n",
    "print(final_output)\n"
   ]
  },
  {
   "cell_type": "code",
   "execution_count": 21,
   "metadata": {},
   "outputs": [],
   "source": [
    "final_output = final_chain.stream({'food':'감자'})\n"
   ]
  },
  {
   "cell_type": "code",
   "execution_count": 22,
   "metadata": {},
   "outputs": [
    {
     "name": "stdout",
     "output_type": "stream",
     "text": [
      "감자는 다양한 요리에서 활용될 수 있는 다재다능한 식재료입니다. 여기서는 감자로 만들 수 있는 몇 가지 메인 요리와 후식을 소개하고, 각 요리에 대한 간단한 레시피를 함께 제공하겠습니다.\n",
      "\n",
      "### 메인 요리\n",
      "\n",
      "1. **감자조림**\n",
      "   - **재료**: 감자 3개, 간장 3큰술, 설탕 1큰술, 마늘 2쪽, 물 1컵, 참기름 약간\n",
      "   - **레시피**:\n",
      "     1. 감자를 껍질을 벗기고 먹기 좋은 크기로 자릅니다.\n",
      "     2. 팬에 감자와 간장, 설탕, 마늘, 물을 넣고 끓입니다.\n",
      "     3. 중불에서 감자가 부드러워질 때까지 15분 정도 조립니다.\n",
      "     4. 마지막에 참기름을 뿌려서 완성합니다.\n",
      "\n",
      "2. **감자전**\n",
      "   - **재료**: 감자 2개, 소금 약간, 식용유\n",
      "   - **레시피**:\n",
      "     1. 감자를 강판에 갈아서 물기를 제거합니다.\n",
      "     2. 볼에 갈은 감자와 소금을 섞습니다.\n",
      "     3. 팬에 식용유를 두르고, 감자 반죽을 올려서 중불에서 양면이 바삭하게 익을 때까지 부칩니다.\n",
      "\n",
      "3. **감자튀김**\n",
      "   - **재료**: 감자 4개, 식용유, 소금\n",
      "   - **레시피**:\n",
      "     1. 감자를 채 썰어 찬물에 담가 전분을 제거한 후, 물기를 잘 제거합니다.\n",
      "     2. 깊은 팬에 식용유를 붓고 180도에서 예열합니다.\n",
      "     3. 감자를 넣고 황금색이 될 때까지 튀긴 후, 소금을 뿌려서 제공합니다.\n",
      "\n",
      "4. **감자스프**\n",
      "   - **재료**: 감자 2개, 양파 1개, 마늘 1쪽, 치킨 육수 4컵, 우유 1컵, 소금, 후추\n",
      "   - **레시피**:\n",
      "     1. 양파와 마늘을 다지고 감자는 큼직하게 썰어둡니다.\n",
      "     2. 냄비에 양파와 마늘을 볶다가 감자를 추가하고 치킨 육수를 부어 끓입니다.\n",
      "     3. 감자가 부드러워지면 블렌더로 갈아서 우유를 추가하고, 소금과 후추로 간을 맞춥니다.\n",
      "\n",
      "5. **감자 카레**\n",
      "   - **재료**: 감자 3개, 당근 1개, 양파 1개, 카레 가루 3큰술, 물 3컵\n",
      "   - **레시피**:\n",
      "     1. 감자, 당근, 양파를 먹기 좋은 크기로 자릅니다.\n",
      "     2. 냄비에 양파를 볶다가 감자와 당근을 추가합니다.\n",
      "     3. 물을 붓고 끓인 후, 카레 가루를 넣고 잘 섞어 15분 더 끓입니다.\n",
      "\n",
      "### 후식\n",
      "\n",
      "1. **감자퓨레**\n",
      "   - **재료**: 감자 3개, 설탕 2큰술, 버터 2큰술\n",
      "   - **레시피**:\n",
      "     1. 감자를 삶아서 으깨고, 설탕과 버터를 넣고 잘 섞습니다.\n",
      "     2. 부드럽게 만들어서 후식으로 제공합니다.\n",
      "\n",
      "2. **감자케이크**\n",
      "   - **재료**: 감자 2개, 밀가루 1컵, 설탕 1컵, 계란 2개, 베이킹 파우더 1작은술\n",
      "   - **레시피**:\n",
      "     1. 감자를 삶아 으깬 후, 다른 재료와 함께 잘 섞습니다.\n",
      "     2. 180도로 예열한 오븐에서 30-40분 구워줍니다.\n",
      "\n",
      "3. **감자 아이스크림**\n",
      "   - **재료**: 삶은 감자 1컵, 설탕 1/2컵, 우유 1컵, 바닐라 익스트랙 1작은술\n",
      "   - **레시피**:\n",
      "     1. 모든 재료를 믹서에 넣고 잘 갈아서 아이스크림 틀에 넣습니다.\n",
      "     2. 냉동실에서 최소 4시간 이상 얼립니다.\n",
      "\n",
      "4. **감자튀김 (후식 버전)**\n",
      "   - **재료**: 감자 2개, 설탕, 시나몬 가루\n",
      "   - **레시피**:\n",
      "     1. 감자를 얇게 썰어 찬물에 담갔다가 물기를 제거합니다.\n",
      "     2. 기름에 튀긴 후, 설탕과 시나몬 가루를 뿌려서 제공합니다.\n",
      "\n",
      "이 외에도 감자를 활용한 다양한 요리가 많으니, 여러분의 취향에 맞게 즐겨보세요! 감자의 특성을 살려 창의적인 요리를 만들어 보시길 바랍니다."
     ]
    }
   ],
   "source": [
    "from langchain_teddynote.messages import stream_response\n",
    "final_output = final_chain.stream({'food':'감자'})\n",
    "stream_response(final_output)"
   ]
  },
  {
   "cell_type": "code",
   "execution_count": null,
   "metadata": {},
   "outputs": [],
   "source": []
  }
 ],
 "metadata": {
  "kernelspec": {
   "display_name": "Python 3",
   "language": "python",
   "name": "python3"
  },
  "language_info": {
   "codemirror_mode": {
    "name": "ipython",
    "version": 3
   },
   "file_extension": ".py",
   "mimetype": "text/x-python",
   "name": "python",
   "nbconvert_exporter": "python",
   "pygments_lexer": "ipython3",
   "version": "3.10.13"
  }
 },
 "nbformat": 4,
 "nbformat_minor": 2
}
