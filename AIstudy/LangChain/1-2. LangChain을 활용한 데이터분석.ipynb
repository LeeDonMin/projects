{
 "cells": [
  {
   "cell_type": "markdown",
   "metadata": {
    "id": "no25UOAdtov1"
   },
   "source": [
    "# LangChain으로 데이터 분석하기 - Excel"
   ]
  },
  {
   "cell_type": "markdown",
   "metadata": {
    "id": "vic-tvMft4bt"
   },
   "source": [
    "## 발급 받은 OpenAI key를 불러옵니다."
   ]
  },
  {
   "cell_type": "code",
   "execution_count": null,
   "metadata": {
    "id": "RLcHOiPnuAvv"
   },
   "outputs": [],
   "source": [
    "import os\n",
    "\n",
    "os.environ[\"OPENAI_API_KEY\"] = ''"
   ]
  },
  {
   "cell_type": "markdown",
   "metadata": {
    "id": "tT3wKGZbtW31"
   },
   "source": [
    "## 데이터 시각화\n",
    "- 전처리한 데이터프레임에 대해 LangChain을 이용하여 데이터 분석을 수행하고 시각화를 통해 인사이트를 추출해보도록 하겠습니다."
   ]
  },
  {
   "cell_type": "code",
   "execution_count": 2,
   "metadata": {
    "id": "UpRYq8AGwKxd"
   },
   "outputs": [],
   "source": [
    "import pandas as pd\n",
    "\n",
    "df = pd.read_csv(\"data/pp_df.csv\")"
   ]
  },
  {
   "cell_type": "code",
   "execution_count": 3,
   "metadata": {
    "id": "QLe9Gye-Ylyw"
   },
   "outputs": [
    {
     "data": {
      "text/html": [
       "<div>\n",
       "<style scoped>\n",
       "    .dataframe tbody tr th:only-of-type {\n",
       "        vertical-align: middle;\n",
       "    }\n",
       "\n",
       "    .dataframe tbody tr th {\n",
       "        vertical-align: top;\n",
       "    }\n",
       "\n",
       "    .dataframe thead th {\n",
       "        text-align: right;\n",
       "    }\n",
       "</style>\n",
       "<table border=\"1\" class=\"dataframe\">\n",
       "  <thead>\n",
       "    <tr style=\"text-align: right;\">\n",
       "      <th></th>\n",
       "      <th>단지명</th>\n",
       "      <th>층</th>\n",
       "      <th>건축년도</th>\n",
       "      <th>구</th>\n",
       "      <th>동</th>\n",
       "      <th>계약월</th>\n",
       "      <th>거래금액(억)</th>\n",
       "      <th>유형</th>\n",
       "      <th>평</th>\n",
       "    </tr>\n",
       "  </thead>\n",
       "  <tbody>\n",
       "    <tr>\n",
       "      <th>0</th>\n",
       "      <td>개포6차우성아파트1동~8동</td>\n",
       "      <td>4</td>\n",
       "      <td>1987</td>\n",
       "      <td>강남구</td>\n",
       "      <td>개포동</td>\n",
       "      <td>4</td>\n",
       "      <td>22.00</td>\n",
       "      <td>중형</td>\n",
       "      <td>24.23</td>\n",
       "    </tr>\n",
       "    <tr>\n",
       "      <th>1</th>\n",
       "      <td>개포6차우성아파트1동~8동</td>\n",
       "      <td>2</td>\n",
       "      <td>1987</td>\n",
       "      <td>강남구</td>\n",
       "      <td>개포동</td>\n",
       "      <td>4</td>\n",
       "      <td>22.00</td>\n",
       "      <td>중형</td>\n",
       "      <td>24.23</td>\n",
       "    </tr>\n",
       "    <tr>\n",
       "      <th>2</th>\n",
       "      <td>개포6차우성아파트1동~8동</td>\n",
       "      <td>2</td>\n",
       "      <td>1987</td>\n",
       "      <td>강남구</td>\n",
       "      <td>개포동</td>\n",
       "      <td>5</td>\n",
       "      <td>21.60</td>\n",
       "      <td>중형</td>\n",
       "      <td>24.23</td>\n",
       "    </tr>\n",
       "    <tr>\n",
       "      <th>3</th>\n",
       "      <td>개포래미안포레스트</td>\n",
       "      <td>13</td>\n",
       "      <td>2020</td>\n",
       "      <td>강남구</td>\n",
       "      <td>개포동</td>\n",
       "      <td>4</td>\n",
       "      <td>36.90</td>\n",
       "      <td>대형</td>\n",
       "      <td>31.01</td>\n",
       "    </tr>\n",
       "    <tr>\n",
       "      <th>4</th>\n",
       "      <td>개포래미안포레스트</td>\n",
       "      <td>17</td>\n",
       "      <td>2020</td>\n",
       "      <td>강남구</td>\n",
       "      <td>개포동</td>\n",
       "      <td>5</td>\n",
       "      <td>42.00</td>\n",
       "      <td>대형</td>\n",
       "      <td>41.23</td>\n",
       "    </tr>\n",
       "    <tr>\n",
       "      <th>...</th>\n",
       "      <td>...</td>\n",
       "      <td>...</td>\n",
       "      <td>...</td>\n",
       "      <td>...</td>\n",
       "      <td>...</td>\n",
       "      <td>...</td>\n",
       "      <td>...</td>\n",
       "      <td>...</td>\n",
       "      <td>...</td>\n",
       "    </tr>\n",
       "    <tr>\n",
       "      <th>12644</th>\n",
       "      <td>한신아파트(103~109)</td>\n",
       "      <td>20</td>\n",
       "      <td>1997</td>\n",
       "      <td>중랑구</td>\n",
       "      <td>중화동</td>\n",
       "      <td>3</td>\n",
       "      <td>7.30</td>\n",
       "      <td>소형</td>\n",
       "      <td>18.11</td>\n",
       "    </tr>\n",
       "    <tr>\n",
       "      <th>12645</th>\n",
       "      <td>한신아파트(103~109)</td>\n",
       "      <td>3</td>\n",
       "      <td>1997</td>\n",
       "      <td>중랑구</td>\n",
       "      <td>중화동</td>\n",
       "      <td>7</td>\n",
       "      <td>7.40</td>\n",
       "      <td>소형</td>\n",
       "      <td>18.11</td>\n",
       "    </tr>\n",
       "    <tr>\n",
       "      <th>12646</th>\n",
       "      <td>한신아파트(103~109)</td>\n",
       "      <td>12</td>\n",
       "      <td>1997</td>\n",
       "      <td>중랑구</td>\n",
       "      <td>중화동</td>\n",
       "      <td>7</td>\n",
       "      <td>9.15</td>\n",
       "      <td>중형</td>\n",
       "      <td>25.46</td>\n",
       "    </tr>\n",
       "    <tr>\n",
       "      <th>12647</th>\n",
       "      <td>한영(101)</td>\n",
       "      <td>7</td>\n",
       "      <td>2003</td>\n",
       "      <td>중랑구</td>\n",
       "      <td>중화동</td>\n",
       "      <td>4</td>\n",
       "      <td>4.99</td>\n",
       "      <td>중형</td>\n",
       "      <td>25.66</td>\n",
       "    </tr>\n",
       "    <tr>\n",
       "      <th>12648</th>\n",
       "      <td>현대휴앤미(102동)</td>\n",
       "      <td>6</td>\n",
       "      <td>2007</td>\n",
       "      <td>중랑구</td>\n",
       "      <td>중화동</td>\n",
       "      <td>4</td>\n",
       "      <td>5.30</td>\n",
       "      <td>중형</td>\n",
       "      <td>23.16</td>\n",
       "    </tr>\n",
       "  </tbody>\n",
       "</table>\n",
       "<p>12649 rows × 9 columns</p>\n",
       "</div>"
      ],
      "text/plain": [
       "                  단지명   층  건축년도    구    동  계약월  거래금액(억)  유형      평\n",
       "0      개포6차우성아파트1동~8동   4  1987  강남구  개포동    4    22.00  중형  24.23\n",
       "1      개포6차우성아파트1동~8동   2  1987  강남구  개포동    4    22.00  중형  24.23\n",
       "2      개포6차우성아파트1동~8동   2  1987  강남구  개포동    5    21.60  중형  24.23\n",
       "3           개포래미안포레스트  13  2020  강남구  개포동    4    36.90  대형  31.01\n",
       "4           개포래미안포레스트  17  2020  강남구  개포동    5    42.00  대형  41.23\n",
       "...               ...  ..   ...  ...  ...  ...      ...  ..    ...\n",
       "12644  한신아파트(103~109)  20  1997  중랑구  중화동    3     7.30  소형  18.11\n",
       "12645  한신아파트(103~109)   3  1997  중랑구  중화동    7     7.40  소형  18.11\n",
       "12646  한신아파트(103~109)  12  1997  중랑구  중화동    7     9.15  중형  25.46\n",
       "12647         한영(101)   7  2003  중랑구  중화동    4     4.99  중형  25.66\n",
       "12648     현대휴앤미(102동)   6  2007  중랑구  중화동    4     5.30  중형  23.16\n",
       "\n",
       "[12649 rows x 9 columns]"
      ]
     },
     "execution_count": 3,
     "metadata": {},
     "output_type": "execute_result"
    }
   ],
   "source": [
    "df"
   ]
  },
  {
   "cell_type": "markdown",
   "metadata": {
    "executionInfo": {
     "elapsed": 551,
     "status": "ok",
     "timestamp": 1688004056905,
     "user": {
      "displayName": "민대원",
      "userId": "01790814112925296254"
     },
     "user_tz": -540
    },
    "id": "nkLPaq1hw7-b",
    "outputId": "7552f422-6963-4c95-de53-d598ef007a3f"
   },
   "source": [
    "### 이전 프로젝트에서 정의했던 reset_agent 함수를 다시 불러옵니다."
   ]
  },
  {
   "cell_type": "code",
   "execution_count": 4,
   "metadata": {
    "id": "5u5VvSgN8e47"
   },
   "outputs": [
    {
     "name": "stderr",
     "output_type": "stream",
     "text": [
      "/tmp/ipykernel_2307/3035348083.py:5: LangChainDeprecationWarning: The class `ChatOpenAI` was deprecated in LangChain 0.0.10 and will be removed in 1.0. An updated version of the class exists in the :class:`~langchain-openai package and should be used instead. To use it run `pip install -U :class:`~langchain-openai` and import as `from :class:`~langchain_openai import ChatOpenAI``.\n",
      "  return create_pandas_dataframe_agent(ChatOpenAI(temperature=0, model=model), df, verbose=verbose)\n"
     ]
    }
   ],
   "source": [
    "from langchain_experimental.agents import create_pandas_dataframe_agent\n",
    "from langchain.chat_models import ChatOpenAI\n",
    "\n",
    "def reset_agent(df, model='gpt-3.5-turbo',temperature=0, verbose=True):\n",
    "    return create_pandas_dataframe_agent(ChatOpenAI(temperature=0, model=model), df, verbose=verbose)\n",
    "\n",
    "agent = reset_agent(df)"
   ]
  },
  {
   "cell_type": "markdown",
   "metadata": {
    "id": "VB3RLMTM6fa3"
   },
   "source": [
    "### Point 1. 비싼 아파트 순으로 살펴보기"
   ]
  },
  {
   "cell_type": "code",
   "execution_count": 5,
   "metadata": {
    "id": "oXbpt8_HYlyw"
   },
   "outputs": [
    {
     "name": "stderr",
     "output_type": "stream",
     "text": [
      "/tmp/ipykernel_2307/2623292154.py:1: LangChainDeprecationWarning: The method `Chain.run` was deprecated in langchain 0.1.0 and will be removed in 1.0. Use :meth:`~invoke` instead.\n",
      "  agent.run(input())\n"
     ]
    },
    {
     "name": "stdout",
     "output_type": "stream",
     "text": [
      "\n",
      "\n",
      "\u001b[1m> Entering new AgentExecutor chain...\u001b[0m\n",
      "\u001b[32;1m\u001b[1;3mThought: I need to sort the dataframe `df` by the column '거래금액(억)' in descending order.\n",
      "Action: python_repl_ast\n",
      "Action Input: df_sorted = df.sort_values(by='거래금액(억)', ascending=False)\u001b[0m\u001b[36;1m\u001b[1;3m\u001b[0m\u001b[32;1m\u001b[1;3mI now know the final answer\n",
      "Final Answer: df_sorted = df.sort_values(by='거래금액(억)', ascending=False)\u001b[0m\n",
      "\n",
      "\u001b[1m> Finished chain.\u001b[0m\n"
     ]
    },
    {
     "data": {
      "text/plain": [
       "\"df_sorted = df.sort_values(by='거래금액(억)', ascending=False)\""
      ]
     },
     "execution_count": 5,
     "metadata": {},
     "output_type": "execute_result"
    }
   ],
   "source": [
    "agent.run(input())"
   ]
  },
  {
   "cell_type": "code",
   "execution_count": 8,
   "metadata": {},
   "outputs": [
    {
     "data": {
      "text/html": [
       "<div>\n",
       "<style scoped>\n",
       "    .dataframe tbody tr th:only-of-type {\n",
       "        vertical-align: middle;\n",
       "    }\n",
       "\n",
       "    .dataframe tbody tr th {\n",
       "        vertical-align: top;\n",
       "    }\n",
       "\n",
       "    .dataframe thead th {\n",
       "        text-align: right;\n",
       "    }\n",
       "</style>\n",
       "<table border=\"1\" class=\"dataframe\">\n",
       "  <thead>\n",
       "    <tr style=\"text-align: right;\">\n",
       "      <th></th>\n",
       "      <th>단지명</th>\n",
       "      <th>층</th>\n",
       "      <th>건축년도</th>\n",
       "      <th>구</th>\n",
       "      <th>동</th>\n",
       "      <th>계약월</th>\n",
       "      <th>거래금액(억)</th>\n",
       "      <th>유형</th>\n",
       "      <th>평</th>\n",
       "    </tr>\n",
       "  </thead>\n",
       "  <tbody>\n",
       "    <tr>\n",
       "      <th>762</th>\n",
       "      <td>PH129</td>\n",
       "      <td>16</td>\n",
       "      <td>2020</td>\n",
       "      <td>강남구</td>\n",
       "      <td>청담동</td>\n",
       "      <td>4</td>\n",
       "      <td>145.00</td>\n",
       "      <td>대형</td>\n",
       "      <td>83.02</td>\n",
       "    </tr>\n",
       "    <tr>\n",
       "      <th>11098</th>\n",
       "      <td>파르크한남</td>\n",
       "      <td>5</td>\n",
       "      <td>2020</td>\n",
       "      <td>용산구</td>\n",
       "      <td>한남동</td>\n",
       "      <td>4</td>\n",
       "      <td>135.00</td>\n",
       "      <td>대형</td>\n",
       "      <td>81.42</td>\n",
       "    </tr>\n",
       "    <tr>\n",
       "      <th>8308</th>\n",
       "      <td>아크로서울포레스트</td>\n",
       "      <td>47</td>\n",
       "      <td>2020</td>\n",
       "      <td>성동구</td>\n",
       "      <td>성수동1가</td>\n",
       "      <td>9</td>\n",
       "      <td>130.00</td>\n",
       "      <td>대형</td>\n",
       "      <td>80.17</td>\n",
       "    </tr>\n",
       "    <tr>\n",
       "      <th>11103</th>\n",
       "      <td>한남더힐</td>\n",
       "      <td>3</td>\n",
       "      <td>2011</td>\n",
       "      <td>용산구</td>\n",
       "      <td>한남동</td>\n",
       "      <td>5</td>\n",
       "      <td>110.00</td>\n",
       "      <td>대형</td>\n",
       "      <td>72.82</td>\n",
       "    </tr>\n",
       "    <tr>\n",
       "      <th>11085</th>\n",
       "      <td>나인원한남</td>\n",
       "      <td>8</td>\n",
       "      <td>2019</td>\n",
       "      <td>용산구</td>\n",
       "      <td>한남동</td>\n",
       "      <td>11</td>\n",
       "      <td>94.50</td>\n",
       "      <td>대형</td>\n",
       "      <td>62.70</td>\n",
       "    </tr>\n",
       "    <tr>\n",
       "      <th>...</th>\n",
       "      <td>...</td>\n",
       "      <td>...</td>\n",
       "      <td>...</td>\n",
       "      <td>...</td>\n",
       "      <td>...</td>\n",
       "      <td>...</td>\n",
       "      <td>...</td>\n",
       "      <td>...</td>\n",
       "      <td>...</td>\n",
       "    </tr>\n",
       "    <tr>\n",
       "      <th>10440</th>\n",
       "      <td>쌍용플래티넘S</td>\n",
       "      <td>7</td>\n",
       "      <td>2013</td>\n",
       "      <td>영등포구</td>\n",
       "      <td>대림동</td>\n",
       "      <td>9</td>\n",
       "      <td>0.67</td>\n",
       "      <td>소형</td>\n",
       "      <td>5.30</td>\n",
       "    </tr>\n",
       "    <tr>\n",
       "      <th>10441</th>\n",
       "      <td>쌍용플래티넘S</td>\n",
       "      <td>7</td>\n",
       "      <td>2013</td>\n",
       "      <td>영등포구</td>\n",
       "      <td>대림동</td>\n",
       "      <td>9</td>\n",
       "      <td>0.67</td>\n",
       "      <td>소형</td>\n",
       "      <td>5.30</td>\n",
       "    </tr>\n",
       "    <tr>\n",
       "      <th>10442</th>\n",
       "      <td>쌍용플래티넘S</td>\n",
       "      <td>7</td>\n",
       "      <td>2013</td>\n",
       "      <td>영등포구</td>\n",
       "      <td>대림동</td>\n",
       "      <td>9</td>\n",
       "      <td>0.67</td>\n",
       "      <td>소형</td>\n",
       "      <td>5.30</td>\n",
       "    </tr>\n",
       "    <tr>\n",
       "      <th>10443</th>\n",
       "      <td>쌍용플래티넘S</td>\n",
       "      <td>7</td>\n",
       "      <td>2013</td>\n",
       "      <td>영등포구</td>\n",
       "      <td>대림동</td>\n",
       "      <td>9</td>\n",
       "      <td>0.67</td>\n",
       "      <td>소형</td>\n",
       "      <td>5.30</td>\n",
       "    </tr>\n",
       "    <tr>\n",
       "      <th>10444</th>\n",
       "      <td>쌍용플래티넘S</td>\n",
       "      <td>8</td>\n",
       "      <td>2013</td>\n",
       "      <td>영등포구</td>\n",
       "      <td>대림동</td>\n",
       "      <td>9</td>\n",
       "      <td>0.67</td>\n",
       "      <td>소형</td>\n",
       "      <td>5.53</td>\n",
       "    </tr>\n",
       "  </tbody>\n",
       "</table>\n",
       "<p>12649 rows × 9 columns</p>\n",
       "</div>"
      ],
      "text/plain": [
       "             단지명   층  건축년도     구      동  계약월  거래금액(억)  유형      평\n",
       "762        PH129  16  2020   강남구    청담동    4   145.00  대형  83.02\n",
       "11098      파르크한남   5  2020   용산구    한남동    4   135.00  대형  81.42\n",
       "8308   아크로서울포레스트  47  2020   성동구  성수동1가    9   130.00  대형  80.17\n",
       "11103       한남더힐   3  2011   용산구    한남동    5   110.00  대형  72.82\n",
       "11085      나인원한남   8  2019   용산구    한남동   11    94.50  대형  62.70\n",
       "...          ...  ..   ...   ...    ...  ...      ...  ..    ...\n",
       "10440    쌍용플래티넘S   7  2013  영등포구    대림동    9     0.67  소형   5.30\n",
       "10441    쌍용플래티넘S   7  2013  영등포구    대림동    9     0.67  소형   5.30\n",
       "10442    쌍용플래티넘S   7  2013  영등포구    대림동    9     0.67  소형   5.30\n",
       "10443    쌍용플래티넘S   7  2013  영등포구    대림동    9     0.67  소형   5.30\n",
       "10444    쌍용플래티넘S   8  2013  영등포구    대림동    9     0.67  소형   5.53\n",
       "\n",
       "[12649 rows x 9 columns]"
      ]
     },
     "execution_count": 8,
     "metadata": {},
     "output_type": "execute_result"
    }
   ],
   "source": [
    "df_sorted = df.sort_values(by='거래금액(억)', ascending=False)\n",
    "df_sorted"
   ]
  },
  {
   "cell_type": "markdown",
   "metadata": {
    "id": "F0rzZdqCK_fR"
   },
   "source": [
    "#### 그래프에 한글 깨짐을 해결하기 위한 코드입니다. NanumGothic 폰트를 사용하겠습니다. - 출처: 네이버, 네이버 문화재단"
   ]
  },
  {
   "cell_type": "code",
   "execution_count": 9,
   "metadata": {
    "id": "5b3rgMz2Ylyw"
   },
   "outputs": [],
   "source": [
    "import matplotlib.font_manager as fm\n",
    "import os\n",
    "import matplotlib.pyplot as plt\n",
    "\n",
    "# 반드시 글꼴 주소 입력해주세요!\n",
    "fe = fm.FontEntry(fname='NanumGothic.ttf', name='NanumGothic')\n",
    "fm.fontManager.ttflist.insert(0, fe)\n",
    "plt.rcParams.update({'font.size': 18, 'font.family': 'NanumGothic'})\n",
    "plt.rcParams[\"axes.unicode_minus\"] = False"
   ]
  },
  {
   "cell_type": "markdown",
   "metadata": {
    "id": "THFFVPUDLHob"
   },
   "source": [
    "#### 경고 메세지가 뜨지 않게 하기 위한 코드입니다."
   ]
  },
  {
   "cell_type": "code",
   "execution_count": 10,
   "metadata": {
    "id": "u-H-m2HzJOLz"
   },
   "outputs": [],
   "source": [
    "import warnings\n",
    "warnings.filterwarnings(\"ignore\")"
   ]
  },
  {
   "cell_type": "markdown",
   "metadata": {
    "id": "apQKOq6MMEpx"
   },
   "source": [
    "### 가장 비싼 아파트 Top10의 가격에 대한 시각화를 해보겠습니다."
   ]
  },
  {
   "cell_type": "code",
   "execution_count": 14,
   "metadata": {
    "id": "K9OgNWI9Ylyx"
   },
   "outputs": [
    {
     "name": "stdout",
     "output_type": "stream",
     "text": [
      "\n",
      "\n",
      "\u001b[1m> Entering new AgentExecutor chain...\u001b[0m\n",
      "\u001b[32;1m\u001b[1;3mThought: We need to sort the dataframe by 거래금액(억) in descending order and then select the top 10 rows for visualization using matplotlib.pyplot.\n",
      "Action: python_repl_ast\n",
      "Action Input: df_sorted = df.sort_values('거래금액(억)', ascending=False).head(10)\u001b[0m\u001b[36;1m\u001b[1;3m\u001b[0m\u001b[32;1m\u001b[1;3mWe need to plot the data now.\n",
      "Action: python_repl_ast\n",
      "Action Input: import matplotlib.pyplot as plt\u001b[0m\u001b[36;1m\u001b[1;3m\u001b[0m\u001b[32;1m\u001b[1;3mNow, let's create a bar plot to visualize the top 10 most expensive apartments.\n",
      "Action: python_repl_ast\n",
      "Action Input: plt.figure(figsize=(12, 6))\u001b[0m\u001b[36;1m\u001b[1;3mFigure(1200x600)\u001b[0m\u001b[32;1m\u001b[1;3mWe should set the x-axis as the 단지명 and the y-axis as the 거래금액(억) for the bar plot.\n",
      "Action: python_repl_ast\n",
      "Action Input: plt.bar(df_sorted['단지명'], df_sorted['거래금액(억)'])\u001b[0m\u001b[36;1m\u001b[1;3m<BarContainer object of 10 artists>\u001b[0m\u001b[32;1m\u001b[1;3mWe should add labels and title to the plot for better understanding.\n",
      "Action: python_repl_ast\n",
      "Action Input: plt.xlabel('아파트 이름')\u001b[0m\u001b[36;1m\u001b[1;3mText(0.5, 0, '아파트 이름')\u001b[0m\u001b[32;1m\u001b[1;3mWe should add a label for the x-axis.\n",
      "Action: python_repl_ast\n",
      "Action Input: plt.ylabel('거래금액(억)')\u001b[0m\u001b[36;1m\u001b[1;3mText(0, 0.5, '거래금액(억)')\u001b[0m\u001b[32;1m\u001b[1;3mWe need to add a title to the plot.\n",
      "Action: python_repl_ast\n",
      "Action Input: plt.title('Top 10 Most Expensive Apartments')\u001b[0m\u001b[36;1m\u001b[1;3mText(0.5, 1.0, 'Top 10 Most Expensive Apartments')\u001b[0m\u001b[32;1m\u001b[1;3mWe should display the plot now.\n",
      "Action: python_repl_ast\n",
      "Action Input: plt.show()\u001b[0m"
     ]
    },
    {
     "data": {
      "image/png": "[encoded data removed]",
      "text/plain": [
       "<Figure size 1200x600 with 1 Axes>"
      ]
     },
     "metadata": {},
     "output_type": "display_data"
    },
    {
     "name": "stdout",
     "output_type": "stream",
     "text": [
      "\u001b[36;1m\u001b[1;3m\u001b[0m\u001b[32;1m\u001b[1;3mI now know the final answer\n",
      "Final Answer: \n",
      "```python\n",
      "import matplotlib.pyplot as plt\n",
      "\n",
      "df_sorted = df.sort_values('거래금액(억)', ascending=False).head(10)\n",
      "\n",
      "plt.figure(figsize=(12, 6))\n",
      "plt.bar(df_sorted['단지명'], df_sorted['거래금액(억)'])\n",
      "plt.xlabel('아파트 이름')\n",
      "plt.ylabel('거래금액(억)')\n",
      "plt.title('Top 10 Most Expensive Apartments')\n",
      "plt.show()\n",
      "```\u001b[0m\n",
      "\n",
      "\u001b[1m> Finished chain.\u001b[0m\n"
     ]
    },
    {
     "data": {
      "text/plain": [
       "\"```python\\nimport matplotlib.pyplot as plt\\n\\ndf_sorted = df.sort_values('거래금액(억)', ascending=False).head(10)\\n\\nplt.figure(figsize=(12, 6))\\nplt.bar(df_sorted['단지명'], df_sorted['거래금액(억)'])\\nplt.xlabel('아파트 이름')\\nplt.ylabel('거래금액(억)')\\nplt.title('Top 10 Most Expensive Apartments')\\nplt.show()\\n```\""
      ]
     },
     "execution_count": 14,
     "metadata": {},
     "output_type": "execute_result"
    }
   ],
   "source": [
    "agent.run(input())"
   ]
  },
  {
   "cell_type": "code",
   "execution_count": null,
   "metadata": {
    "id": "tj1-VxftYlyx",
    "scrolled": true
   },
   "outputs": [],
   "source": []
  },
  {
   "cell_type": "markdown",
   "metadata": {
    "id": "4A3DwNtaYlyx"
   },
   "source": [
    "### Point 2. 높은 아파트 순으로 살펴보기"
   ]
  },
  {
   "cell_type": "code",
   "execution_count": null,
   "metadata": {
    "id": "CGczSE4qYlyx"
   },
   "outputs": [],
   "source": []
  },
  {
   "cell_type": "code",
   "execution_count": null,
   "metadata": {
    "id": "qgfQXKb7Ylyx"
   },
   "outputs": [],
   "source": []
  },
  {
   "cell_type": "markdown",
   "metadata": {
    "id": "S30mcSH09ED9"
   },
   "source": [
    "### Point 3. 아파트 평수 유형에 따른 빈도 살펴보기"
   ]
  },
  {
   "cell_type": "code",
   "execution_count": null,
   "metadata": {
    "id": "8KYDkZe39ugj"
   },
   "outputs": [],
   "source": []
  },
  {
   "cell_type": "code",
   "execution_count": null,
   "metadata": {
    "id": "Too6SK44Ylyx"
   },
   "outputs": [],
   "source": []
  },
  {
   "cell_type": "markdown",
   "metadata": {
    "id": "xSLOjJCGMrrL"
   },
   "source": [
    "### Point 4. 월별 거래량 그래프 시각화하기"
   ]
  },
  {
   "cell_type": "code",
   "execution_count": null,
   "metadata": {
    "id": "nGeyDt-ZMv_9"
   },
   "outputs": [],
   "source": []
  },
  {
   "cell_type": "markdown",
   "metadata": {
    "id": "wM1mS0WjNI1z"
   },
   "source": [
    "### Point 5. 동 기준으로 아파트 가격 살펴보기"
   ]
  },
  {
   "cell_type": "code",
   "execution_count": null,
   "metadata": {
    "id": "2bqIkcXpNbjs"
   },
   "outputs": [],
   "source": []
  },
  {
   "cell_type": "code",
   "execution_count": null,
   "metadata": {
    "id": "TyHVnShvYlyx"
   },
   "outputs": [],
   "source": []
  },
  {
   "cell_type": "markdown",
   "metadata": {
    "id": "yw8XlQOlYlyx"
   },
   "source": [
    "### Point 6. 구 기준으로 아파트 평수 살펴보기"
   ]
  },
  {
   "cell_type": "code",
   "execution_count": 17,
   "metadata": {
    "id": "sHItZUqEaeNt"
   },
   "outputs": [],
   "source": []
  },
  {
   "cell_type": "code",
   "execution_count": null,
   "metadata": {
    "id": "Wrtm5BJ2Fg74"
   },
   "outputs": [],
   "source": []
  },
  {
   "cell_type": "code",
   "execution_count": null,
   "metadata": {
    "id": "wNoIHdmpYlyy"
   },
   "outputs": [],
   "source": []
  },
  {
   "cell_type": "markdown",
   "metadata": {
    "id": "2NlK4JSoVYWD"
   },
   "source": [
    "### Point 7. 상관관계 분석하기"
   ]
  },
  {
   "cell_type": "code",
   "execution_count": null,
   "metadata": {
    "id": "wj6OjBvJsbQY"
   },
   "outputs": [],
   "source": []
  },
  {
   "cell_type": "code",
   "execution_count": null,
   "metadata": {
    "id": "bfWkNY1-byLa"
   },
   "outputs": [],
   "source": []
  },
  {
   "cell_type": "markdown",
   "metadata": {
    "id": "PCTgvwueYly5"
   },
   "source": [
    "### Scatter Plot 그려보기"
   ]
  },
  {
   "cell_type": "code",
   "execution_count": null,
   "metadata": {
    "id": "5Ke89t44Yly5"
   },
   "outputs": [],
   "source": []
  },
  {
   "cell_type": "code",
   "execution_count": null,
   "metadata": {
    "id": "VPijrJJxYly6"
   },
   "outputs": [],
   "source": []
  }
 ],
 "metadata": {
  "colab": {
   "provenance": []
  },
  "kernelspec": {
   "display_name": "practice",
   "language": "python",
   "name": "python3"
  },
  "language_info": {
   "codemirror_mode": {
    "name": "ipython",
    "version": 3
   },
   "file_extension": ".py",
   "mimetype": "text/x-python",
   "name": "python",
   "nbconvert_exporter": "python",
   "pygments_lexer": "ipython3",
   "version": "3.10.13"
  }
 },
 "nbformat": 4,
 "nbformat_minor": 0
}
