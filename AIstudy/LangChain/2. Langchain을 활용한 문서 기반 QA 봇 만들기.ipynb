{
 "cells": [
  {
   "cell_type": "markdown",
   "metadata": {
    "id": "no25UOAdtov1"
   },
   "source": [
    "# LangChain으로 문서 기반 QA 봇 만들기 - PDF, Word, PPT, text"
   ]
  },
  {
   "cell_type": "markdown",
   "metadata": {
    "id": "kWg1FJ4VBdQH"
   },
   "source": [
    "#### 자료 출처: 아래의 링크에서 PDF 형식으로 파일을 다운받습니다.\n",
    "- 링크: https://www.law.go.kr/LSW/LsiJoLinkP.do?lsNm=%EC%A3%BC%ED%83%9D%EC%9E%84%EB%8C%80%EC%B0%A8%EB%B3%B4%ED%98%B8%EB%B2%95&paras=1&docType=&languageType=KO&joNo=#"
   ]
  },
  {
   "cell_type": "markdown",
   "metadata": {
    "id": "vic-tvMft4bt"
   },
   "source": [
    "### 발급 받은 OpenAI key를 불러옵니다."
   ]
  },
  {
   "cell_type": "code",
   "execution_count": null,
   "metadata": {
    "id": "RLcHOiPnuAvv"
   },
   "outputs": [],
   "source": [
    "import os\n",
    "\n",
    "os.environ[\"OPENAI_API_KEY\"] = ''"
   ]
  },
  {
   "cell_type": "markdown",
   "metadata": {
    "id": "CV4RJCldIkKU"
   },
   "source": [
    "### 필요 모듈을 불러옵니다."
   ]
  },
  {
   "cell_type": "code",
   "execution_count": 1,
   "metadata": {
    "id": "BmfiizciDdBG"
   },
   "outputs": [
    {
     "name": "stdout",
     "output_type": "stream",
     "text": [
      "Defaulting to user installation because normal site-packages is not writeable\n",
      "Collecting PyPDF2\n",
      "  Downloading pypdf2-3.0.1-py3-none-any.whl.metadata (6.8 kB)\n",
      "Collecting python-docx\n",
      "  Downloading python_docx-1.1.2-py3-none-any.whl.metadata (2.0 kB)\n",
      "Collecting python-pptx\n",
      "  Downloading python_pptx-1.0.2-py3-none-any.whl.metadata (2.5 kB)\n",
      "Collecting tiktoken\n",
      "  Downloading tiktoken-0.8.0-cp310-cp310-manylinux_2_17_x86_64.manylinux2014_x86_64.whl.metadata (6.6 kB)\n",
      "Collecting finance-datareader\n",
      "  Downloading finance_datareader-0.9.94-py3-none-any.whl.metadata (466 bytes)\n",
      "Collecting googletrans==3.1.0a0\n",
      "  Downloading googletrans-3.1.0a0.tar.gz (19 kB)\n",
      "  Preparing metadata (setup.py) ... \u001b[?25ldone\n",
      "\u001b[?25hCollecting httpx==0.13.3 (from googletrans==3.1.0a0)\n",
      "  Downloading httpx-0.13.3-py3-none-any.whl.metadata (25 kB)\n",
      "Requirement already satisfied: certifi in ./.local/lib/python3.10/site-packages (from httpx==0.13.3->googletrans==3.1.0a0) (2024.8.30)\n",
      "Collecting hstspreload (from httpx==0.13.3->googletrans==3.1.0a0)\n",
      "  Downloading hstspreload-2024.10.1-py3-none-any.whl.metadata (2.1 kB)\n",
      "Requirement already satisfied: sniffio in ./.local/lib/python3.10/site-packages (from httpx==0.13.3->googletrans==3.1.0a0) (1.3.1)\n",
      "Collecting chardet==3.* (from httpx==0.13.3->googletrans==3.1.0a0)\n",
      "  Downloading chardet-3.0.4-py2.py3-none-any.whl.metadata (3.2 kB)\n",
      "Collecting idna==2.* (from httpx==0.13.3->googletrans==3.1.0a0)\n",
      "  Downloading idna-2.10-py2.py3-none-any.whl.metadata (9.1 kB)\n",
      "Collecting rfc3986<2,>=1.3 (from httpx==0.13.3->googletrans==3.1.0a0)\n",
      "  Downloading rfc3986-1.5.0-py2.py3-none-any.whl.metadata (6.5 kB)\n",
      "Collecting httpcore==0.9.* (from httpx==0.13.3->googletrans==3.1.0a0)\n",
      "  Downloading httpcore-0.9.1-py3-none-any.whl.metadata (4.6 kB)\n",
      "Collecting h11<0.10,>=0.8 (from httpcore==0.9.*->httpx==0.13.3->googletrans==3.1.0a0)\n",
      "  Downloading h11-0.9.0-py2.py3-none-any.whl.metadata (8.1 kB)\n",
      "Collecting h2==3.* (from httpcore==0.9.*->httpx==0.13.3->googletrans==3.1.0a0)\n",
      "  Downloading h2-3.2.0-py2.py3-none-any.whl.metadata (32 kB)\n",
      "Collecting hyperframe<6,>=5.2.0 (from h2==3.*->httpcore==0.9.*->httpx==0.13.3->googletrans==3.1.0a0)\n",
      "  Downloading hyperframe-5.2.0-py2.py3-none-any.whl.metadata (7.2 kB)\n",
      "Collecting hpack<4,>=3.0 (from h2==3.*->httpcore==0.9.*->httpx==0.13.3->googletrans==3.1.0a0)\n",
      "  Downloading hpack-3.0.0-py2.py3-none-any.whl.metadata (7.0 kB)\n",
      "Collecting lxml>=3.1.0 (from python-docx)\n",
      "  Downloading lxml-5.3.0-cp310-cp310-manylinux_2_28_x86_64.whl.metadata (3.8 kB)\n",
      "Requirement already satisfied: typing-extensions>=4.9.0 in ./.local/lib/python3.10/site-packages (from python-docx) (4.12.2)\n",
      "Requirement already satisfied: Pillow>=3.3.2 in ./.local/lib/python3.10/site-packages (from python-pptx) (10.4.0)\n",
      "Collecting XlsxWriter>=0.5.7 (from python-pptx)\n",
      "  Downloading XlsxWriter-3.2.0-py3-none-any.whl.metadata (2.6 kB)\n",
      "Collecting regex>=2022.1.18 (from tiktoken)\n",
      "  Downloading regex-2024.9.11-cp310-cp310-manylinux_2_17_x86_64.manylinux2014_x86_64.whl.metadata (40 kB)\n",
      "Requirement already satisfied: requests>=2.26.0 in ./.local/lib/python3.10/site-packages (from tiktoken) (2.32.3)\n",
      "Requirement already satisfied: pandas>=0.19.2 in ./.local/lib/python3.10/site-packages (from finance-datareader) (2.2.3)\n",
      "Collecting requests-file (from finance-datareader)\n",
      "  Downloading requests_file-2.1.0-py2.py3-none-any.whl.metadata (1.7 kB)\n",
      "Requirement already satisfied: tqdm in ./.local/lib/python3.10/site-packages (from finance-datareader) (4.66.5)\n",
      "Requirement already satisfied: numpy>=1.22.4 in ./.local/lib/python3.10/site-packages (from pandas>=0.19.2->finance-datareader) (1.26.4)\n",
      "Requirement already satisfied: python-dateutil>=2.8.2 in ./.local/lib/python3.10/site-packages (from pandas>=0.19.2->finance-datareader) (2.9.0.post0)\n",
      "Requirement already satisfied: pytz>=2020.1 in ./.local/lib/python3.10/site-packages (from pandas>=0.19.2->finance-datareader) (2024.2)\n",
      "Requirement already satisfied: tzdata>=2022.7 in ./.local/lib/python3.10/site-packages (from pandas>=0.19.2->finance-datareader) (2024.2)\n",
      "Requirement already satisfied: charset-normalizer<4,>=2 in ./.local/lib/python3.10/site-packages (from requests>=2.26.0->tiktoken) (3.4.0)\n",
      "Requirement already satisfied: urllib3<3,>=1.21.1 in ./.local/lib/python3.10/site-packages (from requests>=2.26.0->tiktoken) (2.2.3)\n",
      "Requirement already satisfied: six>=1.5 in ./.local/lib/python3.10/site-packages (from python-dateutil>=2.8.2->pandas>=0.19.2->finance-datareader) (1.16.0)\n",
      "Downloading httpx-0.13.3-py3-none-any.whl (55 kB)\n",
      "Downloading chardet-3.0.4-py2.py3-none-any.whl (133 kB)\n",
      "Downloading httpcore-0.9.1-py3-none-any.whl (42 kB)\n",
      "Downloading idna-2.10-py2.py3-none-any.whl (58 kB)\n",
      "Downloading h2-3.2.0-py2.py3-none-any.whl (65 kB)\n",
      "Downloading pypdf2-3.0.1-py3-none-any.whl (232 kB)\n",
      "Downloading python_docx-1.1.2-py3-none-any.whl (244 kB)\n",
      "Downloading python_pptx-1.0.2-py3-none-any.whl (472 kB)\n",
      "Downloading tiktoken-0.8.0-cp310-cp310-manylinux_2_17_x86_64.manylinux2014_x86_64.whl (1.2 MB)\n",
      "\u001b[2K   \u001b[90m━━━━━━━━━━━━━━━━━━━━━━━━━━━━━━━━━━━━━━━━\u001b[0m \u001b[32m1.2/1.2 MB\u001b[0m \u001b[31m75.1 MB/s\u001b[0m eta \u001b[36m0:00:00\u001b[0m\n",
      "\u001b[?25hDownloading finance_datareader-0.9.94-py3-none-any.whl (89 kB)\n",
      "Downloading lxml-5.3.0-cp310-cp310-manylinux_2_28_x86_64.whl (5.0 MB)\n",
      "\u001b[2K   \u001b[90m━━━━━━━━━━━━━━━━━━━━━━━━━━━━━━━━━━━━━━━━\u001b[0m \u001b[32m5.0/5.0 MB\u001b[0m \u001b[31m16.8 MB/s\u001b[0m eta \u001b[36m0:00:00\u001b[0ma \u001b[36m0:00:01\u001b[0m\n",
      "\u001b[?25hDownloading regex-2024.9.11-cp310-cp310-manylinux_2_17_x86_64.manylinux2014_x86_64.whl (782 kB)\n",
      "\u001b[2K   \u001b[90m━━━━━━━━━━━━━━━━━━━━━━━━━━━━━━━━━━━━━━━━\u001b[0m \u001b[32m782.7/782.7 kB\u001b[0m \u001b[31m51.6 MB/s\u001b[0m eta \u001b[36m0:00:00\u001b[0m\n",
      "\u001b[?25hDownloading XlsxWriter-3.2.0-py3-none-any.whl (159 kB)\n",
      "Downloading requests_file-2.1.0-py2.py3-none-any.whl (4.2 kB)\n",
      "Downloading rfc3986-1.5.0-py2.py3-none-any.whl (31 kB)\n",
      "Downloading hstspreload-2024.10.1-py3-none-any.whl (1.2 MB)\n",
      "\u001b[2K   \u001b[90m━━━━━━━━━━━━━━━━━━━━━━━━━━━━━━━━━━━━━━━━\u001b[0m \u001b[32m1.2/1.2 MB\u001b[0m \u001b[31m60.1 MB/s\u001b[0m eta \u001b[36m0:00:00\u001b[0m\n",
      "\u001b[?25hDownloading h11-0.9.0-py2.py3-none-any.whl (53 kB)\n",
      "Downloading hpack-3.0.0-py2.py3-none-any.whl (38 kB)\n",
      "Downloading hyperframe-5.2.0-py2.py3-none-any.whl (12 kB)\n",
      "Building wheels for collected packages: googletrans\n",
      "  Building wheel for googletrans (setup.py) ... \u001b[?25ldone\n",
      "\u001b[?25h  Created wheel for googletrans: filename=googletrans-3.1.0a0-py3-none-any.whl size=16351 sha256=feca9d74db31d459fc9432e0b034e887ee9e7c3f88d0477f51179fb226547ded\n",
      "  Stored in directory: /home/elicer/.cache/pip/wheels/50/5d/3c/8477d0af4ca2b8b1308812c09f1930863caeebc762fe265a95\n",
      "Successfully built googletrans\n",
      "Installing collected packages: rfc3986, hyperframe, hpack, h11, chardet, XlsxWriter, regex, PyPDF2, lxml, idna, hstspreload, h2, python-pptx, python-docx, httpcore, tiktoken, requests-file, httpx, googletrans, finance-datareader\n",
      "  Attempting uninstall: h11\n",
      "    Found existing installation: h11 0.14.0\n",
      "    Uninstalling h11-0.14.0:\n",
      "      Successfully uninstalled h11-0.14.0\n",
      "  Attempting uninstall: idna\n",
      "    Found existing installation: idna 3.10\n",
      "    Uninstalling idna-3.10:\n",
      "      Successfully uninstalled idna-3.10\n",
      "  Attempting uninstall: httpcore\n",
      "    Found existing installation: httpcore 1.0.6\n",
      "    Uninstalling httpcore-1.0.6:\n",
      "      Successfully uninstalled httpcore-1.0.6\n",
      "  Attempting uninstall: httpx\n",
      "    Found existing installation: httpx 0.27.2\n",
      "    Uninstalling httpx-0.27.2:\n",
      "      Successfully uninstalled httpx-0.27.2\n",
      "\u001b[31mERROR: pip's dependency resolver does not currently take into account all the packages that are installed. This behaviour is the source of the following dependency conflicts.\n",
      "langsmith 0.1.133 requires httpx<1,>=0.23.0, but you have httpx 0.13.3 which is incompatible.\u001b[0m\u001b[31m\n",
      "\u001b[0mSuccessfully installed PyPDF2-3.0.1 XlsxWriter-3.2.0 chardet-3.0.4 finance-datareader-0.9.94 googletrans-3.1.0a0 h11-0.9.0 h2-3.2.0 hpack-3.0.0 hstspreload-2024.10.1 httpcore-0.9.1 httpx-0.13.3 hyperframe-5.2.0 idna-2.10 lxml-5.3.0 python-docx-1.1.2 python-pptx-1.0.2 regex-2024.9.11 requests-file-2.1.0 rfc3986-1.5.0 tiktoken-0.8.0\n"
     ]
    }
   ],
   "source": [
    "!pip install PyPDF2 python-docx python-pptx tiktoken finance-datareader googletrans==3.1.0a0 "
   ]
  },
  {
   "cell_type": "code",
   "execution_count": 3,
   "metadata": {},
   "outputs": [
    {
     "name": "stdout",
     "output_type": "stream",
     "text": [
      "Defaulting to user installation because normal site-packages is not writeable\n",
      "Collecting bs4\n",
      "  Downloading bs4-0.0.2-py2.py3-none-any.whl.metadata (411 bytes)\n",
      "Collecting beautifulsoup4 (from bs4)\n",
      "  Downloading beautifulsoup4-4.12.3-py3-none-any.whl.metadata (3.8 kB)\n",
      "Collecting soupsieve>1.2 (from beautifulsoup4->bs4)\n",
      "  Downloading soupsieve-2.6-py3-none-any.whl.metadata (4.6 kB)\n",
      "Downloading bs4-0.0.2-py2.py3-none-any.whl (1.2 kB)\n",
      "Downloading beautifulsoup4-4.12.3-py3-none-any.whl (147 kB)\n",
      "Downloading soupsieve-2.6-py3-none-any.whl (36 kB)\n",
      "Installing collected packages: soupsieve, beautifulsoup4, bs4\n",
      "Successfully installed beautifulsoup4-4.12.3 bs4-0.0.2 soupsieve-2.6\n"
     ]
    }
   ],
   "source": [
    "!pip3 install bs4"
   ]
  },
  {
   "cell_type": "code",
   "execution_count": 3,
   "metadata": {
    "id": "RaRe9ALg1G1z"
   },
   "outputs": [],
   "source": [
    "import openai\n",
    "from PyPDF2 import PdfReader\n",
    "\n",
    "from langchain.document_loaders import PyPDFLoader, Docx2txtLoader"
   ]
  },
  {
   "cell_type": "markdown",
   "metadata": {
    "id": "dal8ZrQoDdBH"
   },
   "source": [
    "### PDF, Word, PPT, txt 파일 중 하나를 선택해서 그 내용을 불러옵니다."
   ]
  },
  {
   "cell_type": "markdown",
   "metadata": {
    "id": "4s5dc4SnDdBH"
   },
   "source": [
    "#### Option 1. PDF 파일을 불러옵니다."
   ]
  },
  {
   "cell_type": "code",
   "execution_count": 30,
   "metadata": {
    "id": "dzU7Yf4mDdBH"
   },
   "outputs": [],
   "source": [
    "path ='data/주택임대차보호법(법률)(제19356호)(20230719).pdf'"
   ]
  },
  {
   "cell_type": "code",
   "execution_count": 31,
   "metadata": {
    "id": "Yr8LUDITDdBH"
   },
   "outputs": [],
   "source": []
  },
  {
   "cell_type": "markdown",
   "metadata": {
    "id": "sNPs2T1xDdBI"
   },
   "source": [
    "#### Option 2. Word 파일을 불러옵니다."
   ]
  },
  {
   "cell_type": "code",
   "execution_count": 7,
   "metadata": {
    "id": "29zjwRmaDdBI"
   },
   "outputs": [],
   "source": [
    "import docx\n",
    "from docx.shared import Pt\n",
    "from docx.enum.text import WD_ALIGN_PARAGRAPH"
   ]
  },
  {
   "cell_type": "code",
   "execution_count": 11,
   "metadata": {
    "id": "bWf2glW3DdBI"
   },
   "outputs": [],
   "source": [
    "path = \"data/주택임대차보호법(법률)(제19356호)(20230719).docx\""
   ]
  },
  {
   "cell_type": "code",
   "execution_count": 12,
   "metadata": {
    "id": "nrkQUaI5DdBI"
   },
   "outputs": [],
   "source": []
  },
  {
   "cell_type": "markdown",
   "metadata": {
    "id": "1gEh_bRADdBI"
   },
   "source": [
    "#### Option 3. PPT 파일을 불러옵니다."
   ]
  },
  {
   "cell_type": "code",
   "execution_count": 15,
   "metadata": {
    "id": "8jlUIotNDdBJ"
   },
   "outputs": [],
   "source": [
    "from pptx import Presentation\n",
    "prs = Presentation(\"data/주택임대차보호법(법률)(제19356호)(20230719).pptx\")"
   ]
  },
  {
   "cell_type": "code",
   "execution_count": null,
   "metadata": {},
   "outputs": [],
   "source": []
  },
  {
   "cell_type": "markdown",
   "metadata": {
    "id": "TJG-INaHDdBJ"
   },
   "source": [
    "#### Option 4. txt 파일을 불러옵니다."
   ]
  },
  {
   "cell_type": "code",
   "execution_count": 16,
   "metadata": {
    "id": "6NCrSn9tDdBJ"
   },
   "outputs": [],
   "source": [
    "path = \"data/주택임대차보호법(법률)(제19356호)(20230719).txt\""
   ]
  },
  {
   "cell_type": "code",
   "execution_count": 17,
   "metadata": {
    "id": "EC4KIzzyDdBJ"
   },
   "outputs": [],
   "source": []
  },
  {
   "cell_type": "markdown",
   "metadata": {
    "id": "Nblh4TAsJz0N"
   },
   "source": [
    "### OpenAI Chat model 설정\n"
   ]
  },
  {
   "cell_type": "code",
   "execution_count": null,
   "metadata": {
    "id": "ALY331VikIgM"
   },
   "outputs": [],
   "source": [
    "from langchain.chat_models import ChatOpenAI\n",
    "\n"
   ]
  },
  {
   "cell_type": "markdown",
   "metadata": {
    "id": "t6pZkezbDdBJ"
   },
   "source": [
    "- 사용할 수 있는 모델들: gpt-3.5-turbo, gpt-3.5-turbo-16k, gpt-4, gpt-4-32k 등이 있으며, 토큰 수가 더 많이 제공되는 gpt-3.5-turbo-16k와 gpt-4-32k 모델의 경우 답변이 길어져서 잘리는 경우가 생길 때 사용하면 좋습니다."
   ]
  },
  {
   "cell_type": "markdown",
   "metadata": {
    "id": "maqFfDrULPqc"
   },
   "source": [
    "### 질문 답변을 위한 도구(Chain) 만들기\n",
    "- chain_type=\"map_reduce\"를 이용하여, PDF 전체 텍스트의 양이 많기 때문에 전체 텍스트를 덩어리(batch)로 나누어 질문과 관련이 있는 덩어리(batch)를 기준으로 답변을 해주도록 설정합니다."
   ]
  },
  {
   "cell_type": "code",
   "execution_count": null,
   "metadata": {
    "id": "eZpeqVVTFmPk"
   },
   "outputs": [],
   "source": [
    "from langchain.chains.question_answering import load_qa_chain\n",
    "from langchain.chains import AnalyzeDocumentChain\n"
   ]
  },
  {
   "cell_type": "markdown",
   "metadata": {
    "id": "H91bgiizMcfR"
   },
   "source": [
    "### 질문 답변 예제"
   ]
  },
  {
   "cell_type": "code",
   "execution_count": null,
   "metadata": {
    "id": "to7TWqYkMbLK"
   },
   "outputs": [],
   "source": []
  },
  {
   "cell_type": "markdown",
   "metadata": {
    "id": "B-1WaAm8MpkP"
   },
   "source": [
    "### 사용의 편의성을 위해 함수로 만들기\n",
    "- 프롬프트를 입력하면 출력 결과와 함께 총 사용 토큰과 그에 따른 달러/원 비용, 그리고 소요 시간이 함께 출력되는 함수를 만듭니다.  \n",
    "- 참고: 1 token은 대략 영어에서 알파벳 4개 정도의 크기에 해당하며, 한글은 한 글자가 초성, 중성, 종성 세 글자로 구성되기에 영어보다 훨씬 토큰 수가 더 많이 소모됩니다."
   ]
  },
  {
   "cell_type": "code",
   "execution_count": null,
   "metadata": {
    "id": "ug9B6vjY63Rt"
   },
   "outputs": [],
   "source": [
    "import FinanceDataReader as fdr\n",
    "\n",
    "exchange_rate = fdr.DataReader('USD/KRW').iloc[-1][0]"
   ]
  },
  {
   "cell_type": "code",
   "execution_count": 34,
   "metadata": {
    "id": "m32roZH5FmMo"
   },
   "outputs": [],
   "source": [
    "from langchain.callbacks import get_openai_callback\n",
    "from langchain.chat_models import ChatOpenAI\n",
    "from langchain.chains.question_answering import load_qa_chain\n",
    "import time\n",
    "\n",
    "def qa_bot(source, question, model='gpt-3.5-turbo', temperature=0, chain_type=\"map_reduce\"):\n",
    "\n",
    "\n",
    "\n",
    "    with get_openai_callback() as cb:\n",
    "\n",
    "\n",
    "        print(f\"Total Tokens: {cb.total_tokens}\")\n",
    "        print(f\"Prompt Tokens: {cb.prompt_tokens}\")\n",
    "        print(f\"Completion Tokens: {cb.completion_tokens}\")\n",
    "        print(f\"Total Cost (USD): {cb.total_cost:.2f}$, Total Cost (Won): {cb.total_cost*exchange_rate:.2f}₩\")\n",
    "        print(f\"걸린 시간: {end-start:.2f}초\")"
   ]
  },
  {
   "cell_type": "markdown",
   "metadata": {
    "id": "pDPUnWlSS0UB"
   },
   "source": [
    "## 우리가 만든 PDF QA 봇을 실습해봅시다."
   ]
  },
  {
   "cell_type": "markdown",
   "metadata": {
    "id": "cYhLyJE4DdBK"
   },
   "source": [
    "#### [TODO] qa_bot 함수를 활용해서, 불러온 문서에 대해 GPT 3.5 모델과 GPT 4 모델 각각에 대해 예시 프롬프트를 사용해서 문서 기반 QA를 수행해 보세요."
   ]
  },
  {
   "cell_type": "markdown",
   "metadata": {
    "id": "Rbzv_S_3Ty4d"
   },
   "source": [
    "### Q1. 임대차가 끝난 후 보증금이 반환되지 아니한 경우에는 어떻게 해야 할까?\n"
   ]
  },
  {
   "cell_type": "code",
   "execution_count": null,
   "metadata": {
    "id": "jXifBRu-kIcc"
   },
   "outputs": [],
   "source": []
  },
  {
   "cell_type": "markdown",
   "metadata": {
    "id": "HPE8d1IHU_tm"
   },
   "source": [
    "### Q2. 확정일자를 갖추지 않은 임차인은 어떤 문제가 생기니?\n"
   ]
  },
  {
   "cell_type": "code",
   "execution_count": null,
   "metadata": {
    "id": "xvsX9rnXT8C5"
   },
   "outputs": [],
   "source": []
  },
  {
   "cell_type": "markdown",
   "metadata": {
    "id": "RhWC5AFgFaZA"
   },
   "source": [
    "### Q3. 확정일자를 받으려면 어떻게 해야 하니?"
   ]
  },
  {
   "cell_type": "code",
   "execution_count": null,
   "metadata": {
    "id": "410PUolFFa-w"
   },
   "outputs": [],
   "source": []
  },
  {
   "cell_type": "markdown",
   "metadata": {
    "id": "XBpia5fnVHYe"
   },
   "source": [
    "### Q4. 임차인에게 별다른 계약 갱신에 대한 통지를 하지 않으면 어떻게 되니?\n"
   ]
  },
  {
   "cell_type": "code",
   "execution_count": null,
   "metadata": {
    "id": "czN72sYXmzyS"
   },
   "outputs": [],
   "source": []
  },
  {
   "cell_type": "markdown",
   "metadata": {
    "id": "1Gp4E1JiESOP"
   },
   "source": [
    "### Q5. 임차인은 계약을 갱신하고 싶지 않으면 임대인에게 갱신거절 통지를 언제까지 해야하니?\n",
    "\n"
   ]
  },
  {
   "cell_type": "code",
   "execution_count": null,
   "metadata": {
    "id": "4rMv29khE2dx"
   },
   "outputs": [],
   "source": []
  },
  {
   "cell_type": "markdown",
   "metadata": {
    "id": "kxzGHIjyHx7Z"
   },
   "source": [
    "### Q6. 임대인이 계약갱신 요구를 거절할 수 있니?\n"
   ]
  },
  {
   "cell_type": "code",
   "execution_count": null,
   "metadata": {
    "id": "owI-gBEgJHl3"
   },
   "outputs": [],
   "source": []
  },
  {
   "cell_type": "markdown",
   "metadata": {
    "id": "qY4qDaTALKNv"
   },
   "source": [
    "### Q7. 임차인은 계약 갱신요구를 몇 번까지 할 수 있니?\n"
   ]
  },
  {
   "cell_type": "code",
   "execution_count": null,
   "metadata": {
    "id": "G6atkTQBLwyv"
   },
   "outputs": [],
   "source": []
  },
  {
   "cell_type": "markdown",
   "metadata": {
    "id": "CRkHLXe9G9Cr"
   },
   "source": [
    "#### [TODO] qa_bot 함수를 활용해서, 나만의 문서 기반 QA를 수행해 보세요."
   ]
  },
  {
   "cell_type": "code",
   "execution_count": null,
   "metadata": {
    "id": "IIojUX2eHBlx"
   },
   "outputs": [],
   "source": [
    "# 문서 불러오기 (원하는 문서의 포멧에 맞게 위 함수를 불러오세요)\n",
    "# 불러온 문서의 결과는 paper_text 변수로 저장하세요\n"
   ]
  },
  {
   "cell_type": "code",
   "execution_count": 26,
   "metadata": {
    "id": "RJZQzrX4Onot"
   },
   "outputs": [],
   "source": [
    "# 번역을 위한 번역기 함수\n",
    "import googletrans\n",
    "\n",
    "def translator(sent, lang):\n",
    "    translator = googletrans.Translator()\n",
    "    result = translator.translate(sent, dest=lang)\n",
    "    return result.text"
   ]
  },
  {
   "cell_type": "code",
   "execution_count": null,
   "metadata": {
    "id": "Nj700_7cPPK7"
   },
   "outputs": [],
   "source": [
    "# 한국어는 'ko', 영어는 'en'\n",
    "question = ' '\n",
    "translated = translator(question, 'en')\n",
    "translated"
   ]
  },
  {
   "cell_type": "code",
   "execution_count": null,
   "metadata": {
    "id": "61YLCv7NOJ8J"
   },
   "outputs": [],
   "source": [
    "# 질의응답 하기\n",
    "question = \"\"\n",
    "qa_bot(source=paper_text, question=translated, model='gpt-4', temperature=0)"
   ]
  }
 ],
 "metadata": {
  "colab": {
   "provenance": []
  },
  "kernelspec": {
   "display_name": "practice",
   "language": "python",
   "name": "python3"
  },
  "language_info": {
   "codemirror_mode": {
    "name": "ipython",
    "version": 3
   },
   "file_extension": ".py",
   "mimetype": "text/x-python",
   "name": "python",
   "nbconvert_exporter": "python",
   "pygments_lexer": "ipython3",
   "version": "3.10.13"
  }
 },
 "nbformat": 4,
 "nbformat_minor": 0
}
