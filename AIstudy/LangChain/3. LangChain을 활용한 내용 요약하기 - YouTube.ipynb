{
 "cells": [
  {
   "cell_type": "markdown",
   "id": "7256dff1",
   "metadata": {
    "id": "7256dff1"
   },
   "source": [
    "# LangChain으로 영상 내용 요약하기 - YouTube"
   ]
  },
  {
   "cell_type": "markdown",
   "id": "c77dee4a",
   "metadata": {
    "id": "c77dee4a"
   },
   "source": [
    "- LangChain을 이용하여 정보량이 쏟아지는 현대 사회에서, **자막이 있는 YouTube 영상**에 대해 자동으로 번역 및 요약하고, 궁금한 내용에 대해 바로 답변을 받아보는 YouTube QA 봇을 만들어봅시다."
   ]
  },
  {
   "cell_type": "markdown",
   "id": "d848352e",
   "metadata": {
    "id": "d848352e"
   },
   "source": [
    "### 자료 출처: YTN 뉴스, Apple\n",
    "- 한글 자막 영상 링크: https://www.youtube.com/watch?v=p-zSbaYJBOs\n",
    "- 영어 자막 영상 링크: https://www.youtube.com/watch?v=TX9qSaGXFyg"
   ]
  },
  {
   "cell_type": "markdown",
   "id": "d8f9765a",
   "metadata": {
    "id": "d8f9765a"
   },
   "source": [
    "## 발급 받은 OpenAI key를 불러옵니다."
   ]
  },
  {
   "cell_type": "code",
   "execution_count": null,
   "id": "023d771e",
   "metadata": {
    "id": "023d771e"
   },
   "outputs": [],
   "source": [
    "import os\n",
    "\n",
    "os.environ[\"OPENAI_API_KEY\"] = ''"
   ]
  },
  {
   "cell_type": "markdown",
   "id": "665d9c8f",
   "metadata": {
    "id": "665d9c8f"
   },
   "source": [
    "## 필요한 모듈을 설치합니다."
   ]
  },
  {
   "cell_type": "code",
   "execution_count": 2,
   "id": "243ebe22",
   "metadata": {
    "id": "243ebe22",
    "scrolled": true
   },
   "outputs": [
    {
     "name": "stdout",
     "output_type": "stream",
     "text": [
      "Defaulting to user installation because normal site-packages is not writeable\n",
      "Collecting youtube-transcript-api\n",
      "  Downloading youtube_transcript_api-0.6.2-py3-none-any.whl.metadata (15 kB)\n",
      "Collecting pytube\n",
      "  Downloading pytube-15.0.0-py3-none-any.whl.metadata (5.0 kB)\n",
      "Collecting google-search-results\n",
      "  Downloading google_search_results-2.4.2.tar.gz (18 kB)\n",
      "  Preparing metadata (setup.py) ... \u001b[?25ldone\n",
      "\u001b[?25hRequirement already satisfied: googletrans==3.1.0a0 in ./.local/lib/python3.10/site-packages (3.1.0a0)\n",
      "Collecting httpx==0.13.3\n",
      "  Using cached httpx-0.13.3-py3-none-any.whl.metadata (25 kB)\n",
      "Requirement already satisfied: certifi in ./.local/lib/python3.10/site-packages (from httpx==0.13.3) (2024.8.30)\n",
      "Requirement already satisfied: hstspreload in ./.local/lib/python3.10/site-packages (from httpx==0.13.3) (2024.10.1)\n",
      "Requirement already satisfied: sniffio in ./.local/lib/python3.10/site-packages (from httpx==0.13.3) (1.3.1)\n",
      "Requirement already satisfied: chardet==3.* in ./.local/lib/python3.10/site-packages (from httpx==0.13.3) (3.0.4)\n",
      "Requirement already satisfied: idna==2.* in ./.local/lib/python3.10/site-packages (from httpx==0.13.3) (2.10)\n",
      "Requirement already satisfied: rfc3986<2,>=1.3 in ./.local/lib/python3.10/site-packages (from httpx==0.13.3) (1.5.0)\n",
      "Collecting httpcore==0.9.* (from httpx==0.13.3)\n",
      "  Using cached httpcore-0.9.1-py3-none-any.whl.metadata (4.6 kB)\n",
      "Collecting h11<0.10,>=0.8 (from httpcore==0.9.*->httpx==0.13.3)\n",
      "  Using cached h11-0.9.0-py2.py3-none-any.whl.metadata (8.1 kB)\n",
      "Requirement already satisfied: h2==3.* in ./.local/lib/python3.10/site-packages (from httpcore==0.9.*->httpx==0.13.3) (3.2.0)\n",
      "Requirement already satisfied: hyperframe<6,>=5.2.0 in ./.local/lib/python3.10/site-packages (from h2==3.*->httpcore==0.9.*->httpx==0.13.3) (5.2.0)\n",
      "Requirement already satisfied: hpack<4,>=3.0 in ./.local/lib/python3.10/site-packages (from h2==3.*->httpcore==0.9.*->httpx==0.13.3) (3.0.0)\n",
      "Requirement already satisfied: requests in ./.local/lib/python3.10/site-packages (from youtube-transcript-api) (2.32.3)\n",
      "Requirement already satisfied: charset-normalizer<4,>=2 in ./.local/lib/python3.10/site-packages (from requests->youtube-transcript-api) (3.4.0)\n",
      "Requirement already satisfied: urllib3<3,>=1.21.1 in ./.local/lib/python3.10/site-packages (from requests->youtube-transcript-api) (2.2.3)\n",
      "Using cached httpx-0.13.3-py3-none-any.whl (55 kB)\n",
      "Using cached httpcore-0.9.1-py3-none-any.whl (42 kB)\n",
      "Downloading youtube_transcript_api-0.6.2-py3-none-any.whl (24 kB)\n",
      "Downloading pytube-15.0.0-py3-none-any.whl (57 kB)\n",
      "Using cached h11-0.9.0-py2.py3-none-any.whl (53 kB)\n",
      "Building wheels for collected packages: google-search-results\n",
      "  Building wheel for google-search-results (setup.py) ... \u001b[?25ldone\n",
      "\u001b[?25h  Created wheel for google-search-results: filename=google_search_results-2.4.2-py3-none-any.whl size=32004 sha256=928b908a6f285eb02628248968b5561993dd79649ac0b7714fbe4ea99a1df775\n",
      "  Stored in directory: /home/elicer/.cache/pip/wheels/d3/b2/c3/03302d12bb44a2cdff3c9371f31b72c0c4e84b8d2285eeac53\n",
      "Successfully built google-search-results\n",
      "Installing collected packages: h11, pytube, youtube-transcript-api, httpcore, google-search-results, httpx\n",
      "  Attempting uninstall: h11\n",
      "    Found existing installation: h11 0.14.0\n",
      "    Uninstalling h11-0.14.0:\n",
      "      Successfully uninstalled h11-0.14.0\n",
      "  Attempting uninstall: httpcore\n",
      "    Found existing installation: httpcore 1.0.6\n",
      "    Uninstalling httpcore-1.0.6:\n",
      "      Successfully uninstalled httpcore-1.0.6\n",
      "  Attempting uninstall: httpx\n",
      "    Found existing installation: httpx 0.27.2\n",
      "    Uninstalling httpx-0.27.2:\n",
      "      Successfully uninstalled httpx-0.27.2\n",
      "\u001b[31mERROR: pip's dependency resolver does not currently take into account all the packages that are installed. This behaviour is the source of the following dependency conflicts.\n",
      "langsmith 0.1.133 requires httpx<1,>=0.23.0, but you have httpx 0.13.3 which is incompatible.\u001b[0m\u001b[31m\n",
      "\u001b[0mSuccessfully installed google-search-results-2.4.2 h11-0.9.0 httpcore-0.9.1 httpx-0.13.3 pytube-15.0.0 youtube-transcript-api-0.6.2\n"
     ]
    }
   ],
   "source": [
    "!pip3 install  youtube-transcript-api pytube google-search-results googletrans==3.1.0a0 httpx==0.13.3"
   ]
  },
  {
   "cell_type": "markdown",
   "id": "887a63e6",
   "metadata": {
    "id": "887a63e6"
   },
   "source": [
    "## YouTube 영상 링크를 주면 자막 텍스트 데이터를 불러오는 함수입니다.\n",
    "- 언어의 종류에 따라 langage를 영어면 'en', 한글이면 'ko' 등으로 설정해야 합니다.\n",
    "- add_video_info=True로 하면 썸네일 링크를 포함한 여러 meta data들을 함께 볼 수 있습니다."
   ]
  },
  {
   "cell_type": "code",
   "execution_count": 3,
   "id": "69942b1c",
   "metadata": {
    "id": "69942b1c"
   },
   "outputs": [],
   "source": [
    "from langchain.document_loaders import YoutubeLoader\n",
    "\n",
    "def get_script(url, language=\"en\", add_video_info=True):\n",
    "    loader = YoutubeLoader.from_youtube_url(\n",
    "    url,\n",
    "    add_video_info=add_video_info,\n",
    "    language=language,\n",
    "    )\n",
    "    return loader.load()"
   ]
  },
  {
   "cell_type": "markdown",
   "id": "72982303",
   "metadata": {
    "id": "72982303"
   },
   "source": [
    "## 2023.03.09일자 \"[자막뉴스] 이재용, 제대로 칼 갈았다…최고 기술 꺼내 '승부수' / YTN\" 영상의 자막을 추출합니다."
   ]
  },
  {
   "cell_type": "code",
   "execution_count": 8,
   "id": "24491730",
   "metadata": {
    "id": "24491730"
   },
   "outputs": [],
   "source": [
    "url = \"https://www.youtube.com/watch?v=p-zSbaYJBOs\"\n"
   ]
  },
  {
   "cell_type": "code",
   "execution_count": 10,
   "id": "9f3b6224",
   "metadata": {
    "id": "9f3b6224",
    "scrolled": true
   },
   "outputs": [
    {
     "data": {
      "text/plain": [
       "'패널 수요일과 수익성이 좋지 않아 국내에서 oled tv 사업을 철수했던 삼성전자가 10년만에 신제품을 출시했습니다 OLED 기술의 장점을 유지하면서도 밝기 성능을 대폭 개선한게 특징입니다 기존의 주력했던 qled tv도 8k 영상의 초고화질 98인치 크기의 초대형 신제품을 내놨습니다 2023년 삼성전자는 전 세계 프리미엄 TV 시장을 이끌고 있는 네오큐헬리드 신제품들과 삼성 tv의 기술력이 완성한 삼성 oled를 통해 고객들에게 최상의 스크린 경험을 제공할 것입니다 올레드 TV 사업 10주년에 맞은 lg전자도 삼성전자보다 하루 앞서 신제품을 공개했습니다 기존 제품보다 70% 더 밝아진 것부터 세계 최초로 4K 영상을 무선 전송해 복잡한 주변 연결선을 없앤 TV 등 29개 모델을 선보였습니다 도전장에는 삼성전자를 향해선 그동안 집약된 기술력을 토대로 자신감을 내비쳤습니다 굉장히 편리한 사용성을 제공하고 최근에 제공해드린 그 무선 기술까지 이런 기술을 가지고 저희가 향후에도 올레드 시장을 리딩할 수 있다고 생각을 하고 있습니다 삼성전자가 기존 사업계획까지 번복하고 OLED 시장에 뛰어든 건 최근 빠르게 늘어나고 있는 수요 때문입니다 2013년 4000대 수준이었던 출하량은 10년 사이 1800배 매출액은 280배 넘게 늘었고 프리미엄 시장에서도 OLED tv가 차지하는 비중이 절반에 달합니다 lg전자가 주도권을 가지고 있던 oled tv 시장에 삼성전자가 뛰어들면서 두 기업이 10년 만에 맞붙게 됐는데 치열한 경쟁 속에 제품 가격 하락에 대한 기대감도 커지고 있습니다 lg전자 올레드 TV 국내 출고가는 크기에 따라 300에서 900만원 선으로 다양한데 후발주자인 삼성전자는 lg전자의 중간 수준으로 가격대를 낮춰 공격적인 마케팅을 펼치고 있습니다 tcl가 화웨이 샤오미 등 저가 물량공세를 펼치는 중국 업체들의 추격도 매서운만큼 점유율을 늘리기 위한 업체들의 경쟁은 더 치열해질 것으로 보입니다 YTN 뉴넬입니다 [음악]'"
      ]
     },
     "execution_count": 10,
     "metadata": {},
     "output_type": "execute_result"
    }
   ],
   "source": [
    "raw_script_data = get_script(url, 'ko')[0].page_content\n",
    "raw_script_data"
   ]
  },
  {
   "cell_type": "markdown",
   "id": "d7c6afad",
   "metadata": {
    "id": "d7c6afad"
   },
   "source": [
    "## 뉴스 영상 스크립트 요약하기\n",
    "- 이전 실습에서 사용했던 qa_bot 함수를 그대로 사용합니다."
   ]
  },
  {
   "cell_type": "code",
   "execution_count": 12,
   "id": "8b4e48d1",
   "metadata": {
    "id": "8b4e48d1"
   },
   "outputs": [],
   "source": [
    "from langchain.chat_models import ChatOpenAI\n",
    "from langchain.chains.question_answering import load_qa_chain\n",
    "from langchain.chains import AnalyzeDocumentChain\n",
    "from langchain.callbacks import get_openai_callback\n",
    "import FinanceDataReader as fdr\n",
    "import time\n",
    "\n",
    "def qa_bot(source, question, model='gpt-3.5-turbo', temperature=0, chain_type=\"map_reduce\"):\n",
    "\n",
    "    exchange_rate = fdr.DataReader('USD/KRW').iloc[-1][0]\n",
    "\n",
    "    model = ChatOpenAI(model=model, temperature=0)\n",
    "\n",
    "    qa_chain = load_qa_chain(model, chain_type=chain_type)\n",
    "    qa_document_chain = AnalyzeDocumentChain(combine_docs_chain=qa_chain)\n",
    "\n",
    "    with get_openai_callback() as cb:\n",
    "\n",
    "        start = time.time()\n",
    "        print(qa_document_chain.run(input_document=source, question=question))\n",
    "        end = time.time()\n",
    "\n",
    "        print(f\"Total Tokens: {cb.total_tokens}\")\n",
    "        print(f\"Prompt Tokens: {cb.prompt_tokens}\")\n",
    "        print(f\"Completion Tokens: {cb.completion_tokens}\")\n",
    "        print(f\"Total Cost (USD): {cb.total_cost:.2f}$, Total Cost (Won): {cb.total_cost*exchange_rate:.2f}₩\")\n",
    "        print(f\"걸린 시간: {end-start:.2f}초\")"
   ]
  },
  {
   "cell_type": "code",
   "execution_count": 14,
   "id": "5bff664a",
   "metadata": {
    "id": "5bff664a"
   },
   "outputs": [
    {
     "name": "stderr",
     "output_type": "stream",
     "text": [
      "/tmp/ipykernel_19160/1267335159.py:10: FutureWarning: Series.__getitem__ treating keys as positions is deprecated. In a future version, integer keys will always be treated as labels (consistent with DataFrame behavior). To access a value by position, use `ser.iloc[pos]`\n",
      "  exchange_rate = fdr.DataReader('USD/KRW').iloc[-1][0]\n"
     ]
    },
    {
     "name": "stdout",
     "output_type": "stream",
     "text": [
      "| 브랜드     | 모델명     | 특징                                                                                   |\n",
      "|------------|------------|----------------------------------------------------------------------------------------|\n",
      "| 삼성전자   | OLED TV    | 밝기 성능 대폭 개선, 8K 영상 지원, 98인치 초대형 신제품, 네오큐헬리드 기술 적용         |\n",
      "Total Tokens: 1527\n",
      "Prompt Tokens: 1255\n",
      "Completion Tokens: 272\n",
      "Total Cost (USD): 0.00$, Total Cost (Won): 3.28₩\n",
      "걸린 시간: 4.09초\n"
     ]
    }
   ],
   "source": [
    "qa_bot(raw_script_data, question=input())"
   ]
  },
  {
   "cell_type": "markdown",
   "id": "d6fc4d41",
   "metadata": {
    "id": "d6fc4d41"
   },
   "source": [
    "## 뉴스 영상에서 궁금한 내용 질문하기"
   ]
  },
  {
   "cell_type": "code",
   "execution_count": null,
   "id": "f4a8adab",
   "metadata": {
    "id": "f4a8adab"
   },
   "outputs": [],
   "source": []
  },
  {
   "cell_type": "code",
   "execution_count": null,
   "id": "4f900b3e",
   "metadata": {
    "id": "4f900b3e"
   },
   "outputs": [],
   "source": []
  },
  {
   "cell_type": "code",
   "execution_count": null,
   "id": "2b4c88bb",
   "metadata": {
    "id": "2b4c88bb"
   },
   "outputs": [],
   "source": []
  },
  {
   "cell_type": "markdown",
   "id": "8121be90",
   "metadata": {
    "id": "8121be90"
   },
   "source": [
    "## 영어 자막이 있는 Apple의 2023.06.06일자 \"Introducing Apple Vision Pro\" 영상의 자막을 추출합니다."
   ]
  },
  {
   "cell_type": "code",
   "execution_count": 15,
   "id": "28ecaf4c",
   "metadata": {
    "id": "28ecaf4c"
   },
   "outputs": [
    {
     "data": {
      "text/plain": [
       "'♪ \"Let\\'s Live\"\\nby FKJ ♪ ♪ Introducing Apple Vision Pro. The era of spatial computing is here. ♪ ♪ Serene electronic music ♪ When you put on\\nApple Vision Pro, you see your world\\nand everything in it. Your favorite apps\\nlive right in front of you, but now they\\'re in your space. This is visionOS, Apple\\'s first-ever\\nspatial operating system. It\\'s familiar,\\nyet groundbreaking. You navigate with your eyes. Simply tap to select, flick to scroll, and use your voice to dictate. It\\'s like magic. Apps have dimension, react to light, and cast shadows. Even though\\nthese spatial experiences are happening inside Vision Pro, it looks, sounds, and feels\\nlike they are physically there. [LAUGHTER] Foundational to Apple Vision Pro is that you\\'re not isolated\\nfrom other people. When someone else\\nis in the room, you can see them\\nand they can see you. - Don\\'t even talk to me about --\\nSushi? - Sushi.\\n- All right, see you. - Take care. - Because you\\'re not limited\\nby a display, apps live in your space. Your photos can be\\nlife-size or any size, so your living room\\nbecomes a gallery. And panoramas wrap around you as if you\\'re right\\nwhere you took them. ♪ Upbeat instrumental music ♪ Apple Vision Pro\\nis Apple\\'s first-ever 3D camera. Now you can capture photos\\nand videos with remarkable depth and relive a memory as if you\\'re right back\\nin the exact moment. Both: Hey, Dad! ♪ - Experiences on Vision Pro can\\nalso expand in three dimensions, filling the entirety\\nof your space. Like in the Mindfulness app, where you can create\\na moment of calm. ♪ Serene music ♪ ♪ Epic cinematic music ♪ Apple Vision Pro\\nbrings the scale and wonder of a movie theater\\nto whatever space you\\'re in. It automatically darkens\\nand casts a beautiful glow into the room. And you can make the screen\\nas big as you want. Spatial Audio surrounds you\\nand makes you feel like you\\'re a part\\nof the action. And for an extraordinary\\ncinematic experience, you can bring\\nin a beautiful Environment and make your screen feel\\na hundred feet wide. ♪ Vision Pro is a wonderful way\\nto play your favorite games. Just connect your controller\\nand play on a massive screen with incredible audio. [CROWD CHEERING]\\n- Curry\\'s got 24 points. - With Apple Vision Pro, you can\\ncreate the perfect workspace, no matter where you are. The web comes to life\\nat fantastic scale. Text is crisp and easy to read. Browsing the internet feels new. And Safari expands so you can\\nsee all your open tabs. ♪ Quirky bass-note piano music ♪ ♪ Your favorite apps from Apple\\nand the App Store are there. You can arrange them\\nhowever you like and work seamlessly\\nacross them. [FACETIME RINGING] - Hi.\\n- Hey. - Hi, did you receive the deck?\\n- Yeah, I\\'m looking at it now. - Oh great, you got it.\\n- So, what did you think? - FaceTime looks and sounds\\namazing in Apple Vision Pro. You see people life-size. And with Spatial Audio,\\nyou hear them as if they\\'re right\\nin front of you. So conversation is more natural, and collaborating\\nbecomes even easier. And because you see\\nthe world around you, you can glance\\nat a notification. And even connect to your Mac\\nsimply by looking at it, turning a 13-inch screen\\ninto a giant display. ♪ [MUSIC FADES] ♪ Cheerful string music ♪ In Apple Vision Pro, you can also transform\\nyour space with Environments. [BABY CRYING]\\nLike on a plane. You can now watch a movie\\non a huge screen, in a stunning location. And you control just how\\nimmersed you want to be. ♪ ♪ Mellow electronic hip-hop ♪ To make all these\\ndigital experiences feel real in your space takes an extraordinary\\namount of technology. Yet Apple Vision Pro\\nis remarkably compact and beautiful. A single piece of\\nthree-dimensionally formed laminated glass\\nacts as a lens through which the cameras\\nand sensors view the world. It flows seamlessly into a\\nlightweight aluminum alloy frame that gently curves\\nto wrap around your face. And we designed a modular system\\nso you can find the right fit. [CLICK] The Light Seal keeps stray light\\nfrom your eyes, and a soft frame gently flexes\\nand conforms to your unique features. The Head Band is 3D knitted to provide cushioning,\\nbreathability, and stretch. And a high-performance battery\\nreduces weight to a minimum and slips easily\\ninto your pocket. ♪ Because you wear\\nApple Vision Pro and your eyes are covered, we engineered a system that uses\\nadvanced machine learning to represent you realistically\\nwhen you\\'re in FaceTime. Your Persona\\ndynamically reflects your face and hand movements,\\nso when you\\'re chatting, people see your eyes, hands,\\nand true expressions. [FOOTSTEPS] To convincingly place\\ncontent in your space took thousands\\nof groundbreaking innovations and custom technologies. Since your eyes see the world\\nwith incredible resolution, we built a micro-OLED\\ndisplay system that fits 64 pixels\\nin the same amount of space as a single iPhone pixel, and packs 23 million\\ninto two panels the size of a postage stamp. That\\'s more than\\na 4K TV for each eye, giving you jaw-dropping,\\nlifelike clarity. Apple Vision Pro also features\\nour most advanced Spatial Audio system ever. Personalized sound is delivered\\ndirectionally to your ear. And audio raytracing\\nuses sophisticated sensors to understand the materials\\nand objects in your room, so sound feels like it\\'s coming\\nfrom the world around you. 3D mapping provides\\na detailed understanding of walls, furniture,\\nand even people, so all experiences\\nlook, sound, and feel like they are physically there. To power a spatial computer\\nlike Apple Vision Pro required an innovative\\ndual-chip design. M2 provides\\nphenomenal performance. And a brand-new chip, R1, processes sensor data\\nat incredible speed, virtually eliminating lag, so experiences take place\\nin real time right in front of your eyes. - Low delivery,\\ngreat ball inside! - A stunning new way\\nto use the apps we love. A powerful way\\nto relive our memories. A profound new way\\nto be together. And a magical way\\nto be immersed in entertainment. The era of spatial computing\\nis here. This is Apple Vision Pro. ♪'"
      ]
     },
     "execution_count": 15,
     "metadata": {},
     "output_type": "execute_result"
    }
   ],
   "source": [
    "url = \"https://www.youtube.com/watch?v=TX9qSaGXFyg\"\n",
    "\n",
    "raw_script_data = get_script(url, 'en')[0].page_content\n",
    "raw_script_data"
   ]
  },
  {
   "cell_type": "markdown",
   "id": "fe7cb689",
   "metadata": {
    "id": "fe7cb689"
   },
   "source": [
    "## 자막 내용 번역하기\n",
    "- 이전 실습에서 사용했던 translator 함수를 그대로 사용합니다."
   ]
  },
  {
   "cell_type": "code",
   "execution_count": 16,
   "id": "fd100ad0",
   "metadata": {
    "id": "fd100ad0"
   },
   "outputs": [],
   "source": [
    "import googletrans\n",
    "\n",
    "def translator(eng_sent):\n",
    "    translator = googletrans.Translator()\n",
    "    result = translator.translate(eng_sent, dest='ko')\n",
    "    return result.text"
   ]
  },
  {
   "cell_type": "code",
   "execution_count": 18,
   "id": "b8b2edf3",
   "metadata": {
    "id": "b8b2edf3"
   },
   "outputs": [],
   "source": [
    "kr_row_data = translator(raw_script_data)"
   ]
  },
  {
   "cell_type": "markdown",
   "id": "82e9302a",
   "metadata": {
    "id": "82e9302a"
   },
   "source": [
    "## Apple 영상 스크립트 요약하기"
   ]
  },
  {
   "cell_type": "code",
   "execution_count": 19,
   "id": "4b39f394",
   "metadata": {
    "id": "4b39f394"
   },
   "outputs": [
    {
     "name": "stderr",
     "output_type": "stream",
     "text": [
      "/tmp/ipykernel_19160/1267335159.py:10: FutureWarning: Series.__getitem__ treating keys as positions is deprecated. In a future version, integer keys will always be treated as labels (consistent with DataFrame behavior). To access a value by position, use `ser.iloc[pos]`\n",
      "  exchange_rate = fdr.DataReader('USD/KRW').iloc[-1][0]\n"
     ]
    },
    {
     "name": "stdout",
     "output_type": "stream",
     "text": [
      "Apple Vision Pro는 혁신적인 공간 컴퓨팅 기술을 소개하는 Apple의 최초의 VisionOS로, 사용자에게 현실적인 경험과 맞춤형 사운드, 뛰어난 해상도의 디스플레이 시스템을 제공하여 혁신적인 시각적 경험을 제공하는 제품이다.\n",
      "Total Tokens: 3928\n",
      "Prompt Tokens: 3511\n",
      "Completion Tokens: 417\n",
      "Total Cost (USD): 0.01$, Total Cost (Won): 8.24₩\n",
      "걸린 시간: 6.05초\n"
     ]
    }
   ],
   "source": [
    "qa_bot(kr_row_data, question= input())"
   ]
  },
  {
   "cell_type": "markdown",
   "id": "ac453f81",
   "metadata": {
    "id": "ac453f81"
   },
   "source": [
    "## Apple 영상에서 궁금한 내용 질문하기"
   ]
  },
  {
   "cell_type": "code",
   "execution_count": null,
   "id": "888dd168",
   "metadata": {
    "id": "888dd168"
   },
   "outputs": [],
   "source": []
  },
  {
   "cell_type": "code",
   "execution_count": null,
   "id": "7611250a",
   "metadata": {
    "id": "7611250a"
   },
   "outputs": [],
   "source": []
  },
  {
   "cell_type": "code",
   "execution_count": null,
   "id": "67cc3a2e",
   "metadata": {
    "id": "67cc3a2e"
   },
   "outputs": [],
   "source": []
  },
  {
   "cell_type": "code",
   "execution_count": null,
   "id": "d310513b",
   "metadata": {
    "id": "d310513b"
   },
   "outputs": [],
   "source": []
  }
 ],
 "metadata": {
  "colab": {
   "provenance": []
  },
  "kernelspec": {
   "display_name": "base",
   "language": "python",
   "name": "python3"
  },
  "language_info": {
   "codemirror_mode": {
    "name": "ipython",
    "version": 3
   },
   "file_extension": ".py",
   "mimetype": "text/x-python",
   "name": "python",
   "nbconvert_exporter": "python",
   "pygments_lexer": "ipython3",
   "version": "3.10.13"
  }
 },
 "nbformat": 4,
 "nbformat_minor": 5
}
