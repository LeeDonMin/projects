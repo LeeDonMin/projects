{
 "cells": [
  {
   "cell_type": "markdown",
   "id": "32b719f2",
   "metadata": {
    "id": "32b719f2"
   },
   "source": [
    "# LangChain으로 웹에서 정보 수집하기 - URL"
   ]
  },
  {
   "cell_type": "markdown",
   "id": "f21a4913",
   "metadata": {
    "id": "f21a4913"
   },
   "source": [
    "- LangChain을 이용하여 빠르게 변하는 IT 소식, 영어로 되어있는 **TechCrunch 뉴스 기사**를 자동으로 번역 및 요약하고, 궁금한 내용에 대해 바로 답변을 받아보는 URL QA 봇을 만들어봅시다."
   ]
  },
  {
   "cell_type": "markdown",
   "id": "696a9672",
   "metadata": {
    "id": "696a9672"
   },
   "source": [
    "### 자료 출처: \"The week in AI: Generative AI spams up the web\" TechCrunch 뉴스 기사\n",
    "- 링크: https://techcrunch.com/2023/07/08/the-week-in-ai-generative-ai-spams-up-the-web/"
   ]
  },
  {
   "cell_type": "code",
   "execution_count": 1,
   "metadata": {},
   "outputs": [
    {
     "name": "stdout",
     "output_type": "stream",
     "text": [
      "Defaulting to user installation because normal site-packages is not writeable\n",
      "Requirement already satisfied: unstructured in ./.local/lib/python3.10/site-packages (0.11.2)\n",
      "Collecting httpx==0.13.3\n",
      "  Using cached httpx-0.13.3-py3-none-any.whl.metadata (25 kB)\n",
      "Requirement already satisfied: certifi in ./.local/lib/python3.10/site-packages (from httpx==0.13.3) (2024.8.30)\n",
      "Requirement already satisfied: hstspreload in ./.local/lib/python3.10/site-packages (from httpx==0.13.3) (2024.10.1)\n",
      "Requirement already satisfied: sniffio in ./.local/lib/python3.10/site-packages (from httpx==0.13.3) (1.3.1)\n",
      "Requirement already satisfied: chardet==3.* in ./.local/lib/python3.10/site-packages (from httpx==0.13.3) (3.0.4)\n",
      "Requirement already satisfied: idna==2.* in ./.local/lib/python3.10/site-packages (from httpx==0.13.3) (2.10)\n",
      "Requirement already satisfied: rfc3986<2,>=1.3 in ./.local/lib/python3.10/site-packages (from httpx==0.13.3) (1.5.0)\n",
      "Collecting httpcore==0.9.* (from httpx==0.13.3)\n",
      "  Using cached httpcore-0.9.1-py3-none-any.whl.metadata (4.6 kB)\n",
      "Collecting h11<0.10,>=0.8 (from httpcore==0.9.*->httpx==0.13.3)\n",
      "  Using cached h11-0.9.0-py2.py3-none-any.whl.metadata (8.1 kB)\n",
      "Requirement already satisfied: h2==3.* in ./.local/lib/python3.10/site-packages (from httpcore==0.9.*->httpx==0.13.3) (3.2.0)\n",
      "Requirement already satisfied: hyperframe<6,>=5.2.0 in ./.local/lib/python3.10/site-packages (from h2==3.*->httpcore==0.9.*->httpx==0.13.3) (5.2.0)\n",
      "Requirement already satisfied: hpack<4,>=3.0 in ./.local/lib/python3.10/site-packages (from h2==3.*->httpcore==0.9.*->httpx==0.13.3) (3.0.0)\n",
      "Requirement already satisfied: filetype in ./.local/lib/python3.10/site-packages (from unstructured) (1.2.0)\n",
      "Requirement already satisfied: python-magic in ./.local/lib/python3.10/site-packages (from unstructured) (0.4.27)\n",
      "Requirement already satisfied: lxml in ./.local/lib/python3.10/site-packages (from unstructured) (5.3.0)\n",
      "Requirement already satisfied: nltk in ./.local/lib/python3.10/site-packages (from unstructured) (3.9.1)\n",
      "Requirement already satisfied: tabulate in ./.local/lib/python3.10/site-packages (from unstructured) (0.9.0)\n",
      "Requirement already satisfied: requests in ./.local/lib/python3.10/site-packages (from unstructured) (2.32.3)\n",
      "Requirement already satisfied: beautifulsoup4 in ./.local/lib/python3.10/site-packages (from unstructured) (4.12.3)\n",
      "Requirement already satisfied: emoji in ./.local/lib/python3.10/site-packages (from unstructured) (2.14.0)\n",
      "Requirement already satisfied: dataclasses-json in ./.local/lib/python3.10/site-packages (from unstructured) (0.6.7)\n",
      "Requirement already satisfied: python-iso639 in ./.local/lib/python3.10/site-packages (from unstructured) (2024.4.27)\n",
      "Requirement already satisfied: langdetect in ./.local/lib/python3.10/site-packages (from unstructured) (1.0.9)\n",
      "Requirement already satisfied: numpy in ./.local/lib/python3.10/site-packages (from unstructured) (1.26.4)\n",
      "Requirement already satisfied: rapidfuzz in ./.local/lib/python3.10/site-packages (from unstructured) (3.10.0)\n",
      "Requirement already satisfied: backoff in ./.local/lib/python3.10/site-packages (from unstructured) (2.2.1)\n",
      "Requirement already satisfied: typing-extensions in ./.local/lib/python3.10/site-packages (from unstructured) (4.12.2)\n",
      "Requirement already satisfied: wrapt in ./.local/lib/python3.10/site-packages (from unstructured) (1.16.0)\n",
      "Requirement already satisfied: soupsieve>1.2 in ./.local/lib/python3.10/site-packages (from beautifulsoup4->unstructured) (2.6)\n",
      "Requirement already satisfied: marshmallow<4.0.0,>=3.18.0 in ./.local/lib/python3.10/site-packages (from dataclasses-json->unstructured) (3.22.0)\n",
      "Requirement already satisfied: typing-inspect<1,>=0.4.0 in ./.local/lib/python3.10/site-packages (from dataclasses-json->unstructured) (0.9.0)\n",
      "Requirement already satisfied: six in ./.local/lib/python3.10/site-packages (from langdetect->unstructured) (1.16.0)\n",
      "Requirement already satisfied: click in ./.local/lib/python3.10/site-packages (from nltk->unstructured) (8.1.7)\n",
      "Requirement already satisfied: joblib in ./.local/lib/python3.10/site-packages (from nltk->unstructured) (1.4.2)\n",
      "Requirement already satisfied: regex>=2021.8.3 in ./.local/lib/python3.10/site-packages (from nltk->unstructured) (2024.9.11)\n",
      "Requirement already satisfied: tqdm in ./.local/lib/python3.10/site-packages (from nltk->unstructured) (4.66.5)\n",
      "Requirement already satisfied: charset-normalizer<4,>=2 in ./.local/lib/python3.10/site-packages (from requests->unstructured) (3.4.0)\n",
      "Requirement already satisfied: urllib3<3,>=1.21.1 in ./.local/lib/python3.10/site-packages (from requests->unstructured) (2.2.3)\n",
      "Requirement already satisfied: packaging>=17.0 in ./.local/lib/python3.10/site-packages (from marshmallow<4.0.0,>=3.18.0->dataclasses-json->unstructured) (24.1)\n",
      "Requirement already satisfied: mypy-extensions>=0.3.0 in ./.local/lib/python3.10/site-packages (from typing-inspect<1,>=0.4.0->dataclasses-json->unstructured) (1.0.0)\n",
      "Using cached httpx-0.13.3-py3-none-any.whl (55 kB)\n",
      "Using cached httpcore-0.9.1-py3-none-any.whl (42 kB)\n",
      "Using cached h11-0.9.0-py2.py3-none-any.whl (53 kB)\n",
      "Installing collected packages: h11, httpcore, httpx\n",
      "  Attempting uninstall: h11\n",
      "    Found existing installation: h11 0.14.0\n",
      "    Uninstalling h11-0.14.0:\n",
      "      Successfully uninstalled h11-0.14.0\n",
      "  Attempting uninstall: httpcore\n",
      "    Found existing installation: httpcore 1.0.6\n",
      "    Uninstalling httpcore-1.0.6:\n",
      "      Successfully uninstalled httpcore-1.0.6\n",
      "  Attempting uninstall: httpx\n",
      "    Found existing installation: httpx 0.27.2\n",
      "    Uninstalling httpx-0.27.2:\n",
      "      Successfully uninstalled httpx-0.27.2\n",
      "\u001b[31mERROR: pip's dependency resolver does not currently take into account all the packages that are installed. This behaviour is the source of the following dependency conflicts.\n",
      "langsmith 0.1.133 requires httpx<1,>=0.23.0, but you have httpx 0.13.3 which is incompatible.\n",
      "openai 1.51.2 requires httpx<1,>=0.23.0, but you have httpx 0.13.3 which is incompatible.\u001b[0m\u001b[31m\n",
      "\u001b[0mSuccessfully installed h11-0.9.0 httpcore-0.9.1 httpx-0.13.3\n"
     ]
    }
   ],
   "source": [
    "!pip install unstructured httpx==0.13.3"
   ]
  },
  {
   "cell_type": "markdown",
   "id": "316cf13b",
   "metadata": {
    "id": "316cf13b"
   },
   "source": [
    "## 발급 받은 OpenAI key, Google-Search-API Key를 불러옵니다."
   ]
  },
  {
   "cell_type": "markdown",
   "metadata": {},
   "source": [
    "https://serpapi.com/users/welcome   - api key 발급"
   ]
  },
  {
   "cell_type": "code",
   "execution_count": null,
   "id": "db5f7fec",
   "metadata": {
    "id": "db5f7fec"
   },
   "outputs": [],
   "source": [
    "import os\n",
    "\n",
    "os.environ[\"OPENAI_API_KEY\"] = ''\n",
    "os.environ[\"SERPAPI_API_KEY\"] = \"\""
   ]
  },
  {
   "cell_type": "markdown",
   "id": "2587eda2",
   "metadata": {
    "id": "2587eda2"
   },
   "source": [
    "## URL 내의 텍스트 데이터를 불러옵니다.\n",
    "- URL 링크를 2개 이상 작성하면 여러 개의 링크로부터 텍스트 데이터를 모두 가져올 수 있습니다."
   ]
  },
  {
   "cell_type": "code",
   "execution_count": 3,
   "metadata": {},
   "outputs": [
    {
     "name": "stderr",
     "output_type": "stream",
     "text": [
      "[nltk_data] Downloading package punkt_tab to /home/elicer/nltk_data...\n",
      "[nltk_data]   Package punkt_tab is already up-to-date!\n"
     ]
    },
    {
     "data": {
      "text/plain": [
       "True"
      ]
     },
     "execution_count": 3,
     "metadata": {},
     "output_type": "execute_result"
    }
   ],
   "source": [
    "import nltk\n",
    "nltk.download('punkt_tab')"
   ]
  },
  {
   "cell_type": "code",
   "execution_count": 5,
   "metadata": {},
   "outputs": [
    {
     "name": "stdout",
     "output_type": "stream",
     "text": [
      "Defaulting to user installation because normal site-packages is not writeable\n",
      "Collecting pikepdf\n",
      "  Downloading pikepdf-9.3.0-cp310-cp310-manylinux_2_17_x86_64.manylinux2014_x86_64.whl.metadata (8.2 kB)\n",
      "Requirement already satisfied: Pillow>=10.0.1 in ./.local/lib/python3.10/site-packages (from pikepdf) (10.4.0)\n",
      "Collecting Deprecated (from pikepdf)\n",
      "  Downloading Deprecated-1.2.14-py2.py3-none-any.whl.metadata (5.4 kB)\n",
      "Requirement already satisfied: lxml>=4.8 in ./.local/lib/python3.10/site-packages (from pikepdf) (5.3.0)\n",
      "Requirement already satisfied: packaging in ./.local/lib/python3.10/site-packages (from pikepdf) (24.1)\n",
      "Requirement already satisfied: wrapt<2,>=1.10 in ./.local/lib/python3.10/site-packages (from Deprecated->pikepdf) (1.16.0)\n",
      "Downloading pikepdf-9.3.0-cp310-cp310-manylinux_2_17_x86_64.manylinux2014_x86_64.whl (2.4 MB)\n",
      "\u001b[2K   \u001b[90m━━━━━━━━━━━━━━━━━━━━━━━━━━━━━━━━━━━━━━━━\u001b[0m \u001b[32m2.4/2.4 MB\u001b[0m \u001b[31m41.6 MB/s\u001b[0m eta \u001b[36m0:00:00\u001b[0m\n",
      "\u001b[?25hDownloading Deprecated-1.2.14-py2.py3-none-any.whl (9.6 kB)\n",
      "Installing collected packages: Deprecated, pikepdf\n",
      "Successfully installed Deprecated-1.2.14 pikepdf-9.3.0\n"
     ]
    }
   ],
   "source": [
    "!pip install pikepdf"
   ]
  },
  {
   "cell_type": "code",
   "execution_count": 11,
   "metadata": {},
   "outputs": [
    {
     "name": "stdout",
     "output_type": "stream",
     "text": [
      "Defaulting to user installation because normal site-packages is not writeable\n",
      "Collecting opencv-python\n",
      "  Downloading opencv_python-4.10.0.84-cp37-abi3-manylinux_2_17_x86_64.manylinux2014_x86_64.whl.metadata (20 kB)\n",
      "Requirement already satisfied: numpy>=1.21.2 in ./.local/lib/python3.10/site-packages (from opencv-python) (1.26.4)\n",
      "Downloading opencv_python-4.10.0.84-cp37-abi3-manylinux_2_17_x86_64.manylinux2014_x86_64.whl (62.5 MB)\n",
      "\u001b[2K   \u001b[90m━━━━━━━━━━━━━━━━━━━━━━━━━━━━━━━━━━━━━━━━\u001b[0m \u001b[32m62.5/62.5 MB\u001b[0m \u001b[31m154.8 MB/s\u001b[0m eta \u001b[36m0:00:00\u001b[0m00:01\u001b[0m00:01\u001b[0m\n",
      "\u001b[?25hInstalling collected packages: opencv-python\n",
      "Successfully installed opencv-python-4.10.0.84\n"
     ]
    }
   ],
   "source": [
    "!pip install opencv-python"
   ]
  },
  {
   "cell_type": "code",
   "execution_count": 12,
   "id": "480e28b4",
   "metadata": {
    "id": "480e28b4"
   },
   "outputs": [
    {
     "name": "stderr",
     "output_type": "stream",
     "text": [
      "[nltk_data] Downloading package punkt_tab to /home/elicer/nltk_data...\n",
      "[nltk_data]   Package punkt_tab is already up-to-date!\n",
      "[nltk_data] Downloading package averaged_perceptron_tagger_eng to\n",
      "[nltk_data]     /home/elicer/nltk_data...\n",
      "[nltk_data]   Package averaged_perceptron_tagger_eng is already up-to-\n",
      "[nltk_data]       date!\n"
     ]
    },
    {
     "ename": "ImportError",
     "evalue": "libGL.so.1: cannot open shared object file: No such file or directory",
     "output_type": "error",
     "traceback": [
      "\u001b[0;31m---------------------------------------------------------------------------\u001b[0m",
      "\u001b[0;31mImportError\u001b[0m                               Traceback (most recent call last)",
      "\u001b[1;32m/home/elicer/4. LangChain을 활용한 웹에서 정보 수집하기.ipynb Cell 12\u001b[0m line \u001b[0;36m9\n\u001b[1;32m      <a href='vscode-notebook-cell://ycrgspwaccjrkrnq.tunnel-pt.elice.io/home/elicer/4.%20LangChain%EC%9D%84%20%ED%99%9C%EC%9A%A9%ED%95%9C%20%EC%9B%B9%EC%97%90%EC%84%9C%20%EC%A0%95%EB%B3%B4%20%EC%88%98%EC%A7%91%ED%95%98%EA%B8%B0.ipynb#X12sdnNjb2RlLXJlbW90ZQ%3D%3D?line=3'>4</a>\u001b[0m nltk\u001b[39m.\u001b[39mdownload(\u001b[39m'\u001b[39m\u001b[39maveraged_perceptron_tagger_eng\u001b[39m\u001b[39m'\u001b[39m)\n\u001b[1;32m      <a href='vscode-notebook-cell://ycrgspwaccjrkrnq.tunnel-pt.elice.io/home/elicer/4.%20LangChain%EC%9D%84%20%ED%99%9C%EC%9A%A9%ED%95%9C%20%EC%9B%B9%EC%97%90%EC%84%9C%20%EC%A0%95%EB%B3%B4%20%EC%88%98%EC%A7%91%ED%95%98%EA%B8%B0.ipynb#X12sdnNjb2RlLXJlbW90ZQ%3D%3D?line=5'>6</a>\u001b[0m urls \u001b[39m=\u001b[39m [\u001b[39m\"\u001b[39m\u001b[39mhttps://techcrunch.com/2023/07/08/the-week-in-ai-generative-ai-spams-up-the-web/\u001b[39m\u001b[39m\"\u001b[39m,\n\u001b[1;32m      <a href='vscode-notebook-cell://ycrgspwaccjrkrnq.tunnel-pt.elice.io/home/elicer/4.%20LangChain%EC%9D%84%20%ED%99%9C%EC%9A%A9%ED%95%9C%20%EC%9B%B9%EC%97%90%EC%84%9C%20%EC%A0%95%EB%B3%B4%20%EC%88%98%EC%A7%91%ED%95%98%EA%B8%B0.ipynb#X12sdnNjb2RlLXJlbW90ZQ%3D%3D?line=6'>7</a>\u001b[0m         \u001b[39m'\u001b[39m\u001b[39mhttps://techcrunch.com/2024/10/09/after-winning-nobel-for-foundational-ai-work-geoffrey-hinton-says-hes-proud-ilya-sutskever-fired-sam-altman/\u001b[39m\u001b[39m'\u001b[39m\n\u001b[1;32m      <a href='vscode-notebook-cell://ycrgspwaccjrkrnq.tunnel-pt.elice.io/home/elicer/4.%20LangChain%EC%9D%84%20%ED%99%9C%EC%9A%A9%ED%95%9C%20%EC%9B%B9%EC%97%90%EC%84%9C%20%EC%A0%95%EB%B3%B4%20%EC%88%98%EC%A7%91%ED%95%98%EA%B8%B0.ipynb#X12sdnNjb2RlLXJlbW90ZQ%3D%3D?line=7'>8</a>\u001b[0m        ]\n\u001b[0;32m----> <a href='vscode-notebook-cell://ycrgspwaccjrkrnq.tunnel-pt.elice.io/home/elicer/4.%20LangChain%EC%9D%84%20%ED%99%9C%EC%9A%A9%ED%95%9C%20%EC%9B%B9%EC%97%90%EC%84%9C%20%EC%A0%95%EB%B3%B4%20%EC%88%98%EC%A7%91%ED%95%98%EA%B8%B0.ipynb#X12sdnNjb2RlLXJlbW90ZQ%3D%3D?line=8'>9</a>\u001b[0m UnstructuredURLLoader(urls)\u001b[39m.\u001b[39;49mload()\n",
      "File \u001b[0;32m~/.local/lib/python3.10/site-packages/langchain_community/document_loaders/url.py:110\u001b[0m, in \u001b[0;36mUnstructuredURLLoader.load\u001b[0;34m(self)\u001b[0m\n\u001b[1;32m    108\u001b[0m \u001b[39mdef\u001b[39;00m \u001b[39mload\u001b[39m(\u001b[39mself\u001b[39m) \u001b[39m-\u001b[39m\u001b[39m>\u001b[39m List[Document]:\n\u001b[1;32m    109\u001b[0m \u001b[39m    \u001b[39m\u001b[39m\"\"\"Load file.\"\"\"\u001b[39;00m\n\u001b[0;32m--> 110\u001b[0m     \u001b[39mfrom\u001b[39;00m \u001b[39munstructured\u001b[39;00m\u001b[39m.\u001b[39;00m\u001b[39mpartition\u001b[39;00m\u001b[39m.\u001b[39;00m\u001b[39mauto\u001b[39;00m \u001b[39mimport\u001b[39;00m partition\n\u001b[1;32m    111\u001b[0m     \u001b[39mfrom\u001b[39;00m \u001b[39munstructured\u001b[39;00m\u001b[39m.\u001b[39;00m\u001b[39mpartition\u001b[39;00m\u001b[39m.\u001b[39;00m\u001b[39mhtml\u001b[39;00m \u001b[39mimport\u001b[39;00m partition_html\n\u001b[1;32m    113\u001b[0m     docs: List[Document] \u001b[39m=\u001b[39m \u001b[39mlist\u001b[39m()\n",
      "File \u001b[0;32m~/.local/lib/python3.10/site-packages/unstructured/partition/auto.py:81\u001b[0m\n\u001b[1;32m     79\u001b[0m pdf_imports \u001b[39m=\u001b[39m [\u001b[39m\"\u001b[39m\u001b[39mpdf2image\u001b[39m\u001b[39m\"\u001b[39m, \u001b[39m\"\u001b[39m\u001b[39mpdfminer\u001b[39m\u001b[39m\"\u001b[39m, \u001b[39m\"\u001b[39m\u001b[39mPIL\u001b[39m\u001b[39m\"\u001b[39m]\n\u001b[1;32m     80\u001b[0m \u001b[39mif\u001b[39;00m \u001b[39mall\u001b[39m(dependency_exists(dep) \u001b[39mfor\u001b[39;00m dep \u001b[39min\u001b[39;00m pdf_imports):\n\u001b[0;32m---> 81\u001b[0m     \u001b[39mfrom\u001b[39;00m \u001b[39munstructured\u001b[39;00m\u001b[39m.\u001b[39;00m\u001b[39mpartition\u001b[39;00m\u001b[39m.\u001b[39;00m\u001b[39mpdf\u001b[39;00m \u001b[39mimport\u001b[39;00m partition_pdf\n\u001b[1;32m     83\u001b[0m     PARTITION_WITH_EXTRAS_MAP[\u001b[39m\"\u001b[39m\u001b[39mpdf\u001b[39m\u001b[39m\"\u001b[39m] \u001b[39m=\u001b[39m partition_pdf\n\u001b[1;32m     86\u001b[0m \u001b[39mif\u001b[39;00m dependency_exists(\u001b[39m\"\u001b[39m\u001b[39munstructured_inference\u001b[39m\u001b[39m\"\u001b[39m):\n",
      "File \u001b[0;32m~/.local/lib/python3.10/site-packages/unstructured/partition/pdf.py:80\u001b[0m\n\u001b[1;32m     67\u001b[0m \u001b[39mfrom\u001b[39;00m \u001b[39munstructured\u001b[39;00m\u001b[39m.\u001b[39;00m\u001b[39mpartition\u001b[39;00m\u001b[39m.\u001b[39;00m\u001b[39mcommon\u001b[39;00m \u001b[39mimport\u001b[39;00m (\n\u001b[1;32m     68\u001b[0m     convert_to_bytes,\n\u001b[1;32m     69\u001b[0m     document_to_element_list,\n\u001b[0;32m   (...)\u001b[0m\n\u001b[1;32m     74\u001b[0m     spooled_to_bytes_io_if_needed,\n\u001b[1;32m     75\u001b[0m )\n\u001b[1;32m     76\u001b[0m \u001b[39mfrom\u001b[39;00m \u001b[39munstructured\u001b[39;00m\u001b[39m.\u001b[39;00m\u001b[39mpartition\u001b[39;00m\u001b[39m.\u001b[39;00m\u001b[39mlang\u001b[39;00m \u001b[39mimport\u001b[39;00m (\n\u001b[1;32m     77\u001b[0m     check_languages,\n\u001b[1;32m     78\u001b[0m     prepare_languages_for_tesseract,\n\u001b[1;32m     79\u001b[0m )\n\u001b[0;32m---> 80\u001b[0m \u001b[39mfrom\u001b[39;00m \u001b[39munstructured\u001b[39;00m\u001b[39m.\u001b[39;00m\u001b[39mpartition\u001b[39;00m\u001b[39m.\u001b[39;00m\u001b[39mocr\u001b[39;00m \u001b[39mimport\u001b[39;00m (\n\u001b[1;32m     81\u001b[0m     get_layout_elements_from_ocr,\n\u001b[1;32m     82\u001b[0m     get_ocr_agent,\n\u001b[1;32m     83\u001b[0m )\n\u001b[1;32m     84\u001b[0m \u001b[39mfrom\u001b[39;00m \u001b[39munstructured\u001b[39;00m\u001b[39m.\u001b[39;00m\u001b[39mpartition\u001b[39;00m\u001b[39m.\u001b[39;00m\u001b[39mstrategies\u001b[39;00m \u001b[39mimport\u001b[39;00m determine_pdf_or_image_strategy, validate_strategy\n\u001b[1;32m     85\u001b[0m \u001b[39mfrom\u001b[39;00m \u001b[39munstructured\u001b[39;00m\u001b[39m.\u001b[39;00m\u001b[39mpartition\u001b[39;00m\u001b[39m.\u001b[39;00m\u001b[39mtext\u001b[39;00m \u001b[39mimport\u001b[39;00m element_from_text\n",
      "File \u001b[0;32m~/.local/lib/python3.10/site-packages/unstructured/partition/ocr.py:6\u001b[0m\n\u001b[1;32m      3\u001b[0m \u001b[39mfrom\u001b[39;00m \u001b[39mcopy\u001b[39;00m \u001b[39mimport\u001b[39;00m deepcopy\n\u001b[1;32m      4\u001b[0m \u001b[39mfrom\u001b[39;00m \u001b[39mtyping\u001b[39;00m \u001b[39mimport\u001b[39;00m BinaryIO, Dict, List, Optional, Union, cast\n\u001b[0;32m----> 6\u001b[0m \u001b[39mimport\u001b[39;00m \u001b[39mcv2\u001b[39;00m\n\u001b[1;32m      7\u001b[0m \u001b[39mimport\u001b[39;00m \u001b[39mnumpy\u001b[39;00m \u001b[39mas\u001b[39;00m \u001b[39mnp\u001b[39;00m\n\u001b[1;32m      8\u001b[0m \u001b[39mimport\u001b[39;00m \u001b[39mpandas\u001b[39;00m \u001b[39mas\u001b[39;00m \u001b[39mpd\u001b[39;00m\n",
      "File \u001b[0;32m~/.local/lib/python3.10/site-packages/cv2/__init__.py:181\u001b[0m\n\u001b[1;32m    176\u001b[0m             \u001b[39mif\u001b[39;00m DEBUG: \u001b[39mprint\u001b[39m(\u001b[39m\"\u001b[39m\u001b[39mExtra Python code for\u001b[39m\u001b[39m\"\u001b[39m, submodule, \u001b[39m\"\u001b[39m\u001b[39mis loaded\u001b[39m\u001b[39m\"\u001b[39m)\n\u001b[1;32m    178\u001b[0m     \u001b[39mif\u001b[39;00m DEBUG: \u001b[39mprint\u001b[39m(\u001b[39m'\u001b[39m\u001b[39mOpenCV loader: DONE\u001b[39m\u001b[39m'\u001b[39m)\n\u001b[0;32m--> 181\u001b[0m bootstrap()\n",
      "File \u001b[0;32m~/.local/lib/python3.10/site-packages/cv2/__init__.py:153\u001b[0m, in \u001b[0;36mbootstrap\u001b[0;34m()\u001b[0m\n\u001b[1;32m    149\u001b[0m \u001b[39mif\u001b[39;00m DEBUG: \u001b[39mprint\u001b[39m(\u001b[39m\"\u001b[39m\u001b[39mRelink everything from native cv2 module to cv2 package\u001b[39m\u001b[39m\"\u001b[39m)\n\u001b[1;32m    151\u001b[0m py_module \u001b[39m=\u001b[39m sys\u001b[39m.\u001b[39mmodules\u001b[39m.\u001b[39mpop(\u001b[39m\"\u001b[39m\u001b[39mcv2\u001b[39m\u001b[39m\"\u001b[39m)\n\u001b[0;32m--> 153\u001b[0m native_module \u001b[39m=\u001b[39m importlib\u001b[39m.\u001b[39;49mimport_module(\u001b[39m\"\u001b[39;49m\u001b[39mcv2\u001b[39;49m\u001b[39m\"\u001b[39;49m)\n\u001b[1;32m    155\u001b[0m sys\u001b[39m.\u001b[39mmodules[\u001b[39m\"\u001b[39m\u001b[39mcv2\u001b[39m\u001b[39m\"\u001b[39m] \u001b[39m=\u001b[39m py_module\n\u001b[1;32m    156\u001b[0m \u001b[39msetattr\u001b[39m(py_module, \u001b[39m\"\u001b[39m\u001b[39m_native\u001b[39m\u001b[39m\"\u001b[39m, native_module)\n",
      "File \u001b[0;32m/usr/local/lib/python3.10/importlib/__init__.py:126\u001b[0m, in \u001b[0;36mimport_module\u001b[0;34m(name, package)\u001b[0m\n\u001b[1;32m    124\u001b[0m             \u001b[39mbreak\u001b[39;00m\n\u001b[1;32m    125\u001b[0m         level \u001b[39m+\u001b[39m\u001b[39m=\u001b[39m \u001b[39m1\u001b[39m\n\u001b[0;32m--> 126\u001b[0m \u001b[39mreturn\u001b[39;00m _bootstrap\u001b[39m.\u001b[39;49m_gcd_import(name[level:], package, level)\n",
      "\u001b[0;31mImportError\u001b[0m: libGL.so.1: cannot open shared object file: No such file or directory"
     ]
    }
   ],
   "source": [
    "from langchain.document_loaders import UnstructuredURLLoader\n",
    "import nltk\n",
    "nltk.download('punkt_tab')\n",
    "nltk.download('averaged_perceptron_tagger_eng')\n",
    "\n",
    "urls = [\"https://techcrunch.com/2023/07/08/the-week-in-ai-generative-ai-spams-up-the-web/\",\n",
    "        'https://techcrunch.com/2024/10/09/after-winning-nobel-for-foundational-ai-work-geoffrey-hinton-says-hes-proud-ilya-sutskever-fired-sam-altman/'\n",
    "       ]\n",
    "UnstructuredURLLoader(urls).load()"
   ]
  },
  {
   "cell_type": "code",
   "execution_count": 10,
   "id": "b8b7271e",
   "metadata": {
    "id": "b8b7271e"
   },
   "outputs": [
    {
     "name": "stderr",
     "output_type": "stream",
     "text": [
      "[nltk_data] Downloading package punkt to /home/elicer/nltk_data...\n",
      "[nltk_data]   Unzipping tokenizers/punkt.zip.\n",
      "Error fetching or processing https://techcrunch.com/2023/07/08/the-week-in-ai-generative-ai-spams-up-the-web/, exception: \n",
      "**********************************************************************\n",
      "  Resource \u001b[93mpunkt_tab\u001b[0m not found.\n",
      "  Please use the NLTK Downloader to obtain the resource:\n",
      "\n",
      "  \u001b[31m>>> import nltk\n",
      "  >>> nltk.download('punkt_tab')\n",
      "  \u001b[0m\n",
      "  For more information see: https://www.nltk.org/data.html\n",
      "\n",
      "  Attempted to load \u001b[93mtokenizers/punkt_tab/english/\u001b[0m\n",
      "\n",
      "  Searched in:\n",
      "    - '/home/elicer/nltk_data'\n",
      "    - '/usr/local/nltk_data'\n",
      "    - '/usr/local/share/nltk_data'\n",
      "    - '/usr/local/lib/nltk_data'\n",
      "    - '/usr/share/nltk_data'\n",
      "    - '/usr/local/share/nltk_data'\n",
      "    - '/usr/lib/nltk_data'\n",
      "    - '/usr/local/lib/nltk_data'\n",
      "**********************************************************************\n",
      "\n"
     ]
    },
    {
     "data": {
      "text/plain": [
       "[]"
      ]
     },
     "execution_count": 10,
     "metadata": {},
     "output_type": "execute_result"
    }
   ],
   "source": []
  },
  {
   "cell_type": "code",
   "execution_count": 41,
   "metadata": {},
   "outputs": [
    {
     "data": {
      "text/plain": [
       "'In Brief\\n\\nPosted:\\n\\n\\n\\nMaxwell Zeff\\n\\nAfter winning Nobel for foundational AI work, Geoffrey Hinton says he’s proud Ilya Sutskever ‘fired Sam Altman’\\n\\nGeoffrey Hinton accepted a Nobel Prize this week, recognizing the foundational work on artificial neural networks that earned him the nickname “godfather of AI.” In a speech Tuesday, Professor Hinton praised one student – alluding to OpenAI’s former Chief Scientist, Ilya Sutskever – for revolting against OpenAI’s CEO.\\n\\n“I was particularly fortunate to have many very clever students – much cleverer than me – who actually made things work,” said Hinton. “They’ve gone on to do great things. I’m particularly proud of the fact that one of my students fired Sam Altman.”\\n\\nOf course, Hinton is referring to OpenAI’s board voting to fire Altman in November 2023. Sutskever delivered the news to Altman via video call, but later said he regretted it. Hinton seems to have celebrated the firing of OpenAI’s CEO as a win for AI safety, which he often advocates for. However, the win was short-lived, as Altman now has more control over OpenAI than before, and he could soon get equity.\\n\\nTopics:\\n\\nTC\\n\\nAI\\n\\nRelated\\n\\nTransportation\\n\\t\\t\\t\\t\\t\\t\\t\\n\\t\\t\\n\\t\\t\\t\\t\\t\\n\\n\\t\\t\\t\\t\\n\\t\\t\\t\\tElon Musk unveils the Robovan: the biggest surprise from Tesla’s We, Robot event\\n\\t\\t\\t\\n\\t\\t\\n\\t\\t\\n\\t\\t\\t\\t\\t\\n\\t\\t\\t\\t\\t\\t\\t\\t\\t\\t\\t\\t\\t\\n\\t\\t\\t\\t\\t\\t\\t\\t\\t\\t\\t\\t\\tRebecca Bellan\\n\\t\\t\\t\\t\\t\\t\\t\\t\\t\\t\\t\\t\\tMaxwell Zeff\\n\\t\\t\\t\\t\\t\\t\\t\\t\\t\\t\\t\\n\\t\\t\\t\\t\\t\\t\\t\\t\\t\\t\\t\\t\\t\\t\\t\\t\\t\\t\\t\\n\\t2 hours ago\\n\\nTransportation\\n\\t\\t\\t\\t\\t\\t\\t\\n\\t\\t\\n\\t\\t\\t\\t\\t\\n\\n\\t\\t\\t\\t\\n\\t\\t\\t\\tTesla reveals 20 Cybercabs at We, Robot event, says you’ll be able to buy one for less than $30,000\\n\\t\\t\\t\\n\\t\\t\\n\\t\\t\\n\\t\\t\\t\\t\\t\\n\\t\\t\\t\\t\\t\\t\\t\\t\\t\\t\\t\\t\\t\\n\\t\\t\\t\\t\\t\\t\\t\\t\\t\\t\\t\\t\\tRebecca Bellan\\n\\t\\t\\t\\t\\t\\t\\t\\t\\t\\t\\t\\n\\t\\t\\t\\t\\t\\t\\t\\t\\t\\t\\t\\t\\t\\t\\t\\t\\t\\t\\t\\n\\t2 hours ago\\n\\nIn Brief\\n\\t\\t\\t\\t\\t\\t\\t\\n\\t\\t\\n\\t\\t\\t\\t\\t\\n\\n\\t\\t\\t\\t\\t\\t\\t\\t\\t\\n\\t\\t\\t\\t\\t\\t\\t\\t\\t\\t\\t\\n\\t\\t\\t\\t\\n\\t\\t\\t\\tFTX’s Ryan Salame posts jokes on LinkedIn as he heads to prison\\n\\t\\t\\t\\n\\t\\t\\n\\t\\t\\n\\t\\t\\t\\t\\t\\n\\t\\t\\t\\t\\t\\t\\t\\t\\t\\t\\t\\t\\t\\n\\t\\t\\t\\t\\t\\t\\t\\t\\t\\t\\t\\t\\tAmanda Silberling\\n\\t\\t\\t\\t\\t\\t\\t\\t\\t\\t\\t\\n\\t\\t\\t\\t\\t\\t\\t\\t\\t\\t\\t\\t\\t\\t\\t\\t\\t\\t\\t\\n\\t10 hours ago\\n\\nLatest in AI\\n\\nSee More\\n\\nApps\\n\\t\\t\\t\\t\\t\\t\\t\\n\\t\\t\\n\\t\\t\\t\\t\\t\\n\\n\\t\\t\\t\\t\\n\\t\\t\\t\\tBabbel co-founder Markus Witte will once again run the company, replacing CEO Arne Schepker\\n\\t\\t\\t\\n\\t\\t\\n\\t\\t\\n\\t\\t\\t\\t\\t\\n\\t\\t\\t\\t\\t\\t\\t\\t\\t\\t\\t\\t\\t\\n\\t\\t\\t\\t\\t\\t\\t\\t\\t\\t\\t\\t\\tFrederic Lardinois\\n\\t\\t\\t\\t\\t\\t\\t\\t\\t\\t\\t\\n\\t\\t\\t\\t\\t\\t\\t\\t\\t\\t\\t\\t\\t\\t\\t\\t\\t\\t\\t\\n\\t5 hours ago\\n\\nEnterprise\\n\\t\\t\\t\\t\\t\\t\\t\\n\\t\\t\\n\\t\\t\\t\\t\\t\\n\\n\\t\\t\\t\\t\\n\\t\\t\\t\\tNumeric grabs $28M Series A to automate accounting using AI\\n\\t\\t\\t\\n\\t\\t\\n\\t\\t\\n\\t\\t\\t\\t\\t\\n\\t\\t\\t\\t\\t\\t\\t\\t\\t\\t\\t\\t\\t\\n\\t\\t\\t\\t\\t\\t\\t\\t\\t\\t\\t\\t\\tMarina Temkin\\n\\t\\t\\t\\t\\t\\t\\t\\t\\t\\t\\t\\n\\t\\t\\t\\t\\t\\t\\t\\t\\t\\t\\t\\t\\t\\t\\t\\t\\t\\t\\t\\n\\t15 hours ago\\n\\nIn Brief\\n\\t\\t\\t\\t\\t\\t\\t\\n\\t\\t\\n\\t\\t\\t\\t\\t\\n\\n\\t\\t\\t\\t\\t\\t\\t\\t\\t\\n\\t\\t\\t\\t\\t\\t\\t\\t\\t\\t\\t\\n\\t\\t\\t\\t\\n\\t\\t\\t\\tSomeone claims to have used AI to apply to 2,843 jobs\\n\\t\\t\\t\\n\\t\\t\\n\\t\\t\\t\\t\\tA reporter used AI to apply to 2,843 jobs\\n\\t\\t\\n\\t\\t\\t\\t\\t\\n\\t\\t\\t\\t\\t\\t\\t\\t\\t\\t\\t\\t\\t\\n\\t\\t\\t\\t\\t\\t\\t\\t\\t\\t\\t\\t\\tKyle Wiggers\\n\\t\\t\\t\\t\\t\\t\\t\\t\\t\\t\\t\\n\\t\\t\\t\\t\\t\\t\\t\\t\\t\\t\\t\\t\\t\\t\\t\\t\\t\\t\\t\\n\\t16 hours ago '"
      ]
     },
     "execution_count": 41,
     "metadata": {},
     "output_type": "execute_result"
    }
   ],
   "source": [
    "news_raw_text =''\n",
    "data = UnstructuredURLLoader(urls=urls).load()\n",
    "for src in data:\n",
    "    news_raw_text = (src.page_content + ' ')\n",
    "news_raw_text"
   ]
  },
  {
   "cell_type": "markdown",
   "id": "45e941e9",
   "metadata": {
    "id": "45e941e9"
   },
   "source": [
    "## 영어 뉴스를 우선 한글로 번역해봅니다.\n",
    "- 이전 실습에서 사용했던 translator 함수를 그대로 사용합니다."
   ]
  },
  {
   "cell_type": "code",
   "execution_count": 36,
   "metadata": {},
   "outputs": [
    {
     "data": {
      "text/plain": [
       "[Document(metadata={'source': 'https://techcrunch.com/2023/07/08/the-week-in-ai-generative-ai-spams-up-the-web/'}, page_content='Keeping up with an industry as fast-moving as\\xa0AI is a tall order. So until an AI can do it for you, here’s a handy roundup of recent stories in the world of machine learning, along with notable research and experiments we didn’t cover on their own.\\n\\nThis week, SpeedyBrand, a company using generative AI to create SEO-optimized content, emerged from stealth with backing from Y Combinator. It hasn’t attracted a lot of funding yet ($2.5 million), and its customer base is relatively small (about 50 brands). But it got me thinking about how generative AI is beginning to change the makeup of the web.\\n\\nAs The Verge’s James Vincent wrote in a recent\\xa0piece, generative AI models are making it cheaper and easier to generate lower-quality content. NewsGuard, a company that provides tools for vetting news sources, has exposed\\xa0hundreds of ad-supported sites with generic-sounding names featuring misinformation created with generative AI.\\n\\nIt’s causing a problem for advertisers. Many of the sites spotlighted by NewsGuard seem exclusively built to abuse programmatic advertising, or the automated systems for putting ads on pages. In its report, NewsGuard found close to 400 instances of ads from 141 major brands that appeared on 55 of the junk news sites.\\n\\nIt’s not just advertisers who should be worried. As Gizmodo’s Kyle Barr points out, it might just take one AI-generated article to drive mountains of engagement. And even if every AI-generated article only generates a few dollars, that’s less than the cost of generating the text in the first place — and potential advertising money not being sent to legitimate sites.\\n\\nSo what’s the solution? Is there one? It’s a pair of questions that’s increasingly keeping me up at night. Barr suggests it’s incumbent on search engines and ad platforms to exercise a tighter grip and punish the bad actors embracing generative AI. But given how fast the field is moving — and the infinitely scalable nature of generative AI — I’m not convinced that they can keep up.\\n\\nOf course, spammy content isn’t a new phenomenon, and there’s been waves before. The web has adapted. What’s different this time is that the barrier to entry is dramatically low — both in terms of the cost and time that has to be invested.\\n\\nVincent strikes an optimistic tone, implying that if the web is\\xa0eventually overrun with AI junk, it could spur the development of better-funded platforms. I’m not so sure. What’s not in doubt, though, is that we’re at an inflection point, and that the decisions made now around generative AI and its outputs will impact the function of the web for some time to come.\\n\\nHere are other AI stories of note from the past few days:\\n\\nOpenAI officially launches GPT-4: OpenAI this week announced\\xa0the general availability of\\xa0GPT-4, its latest text-generating model, through its paid API. GPT-4 can generate text (including code) and accept image and text inputs — an improvement over GPT-3.5, its predecessor, which only accepted text — and performs at “human level” on various professional and academic benchmarks. But it’s not perfect, as we note in our previous coverage. (Meanwhile ChatGPT adoption is reported to be down, but we’ll see.)\\n\\nBringing ‘superintelligent’ AI under control: In other OpenAI news, the company is forming a new team led by Ilya Sutskever, its chief scientist and one of OpenAI’s co-founders, to develop ways to steer and control “superintelligent” AI systems.\\n\\nAnti-bias law for NYC: After months of delays, New York City this week began enforcing a law that requires employers using algorithms to recruit, hire or promote employees to submit those algorithms for an independent audit — and make the results public.\\n\\nValve tacitly greenlights AI-generated games: Valve issued a rare statement after claims it was rejecting games with AI-generated assets from its Steam games store. The notoriously close-lipped developer said its policy was evolving and not a stand against AI.\\n\\nHumane unveils the Ai Pin: Humane, the startup launched by ex-Apple design and engineering duo Imran Chaudhri and Bethany Bongiorno, this week revealed details about its first product: The Ai Pin. As it turns out, Humane’s product is a wearable gadget with a projected display and AI-powered features — like a futuristic smartphone, but in a vastly different form factor.\\n\\nWarnings over EU AI regulation: Major tech founders, CEOs, VCs and industry giants across Europe signed an open letter to the EU Commission this week, warning that Europe could miss out on the generative AI revolution if the EU passes laws stifling innovation.\\n\\nDeepfake scam makes the rounds: Check out\\xa0this clip of U.K. consumer finance champion Martin Lewis apparently shilling an investment opportunity backed by Elon Musk. Seems normal, right? Not exactly. It’s an AI-generated deepfake — and potentially a glimpse of the AI-generated misery fast accelerating onto our screens.\\n\\nAI-powered sex toys: Lovense — perhaps best known for its remote-controllable sex toys — this week announced its ChatGPT Pleasure Companion. Launched in beta in the company’s remote control app, the “Advanced Lovense ChatGPT Pleasure Companion” invites you to indulge in juicy and erotic stories that the Companion creates based on your selected topic.\\n\\nOther machine learnings\\n\\nOur research roundup commences with two very different projects from ETH Zurich. First is aiEndoscopic, a smart intubation spinoff. Intubation is necessary for a patient’s survival in many circumstances, but it’s a tricky manual procedure usually performed by specialists. The intuBot uses computer vision to recognize and respond to a live feed from the mouth and throat, guiding and correcting the position of the endoscope. This could allow people to safely intubate when needed rather than waiting on the specialist, potentially saving lives.\\n\\nHere’s them explaining it in a little more detail:\\n\\nIn a totally different domain, ETH Zurich researchers also contributed second-hand to a Pixar movie by pioneering the technology needed to animate smoke and fire without falling prey to the fractal complexity of fluid dynamics. Their approach was noticed and built on by Disney and Pixar for the film “Elemental.” Interestingly, it’s not so much a simulation solution as a style transfer one — a clever and apparently quite valuable shortcut. (Image up top is from this.)\\n\\nAI in nature is always interesting, but nature AI as applied to archaeology is even more so. Research led by Yamagata University aimed to identify new Nasca lines — the enormous “geoglyphs” in Peru. You might think that, being visible from orbit, they’d be pretty obvious — but erosion and tree cover from the millennia since these mysterious formations were created mean there are an unknown number hiding just out of sight. After being trained on aerial imagery of known and obscured geoglyphs, a deep learning model was set free on other views, and amazingly it detected at least four new ones, as you can see below. Pretty exciting!\\n\\nIn a more immediately relevant sense, AI-adjacent tech is always finding new work detecting and predicting natural disasters. Stanford engineers are putting together data to train future wildfire prediction models by performing simulations of heated air above a forest canopy in a 30-foot water tank. If we’re to model the physics of flames and embers traveling outside the bounds of a wildfire, we’ll need to understand them better, and this team is doing what they can to approximate that.\\n\\nAt UCLA they’re looking into how to predict landslides, which are more common as fires and other environmental factors change. But while AI has already been used to predict them with some success, it doesn’t “show its work,” meaning a prediction doesn’t explain whether it’s because of erosion, or a water table shifting, or tectonic activity. A new “superposable neural network” approach has the layers of the network using different data but running in parallel rather than all together, letting the output be a little more specific in which variables led to increased risk. It’s also way more efficient.\\n\\nGoogle is looking at an interesting challenge: How do you get a machine learning system to learn from dangerous knowledge yet not propagate it? For instance, if its training set includes the recipe for napalm, you don’t want it to repeat it — but in order to know not to repeat it, it needs to know what it’s not repeating. A paradox! So the tech giant is looking for a method of “machine unlearning” that lets this sort of balancing act occur safely and reliably.\\n\\nIf you’re looking for a deeper look at why people seem to trust AI models for no good reason, look no further than this Science editorial by Celeste Kidd (UC Berkeley) and Abeba Birhane (Mozilla). It gets into the psychological underpinnings of trust and authority and shows how current AI agents basically use those as springboards to escalate their own worth. It’s a really interesting article if you want to sound smart this weekend.\\n\\nThough we often hear about the infamous Mechanical Turk fake chess-playing machine, that charade did inspire people to create what it pretended to be. IEEE Spectrum has a fascinating story about the Spanish physicist and engineer Torres Quevedo, who created an actual mechanical chess player. Its capabilities were limited, but that’s how you know it was real. Some even propose that his chess machine was the first “computer game.” Food for thought.\\n\\nTopics\\n\\nAI\\n\\nAI\\n\\nnewsletter\\n\\nthis week in AI\\n\\nthis week in ai newsletter\\n\\nMost Popular\\n\\nElon Musk unveils the Robovan: the biggest surprise from Tesla’s We, Robot event\\n\\t\\t\\t\\n\\n\\nRebecca Bellan\\nMaxwell Zeff\\n\\nTesla reveals 20 Cybercabs at We, Robot event, says you’ll be able to buy one for less than $30,000\\n\\t\\t\\t\\n\\n\\nRebecca Bellan\\n\\nAmazon team in charge of Just Walk Out loses three execs, gains one\\n\\t\\t\\t\\n\\n\\nMaxwell Zeff\\n\\nFTX’s Ryan Salame posts jokes on LinkedIn as he heads to prison\\n\\t\\t\\t\\n\\n\\nAmanda Silberling\\n\\nBluesky joins Threads to court users frustrated by Meta’s moderation issues\\n\\t\\t\\t\\n\\n\\nSarah Perez\\n\\nNumeric grabs $28M Series A to automate accounting using AI\\n\\t\\t\\t\\n\\n\\nMarina Temkin\\n\\nKyle Wiggers\\n\\nSenior Reporter, Enterprise\\n\\n@Kyle_L_Wiggers\\n\\nKyle Wiggers is a senior reporter at TechCrunch with a special interest in artificial intelligence. His writing has appeared in VentureBeat and Digital Trends, as well as a range of gadget blogs including Android Police, Android Authority, Droid-Life, and XDA-Developers. He lives in Brooklyn with his partner, a piano educator, and dabbles in piano himself. occasionally — if mostly unsuccessfully.\\n\\nView Bio\\n\\nRelated\\n\\nTransportation\\n\\t\\t\\t\\t\\t\\t\\t\\n\\t\\t\\n\\t\\t\\t\\t\\t\\n\\n\\t\\t\\t\\t\\n\\t\\t\\t\\tElon Musk unveils the Robovan: the biggest surprise from Tesla’s We, Robot event\\n\\t\\t\\t\\n\\t\\t\\n\\t\\t\\n\\t\\t\\t\\t\\t\\n\\t\\t\\t\\t\\t\\t\\t\\t\\t\\t\\t\\t\\t\\n\\t\\t\\t\\t\\t\\t\\t\\t\\t\\t\\t\\t\\tRebecca Bellan\\n\\t\\t\\t\\t\\t\\t\\t\\t\\t\\t\\t\\t\\tMaxwell Zeff\\n\\t\\t\\t\\t\\t\\t\\t\\t\\t\\t\\t\\n\\t\\t\\t\\t\\t\\t\\t\\t\\t\\t\\t\\t\\t\\t\\t\\t\\t\\t\\t\\n\\t2 hours ago\\n\\nTransportation\\n\\t\\t\\t\\t\\t\\t\\t\\n\\t\\t\\n\\t\\t\\t\\t\\t\\n\\n\\t\\t\\t\\t\\n\\t\\t\\t\\tTesla reveals 20 Cybercabs at We, Robot event, says you’ll be able to buy one for less than $30,000\\n\\t\\t\\t\\n\\t\\t\\n\\t\\t\\n\\t\\t\\t\\t\\t\\n\\t\\t\\t\\t\\t\\t\\t\\t\\t\\t\\t\\t\\t\\n\\t\\t\\t\\t\\t\\t\\t\\t\\t\\t\\t\\t\\tRebecca Bellan\\n\\t\\t\\t\\t\\t\\t\\t\\t\\t\\t\\t\\n\\t\\t\\t\\t\\t\\t\\t\\t\\t\\t\\t\\t\\t\\t\\t\\t\\t\\t\\t\\n\\t2 hours ago\\n\\nEnterprise\\n\\t\\t\\t\\t\\t\\t\\t\\n\\t\\t\\n\\t\\t\\t\\t\\t\\n\\n\\t\\t\\t\\t\\n\\t\\t\\t\\tAmazon team in charge of Just Walk Out loses three execs, gains one\\n\\t\\t\\t\\n\\t\\t\\n\\t\\t\\n\\t\\t\\t\\t\\t\\n\\t\\t\\t\\t\\t\\t\\t\\t\\t\\t\\t\\t\\t\\n\\t\\t\\t\\t\\t\\t\\t\\t\\t\\t\\t\\t\\tMaxwell Zeff\\n\\t\\t\\t\\t\\t\\t\\t\\t\\t\\t\\t\\n\\t\\t\\t\\t\\t\\t\\t\\t\\t\\t\\t\\t\\t\\t\\t\\t\\t\\t\\t\\n\\t7 hours ago\\n\\nLatest in AI\\n\\nSee More\\n\\nApps\\n\\t\\t\\t\\t\\t\\t\\t\\n\\t\\t\\n\\t\\t\\t\\t\\t\\n\\n\\t\\t\\t\\t\\n\\t\\t\\t\\tBabbel co-founder Markus Witte will once again run the company, replacing CEO Arne Schepker\\n\\t\\t\\t\\n\\t\\t\\n\\t\\t\\n\\t\\t\\t\\t\\t\\n\\t\\t\\t\\t\\t\\t\\t\\t\\t\\t\\t\\t\\t\\n\\t\\t\\t\\t\\t\\t\\t\\t\\t\\t\\t\\t\\tFrederic Lardinois\\n\\t\\t\\t\\t\\t\\t\\t\\t\\t\\t\\t\\n\\t\\t\\t\\t\\t\\t\\t\\t\\t\\t\\t\\t\\t\\t\\t\\t\\t\\t\\t\\n\\t4 hours ago\\n\\nEnterprise\\n\\t\\t\\t\\t\\t\\t\\t\\n\\t\\t\\n\\t\\t\\t\\t\\t\\n\\n\\t\\t\\t\\t\\n\\t\\t\\t\\tNumeric grabs $28M Series A to automate accounting using AI\\n\\t\\t\\t\\n\\t\\t\\n\\t\\t\\n\\t\\t\\t\\t\\t\\n\\t\\t\\t\\t\\t\\t\\t\\t\\t\\t\\t\\t\\t\\n\\t\\t\\t\\t\\t\\t\\t\\t\\t\\t\\t\\t\\tMarina Temkin\\n\\t\\t\\t\\t\\t\\t\\t\\t\\t\\t\\t\\n\\t\\t\\t\\t\\t\\t\\t\\t\\t\\t\\t\\t\\t\\t\\t\\t\\t\\t\\t\\n\\t14 hours ago\\n\\nIn Brief\\n\\t\\t\\t\\t\\t\\t\\t\\n\\t\\t\\n\\t\\t\\t\\t\\t\\n\\n\\t\\t\\t\\t\\t\\t\\t\\t\\t\\n\\t\\t\\t\\t\\t\\t\\t\\t\\t\\t\\t\\n\\t\\t\\t\\t\\n\\t\\t\\t\\tSomeone claims to have used AI to apply to 2,843 jobs\\n\\t\\t\\t\\n\\t\\t\\n\\t\\t\\t\\t\\tA reporter used AI to apply to 2,843 jobs\\n\\t\\t\\n\\t\\t\\t\\t\\t\\n\\t\\t\\t\\t\\t\\t\\t\\t\\t\\t\\t\\t\\t\\n\\t\\t\\t\\t\\t\\t\\t\\t\\t\\t\\t\\t\\tKyle Wiggers\\n\\t\\t\\t\\t\\t\\t\\t\\t\\t\\t\\t\\n\\t\\t\\t\\t\\t\\t\\t\\t\\t\\t\\t\\t\\t\\t\\t\\t\\t\\t\\t\\n\\t16 hours ago'),\n",
       " Document(metadata={'source': 'https://techcrunch.com/2024/10/09/after-winning-nobel-for-foundational-ai-work-geoffrey-hinton-says-hes-proud-ilya-sutskever-fired-sam-altman/'}, page_content='In Brief\\n\\nPosted:\\n\\n\\n\\nMaxwell Zeff\\n\\nAfter winning Nobel for foundational AI work, Geoffrey Hinton says he’s proud Ilya Sutskever ‘fired Sam Altman’\\n\\nGeoffrey Hinton accepted a Nobel Prize this week, recognizing the foundational work on artificial neural networks that earned him the nickname “godfather of AI.” In a speech Tuesday, Professor Hinton praised one student – alluding to OpenAI’s former Chief Scientist, Ilya Sutskever – for revolting against OpenAI’s CEO.\\n\\n“I was particularly fortunate to have many very clever students – much cleverer than me – who actually made things work,” said Hinton. “They’ve gone on to do great things. I’m particularly proud of the fact that one of my students fired Sam Altman.”\\n\\nOf course, Hinton is referring to OpenAI’s board voting to fire Altman in November 2023. Sutskever delivered the news to Altman via video call, but later said he regretted it. Hinton seems to have celebrated the firing of OpenAI’s CEO as a win for AI safety, which he often advocates for. However, the win was short-lived, as Altman now has more control over OpenAI than before, and he could soon get equity.\\n\\nTopics:\\n\\nTC\\n\\nAI\\n\\nRelated\\n\\nTransportation\\n\\t\\t\\t\\t\\t\\t\\t\\n\\t\\t\\n\\t\\t\\t\\t\\t\\n\\n\\t\\t\\t\\t\\n\\t\\t\\t\\tElon Musk unveils the Robovan: the biggest surprise from Tesla’s We, Robot event\\n\\t\\t\\t\\n\\t\\t\\n\\t\\t\\n\\t\\t\\t\\t\\t\\n\\t\\t\\t\\t\\t\\t\\t\\t\\t\\t\\t\\t\\t\\n\\t\\t\\t\\t\\t\\t\\t\\t\\t\\t\\t\\t\\tRebecca Bellan\\n\\t\\t\\t\\t\\t\\t\\t\\t\\t\\t\\t\\t\\tMaxwell Zeff\\n\\t\\t\\t\\t\\t\\t\\t\\t\\t\\t\\t\\n\\t\\t\\t\\t\\t\\t\\t\\t\\t\\t\\t\\t\\t\\t\\t\\t\\t\\t\\t\\n\\t2 hours ago\\n\\nTransportation\\n\\t\\t\\t\\t\\t\\t\\t\\n\\t\\t\\n\\t\\t\\t\\t\\t\\n\\n\\t\\t\\t\\t\\n\\t\\t\\t\\tTesla reveals 20 Cybercabs at We, Robot event, says you’ll be able to buy one for less than $30,000\\n\\t\\t\\t\\n\\t\\t\\n\\t\\t\\n\\t\\t\\t\\t\\t\\n\\t\\t\\t\\t\\t\\t\\t\\t\\t\\t\\t\\t\\t\\n\\t\\t\\t\\t\\t\\t\\t\\t\\t\\t\\t\\t\\tRebecca Bellan\\n\\t\\t\\t\\t\\t\\t\\t\\t\\t\\t\\t\\n\\t\\t\\t\\t\\t\\t\\t\\t\\t\\t\\t\\t\\t\\t\\t\\t\\t\\t\\t\\n\\t2 hours ago\\n\\nIn Brief\\n\\t\\t\\t\\t\\t\\t\\t\\n\\t\\t\\n\\t\\t\\t\\t\\t\\n\\n\\t\\t\\t\\t\\t\\t\\t\\t\\t\\n\\t\\t\\t\\t\\t\\t\\t\\t\\t\\t\\t\\n\\t\\t\\t\\t\\n\\t\\t\\t\\tFTX’s Ryan Salame posts jokes on LinkedIn as he heads to prison\\n\\t\\t\\t\\n\\t\\t\\n\\t\\t\\n\\t\\t\\t\\t\\t\\n\\t\\t\\t\\t\\t\\t\\t\\t\\t\\t\\t\\t\\t\\n\\t\\t\\t\\t\\t\\t\\t\\t\\t\\t\\t\\t\\tAmanda Silberling\\n\\t\\t\\t\\t\\t\\t\\t\\t\\t\\t\\t\\n\\t\\t\\t\\t\\t\\t\\t\\t\\t\\t\\t\\t\\t\\t\\t\\t\\t\\t\\t\\n\\t10 hours ago\\n\\nLatest in AI\\n\\nSee More\\n\\nApps\\n\\t\\t\\t\\t\\t\\t\\t\\n\\t\\t\\n\\t\\t\\t\\t\\t\\n\\n\\t\\t\\t\\t\\n\\t\\t\\t\\tBabbel co-founder Markus Witte will once again run the company, replacing CEO Arne Schepker\\n\\t\\t\\t\\n\\t\\t\\n\\t\\t\\n\\t\\t\\t\\t\\t\\n\\t\\t\\t\\t\\t\\t\\t\\t\\t\\t\\t\\t\\t\\n\\t\\t\\t\\t\\t\\t\\t\\t\\t\\t\\t\\t\\tFrederic Lardinois\\n\\t\\t\\t\\t\\t\\t\\t\\t\\t\\t\\t\\n\\t\\t\\t\\t\\t\\t\\t\\t\\t\\t\\t\\t\\t\\t\\t\\t\\t\\t\\t\\n\\t5 hours ago\\n\\nEnterprise\\n\\t\\t\\t\\t\\t\\t\\t\\n\\t\\t\\n\\t\\t\\t\\t\\t\\n\\n\\t\\t\\t\\t\\n\\t\\t\\t\\tNumeric grabs $28M Series A to automate accounting using AI\\n\\t\\t\\t\\n\\t\\t\\n\\t\\t\\n\\t\\t\\t\\t\\t\\n\\t\\t\\t\\t\\t\\t\\t\\t\\t\\t\\t\\t\\t\\n\\t\\t\\t\\t\\t\\t\\t\\t\\t\\t\\t\\t\\tMarina Temkin\\n\\t\\t\\t\\t\\t\\t\\t\\t\\t\\t\\t\\n\\t\\t\\t\\t\\t\\t\\t\\t\\t\\t\\t\\t\\t\\t\\t\\t\\t\\t\\t\\n\\t15 hours ago\\n\\nIn Brief\\n\\t\\t\\t\\t\\t\\t\\t\\n\\t\\t\\n\\t\\t\\t\\t\\t\\n\\n\\t\\t\\t\\t\\t\\t\\t\\t\\t\\n\\t\\t\\t\\t\\t\\t\\t\\t\\t\\t\\t\\n\\t\\t\\t\\t\\n\\t\\t\\t\\tSomeone claims to have used AI to apply to 2,843 jobs\\n\\t\\t\\t\\n\\t\\t\\n\\t\\t\\t\\t\\tA reporter used AI to apply to 2,843 jobs\\n\\t\\t\\n\\t\\t\\t\\t\\t\\n\\t\\t\\t\\t\\t\\t\\t\\t\\t\\t\\t\\t\\t\\n\\t\\t\\t\\t\\t\\t\\t\\t\\t\\t\\t\\t\\tKyle Wiggers\\n\\t\\t\\t\\t\\t\\t\\t\\t\\t\\t\\t\\n\\t\\t\\t\\t\\t\\t\\t\\t\\t\\t\\t\\t\\t\\t\\t\\t\\t\\t\\t\\n\\t16 hours ago')]"
      ]
     },
     "execution_count": 36,
     "metadata": {},
     "output_type": "execute_result"
    }
   ],
   "source": [
    "data"
   ]
  },
  {
   "cell_type": "code",
   "execution_count": 33,
   "metadata": {},
   "outputs": [
    {
     "data": {
      "text/plain": [
       "'Keeping up with an industry as fast-moving as\\xa0AI is a tall order. So until an AI can do it for you, here’s a handy roundup of recent stories in the world of machine learning, along with notable research and experiments we didn’t cover on their own.\\n\\nThis week, SpeedyBrand, a company using generative AI to create SEO-optimized content, emerged from stealth with backing from Y Combinator. It hasn’t attracted a lot of funding yet ($2.5 million), and its customer base is relatively small (about 50 brands). But it got me thinking about how generative AI is beginning to change the makeup of the web.\\n\\nAs The Verge’s James Vincent wrote in a recent\\xa0piece, generative AI models are making it cheaper and easier to generate lower-quality content. NewsGuard, a company that provides tools for vetting news sources, has exposed\\xa0hundreds of ad-supported sites with generic-sounding names featuring misinformation created with generative AI.\\n\\nIt’s causing a problem for advertisers. Many of the sites spotlighted by NewsGuard seem exclusively built to abuse programmatic advertising, or the automated systems for putting ads on pages. In its report, NewsGuard found close to 400 instances of ads from 141 major brands that appeared on 55 of the junk news sites.\\n\\nIt’s not just advertisers who should be worried. As Gizmodo’s Kyle Barr points out, it might just take one AI-generated article to drive mountains of engagement. And even if every AI-generated article only generates a few dollars, that’s less than the cost of generating the text in the first place — and potential advertising money not being sent to legitimate sites.\\n\\nSo what’s the solution? Is there one? It’s a pair of questions that’s increasingly keeping me up at night. Barr suggests it’s incumbent on search engines and ad platforms to exercise a tighter grip and punish the bad actors embracing generative AI. But given how fast the field is moving — and the infinitely scalable nature of generative AI — I’m not convinced that they can keep up.\\n\\nOf course, spammy content isn’t a new phenomenon, and there’s been waves before. The web has adapted. What’s different this time is that the barrier to entry is dramatically low — both in terms of the cost and time that has to be invested.\\n\\nVincent strikes an optimistic tone, implying that if the web is\\xa0eventually overrun with AI junk, it could spur the development of better-funded platforms. I’m not so sure. What’s not in doubt, though, is that we’re at an inflection point, and that the decisions made now around generative AI and its outputs will impact the function of the web for some time to come.\\n\\nHere are other AI stories of note from the past few days:\\n\\nOpenAI officially launches GPT-4: OpenAI this week announced\\xa0the general availability of\\xa0GPT-4, its latest text-generating model, through its paid API. GPT-4 can generate text (including code) and accept image and text inputs — an improvement over GPT-3.5, its predecessor, which only accepted text — and performs at “human level” on various professional and academic benchmarks. But it’s not perfect, as we note in our previous coverage. (Meanwhile ChatGPT adoption is reported to be down, but we’ll see.)\\n\\nBringing ‘superintelligent’ AI under control: In other OpenAI news, the company is forming a new team led by Ilya Sutskever, its chief scientist and one of OpenAI’s co-founders, to develop ways to steer and control “superintelligent” AI systems.\\n\\nAnti-bias law for NYC: After months of delays, New York City this week began enforcing a law that requires employers using algorithms to recruit, hire or promote employees to submit those algorithms for an independent audit — and make the results public.\\n\\nValve tacitly greenlights AI-generated games: Valve issued a rare statement after claims it was rejecting games with AI-generated assets from its Steam games store. The notoriously close-lipped developer said its policy was evolving and not a stand against AI.\\n\\nHumane unveils the Ai Pin: Humane, the startup launched by ex-Apple design and engineering duo Imran Chaudhri and Bethany Bongiorno, this week revealed details about its first product: The Ai Pin. As it turns out, Humane’s product is a wearable gadget with a projected display and AI-powered features — like a futuristic smartphone, but in a vastly different form factor.\\n\\nWarnings over EU AI regulation: Major tech founders, CEOs, VCs and industry giants across Europe signed an open letter to the EU Commission this week, warning that Europe could miss out on the generative AI revolution if the EU passes laws stifling innovation.\\n\\nDeepfake scam makes the rounds: Check out\\xa0this clip of U.K. consumer finance champion Martin Lewis apparently shilling an investment opportunity backed by Elon Musk. Seems normal, right? Not exactly. It’s an AI-generated deepfake — and potentially a glimpse of the AI-generated misery fast accelerating onto our screens.\\n\\nAI-powered sex toys: Lovense — perhaps best known for its remote-controllable sex toys — this week announced its ChatGPT Pleasure Companion. Launched in beta in the company’s remote control app, the “Advanced Lovense ChatGPT Pleasure Companion” invites you to indulge in juicy and erotic stories that the Companion creates based on your selected topic.\\n\\nOther machine learnings\\n\\nOur research roundup commences with two very different projects from ETH Zurich. First is aiEndoscopic, a smart intubation spinoff. Intubation is necessary for a patient’s survival in many circumstances, but it’s a tricky manual procedure usually performed by specialists. The intuBot uses computer vision to recognize and respond to a live feed from the mouth and throat, guiding and correcting the position of the endoscope. This could allow people to safely intubate when needed rather than waiting on the specialist, potentially saving lives.\\n\\nHere’s them explaining it in a little more detail:\\n\\nIn a totally different domain, ETH Zurich researchers also contributed second-hand to a Pixar movie by pioneering the technology needed to animate smoke and fire without falling prey to the fractal complexity of fluid dynamics. Their approach was noticed and built on by Disney and Pixar for the film “Elemental.” Interestingly, it’s not so much a simulation solution as a style transfer one — a clever and apparently quite valuable shortcut. (Image up top is from this.)\\n\\nAI in nature is always interesting, but nature AI as applied to archaeology is even more so. Research led by Yamagata University aimed to identify new Nasca lines — the enormous “geoglyphs” in Peru. You might think that, being visible from orbit, they’d be pretty obvious — but erosion and tree cover from the millennia since these mysterious formations were created mean there are an unknown number hiding just out of sight. After being trained on aerial imagery of known and obscured geoglyphs, a deep learning model was set free on other views, and amazingly it detected at least four new ones, as you can see below. Pretty exciting!\\n\\nIn a more immediately relevant sense, AI-adjacent tech is always finding new work detecting and predicting natural disasters. Stanford engineers are putting together data to train future wildfire prediction models by performing simulations of heated air above a forest canopy in a 30-foot water tank. If we’re to model the physics of flames and embers traveling outside the bounds of a wildfire, we’ll need to understand them better, and this team is doing what they can to approximate that.\\n\\nAt UCLA they’re looking into how to predict landslides, which are more common as fires and other environmental factors change. But while AI has already been used to predict them with some success, it doesn’t “show its work,” meaning a prediction doesn’t explain whether it’s because of erosion, or a water table shifting, or tectonic activity. A new “superposable neural network” approach has the layers of the network using different data but running in parallel rather than all together, letting the output be a little more specific in which variables led to increased risk. It’s also way more efficient.\\n\\nGoogle is looking at an interesting challenge: How do you get a machine learning system to learn from dangerous knowledge yet not propagate it? For instance, if its training set includes the recipe for napalm, you don’t want it to repeat it — but in order to know not to repeat it, it needs to know what it’s not repeating. A paradox! So the tech giant is looking for a method of “machine unlearning” that lets this sort of balancing act occur safely and reliably.\\n\\nIf you’re looking for a deeper look at why people seem to trust AI models for no good reason, look no further than this Science editorial by Celeste Kidd (UC Berkeley) and Abeba Birhane (Mozilla). It gets into the psychological underpinnings of trust and authority and shows how current AI agents basically use those as springboards to escalate their own worth. It’s a really interesting article if you want to sound smart this weekend.\\n\\nThough we often hear about the infamous Mechanical Turk fake chess-playing machine, that charade did inspire people to create what it pretended to be. IEEE Spectrum has a fascinating story about the Spanish physicist and engineer Torres Quevedo, who created an actual mechanical chess player. Its capabilities were limited, but that’s how you know it was real. Some even propose that his chess machine was the first “computer game.” Food for thought.\\n\\nTopics\\n\\nAI\\n\\nAI\\n\\nnewsletter\\n\\nthis week in AI\\n\\nthis week in ai newsletter\\n\\nMost Popular\\n\\nElon Musk unveils the Robovan: the biggest surprise from Tesla’s We, Robot event\\n\\t\\t\\t\\n\\n\\nRebecca Bellan\\nMaxwell Zeff\\n\\nTesla reveals 20 Cybercabs at We, Robot event, says you’ll be able to buy one for less than $30,000\\n\\t\\t\\t\\n\\n\\nRebecca Bellan\\n\\nAmazon team in charge of Just Walk Out loses three execs, gains one\\n\\t\\t\\t\\n\\n\\nMaxwell Zeff\\n\\nFTX’s Ryan Salame posts jokes on LinkedIn as he heads to prison\\n\\t\\t\\t\\n\\n\\nAmanda Silberling\\n\\nBluesky joins Threads to court users frustrated by Meta’s moderation issues\\n\\t\\t\\t\\n\\n\\nSarah Perez\\n\\nNumeric grabs $28M Series A to automate accounting using AI\\n\\t\\t\\t\\n\\n\\nMarina Temkin\\n\\nKyle Wiggers\\n\\nSenior Reporter, Enterprise\\n\\n@Kyle_L_Wiggers\\n\\nKyle Wiggers is a senior reporter at TechCrunch with a special interest in artificial intelligence. His writing has appeared in VentureBeat and Digital Trends, as well as a range of gadget blogs including Android Police, Android Authority, Droid-Life, and XDA-Developers. He lives in Brooklyn with his partner, a piano educator, and dabbles in piano himself. occasionally — if mostly unsuccessfully.\\n\\nView Bio\\n\\nRelated\\n\\nTransportation\\n\\t\\t\\t\\t\\t\\t\\t\\n\\t\\t\\n\\t\\t\\t\\t\\t\\n\\n\\t\\t\\t\\t\\n\\t\\t\\t\\tElon Musk unveils the Robovan: the biggest surprise from Tesla’s We, Robot event\\n\\t\\t\\t\\n\\t\\t\\n\\t\\t\\n\\t\\t\\t\\t\\t\\n\\t\\t\\t\\t\\t\\t\\t\\t\\t\\t\\t\\t\\t\\n\\t\\t\\t\\t\\t\\t\\t\\t\\t\\t\\t\\t\\tRebecca Bellan\\n\\t\\t\\t\\t\\t\\t\\t\\t\\t\\t\\t\\t\\tMaxwell Zeff\\n\\t\\t\\t\\t\\t\\t\\t\\t\\t\\t\\t\\n\\t\\t\\t\\t\\t\\t\\t\\t\\t\\t\\t\\t\\t\\t\\t\\t\\t\\t\\t\\n\\t2 hours ago\\n\\nTransportation\\n\\t\\t\\t\\t\\t\\t\\t\\n\\t\\t\\n\\t\\t\\t\\t\\t\\n\\n\\t\\t\\t\\t\\n\\t\\t\\t\\tTesla reveals 20 Cybercabs at We, Robot event, says you’ll be able to buy one for less than $30,000\\n\\t\\t\\t\\n\\t\\t\\n\\t\\t\\n\\t\\t\\t\\t\\t\\n\\t\\t\\t\\t\\t\\t\\t\\t\\t\\t\\t\\t\\t\\n\\t\\t\\t\\t\\t\\t\\t\\t\\t\\t\\t\\t\\tRebecca Bellan\\n\\t\\t\\t\\t\\t\\t\\t\\t\\t\\t\\t\\n\\t\\t\\t\\t\\t\\t\\t\\t\\t\\t\\t\\t\\t\\t\\t\\t\\t\\t\\t\\n\\t2 hours ago\\n\\nEnterprise\\n\\t\\t\\t\\t\\t\\t\\t\\n\\t\\t\\n\\t\\t\\t\\t\\t\\n\\n\\t\\t\\t\\t\\n\\t\\t\\t\\tAmazon team in charge of Just Walk Out loses three execs, gains one\\n\\t\\t\\t\\n\\t\\t\\n\\t\\t\\n\\t\\t\\t\\t\\t\\n\\t\\t\\t\\t\\t\\t\\t\\t\\t\\t\\t\\t\\t\\n\\t\\t\\t\\t\\t\\t\\t\\t\\t\\t\\t\\t\\tMaxwell Zeff\\n\\t\\t\\t\\t\\t\\t\\t\\t\\t\\t\\t\\n\\t\\t\\t\\t\\t\\t\\t\\t\\t\\t\\t\\t\\t\\t\\t\\t\\t\\t\\t\\n\\t7 hours ago\\n\\nLatest in AI\\n\\nSee More\\n\\nApps\\n\\t\\t\\t\\t\\t\\t\\t\\n\\t\\t\\n\\t\\t\\t\\t\\t\\n\\n\\t\\t\\t\\t\\n\\t\\t\\t\\tBabbel co-founder Markus Witte will once again run the company, replacing CEO Arne Schepker\\n\\t\\t\\t\\n\\t\\t\\n\\t\\t\\n\\t\\t\\t\\t\\t\\n\\t\\t\\t\\t\\t\\t\\t\\t\\t\\t\\t\\t\\t\\n\\t\\t\\t\\t\\t\\t\\t\\t\\t\\t\\t\\t\\tFrederic Lardinois\\n\\t\\t\\t\\t\\t\\t\\t\\t\\t\\t\\t\\n\\t\\t\\t\\t\\t\\t\\t\\t\\t\\t\\t\\t\\t\\t\\t\\t\\t\\t\\t\\n\\t4 hours ago\\n\\nEnterprise\\n\\t\\t\\t\\t\\t\\t\\t\\n\\t\\t\\n\\t\\t\\t\\t\\t\\n\\n\\t\\t\\t\\t\\n\\t\\t\\t\\tNumeric grabs $28M Series A to automate accounting using AI\\n\\t\\t\\t\\n\\t\\t\\n\\t\\t\\n\\t\\t\\t\\t\\t\\n\\t\\t\\t\\t\\t\\t\\t\\t\\t\\t\\t\\t\\t\\n\\t\\t\\t\\t\\t\\t\\t\\t\\t\\t\\t\\t\\tMarina Temkin\\n\\t\\t\\t\\t\\t\\t\\t\\t\\t\\t\\t\\n\\t\\t\\t\\t\\t\\t\\t\\t\\t\\t\\t\\t\\t\\t\\t\\t\\t\\t\\t\\n\\t14 hours ago\\n\\nIn Brief\\n\\t\\t\\t\\t\\t\\t\\t\\n\\t\\t\\n\\t\\t\\t\\t\\t\\n\\n\\t\\t\\t\\t\\t\\t\\t\\t\\t\\n\\t\\t\\t\\t\\t\\t\\t\\t\\t\\t\\t\\n\\t\\t\\t\\t\\n\\t\\t\\t\\tSomeone claims to have used AI to apply to 2,843 jobs\\n\\t\\t\\t\\n\\t\\t\\n\\t\\t\\t\\t\\tA reporter used AI to apply to 2,843 jobs\\n\\t\\t\\n\\t\\t\\t\\t\\t\\n\\t\\t\\t\\t\\t\\t\\t\\t\\t\\t\\t\\t\\t\\n\\t\\t\\t\\t\\t\\t\\t\\t\\t\\t\\t\\t\\tKyle Wiggers\\n\\t\\t\\t\\t\\t\\t\\t\\t\\t\\t\\t\\n\\t\\t\\t\\t\\t\\t\\t\\t\\t\\t\\t\\t\\t\\t\\t\\t\\t\\t\\t\\n\\t16 hours ago In Brief\\n\\nPosted:\\n\\n\\n\\nMaxwell Zeff\\n\\nAfter winning Nobel for foundational AI work, Geoffrey Hinton says he’s proud Ilya Sutskever ‘fired Sam Altman’\\n\\nGeoffrey Hinton accepted a Nobel Prize this week, recognizing the foundational work on artificial neural networks that earned him the nickname “godfather of AI.” In a speech Tuesday, Professor Hinton praised one student – alluding to OpenAI’s former Chief Scientist, Ilya Sutskever – for revolting against OpenAI’s CEO.\\n\\n“I was particularly fortunate to have many very clever students – much cleverer than me – who actually made things work,” said Hinton. “They’ve gone on to do great things. I’m particularly proud of the fact that one of my students fired Sam Altman.”\\n\\nOf course, Hinton is referring to OpenAI’s board voting to fire Altman in November 2023. Sutskever delivered the news to Altman via video call, but later said he regretted it. Hinton seems to have celebrated the firing of OpenAI’s CEO as a win for AI safety, which he often advocates for. However, the win was short-lived, as Altman now has more control over OpenAI than before, and he could soon get equity.\\n\\nTopics:\\n\\nTC\\n\\nAI\\n\\nRelated\\n\\nTransportation\\n\\t\\t\\t\\t\\t\\t\\t\\n\\t\\t\\n\\t\\t\\t\\t\\t\\n\\n\\t\\t\\t\\t\\n\\t\\t\\t\\tElon Musk unveils the Robovan: the biggest surprise from Tesla’s We, Robot event\\n\\t\\t\\t\\n\\t\\t\\n\\t\\t\\n\\t\\t\\t\\t\\t\\n\\t\\t\\t\\t\\t\\t\\t\\t\\t\\t\\t\\t\\t\\n\\t\\t\\t\\t\\t\\t\\t\\t\\t\\t\\t\\t\\tRebecca Bellan\\n\\t\\t\\t\\t\\t\\t\\t\\t\\t\\t\\t\\t\\tMaxwell Zeff\\n\\t\\t\\t\\t\\t\\t\\t\\t\\t\\t\\t\\n\\t\\t\\t\\t\\t\\t\\t\\t\\t\\t\\t\\t\\t\\t\\t\\t\\t\\t\\t\\n\\t2 hours ago\\n\\nTransportation\\n\\t\\t\\t\\t\\t\\t\\t\\n\\t\\t\\n\\t\\t\\t\\t\\t\\n\\n\\t\\t\\t\\t\\n\\t\\t\\t\\tTesla reveals 20 Cybercabs at We, Robot event, says you’ll be able to buy one for less than $30,000\\n\\t\\t\\t\\n\\t\\t\\n\\t\\t\\n\\t\\t\\t\\t\\t\\n\\t\\t\\t\\t\\t\\t\\t\\t\\t\\t\\t\\t\\t\\n\\t\\t\\t\\t\\t\\t\\t\\t\\t\\t\\t\\t\\tRebecca Bellan\\n\\t\\t\\t\\t\\t\\t\\t\\t\\t\\t\\t\\n\\t\\t\\t\\t\\t\\t\\t\\t\\t\\t\\t\\t\\t\\t\\t\\t\\t\\t\\t\\n\\t2 hours ago\\n\\nIn Brief\\n\\t\\t\\t\\t\\t\\t\\t\\n\\t\\t\\n\\t\\t\\t\\t\\t\\n\\n\\t\\t\\t\\t\\t\\t\\t\\t\\t\\n\\t\\t\\t\\t\\t\\t\\t\\t\\t\\t\\t\\n\\t\\t\\t\\t\\n\\t\\t\\t\\tFTX’s Ryan Salame posts jokes on LinkedIn as he heads to prison\\n\\t\\t\\t\\n\\t\\t\\n\\t\\t\\n\\t\\t\\t\\t\\t\\n\\t\\t\\t\\t\\t\\t\\t\\t\\t\\t\\t\\t\\t\\n\\t\\t\\t\\t\\t\\t\\t\\t\\t\\t\\t\\t\\tAmanda Silberling\\n\\t\\t\\t\\t\\t\\t\\t\\t\\t\\t\\t\\n\\t\\t\\t\\t\\t\\t\\t\\t\\t\\t\\t\\t\\t\\t\\t\\t\\t\\t\\t\\n\\t10 hours ago\\n\\nLatest in AI\\n\\nSee More\\n\\nApps\\n\\t\\t\\t\\t\\t\\t\\t\\n\\t\\t\\n\\t\\t\\t\\t\\t\\n\\n\\t\\t\\t\\t\\n\\t\\t\\t\\tBabbel co-founder Markus Witte will once again run the company, replacing CEO Arne Schepker\\n\\t\\t\\t\\n\\t\\t\\n\\t\\t\\n\\t\\t\\t\\t\\t\\n\\t\\t\\t\\t\\t\\t\\t\\t\\t\\t\\t\\t\\t\\n\\t\\t\\t\\t\\t\\t\\t\\t\\t\\t\\t\\t\\tFrederic Lardinois\\n\\t\\t\\t\\t\\t\\t\\t\\t\\t\\t\\t\\n\\t\\t\\t\\t\\t\\t\\t\\t\\t\\t\\t\\t\\t\\t\\t\\t\\t\\t\\t\\n\\t5 hours ago\\n\\nEnterprise\\n\\t\\t\\t\\t\\t\\t\\t\\n\\t\\t\\n\\t\\t\\t\\t\\t\\n\\n\\t\\t\\t\\t\\n\\t\\t\\t\\tNumeric grabs $28M Series A to automate accounting using AI\\n\\t\\t\\t\\n\\t\\t\\n\\t\\t\\n\\t\\t\\t\\t\\t\\n\\t\\t\\t\\t\\t\\t\\t\\t\\t\\t\\t\\t\\t\\n\\t\\t\\t\\t\\t\\t\\t\\t\\t\\t\\t\\t\\tMarina Temkin\\n\\t\\t\\t\\t\\t\\t\\t\\t\\t\\t\\t\\n\\t\\t\\t\\t\\t\\t\\t\\t\\t\\t\\t\\t\\t\\t\\t\\t\\t\\t\\t\\n\\t15 hours ago\\n\\nIn Brief\\n\\t\\t\\t\\t\\t\\t\\t\\n\\t\\t\\n\\t\\t\\t\\t\\t\\n\\n\\t\\t\\t\\t\\t\\t\\t\\t\\t\\n\\t\\t\\t\\t\\t\\t\\t\\t\\t\\t\\t\\n\\t\\t\\t\\t\\n\\t\\t\\t\\tSomeone claims to have used AI to apply to 2,843 jobs\\n\\t\\t\\t\\n\\t\\t\\n\\t\\t\\t\\t\\tA reporter used AI to apply to 2,843 jobs\\n\\t\\t\\n\\t\\t\\t\\t\\t\\n\\t\\t\\t\\t\\t\\t\\t\\t\\t\\t\\t\\t\\t\\n\\t\\t\\t\\t\\t\\t\\t\\t\\t\\t\\t\\t\\tKyle Wiggers\\n\\t\\t\\t\\t\\t\\t\\t\\t\\t\\t\\t\\n\\t\\t\\t\\t\\t\\t\\t\\t\\t\\t\\t\\t\\t\\t\\t\\t\\t\\t\\t\\n\\t16 hours ago '"
      ]
     },
     "execution_count": 33,
     "metadata": {},
     "output_type": "execute_result"
    }
   ],
   "source": [
    "news_raw_text"
   ]
  },
  {
   "cell_type": "code",
   "execution_count": 42,
   "id": "c0dc5d9f",
   "metadata": {
    "id": "c0dc5d9f"
   },
   "outputs": [],
   "source": [
    "import googletrans\n",
    "\n",
    "def translator(sent):\n",
    "    translator = googletrans.Translator()\n",
    "    result = translator.translate(sent, dest='ko')\n",
    "    return result.text"
   ]
  },
  {
   "cell_type": "code",
   "execution_count": 43,
   "id": "315bfdef",
   "metadata": {
    "id": "315bfdef"
   },
   "outputs": [],
   "source": [
    "kr_news_raw_text = translator(news_raw_text)"
   ]
  },
  {
   "cell_type": "code",
   "execution_count": 44,
   "id": "5042a8f8",
   "metadata": {
    "id": "5042a8f8"
   },
   "outputs": [
    {
     "data": {
      "text/plain": [
       "\"간략히\\n\\n게시 날짜:\\n\\n\\n\\n맥스웰 제프\\n\\n기초 AI 연구로 노벨상을 수상한 Geoffrey Hinton은 Ilya Sutskever가 'Sam Altman을 해고한' 것이 자랑스럽다고 말했습니다.\\n\\n제프리 힌튼(Geoffrey Hinton)은 인공 신경망에 대한 기초 연구를 인정받아 “AI의 대부”라는 별명을 얻은 이번 주에 노벨상을 받았습니다. 화요일 연설에서 Hinton 교수는 OpenAI의 전 수석 과학자인 Ilya Sutskever를 언급하면서 OpenAI의 CEO에 반항한 한 학생을 칭찬했습니다.\\n\\nHinton은 “실제로 일을 해내는 매우 영리한 학생들, 즉 나보다 훨씬 영리한 학생들이 많다는 것은 특히 행운이었습니다.”라고 말했습니다. “그들은 계속해서 훌륭한 일을 해왔습니다. 특히 내 학생 중 한 명이 Sam Altman을 해고했다는 사실이 자랑스럽습니다.”\\n\\n물론 Hinton은 2023년 11월 Altman을 해고하기로 한 OpenAI 이사회 투표를 언급하고 있습니다. Sutskever는 영상 통화를 통해 Altman에게 이 소식을 전달했지만 나중에 후회한다고 말했습니다. Hinton은 OpenAI CEO의 해임을 자신이 자주 옹호하는 AI 안전의 승리로 축하한 것으로 보입니다. 그러나 Altman은 이제 이전보다 OpenAI에 대한 더 많은 통제권을 갖게 되었고 곧 지분을 확보할 수 있게 되었기 때문에 승리는 오래 가지 못했습니다.\\n\\n주제:\\n\\nTC\\n\\n일체 포함\\n\\n관련된\\n\\n운송\\n\\t\\t\\t\\t\\t\\t\\t\\n\\t\\t\\n\\t\\t\\t\\t\\t\\n\\n\\t\\t\\t\\t\\n\\t\\t\\t\\tElon Musk는 Tesla의 We, Robot 이벤트에서 가장 놀라운 제품인 Robovan을 공개했습니다.\\n\\t\\t\\t\\n\\t\\t\\n\\t\\t\\n\\t\\t\\t\\t\\t\\n\\t\\t\\t\\t\\t\\t\\t\\t\\t\\t\\t\\t\\t\\n\\t\\t\\t\\t\\t\\t\\t\\t\\t\\t\\t\\t\\t레베카 벨란\\n\\t\\t\\t\\t\\t\\t\\t\\t\\t\\t\\t\\t\\t맥스웰 제프\\n\\t\\t\\t\\t\\t\\t\\t\\t\\t\\t\\t\\n\\t\\t\\t\\t\\t\\t\\t\\t\\t\\t\\t\\t\\t\\t\\t\\t\\t\\t\\t\\n\\t2시간 전\\n\\n운송\\n\\t\\t\\t\\t\\t\\t\\t\\n\\t\\t\\n\\t\\t\\t\\t\\t\\n\\n\\t\\t\\t\\t\\n\\t\\t\\t\\tTesla는 We, Robot 이벤트에서 20개의 사이버캡을 공개하며 $30,000 미만의 가격으로 구입할 수 있다고 밝혔습니다.\\n\\t\\t\\t\\n\\t\\t\\n\\t\\t\\n\\t\\t\\t\\t\\t\\n\\t\\t\\t\\t\\t\\t\\t\\t\\t\\t\\t\\t\\t\\n\\t\\t\\t\\t\\t\\t\\t\\t\\t\\t\\t\\t\\t레베카 벨란\\n\\t\\t\\t\\t\\t\\t\\t\\t\\t\\t\\t\\n\\t\\t\\t\\t\\t\\t\\t\\t\\t\\t\\t\\t\\t\\t\\t\\t\\t\\t\\t\\n\\t2시간 전\\n\\n간략히\\n\\t\\t\\t\\t\\t\\t\\t\\n\\t\\t\\n\\t\\t\\t\\t\\t\\n\\n\\t\\t\\t\\t\\t\\t\\t\\t\\t\\n\\t\\t\\t\\t\\t\\t\\t\\t\\t\\t\\t\\n\\t\\t\\t\\t\\n\\t\\t\\t\\tFTX의 Ryan Salame은 감옥으로 향하면서 LinkedIn에 농담을 게시합니다.\\n\\t\\t\\t\\n\\t\\t\\n\\t\\t\\n\\t\\t\\t\\t\\t\\n\\t\\t\\t\\t\\t\\t\\t\\t\\t\\t\\t\\t\\t\\n\\t\\t\\t\\t\\t\\t\\t\\t\\t\\t\\t\\t\\t아만다 실버링\\n\\t\\t\\t\\t\\t\\t\\t\\t\\t\\t\\t\\n\\t\\t\\t\\t\\t\\t\\t\\t\\t\\t\\t\\t\\t\\t\\t\\t\\t\\t\\t\\n\\t10시간 전\\n\\nAI 최신\\n\\n자세히 보기\\n\\n앱\\n\\t\\t\\t\\t\\t\\t\\t\\n\\t\\t\\n\\t\\t\\t\\t\\t\\n\\n\\t\\t\\t\\t\\n\\t\\t\\t\\tBabbel 공동 창업자인 Markus Witte가 CEO Arne Schepker를 대신하여 다시 한번 회사를 운영하게 됩니다.\\n\\t\\t\\t\\n\\t\\t\\n\\t\\t\\n\\t\\t\\t\\t\\t\\n\\t\\t\\t\\t\\t\\t\\t\\t\\t\\t\\t\\t\\t\\n\\t\\t\\t\\t\\t\\t\\t\\t\\t\\t\\t\\t\\t프레데릭 라르디노이스\\n\\t\\t\\t\\t\\t\\t\\t\\t\\t\\t\\t\\n\\t\\t\\t\\t\\t\\t\\t\\t\\t\\t\\t\\t\\t\\t\\t\\t\\t\\t\\t\\n\\t5시간 전\\n\\n기업\\n\\t\\t\\t\\t\\t\\t\\t\\n\\t\\t\\n\\t\\t\\t\\t\\t\\n\\n\\t\\t\\t\\t\\n\\t\\t\\t\\tNumeric은 AI를 사용하여 회계를 자동화하기 위해 2,800만 달러 규모의 Series A를 확보했습니다.\\n\\t\\t\\t\\n\\t\\t\\n\\t\\t\\n\\t\\t\\t\\t\\t\\n\\t\\t\\t\\t\\t\\t\\t\\t\\t\\t\\t\\t\\t\\n\\t\\t\\t\\t\\t\\t\\t\\t\\t\\t\\t\\t\\t마리나 템킨\\n\\t\\t\\t\\t\\t\\t\\t\\t\\t\\t\\t\\n\\t\\t\\t\\t\\t\\t\\t\\t\\t\\t\\t\\t\\t\\t\\t\\t\\t\\t\\t\\n\\t15시간 전\\n\\n간략히\\n\\t\\t\\t\\t\\t\\t\\t\\n\\t\\t\\n\\t\\t\\t\\t\\t\\n\\n\\t\\t\\t\\t\\t\\t\\t\\t\\t\\n\\t\\t\\t\\t\\t\\t\\t\\t\\t\\t\\t\\n\\t\\t\\t\\t\\n\\t\\t\\t\\t누군가 AI를 사용해 2,843개의 일자리에 지원했다고 주장합니다.\\n\\t\\t\\t\\n\\t\\t\\n\\t\\t\\t\\t\\t기자는 AI를 이용해 2,843개 일자리에 지원했다.\\n\\t\\t\\n\\t\\t\\t\\t\\t\\n\\t\\t\\t\\t\\t\\t\\t\\t\\t\\t\\t\\t\\t\\n\\t\\t\\t\\t\\t\\t\\t\\t\\t\\t\\t\\t\\t카일 위거스\\n\\t\\t\\t\\t\\t\\t\\t\\t\\t\\t\\t\\n\\t\\t\\t\\t\\t\\t\\t\\t\\t\\t\\t\\t\\t\\t\\t\\t\\t\\t\\t\\n\\t16시간 전\""
      ]
     },
     "execution_count": 44,
     "metadata": {},
     "output_type": "execute_result"
    }
   ],
   "source": [
    "kr_news_raw_text"
   ]
  },
  {
   "cell_type": "markdown",
   "id": "572c5a47",
   "metadata": {
    "id": "572c5a47"
   },
   "source": [
    "## 이제 뉴스에서 중요한 내용을 요약해봅니다.\n",
    "- 이전 실습에서 사용했던 qa_bot 함수를 그대로 사용합니다."
   ]
  },
  {
   "cell_type": "code",
   "execution_count": 45,
   "id": "ef76c60a",
   "metadata": {
    "id": "ef76c60a"
   },
   "outputs": [],
   "source": [
    "from langchain.chat_models import ChatOpenAI\n",
    "from langchain.chains.question_answering import load_qa_chain\n",
    "from langchain.chains import AnalyzeDocumentChain\n",
    "from langchain.callbacks import get_openai_callback\n",
    "import FinanceDataReader as fdr\n",
    "import time\n",
    "\n",
    "def qa_bot(source, question, model='gpt-3.5-turbo', temperature=0, chain_type=\"map_reduce\"):\n",
    "\n",
    "    exchange_rate = fdr.DataReader('USD/KRW').iloc[-1][0]\n",
    "\n",
    "    model = ChatOpenAI(model=model, temperature=0)\n",
    "\n",
    "    qa_chain = load_qa_chain(model, chain_type=chain_type)\n",
    "    qa_document_chain = AnalyzeDocumentChain(combine_docs_chain=qa_chain)\n",
    "\n",
    "    with get_openai_callback() as cb:\n",
    "\n",
    "        start = time.time()\n",
    "        print(qa_document_chain.run(input_document=source, question=question))\n",
    "        end = time.time()\n",
    "\n",
    "        print(f\"Total Tokens: {cb.total_tokens}\")\n",
    "        print(f\"Prompt Tokens: {cb.prompt_tokens}\")\n",
    "        print(f\"Completion Tokens: {cb.completion_tokens}\")\n",
    "        print(f\"Total Cost (USD): {cb.total_cost:.2f}$, Total Cost (Won): {cb.total_cost*exchange_rate:.2f}₩\")\n",
    "        print(f\"걸린 시간: {end-start:.2f}초\")"
   ]
  },
  {
   "cell_type": "markdown",
   "id": "08e62a2f",
   "metadata": {
    "id": "08e62a2f"
   },
   "source": [
    "### Option 1: 영어 뉴스를 바로 한글로 요약합니다."
   ]
  },
  {
   "cell_type": "code",
   "execution_count": null,
   "id": "33e6323c",
   "metadata": {
    "id": "33e6323c"
   },
   "outputs": [],
   "source": []
  },
  {
   "cell_type": "markdown",
   "id": "422c057e",
   "metadata": {
    "id": "422c057e"
   },
   "source": [
    "### Option 2: 번역된 한글 뉴스에 대해 요약합니다."
   ]
  },
  {
   "cell_type": "code",
   "execution_count": null,
   "id": "401336ac",
   "metadata": {
    "id": "401336ac"
   },
   "outputs": [],
   "source": []
  },
  {
   "cell_type": "markdown",
   "id": "5c94ea6a",
   "metadata": {
    "id": "5c94ea6a"
   },
   "source": [
    "## 뉴스를 보다가 모르는 것이 있으면 바로 질문할 수 있는 나만의 백과사전 만들어봅시다.\n",
    "- 뉴스를 이해해다가 모르는 것이 있으면 구글 검색 API를 LangChain에 연결하여 뉴스 이해를 도와주는 나만의 검색 엔진 Agent를 만들 수 있습니다.\n",
    "- 무료 계정의 경우 총 100회까지만 이용할 수 있음에 주의합니다."
   ]
  },
  {
   "cell_type": "code",
   "execution_count": 48,
   "id": "b3ea3e70",
   "metadata": {
    "id": "b3ea3e70"
   },
   "outputs": [
    {
     "name": "stderr",
     "output_type": "stream",
     "text": [
      "/tmp/ipykernel_21322/735589552.py:9: LangChainDeprecationWarning: The function `initialize_agent` was deprecated in LangChain 0.1.0 and will be removed in 1.0. Use :meth:`~Use new agent constructor methods like create_react_agent, create_json_agent, create_structured_chat_agent, etc.` instead.\n",
      "  agent = initialize_agent(tools, model, agent = AgentType.ZERO_SHOT_REACT_DESCRIPTION, verbose = True) # agent = AgentType.ZERO_SHOT_REACT_DESCRIPTION 예시 없이 니가 판단해서 답변하는거임\n"
     ]
    }
   ],
   "source": [
    "from langchain.agents import load_tools\n",
    "from langchain.agents import initialize_agent\n",
    "from langchain.agents import AgentType\n",
    "from langchain.chat_models import ChatOpenAI\n",
    "\n",
    "model =ChatOpenAI(temperature=0, model='gpt-3.5-turbo')\n",
    "tool_names = ['serpapi']\n",
    "tools = load_tools(tool_names)\n",
    "agent = initialize_agent(tools, model, agent = AgentType.ZERO_SHOT_REACT_DESCRIPTION, verbose = True) # agent = AgentType.ZERO_SHOT_REACT_DESCRIPTION 예시 없이 니가 판단해서 답변하는거임"
   ]
  },
  {
   "cell_type": "code",
   "execution_count": 49,
   "metadata": {},
   "outputs": [],
   "source": [
    "from serpapi import GoogleSearch\n"
   ]
  },
  {
   "cell_type": "code",
   "execution_count": 51,
   "id": "237ce5f8",
   "metadata": {
    "id": "237ce5f8"
   },
   "outputs": [
    {
     "name": "stdout",
     "output_type": "stream",
     "text": [
      "\n",
      "\n",
      "\u001b[1m> Entering new AgentExecutor chain...\u001b[0m\n",
      "\u001b[32;1m\u001b[1;3mI should search for information on image analysis techniques.\n",
      "Action: Search\n",
      "Action Input: \"image analysis techniques\"\u001b[0m\n",
      "Observation: \u001b[36;1m\u001b[1;3mExamples of image analysis techniques in different fields include:\u001b[0m\n",
      "Thought:\u001b[32;1m\u001b[1;3mI should search for more specific information on image analysis techniques in a certain field.\n",
      "Action: Search\n",
      "Action Input: \"image analysis techniques in medical imaging\"\u001b[0m\n",
      "Observation: \u001b[36;1m\u001b[1;3m['As medical imaging analysis involves interpreting various types of images, such as X-rays, CT scans, MRI scans, and ultrasound images, radiologists have been ...', 'The potential of applying deep-learning-based medical image analysis to computer-aided diagnosis (CAD), thus providing decision support to clinicians.', 'These techniques include autoencoders (AEs), convolutional neural networks (CNNs), recurrent neural networks (RNNs), generative adversarial networks (GANs), and ...', 'Medical image analysis is a process of extracting and refining meaningful information from medical images (CT scans, MRI, X-Rays, ultrasound, ...', 'Reducing and removing unwanted noise or artifacts with image filters · Cropping and resampling input data to make it easier and faster to process images ...', 'By leveraging CNNs, deep learning models can discern intricate patterns and relationships within medical images, leading to improved accuracy ...', 'Medical image analysis involves extracting valuable information from various imaging modalities like X-rays, CT scans, MRI, ultrasound, ...', 'The 3rd-generation technique is able to improve detail contrast as the dose increases, adjusting its processing to the improved SNR.', 'Some of the tasks for medical image analysis are visualization and exploration of 2D images and 3D volumes, segmentation, classification, registration, and 3D ...']\u001b[0m\n",
      "Thought:\u001b[32;1m\u001b[1;3mI now know that image analysis techniques in medical imaging involve various methods such as deep learning models, CNNs, and tasks like segmentation and classification.\n",
      "Final Answer: Image analysis techniques in medical imaging involve deep learning models, CNNs, segmentation, and classification tasks.\u001b[0m\n",
      "\n",
      "\u001b[1m> Finished chain.\u001b[0m\n"
     ]
    },
    {
     "data": {
      "text/plain": [
       "{'input': '이미지분석기법',\n",
       " 'output': 'Image analysis techniques in medical imaging involve deep learning models, CNNs, segmentation, and classification tasks.'}"
      ]
     },
     "execution_count": 51,
     "metadata": {},
     "output_type": "execute_result"
    }
   ],
   "source": [
    "agent.invoke(input())"
   ]
  },
  {
   "cell_type": "code",
   "execution_count": null,
   "id": "d4c31dac",
   "metadata": {
    "id": "d4c31dac"
   },
   "outputs": [],
   "source": []
  },
  {
   "cell_type": "code",
   "execution_count": null,
   "id": "30a7b31e",
   "metadata": {
    "id": "30a7b31e",
    "scrolled": true
   },
   "outputs": [],
   "source": []
  },
  {
   "cell_type": "markdown",
   "id": "bcaafe50",
   "metadata": {
    "id": "bcaafe50"
   },
   "source": [
    "## 이전 챕터에서 배운 질문 답변 뉴스 QA 봇을 활용하여 뉴스를 입체적으로 이해해봅시다."
   ]
  },
  {
   "cell_type": "markdown",
   "id": "1b6097bc",
   "metadata": {
    "id": "1b6097bc"
   },
   "source": [
    "### Q1. 이 글의 주제가 뭐니?"
   ]
  },
  {
   "cell_type": "code",
   "execution_count": null,
   "id": "6c356bf9",
   "metadata": {
    "id": "6c356bf9"
   },
   "outputs": [],
   "source": []
  },
  {
   "cell_type": "markdown",
   "id": "93ceff53",
   "metadata": {
    "id": "93ceff53"
   },
   "source": [
    "### Q2. 글에서 openai와 GPT에 대한 내용을 찾아줄래?"
   ]
  },
  {
   "cell_type": "code",
   "execution_count": null,
   "id": "d0b7ef87",
   "metadata": {
    "id": "d0b7ef87"
   },
   "outputs": [],
   "source": []
  },
  {
   "cell_type": "markdown",
   "id": "09833a6d",
   "metadata": {
    "id": "09833a6d"
   },
   "source": [
    "### Q3. 이 글에서 SpeedyBrand 말고 다른 회사들은 어떤 뉴스가 있었는지 차례대로 정리해줘."
   ]
  },
  {
   "cell_type": "code",
   "execution_count": null,
   "id": "9020ddd2",
   "metadata": {
    "id": "9020ddd2"
   },
   "outputs": [],
   "source": []
  },
  {
   "cell_type": "markdown",
   "id": "dd3fc3c6",
   "metadata": {
    "id": "dd3fc3c6"
   },
   "source": [
    "### Q4. 최근에 openai에서 무언가를 개발하고 있다는 내용이 있어?"
   ]
  },
  {
   "cell_type": "code",
   "execution_count": null,
   "id": "bd1b112d",
   "metadata": {
    "id": "bd1b112d"
   },
   "outputs": [],
   "source": []
  },
  {
   "cell_type": "markdown",
   "id": "8e365986",
   "metadata": {
    "id": "8e365986"
   },
   "source": [
    "### Q5. 해당 글에서 영화 Elemental 제작에 대한 이야기가 있던데 어떤 내용인지 소개해줄래?"
   ]
  },
  {
   "cell_type": "code",
   "execution_count": null,
   "id": "ac01e271",
   "metadata": {
    "id": "ac01e271"
   },
   "outputs": [],
   "source": []
  },
  {
   "cell_type": "markdown",
   "id": "a758e048",
   "metadata": {
    "id": "a758e048"
   },
   "source": [
    "### Q6. 글에서 SpeedyBrand 회사의 투자에 대한 내용이 있었어?"
   ]
  },
  {
   "cell_type": "code",
   "execution_count": null,
   "id": "4eb41fd7",
   "metadata": {
    "id": "4eb41fd7"
   },
   "outputs": [],
   "source": []
  },
  {
   "cell_type": "markdown",
   "id": "bb5aa66b",
   "metadata": {
    "id": "bb5aa66b"
   },
   "source": [
    "### Q7. 글에서 게임과 관련된 내용에 대해 소개해줄래?"
   ]
  },
  {
   "cell_type": "code",
   "execution_count": null,
   "id": "1b38a566",
   "metadata": {
    "id": "1b38a566"
   },
   "outputs": [],
   "source": []
  },
  {
   "cell_type": "markdown",
   "id": "606da2af",
   "metadata": {
    "id": "606da2af"
   },
   "source": [
    "### Q8. 딥페이크 관련한 이야기가 보이던데 딥페이크가 무엇인지 알려주고 무슨 내용이 있었는지 알려줘"
   ]
  },
  {
   "cell_type": "code",
   "execution_count": null,
   "id": "5e136ede",
   "metadata": {
    "id": "5e136ede"
   },
   "outputs": [],
   "source": []
  }
 ],
 "metadata": {
  "colab": {
   "provenance": []
  },
  "kernelspec": {
   "display_name": "Python 3 (ipykernel)",
   "language": "python",
   "name": "python3"
  },
  "language_info": {
   "codemirror_mode": {
    "name": "ipython",
    "version": 3
   },
   "file_extension": ".py",
   "mimetype": "text/x-python",
   "name": "python",
   "nbconvert_exporter": "python",
   "pygments_lexer": "ipython3",
   "version": "3.10.13"
  }
 },
 "nbformat": 4,
 "nbformat_minor": 5
}
