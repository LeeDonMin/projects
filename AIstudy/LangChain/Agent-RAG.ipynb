{
 "cells": [
  {
   "cell_type": "markdown",
   "id": "d904ebb6",
   "metadata": {},
   "source": [
    "### Agentic RAG\n",
    " : 질문에 따라 문서를 검색하여 답변(RAG)하거나, 인터넷 검색 도구(Tavily Search:)를 활용하여 답변하는 에이전트\n",
    "\n",
    "**참고**\n",
    "\n",
    "- **Agentic RAG**  : RAG 를 수행하되, Agent 를 활용하여 RAG 를 수행하는 에이전트\n",
    "\n",
    "LangChain에서는 에이전트가 여러 툴을 조합하여 복잡한 문제를 해결하는 능력을 가지고 있기 때문에, Tool은 에이전트가 활용할 수 있는 기능적 요소\n",
    "Agent 가 활용할 도구를 정의하여 Agent가 추론(reasoning)을 수행할 때 활용하도록 만들 수 있음\n",
    "\n",
    "-  **도구(Tools)** :특정 작업(계산, 검색, API 호출 등)을 수행하는 도구\n",
    "- **에이전트** : 사용자의 요청을 분석하고 적절한 툴을 사용하여 문제를 해결하는 주체\n"
   ]
  },
  {
   "cell_type": "markdown",
   "id": "27328084",
   "metadata": {},
   "source": [
    "### 웹 검색도구: Tavily Search\n",
    "\n",
    "- [Tavily Search API 발급받기](https://app.tavily.com/sign-in)\n",
    "\n",
    "`.env`에 환경변수 등록\n",
    "\n",
    "- `TAVILY_API_KEY=발급 받은 Tavily API KEY 입력`"
   ]
  },
  {
   "cell_type": "code",
   "execution_count": 1,
   "id": "c0bce178",
   "metadata": {},
   "outputs": [
    {
     "data": {
      "text/plain": [
       "True"
      ]
     },
     "execution_count": 1,
     "metadata": {},
     "output_type": "execute_result"
    }
   ],
   "source": [
    "# API 키를 환경변수로 관리하기 위한 설정 파일\n",
    "from dotenv import load_dotenv\n",
    "\n",
    "# API 키 정보 로드\n",
    "load_dotenv()"
   ]
  },
  {
   "cell_type": "code",
   "execution_count": 3,
   "metadata": {},
   "outputs": [],
   "source": [
    "import os\n",
    "os.environ['LANGCHAIN_PROJECT']='Agents'"
   ]
  },
  {
   "cell_type": "code",
   "execution_count": 4,
   "id": "50d1b459",
   "metadata": {},
   "outputs": [
    {
     "name": "stdout",
     "output_type": "stream",
     "text": [
      "LangSmith 추적을 시작합니다.\n",
      "[프로젝트명]\n",
      "Agents\n"
     ]
    }
   ],
   "source": [
    "# LangSmith 추적을 설정합니다. https://smith.langchain.com\n",
    "# !pip install -qU langchain-teddynote\n",
    "from langchain_teddynote import logging\n",
    "\n",
    "# 프로젝트 이름을 입력\n",
    "logging.langsmith(\"Agents\")"
   ]
  },
  {
   "cell_type": "code",
   "execution_count": 5,
   "id": "9ecdb860",
   "metadata": {},
   "outputs": [],
   "source": [
    "from langchain_community.tools.tavily_search import TavilySearchResults\n",
    "\n",
    "# TavilySearchResults 클래스의 인스턴스를 생성\n",
    "# k=6은 검색 결과를 6개까지 가져오겠다는 의미\n",
    "search = TavilySearchResults(k=6)"
   ]
  },
  {
   "cell_type": "markdown",
   "id": "2e659b03",
   "metadata": {},
   "source": [
    "`search.invoke` 함수는 주어진 문자열에 대한 검색을 실행\n",
    "\n",
    "`invoke()` 함수에 검색하고 싶은 검색어를 넣어 검색을 수행\n"
   ]
  },
  {
   "cell_type": "code",
   "execution_count": 6,
   "id": "7d65db4b",
   "metadata": {},
   "outputs": [
    {
     "data": {
      "text/plain": [
       "[{'url': 'https://www.youtube.com/watch?v=BpynjxkklPc',\n",
       "  'content': 'Nov 19, 2022 · ... 카카오프렌즈 판교아지트 ✓주소 : 경기 성남시 분당구 판교역로 166 1층 ✓전화번호 : 031-601-7225 ✓영업시간 : 평일 10시 ...Duration: 11:45Posted: Nov 19, 2022Missing:  점 | Show results with:점'},\n",
       " {'url': 'https://www.instagram.com/kakaofriends_official/reel/Ck0JcHGJ7WP/',\n",
       "  'content': 'Nov 11, 2022 · 📍 위치: 판교역 4번 출구 “카카오 판교아지트” 1층 (경기 성남시 분당구 판교역로 166) #카카오프렌즈 #Kakaofriends #카카오프렌즈스토어 #판교 #카카오\\xa0...Missing:  전화 번호 무엇'},\n",
       " {'url': 'https://www.kakaocorp.com/ir/wayToCome',\n",
       "  'content': '카카오 본사 · 제주특별자치도 제주시 첨단로 242 (우)63309. 전화: 1899-1326 (유료) ; 판교 아지트 · 경기도 성남시 분당구 판교역로 166 (우)13529 ; 고객센터 · 경기도\\xa0...'},\n",
       " {'url': 'https://m.blog.naver.com/hj961030/222923648353',\n",
       "  'content': '직접 보면 더 예쁜 카카오프렌즈 판교 아지트점\\n\\u200b\\n모두 모두 카카오프렌즈 판교 아지트점에서 만나요-!\\n경기도 성남시 분당구 판교역로 166\\n\\u200b\\n♥n2u1_늘이의 여행일기♥\\n이 블로그\\n경기도\\n카테고리 글\\n카테고리\\n이 블로그\\n경기도\\n카테고리 글 8. 21:39\\n카카오프렌즈 판교 아지트점\\n문구, 펜시\\n\\u200b\\n주소 : 경기 성남시 분당구 판교역로 166 1층\\n시간 : 월 - 금 10:00 - 21:00 / 토 - 일 찍는 재미가 쏠쏠해요*-*\\n카운터 뒤 쪽으로 가면\\n카카오 프렌즈 골프도 있더라구요~!\\n귀여운 친구들이 골프복을 입고 있기도 하고\\n골프를 할 때 사용하는 다양한 용품도 있어요~!\\n 다 사버릴뻔 했지 뭐에요 ㅇ0ㅇ\\n벽면에 있던 거울도 너무 귀여워서 찰칵!\\n거울 뒤 쪽에 우연히 발견한 커다란 어피치\\n여기에서 혼자 낮잠을 자고 있나봐요 키키\\n들켜버렸어~!\\n 블로그\\n카테고리 이동\\n♥n2u1_늘이의 여행일기♥\\n카카오프렌즈 판교 아지트점 판교의 카카오프렌즈를 소개합니다.\\n2022.'},\n",
       " {'url': 'https://www.kakaocorp.com/media/esg-resource/pdf/ESGReport2022_KR.pdf',\n",
       "  'content': '/명으로 다소 증가하였습니다. 판교 오피스 배출량 집약도 증가의 주요 원인은 카카오 판교아지트 신규 입주 ... 친환경성을 고려한 판교아지트는 친환경 건축물 인증.'}]"
      ]
     },
     "execution_count": 6,
     "metadata": {},
     "output_type": "execute_result"
    }
   ],
   "source": [
    "# 검색 결과\n",
    "search.invoke(\"판교 카카오 프렌즈샵 아지트점의 전화번호는 무엇인가요?\")"
   ]
  },
  {
   "cell_type": "markdown",
   "id": "eb5d738f",
   "metadata": {},
   "source": [
    "### 문서 기반 문서 검색 도구: Retriever\n",
    "\n",
    "내가 넣은 문서에 대해 조회를 수행할 retriever도 생성\n",
    "\n",
    "**실습에 활용한 문서**\n",
    "\n",
    "초보 투자자를 위한 증권과 투자 따라잡기.pdf"
   ]
  },
  {
   "cell_type": "code",
   "execution_count": 7,
   "id": "68f2a3c9",
   "metadata": {},
   "outputs": [],
   "source": [
    "from langchain.text_splitter import RecursiveCharacterTextSplitter\n",
    "from langchain_community.vectorstores import FAISS\n",
    "from langchain_openai import OpenAIEmbeddings\n",
    "from langchain.document_loaders import PyPDFLoader\n",
    "\n",
    "# PDF 파일 로드. 파일의 경로 입력\n",
    "loader = PyPDFLoader(\"초보 투자자를 위한 증권과 투자 따라잡기.pdf\")\n",
    "\n",
    "# 텍스트 분할기를 사용하여 문서를 분할\n",
    "text_splitter = RecursiveCharacterTextSplitter(chunk_size=1000, chunk_overlap=100)\n",
    "\n",
    "# 문서를 로드하고 분할\n",
    "split_docs = loader.load_and_split(text_splitter)\n",
    "\n",
    "# VectorStore를 생성\n",
    "vector = FAISS.from_documents(split_docs, OpenAIEmbeddings())\n",
    "\n",
    "# Retriever를 생성\n",
    "retriever = vector.as_retriever()"
   ]
  },
  {
   "cell_type": "markdown",
   "id": "458a2b03",
   "metadata": {},
   "source": [
    " `retriever` 객체의 `invoke()` 를 사용하여 사용자의 질문에 대한 가장 **관련성 높은 문서** 를 찾는 데 사용\n"
   ]
  },
  {
   "cell_type": "code",
   "execution_count": 8,
   "id": "2dab83e0",
   "metadata": {},
   "outputs": [
    {
     "data": {
      "text/plain": [
       "[Document(metadata={'source': '초보 투자자를 위한 증권과 투자 따라잡기.pdf', 'page': 29}, page_content='채권시장의 이해 초보 투자자를 위한 증권과 투자 따라잡기056 057\\u2002기타 채권\\n1) 주식관련채권\\n채권의 보유자에게 일정한 시기에 일정한 가격으로 발행기업의 증권을  \\n매입하거나, 혹은 다른 형태의 증권과 교환할 수 있는 권리 (option)가 부여된 \\n채권입니다. 신주인수권부사채 (BW; bond with warrant) 는 채권 보유자\\n에게 일정요건이 충족될 때 일정수 또는 금액에 해당하는 신주를 매입할 \\n수 있는 권리가 부여된 채권입니다. 이에 반해 전환사채 (CB; convertible \\nbond)는 채권에서 발행회사의 주식으로 전환할 수 있는 권리가 부여된 채\\n권입니다. 신주인수권부사채나 전환사채는 보통사채에 비해 발행금리가 \\n낮아 기업의 입장에서는 적은 비용으로 자금을 조달할 수 있는 장점이 있\\n습니다. 투자자의 입장에서는 주가상승 시 매매차익을 올릴 수 있다는 투\\n자의 매력이 있습니다. 교환사채 (EB; exchange bond) 는 채권을 발행한 회\\n사가 보유하고 있는 다른 회사의 주식이나 유가증권과 교환을 청구할 수 \\n있는 권리가 부여된 채권입니다.\\n2) 자산유동화증권(ABS; asset backed securities)\\n금융기관이나 기업 등이 보유하고 있는 자산을 담보로 발행하여 제3자\\n에게 매각하는 증권을 말합니다. 초기 형태로는 주택저당대출을 대상으로 \\n한 주택저당담보부채권 (MBS; mortgage backed securities) 이 있습니다. \\n이후 다른 자산에까지 확대 적용되면서 최근에는 자동차할부금융‧신용\\n카드대출‧리스대출 등을 대상으로 한 담보채권을 포함합니다.\\n3) 국제채(international bond)\\n국내에서 발행되는 국내채에 대응되는 개념으로 외국에서 유통되거나 \\n외화로 표시되어 있는 채권을 지칭합니다. 국제채는 외국채 (foreign bond)\\n와 유로채 (euro bond) 로 나누어집니다. 외국채는 발행주체의 자국이 아닌 특정 외국에서 발행국가의 통화로 발행되고 유통되는 국제채를 가리킵니'),\n",
       " Document(metadata={'source': '초보 투자자를 위한 증권과 투자 따라잡기.pdf', 'page': 27}, page_content='채권시장의 이해 초보 투자자를 위한 증권과 투자 따라잡기052 053채권(bond)이란 주식회사뿐만 아니라 정부, 지방자 치단체, 특별법인 \\n등이 일반투자자에게 자금을 조달하고 조달한 자금에 대하여 일정기간 \\n동안 정기적으로 이자를 지급하고 만기 시에는 원금을 상환한다는 조건\\n을 명시한 일종의 차용증서를 유가증권화한 것입니다. 하지만 채권이 차\\n용증서와 다른 점은 유통시장을 통해 양도가 자유롭다는 것이 다릅니다. \\n특히, 주식회사는 주식을 통해 대규모 자기자본을 조달할 수 있을 뿐만 아\\n니라 채권을 통해 장기자금을 대규모로 차입할 수 있어 거액의 자금조달이 \\n용이합니다.\\n채권은 발행 시에 향후 지급해야 할 이자와 원금이 확정되거나 또는 그 \\n기준이 확정되기 때문에 투자원금에 대한 수익은 금리수준의 변동에 의한 것 \\n이외에는 발행 시에 이미 결정되어 있어 확정소득 증권의 성격을 가지고 있습니다. 채권은 이자지급 증권으로 주식과 달리 발행자는 수익의 발생\\n여부와 관계없이 이자를 지급하여야 합니다. 그리고 채권은 원리금의 상환\\n기간이 사전에 정해져 있는 기한부 증권이기도 합니다.\\n1│채권의 개념\\n채권의 개념과 특징\\n채권은 주식과 달리 내용이나 형식이 다양하기 때문에 그 종류는 많으나 \\n일반적으로 발행주체, 이자지급 방법, 이자율 변동여부, 보증유무, 만기 등에 \\n따라 분류됩니다.\\n\\u2002발행주체에 따른 분류\\n발행주체에 따라 채권은 국채, 지방채, 특수채 및 회사채 등으로 분류\\n할 수 있습니다. 국채란 국가가 발행하는 채권으로 대체로 특수한 목적하\\n에 발행됩니다. 대표적인 국채로는 국고채권이 있으며, 국민들의 주택자금 \\n지원을 위한 국민주택채권 1‧2종, 외화자금의 수급조절을 위한 외국환평\\n형기금채권 등이 있습니다. 지방채는 지방자치단체에서 발행하는 채권으\\n로 지역개발공채, 지 방도시철도채권 등이 있습니다. 특수채는 특별법에 의\\n하여 설립된 특별법인이 발행한 채권으로 토지개발채, 전력공사채 등이 있\\n으며, 금융특수채는 발행주체가 금융기관인 채권으로 통화안정증권, 산'),\n",
       " Document(metadata={'source': '초보 투자자를 위한 증권과 투자 따라잡기.pdf', 'page': 3}, page_content='초보 투자자를 위한 증권과 투자 따라잡기\\n1장\\u2002금융시장의 개념과 종류 \\n2장\\u2002증권시장의 구성 및 기능\\n3장\\u2002한국거래소증권시장의\\n이해\\n1부'),\n",
       " Document(metadata={'source': '초보 투자자를 위한 증권과 투자 따라잡기.pdf', 'page': 2}, page_content='목차\\n3부\\n채권시장의\\n이해\\n2장\\t\\t채권시장의 구조 \\n 1 \\u2002\\u2002채권의 발행시장 \\u2002\\u20032\\u2002\\u2002채권의 유통시장 \\u2002\\u20033\\u2002\\u2002채권의 매매거래 \\u20021장\\t\\t채권의 개념과 특징\\n 1 \\u2002\\u2002채권의 개념 \\u2002\\t 2\\u2002\\u2002채권의 종류 \\u2002\\n 3 \\u2002\\u2002채권의 특성 \\u2002\\t 4\\u2002\\u2002채권과 주식의 차이 \\u20021부\\n증권시장의\\n이해1장\\t\\t금융시장의 개념과 종류 \\n 1 \\u2002\\u2002금융과 금융시장 \\u2002\\u20032\\u2002\\u2002금융시장의 종류 \\u2002\\u20033\\u2002\\u2002금융중개기관 \\u2002\\n2장\\t\\t증권시장의 구성 및 기능\\n 1 \\u2002\\u2002증권시장의 개념 \\u2002\\t 2\\u2002\\u2002주식회사와 증권시장 \\u2002\\n 3 \\u2002\\u2002증권시장의 구성 \\u2002\\t 4\\u2002\\u2002증권시장의 기능 \\u2002\\n3장\\t\\t한국거래소\\n 1 \\u2002\\u2002한국거래소 통합 이전의 증권시장 \\u2002\\u2003\\n\\t 2\\u2002\\u2002한국거래소의 설립과 기능 \\u2002\\n 3 \\u2002\\u2002한국거래소 관련 기관 \\u2002\\u20032장\\t\\t옵션시장의 이해\\n 1 \\u2002\\u2002옵션의 개념 \\u2002\\t 2\\u2002\\u2002옵션거래의 구성요소 \\u2002\\u2003\\n\\t 3\\u2002\\u2002옵션의 종류 \\u2002  4 \\u2002\\u2002옵션거래의 기능 및 특징 \\u2002\\u2003\\n\\t 5\\u2002\\u2002스프레드ᆞ콤비네이션 거래 \\u2002\\u2003파생상품\\n시장의\\n이해1장\\t\\t선물시장의 이해\\n 1 \\u2002\\u2002선물의 개념 \\u2002\\t 2\\u2002\\u2002선물거래의 특징 \\u2002\\u2003\\n\\t 3\\u2002\\u2002선물거래의 구성요소 \\u2002  4\\u2002\\u2002선물거래의 유형 \\u2002\\u2003\\n\\t 5\\u2002\\u2002KOSPI 200 주가지수선물 \\u2002\\u20034부\\n2부\\n주식시장의\\n이해1장\\t\\t주식의 개념과 발행\\n 1 \\u2002\\u2002주식의 개념과 종류 \\u2002\\t 2\\u2002\\u2002주식발행시장 참여자 \\u2002\\n 3 \\u2002\\u2002주식발행의 형태 \\u2002\\t 4\\u2002\\u2002주식발행의 방식 \\u2002\\n2장\\t\\t매매거래제도\\n 1 \\u2002\\u2002매매거래제도의 개요 \\u2002\\t 2\\u2002\\u2002매매거래의 절차 \\u2002\\n 3 \\u2002\\u2002매매거래의 단위 \\u2002\\t 4\\u2002\\u2002매매주문의 유형 \\u2002\\n 5 \\u2002\\u2002매매체결방법 \\u2002\\t 6\\u2002\\u2002매매거래의 관리 \\u2002증권관련\\n제도1장\\t\\t상장 및 공시제도\\n 1 \\u2002\\u2002상장의 개념 \\u2002\\t 2\\u2002\\u2002상장의 절차와 요건 \\u2002\\u2003\\n\\t 3\\u2002\\u2002상장폐지 \\u2002  4 \\u2002\\u2002공시제도의 개념 \\u2002\\u2003\\n\\t 5\\u2002\\u2002불성실공시 제도 \\u2002\\u2003\\n2장\\t\\t심리 및 감리제도\\n 1 \\u2002\\u2002불공정거래 \\u2002\\t 2\\u2002\\u2002불공정거래 규제의 의의 \\u2002\\u2003\\n\\t 3\\u2002\\u2002심리\\u2002  4 \\u2002\\u2002감리\\u2002\\u2003\\n 5 \\u2002\\u2002심리 및 감리 결과의 처리 \\u2002\\u20035부\\n6부\\n증권투자의')]"
      ]
     },
     "execution_count": 8,
     "metadata": {},
     "output_type": "execute_result"
    }
   ],
   "source": [
    "# 문서에서 관련성 높은 문서를 가져옴\n",
    "retriever.invoke(\"채권에 대한 개념을 알려줘.\")"
   ]
  },
  {
   "cell_type": "markdown",
   "id": "98528482",
   "metadata": {},
   "source": [
    "이제 우리가 검색을 수행할 인덱스를 채웠으므로, 이를 에이전트가 제대로 사용할 수 있는 도구로 쉽게 변환 가능\n"
   ]
  },
  {
   "cell_type": "markdown",
   "id": "6006cbc9",
   "metadata": {},
   "source": [
    "`create_retriever_tool` 함수로 `retriever` 를 도구로 변환"
   ]
  },
  {
   "cell_type": "code",
   "execution_count": 9,
   "id": "683b1878",
   "metadata": {},
   "outputs": [],
   "source": [
    "from langchain.tools.retriever import create_retriever_tool\n",
    "\n",
    "\n",
    "retriever_tool = create_retriever_tool(\n",
    "    retriever,\n",
    "    name=\"pdf_search\",  # 도구의 이름을 입력합니다.\n",
    "    description=\"use this tool to search information from the PDF document\",  # 도구에 대한 설명을 자세히 기입해야함!!\n",
    ")"
   ]
  },
  {
   "cell_type": "markdown",
   "id": "24519b31",
   "metadata": {},
   "source": [
    "### Agent 가 사용할 도구 목록 정의\n",
    "\n",
    "Agent 가 사용할 도구 목록:  \n",
    "  \n",
    "`tools` 리스트는 `search`와 `retriever_tool`을 포함"
   ]
  },
  {
   "cell_type": "code",
   "execution_count": 10,
   "id": "1984dd66",
   "metadata": {},
   "outputs": [],
   "source": [
    "# tools 리스트에 search와 retriever_tool을 추가합니다.\n",
    "tools = [search, retriever_tool]"
   ]
  },
  {
   "cell_type": "markdown",
   "id": "e7891219",
   "metadata": {},
   "source": [
    "#### Agent 생성\n",
    "\n",
    "Agent 가 활용할 LLM을 정의하고, Agent 가 참고할 Prompt 를 정의"
   ]
  },
  {
   "cell_type": "code",
   "execution_count": 11,
   "id": "f6e6cbfd",
   "metadata": {},
   "outputs": [],
   "source": [
    "from langchain_openai import ChatOpenAI\n",
    "from langchain_core.prompts import ChatPromptTemplate\n",
    "\n",
    "# LLM 정의\n",
    "llm = ChatOpenAI(model=\"gpt-4o-mini\", temperature=0)\n",
    "\n",
    "# Prompt 정의\n",
    "prompt = ChatPromptTemplate.from_messages(\n",
    "    [\n",
    "        (\n",
    "            \"system\",\n",
    "            \"You are a helpful assistant. \"\n",
    "            \"Make sure to use the `pdf_search` tool for searching information from the PDF document. \"\n",
    "            \"If you can't find the information from the PDF document, use the `search` tool for searching information from the web.\",\n",
    "        ),\n",
    "        (\"placeholder\", \"{chat_history}\"),\n",
    "        (\"human\", \"{input}\"),\n",
    "        (\"placeholder\", \"{agent_scratchpad}\"),\n",
    "    ]\n",
    ")"
   ]
  },
  {
   "cell_type": "markdown",
   "id": "25a7a1d0",
   "metadata": {},
   "source": [
    "Tool Calling Agent 를 생성"
   ]
  },
  {
   "cell_type": "code",
   "execution_count": 12,
   "id": "ce2cdda8",
   "metadata": {},
   "outputs": [],
   "source": [
    "from langchain.agents import create_tool_calling_agent\n",
    "\n",
    "# tool calling agent 생성\n",
    "agent = create_tool_calling_agent(llm, tools, prompt)"
   ]
  },
  {
   "cell_type": "markdown",
   "id": "5592f1b3",
   "metadata": {},
   "source": [
    "마지막으로, 생성한 `agent` 를 실행하는 `AgentExecutor` 를 생성\n",
    "- (참고)`verbose=False` 로 설정하여 중간 단계 출력을 생략"
   ]
  },
  {
   "cell_type": "code",
   "execution_count": 13,
   "id": "88bb3aab",
   "metadata": {},
   "outputs": [],
   "source": [
    "from langchain.agents import AgentExecutor\n",
    "\n",
    "# AgentExecutor 생성\n",
    "agent_executor = AgentExecutor(agent=agent, tools=tools, verbose=False)"
   ]
  },
  {
   "cell_type": "markdown",
   "id": "614375b3",
   "metadata": {},
   "source": [
    "#### 에이전트 실행하기\n",
    "\n",
    "현재 이러한 모든 질의는 **상태(Stateless) 가 없는** 질의 == 이전 상호작용을 기억하지 못함\n"
   ]
  },
  {
   "cell_type": "markdown",
   "id": "d8120a9e",
   "metadata": {},
   "source": [
    "`agent_executor` 객체의 `invoke` 메소드는 딕셔너리 형태의 인자를 받아 처리"
   ]
  },
  {
   "cell_type": "code",
   "execution_count": 14,
   "id": "40529899",
   "metadata": {},
   "outputs": [],
   "source": [
    "from langchain_teddynote.messages import AgentStreamParser\n",
    "\n",
    "# 각 단계별 출력을 위한 파서 생성\n",
    "agent_stream_parser = AgentStreamParser()"
   ]
  },
  {
   "cell_type": "code",
   "execution_count": 15,
   "id": "9cfbad15",
   "metadata": {},
   "outputs": [
    {
     "name": "stdout",
     "output_type": "stream",
     "text": [
      "[도구 호출]\n",
      "Tool: tavily_search_results_json\n",
      "query: 2024년 프로야구 플레이오프 진출 팀\n",
      "Log: \n",
      "Invoking: `tavily_search_results_json` with `{'query': '2024년 프로야구 플레이오프 진출 팀'}`\n",
      "\n",
      "\n",
      "\n",
      "[관찰 내용]\n",
      "Observation: [{'url': 'https://m.blog.naver.com/baekhw1/223604883231?isInf=true', 'content': 'Oct 3, 2024 · 가을야구는 5위까지 참가할 수 있다. 진출팀은 5위 KT위즈, 4위 두산베어스. 3위 LG트윈스, 2위 삼성라이온즈.'}, {'url': 'https://www.hani.co.kr/arti/sports/baseball/1159732.html', 'content': '2024년 최강팀 가릴 가을야구, 10월2일 막 오른다 2024년 최강팀 가릴 가을야구, 10월2일 막 오른다 2024년 9월16일 서울 잠실야구장에서 열린 프로야구 KBO리그 키움 히어로즈와 두산 베어스의 경기에서 관중들이 응원전을 하고 있다. 2024 KBO리그 포스트시즌이 10월2일 와일드카드 1차전을 시작으로 막을 올린다. 와일드카드 결정전에서 5위 팀은 두 경기에서 모두 이겨야만 준플레이오프에 진출할 수 있다. 3위로 정규리그를 마감한 엘지(LG) 트윈스는 10월5일 홈구장인 잠실야구장에서 준플레이오프 첫 경기를 치른다. 5전3선승제로 진행되는 준플레이오프는 3위 팀 홈구장에서 1·2·5차전을, 와일드카드 결정전 승리 팀의 홈구장에서 3·4차전을 치른다. [단독] 의료 취약지 ‘건강격차 해소’ 예산 24억 전액 깎였다 대통령까지 나섰지만…10명 중 7명 “일과 삶, 균형 못 이뤘다”  [단독] 의료 취약지 ‘건강격차 해소’ 예산 24억 전액 삭감됐다  [단독] 김건희 결혼 후에도 ‘도이치 주식매수’ 정황…흔들리는 윤 해명  [단독] 군 딥페이크 성범죄 접수 한달새 36건…피해자 모두 여성 '}, {'url': 'https://www.youtube.com/watch?v=TH3VZ7nLXpQ', 'content': '2 days ago · [스포츠클래식 LIVE] 2024 KBO리그 포스트시즌 플레이오프 1차전 LG 트윈스 : 삼성 라이온즈 (대구 삼성 라이온즈 ...Duration: 3:26:41Posted: 2 days agoMissing:  진출 | Show results with:진출'}, {'url': 'https://sancho216.tistory.com/entry/2024-KBO-%ED%8F%AC%EC%8A%A4%ED%8A%B8%EC%8B%9C%EC%A6%8C-%EC%9D%BC%EC%A0%95%EC%9E%A5%EC%86%8C%ED%8C%80%EC%98%88%EB%A7%A4%EC%9D%BC%EC%A0%95-%EC%99%84%EB%B2%BD-%EC%B4%9D%EC%A0%95%EB%A6%AC', 'content': 'Oct 5, 2024 · 2024 한국 프로야구 포스트시즌의 열기가 점점 더 뜨거워지면서, 드디어 플레이오프 무대에서 LG 트윈스와 삼성 라이온즈가 맞붙게 되었습니다.'}, {'url': 'https://namu.wiki/w/KBO%20%ED%94%8C%EB%A0%88%EC%9D%B4%EC%98%A4%ED%94%84/2024%EB%85%84', 'content': '준플레이오프에서 5위팀 kt wiz와 5차전까지 가는 접전 끝에 시리즈 스코어 3:2로 승리하고 플레이오프에 진출하였다. ... 최근 10년간 플레이오프에서 2위 팀이 하위 팀에게\\xa0...'}]\n",
      "[최종 답변]\n",
      "2024년 프로야구 플레이오프에 진출한 5개 팀은 다음과 같습니다:\n",
      "\n",
      "1. KT 위즈 (5위)\n",
      "2. 두산 베어스 (4위)\n",
      "3. LG 트윈스 (3위)\n",
      "4. 삼성 라이온즈 (2위)\n",
      "5. 키움 히어로즈 (1위)\n",
      "\n",
      "이 팀들은 2024년 KBO 리그 포스트시즌에 참가하게 됩니다.\n"
     ]
    }
   ],
   "source": [
    "# 질의에 대한 답변을 스트리밍으로 출력 요청\n",
    "result = agent_executor.stream(\n",
    "    {\"input\": \"2024년 프로야구 플레이오프 진출한 5개 팀을 검색하여 알려주세요.\"}\n",
    ")\n",
    "\n",
    "for step in result:\n",
    "    # 중간 단계를 parser 를 사용하여 단계별로 출력\n",
    "    agent_stream_parser.process_agent_steps(step)"
   ]
  },
  {
   "cell_type": "markdown",
   "id": "604b2a9c",
   "metadata": {},
   "source": [
    "`agent_executor` 객체의 `invoke` 메소드를 사용하여, 질문을 입력으로 제공\n"
   ]
  },
  {
   "cell_type": "code",
   "execution_count": 16,
   "id": "4a0582ab",
   "metadata": {},
   "outputs": [
    {
     "name": "stdout",
     "output_type": "stream",
     "text": [
      "[도구 호출]\n",
      "Tool: pdf_search\n",
      "query: 선물과 주식 차이점\n",
      "Log: \n",
      "Invoking: `pdf_search` with `{'query': '선물과 주식 차이점'}`\n",
      "\n",
      "\n",
      "\n",
      "[관찰 내용]\n",
      "Observation: 대부분의 개인투자자들은 채권을 만기까지 보유하는 경우가 많기 때문에 채권투자 시에는 신용등급을 꼼꼼하게 \n",
      "살피는 것이 무엇보다 중요합니다.\n",
      "자료 : 시민을 위한 증권투자 이야기(증권선물거래소)유가증권의 대표 증권인 주식과 채권은 같은 자본증권이지만 기업과 \n",
      "투자자의 입장에서 보면 여러 가지 면에서 다른 특징을 보이고 있습니다.4│채권과 주식의 차이\n",
      "◆ 주식과 채권의 차이  ◆\n",
      "구 분 주식 채권\n",
      "자본의 성격 자기자본 타인자본\n",
      "발행자 주식회사 정 부‧지자체‧특 별법인‧주식회사\n",
      "소유자의 지위 주주 채권자\n",
      "경영참가 있음 없음\n",
      "존속기간 영구적 한시적\n",
      "이익형태 및 성격 배당‧ 가변적 이자‧확정적\n",
      "\n",
      "파생상품시장의 이해 초보 투자자를 위한 증권과 투자 따라잡기068 069선물거래는 선도거래와 마찬가지로 계약자 간에 임의로 행해지는 사적\n",
      "인 계약을 말합니다. 실생활에서 볼 수 있는 전형적인 선도거래로는 배추\n",
      "나 무 등 밭 전체의 농작물을 미리 사거나 파는 “밭떼기” 라는 거래를 들 \n",
      "수 있습니다. 즉, 배추 혹은 무의 씨앗을 뿌릴 때 정해진 가격으로 밭 전체\n",
      "에서 수확될 배추 혹은 무를 사고팔 것을 계약하는 것입니다. 실제로 돈과 \n",
      "물건(배추, 무 등) 을 주고 받는 시점은 배추, 무 등이 다 자라나 수확되는 시\n",
      "기가 될 것입니다.\n",
      "이처럼 선물거래 (Futures)  혹은 선도거래 (Forward) 는 모든 거래조건\n",
      "을 현재시점에서 계약하고 상품의 인수도와 대금결제는 미래 일정시점에\n",
      "서 이루어지는 거래를 말합니다.\n",
      "다만, 양 거래당사자의 계약인 선도거래와 달리 선물거래는 조직화된 \n",
      "장소인 거래소에 서 특정 상품을 현재시점에서 정한 가격으로 미래 일정시1│선물의 개념\n",
      "선물시장의 이해\n",
      "점에 인수도할 것을 약속하는 거래를 말합니다. 선물거래는 선도거래와 \n",
      "유사한 개념이지만 선도거래와는 다른 몇 가지 특징을 가지고 있습니다.\n",
      " 조직화된 거래소\n",
      "선물거래는 선물거래소라는 정형화되고 조직적인 시장에서 발생합니다. \n",
      "거래소 형태를 갖춘 최초의 선물거래소는 1848년 미국의 시카고에 설립\n",
      "된 시카고상품거래소 (CBOT; Chicago Board of Trade) 입니다. 국내에는 \n",
      "1996년 한국증권거래소 (KSE)에서 주가지수를 이용한 KOSPI 200 주가\n",
      "지수선물을 상장하여 처음 선물거래가 시작되었으며 1999년 한국선물거\n",
      "래소(KOFEX) 의 설립으로 국채, 금, 미국 달러 등 다양한 상품이 거래되\n",
      "었습니다. 2005년 한국증권거래소와 한국선물거래소가 통합되면서 현재 \n",
      "한국거래소 (KRX)에서 주가지수선물과 국채 등의 모든 선물이 모두 거래\n",
      "되고 있습니다.\n",
      "선도거래\n",
      "쌀 수확을 앞두고 있는 농부는 향후 여러 가지 \n",
      "이유로 인해 쌀 가격이 하락한다면 큰 손실을\n",
      "\n",
      "는 상품 또는 자산을 말합니다. 주가지수, 개별주식, 통화, 금리 등 금융상\n",
      "품 뿐만 아니라 농산물, 원유 등 일반상품도 선물의 기초자산이 되며, 해\n",
      "외에는 날씨나 탄소배출권을 거래대상으로 하는 상품도 상장되어 거래되\n",
      "고 있습니다.\n",
      " 만기(maturity date)\n",
      "선물계약의 거래대상인 기초자산 이 인도되어 선물계약의 의무가 이행\n",
      "되는 날로 최종거래일이라고도 합니다. 동일한 선물이라도 만기일이 가까운 \n",
      "것도 있고 먼 것도 있는데 만기일이 가까운 선물계약을 근월물, 만기일이 \n",
      "많이 남은 선물계약을 원월물이라고 합니다.\n",
      " 계약단위(contract size)\n",
      "선물의 거래 기본단위를 계약이라고 하며, 하나의 단위를 1계약이라고 \n",
      "합니다. 예를 들면 KOSPI 200 주가지수선물의 경우 KOSPI 200지수에 \n",
      "해당 거래승수인 250,000원을 곱한 것이 됩니다. 이 계약단위의 결정은 3│선물거래의 구성요소\n",
      "\n",
      "파생상품시장의 이해 초보 투자자를 위한 증권과 투자 따라잡기070 071 표준화된 계약조건\n",
      "선물거래는 대상상품의 품질과 수량, 인수도시점, 인수도방법 등이 사\n",
      "전에 결정되어 있습니다. 가령 한국거래소에서 거래되는 금선물의 경우 대상\n",
      "상품의 품질은 순도 99.99%의 금괴로서, 100g 단위로 거래되고 결제월은  \n",
      "2, 4, 6, 8, 10, 12월과 당월 포함 가장 가까운 홀수월 1개이며 최종거래일은 \n",
      "각 결제월의 세번째 수요일로 정해져있습니다. 최종결제방법은 약정가격\n",
      "과 KRX금시장 금지금 최종가격의 차액을 주고받는 현금결제 방식입니다.\n",
      "반면 선도거래는 상대매매방식으로 특별히 표준화된 계약조건이 없고 \n",
      "양 당사자가 자유롭게 정하여 계약을 하면 됩니다.\n",
      " 청산소의 존재\n",
      "선물거래에 있어서는 계약의 이행을 보장하기 위하여 청산소 (clearing \n",
      "house)가 존재하는 반면, 선도거래는 청산소가 없으므로 계약불이행의 \n",
      "위험이 있습니다. 선물거래는 불특정 다수가 참여하기 때문에 거래상대방\n",
      "의 신용을 파악하지 못한 상태에서 매매가 이루어집니다. 선물거래의 참여\n",
      "자가 안심하고 매매하기 위해서는 모든 거래의 계약이행 (결제)을 보증할 \n",
      "제3자가 필요한데, 이런 역할을 하는 기관이 청산소입니다. 우리나라는 현재 \n",
      "한국거래소가 청산소 기능을 수행하고 있습니다.\n",
      " 증거금 및 일일정산제도\n",
      "증거금이란 선물거래를 할 때 증권회사 혹은 선물회사가 매매 당사자\n",
      "에게 계약의 이행을 보증하도록 요구하는 일정비율의 보증금을 말합니다.\n",
      "또한 선물거래에서는 일일정산제도 (daily settlement) 를 통하여 계약의 \n",
      "이행을 준수할 수 있도록 선물계약 체결 이후 선물가격 변화에 따른 손 익을 \n",
      "매일매일 정 산하여 증거금을 관리하고 있습니다. 청산방법\n",
      "대부분의 선도거래는 최종결제일에 대상상품의 인수도와 대금결제가 \n",
      "이루어지는 실물인수도 방식에 의해 계약이 종료됩니다. 하지만 선물거래증거금 제도와 일일정산제도 실례\n",
      "날짜 7/1 7/2\n",
      "선물가격 100,000 90,000\n",
      "손익 0 -10,000\n",
      "[최종 답변]\n",
      "문서에서 선물과 주식의 차이점에 대한 직접적인 정보는 찾을 수 없었습니다. 그러나 선물과 주식의 기본적인 차이점을 요약하면 다음과 같습니다:\n",
      "\n",
      "1. **자본의 성격**:\n",
      "   - **주식**: 자기자본으로, 기업의 소유권을 나타냅니다.\n",
      "   - **선물**: 파생상품으로, 특정 자산을 미래의 일정 시점에 미리 정해진 가격으로 거래하기 위한 계약입니다.\n",
      "\n",
      "2. **발행자**:\n",
      "   - **주식**: 주식회사가 발행합니다.\n",
      "   - **선물**: 거래소에서 표준화된 계약으로 거래됩니다.\n",
      "\n",
      "3. **소유자의 지위**:\n",
      "   - **주식**: 주주는 기업의 소유자로서 경영에 참여할 수 있습니다.\n",
      "   - **선물**: 선물 계약의 소유자는 자산의 소유권이 없으며, 단지 계약의 권리만 가집니다.\n",
      "\n",
      "4. **존속기간**:\n",
      "   - **주식**: 영구적입니다.\n",
      "   - **선물**: 만기일이 있으며, 계약이 만료되면 종료됩니다.\n",
      "\n",
      "5. **이익형태 및 성격**:\n",
      "   - **주식**: 배당금 형태로 이익을 분배받으며, 이익이 가변적입니다.\n",
      "   - **선물**: 계약의 이행에 따라 손익이 발생하며, 이익이 확정적이지 않습니다.\n",
      "\n",
      "이와 같은 차이점이 있습니다. 추가적인 정보가 필요하시면 말씀해 주세요!\n"
     ]
    }
   ],
   "source": [
    "# 질의에 대한 답변을 스트리밍으로 출력 요청\n",
    "result = agent_executor.stream(\n",
    "    {\"input\": \"선물과 주식에 대한 차이점을 문서에서 찾아주세요.\"}\n",
    ")\n",
    "\n",
    "for step in result:\n",
    "    # 중간 단계를 parser 를 사용하여 단계별로 출력\n",
    "    agent_stream_parser.process_agent_steps(step)"
   ]
  },
  {
   "cell_type": "markdown",
   "id": "6d836bd5",
   "metadata": {},
   "source": [
    "## 이전 대화내용 기억하는 Agent\n",
    "\n",
    "`RunnableWithMessageHistory`: 이전의 대화내용을 기억하기 위해 사용  \n",
    "\n",
    "`AgentExecutor`를 `RunnableWithMessageHistory`로 감싸줌"
   ]
  },
  {
   "cell_type": "code",
   "execution_count": 17,
   "id": "39cc359c",
   "metadata": {},
   "outputs": [],
   "source": [
    "from langchain_community.chat_message_histories import ChatMessageHistory\n",
    "from langchain_core.runnables.history import RunnableWithMessageHistory\n",
    "\n",
    "# session_id 를 저장할 딕셔너리 생성\n",
    "store = {}\n",
    "\n",
    "\n",
    "# session_id 를 기반으로 세션 기록을 가져오는 함수\n",
    "def get_session_history(session_ids):\n",
    "    if session_ids not in store:  # session_id 가 store에 없는 경우\n",
    "        # 새로운 ChatMessageHistory 객체를 생성하여 store에 저장\n",
    "        store[session_ids] = ChatMessageHistory()\n",
    "    return store[session_ids]  # 해당 세션 ID에 대한 세션 기록 반환\n",
    "\n",
    "\n",
    "# 채팅 메시지 기록이 추가된 에이전트를 생성\n",
    "agent_with_chat_history = RunnableWithMessageHistory(\n",
    "    agent_executor,\n",
    "    # 대화 session_id\n",
    "    get_session_history,\n",
    "    # 프롬프트의 질문이 입력되는 key: \"input\"\n",
    "    input_messages_key=\"input\",\n",
    "    # 프롬프트의 메시지가 입력되는 key: \"chat_history\"\n",
    "    history_messages_key=\"chat_history\",\n",
    ")"
   ]
  },
  {
   "cell_type": "code",
   "execution_count": 18,
   "id": "697c803f",
   "metadata": {},
   "outputs": [
    {
     "name": "stdout",
     "output_type": "stream",
     "text": [
      "[도구 호출]\n",
      "Tool: pdf_search\n",
      "query: 선물과 주식의 차이점\n",
      "Log: \n",
      "Invoking: `pdf_search` with `{'query': '선물과 주식의 차이점'}`\n",
      "\n",
      "\n",
      "\n",
      "[관찰 내용]\n",
      "Observation: 대부분의 개인투자자들은 채권을 만기까지 보유하는 경우가 많기 때문에 채권투자 시에는 신용등급을 꼼꼼하게 \n",
      "살피는 것이 무엇보다 중요합니다.\n",
      "자료 : 시민을 위한 증권투자 이야기(증권선물거래소)유가증권의 대표 증권인 주식과 채권은 같은 자본증권이지만 기업과 \n",
      "투자자의 입장에서 보면 여러 가지 면에서 다른 특징을 보이고 있습니다.4│채권과 주식의 차이\n",
      "◆ 주식과 채권의 차이  ◆\n",
      "구 분 주식 채권\n",
      "자본의 성격 자기자본 타인자본\n",
      "발행자 주식회사 정 부‧지자체‧특 별법인‧주식회사\n",
      "소유자의 지위 주주 채권자\n",
      "경영참가 있음 없음\n",
      "존속기간 영구적 한시적\n",
      "이익형태 및 성격 배당‧ 가변적 이자‧확정적\n",
      "\n",
      "파생상품시장의 이해 초보 투자자를 위한 증권과 투자 따라잡기068 069선물거래는 선도거래와 마찬가지로 계약자 간에 임의로 행해지는 사적\n",
      "인 계약을 말합니다. 실생활에서 볼 수 있는 전형적인 선도거래로는 배추\n",
      "나 무 등 밭 전체의 농작물을 미리 사거나 파는 “밭떼기” 라는 거래를 들 \n",
      "수 있습니다. 즉, 배추 혹은 무의 씨앗을 뿌릴 때 정해진 가격으로 밭 전체\n",
      "에서 수확될 배추 혹은 무를 사고팔 것을 계약하는 것입니다. 실제로 돈과 \n",
      "물건(배추, 무 등) 을 주고 받는 시점은 배추, 무 등이 다 자라나 수확되는 시\n",
      "기가 될 것입니다.\n",
      "이처럼 선물거래 (Futures)  혹은 선도거래 (Forward) 는 모든 거래조건\n",
      "을 현재시점에서 계약하고 상품의 인수도와 대금결제는 미래 일정시점에\n",
      "서 이루어지는 거래를 말합니다.\n",
      "다만, 양 거래당사자의 계약인 선도거래와 달리 선물거래는 조직화된 \n",
      "장소인 거래소에 서 특정 상품을 현재시점에서 정한 가격으로 미래 일정시1│선물의 개념\n",
      "선물시장의 이해\n",
      "점에 인수도할 것을 약속하는 거래를 말합니다. 선물거래는 선도거래와 \n",
      "유사한 개념이지만 선도거래와는 다른 몇 가지 특징을 가지고 있습니다.\n",
      " 조직화된 거래소\n",
      "선물거래는 선물거래소라는 정형화되고 조직적인 시장에서 발생합니다. \n",
      "거래소 형태를 갖춘 최초의 선물거래소는 1848년 미국의 시카고에 설립\n",
      "된 시카고상품거래소 (CBOT; Chicago Board of Trade) 입니다. 국내에는 \n",
      "1996년 한국증권거래소 (KSE)에서 주가지수를 이용한 KOSPI 200 주가\n",
      "지수선물을 상장하여 처음 선물거래가 시작되었으며 1999년 한국선물거\n",
      "래소(KOFEX) 의 설립으로 국채, 금, 미국 달러 등 다양한 상품이 거래되\n",
      "었습니다. 2005년 한국증권거래소와 한국선물거래소가 통합되면서 현재 \n",
      "한국거래소 (KRX)에서 주가지수선물과 국채 등의 모든 선물이 모두 거래\n",
      "되고 있습니다.\n",
      "선도거래\n",
      "쌀 수확을 앞두고 있는 농부는 향후 여러 가지 \n",
      "이유로 인해 쌀 가격이 하락한다면 큰 손실을\n",
      "\n",
      "는 상품 또는 자산을 말합니다. 주가지수, 개별주식, 통화, 금리 등 금융상\n",
      "품 뿐만 아니라 농산물, 원유 등 일반상품도 선물의 기초자산이 되며, 해\n",
      "외에는 날씨나 탄소배출권을 거래대상으로 하는 상품도 상장되어 거래되\n",
      "고 있습니다.\n",
      " 만기(maturity date)\n",
      "선물계약의 거래대상인 기초자산 이 인도되어 선물계약의 의무가 이행\n",
      "되는 날로 최종거래일이라고도 합니다. 동일한 선물이라도 만기일이 가까운 \n",
      "것도 있고 먼 것도 있는데 만기일이 가까운 선물계약을 근월물, 만기일이 \n",
      "많이 남은 선물계약을 원월물이라고 합니다.\n",
      " 계약단위(contract size)\n",
      "선물의 거래 기본단위를 계약이라고 하며, 하나의 단위를 1계약이라고 \n",
      "합니다. 예를 들면 KOSPI 200 주가지수선물의 경우 KOSPI 200지수에 \n",
      "해당 거래승수인 250,000원을 곱한 것이 됩니다. 이 계약단위의 결정은 3│선물거래의 구성요소\n",
      "\n",
      "질 가능성이 높습니다. 인플레이션 하에서는 현금성 자산보다는 실물이나 \n",
      "부동산의 보유의욕이 높아져 주식을 매도하고 부동산이나 실물을 매입함\n",
      "으로써 부동산 가격의 상승과 주가의 하락을 동시에 초래할 수 있습니다.\n",
      "따라서 통화량의 증감에 영향을 주는 변수들은 시장 장세를 파악하는 \n",
      "지표로 활용될 수 있습니다. 가령 중앙은행이 지급비율을 높인다는 정보\n",
      "는 시중의 자금을 압박하는 정책이고 따라서 통화량이 긴축되므로 주식\n",
      "시장에 유입되는 투자자금이 줄어들어 주가의 하락을 초래할 수 있습니다.\n",
      "4) 물가\n",
      "적정한 물가상승은 경기를 호전시켜 주는 효과가 있으므로 주가의 상\n",
      "승을 가져옵니다. 하지만 일반적으로 물가상승은 기업의 제품원가를 상승\n",
      "시키고 상승된 원가를 소비자 가격에 전가함으로써 매출량이 줄어 기업 수\n",
      "익이 감소하고 결국 주가의 하락으로 이어질 가능성이 높습니다. 또한 앞\n",
      "에서 언급한 바와 같이 과도한 물가상승은 주식에 대한 수요를 감소시켜 주\n",
      "가의 하락을 가져옵니다. 물가상승률을 측정하는 지표로 가장 많이 이용\n",
      "되는 것은 한국은행에서 산출하는 도매물가지수 (WPI; Wholesale Price \n",
      "Index)이며 그밖에 소비자물가지수 (CPI; Consumer Price Index) , 수출입\n",
      "물가지수 등이 있습니다.\n",
      "5) 금리\n",
      "금리는 기업의 투자활동에 영향을 미치며 주식 및 채권가격과 밀접한 \n",
      "상관관계를 가지고 있습니다. 금리의 상승은 기업의 금융비용을 증가시켜 \n",
      "기업수익이 악화되어 주가의 하락을 초래하며, 또한 기업의 재무구조를\n",
      "[최종 답변]\n",
      "문서에서 선물과 주식의 차이점에 대한 정보는 다음과 같습니다:\n",
      "\n",
      "1. **거래 방식**:\n",
      "   - **주식**: 주식은 기업의 소유권을 나타내며, 주주로서 경영에 참여할 수 있습니다. 주식은 영구적으로 존재합니다.\n",
      "   - **선물**: 선물거래는 특정 상품을 현재 가격으로 미래에 인수도할 것을 약속하는 계약입니다. 선물은 조직화된 거래소에서 이루어지며, 계약의 이행은 미래의 특정 시점에 이루어집니다.\n",
      "\n",
      "2. **소유자의 지위**:\n",
      "   - **주식**: 주주는 기업의 소유자로서 권리를 가집니다.\n",
      "   - **선물**: 선물 계약의 당사자는 계약에 따라 상품을 인수할 의무가 있는 채권자입니다.\n",
      "\n",
      "3. **이익 형태**:\n",
      "   - **주식**: 주식의 이익은 배당금으로, 이는 가변적입니다.\n",
      "   - **선물**: 선물의 이익은 계약에 따라 정해진 가격으로 상품을 거래함으로써 발생합니다.\n",
      "\n",
      "4. **존속 기간**:\n",
      "   - **주식**: 주식은 영구적입니다.\n",
      "   - **선물**: 선물 계약은 만기일이 있으며, 한정된 기간 동안 유효합니다.\n",
      "\n",
      "이러한 차이점들은 선물과 주식이 각각 다른 투자 방식과 리스크를 가지고 있음을 보여줍니다.\n"
     ]
    }
   ],
   "source": [
    "# 질의에 대한 답변을 스트리밍으로 출력 요청\n",
    "response = agent_with_chat_history.stream(\n",
    "    {\"input\": \"선물과 주식에 대한 차이점을 문서에서 찾아주세요.\"},\n",
    "    # session_id 설정\n",
    "    config={\"configurable\": {\"session_id\": \"abc123\"}},\n",
    ")\n",
    "\n",
    "# 출력 확인\n",
    "for step in response:\n",
    "    agent_stream_parser.process_agent_steps(step)"
   ]
  },
  {
   "cell_type": "code",
   "execution_count": 20,
   "id": "7d96ac8e",
   "metadata": {},
   "outputs": [
    {
     "name": "stdout",
     "output_type": "stream",
     "text": [
      "[최종 답변]\n",
      "Please translate the previous answer into English.\n"
     ]
    }
   ],
   "source": [
    "response = agent_with_chat_history.stream(\n",
    "    {\"input\": \"이전의 답변을 영어로 번역해 주세요.\"},\n",
    "    # session_id 설정\n",
    "    config={\"configurable\": {\"session_id\": \"abc1\"}},\n",
    ")\n",
    "\n",
    "# 출력 확인\n",
    "for step in response:\n",
    "    agent_stream_parser.process_agent_steps(step)"
   ]
  },
  {
   "cell_type": "markdown",
   "id": "a1970203",
   "metadata": {},
   "source": [
    "## Agent 템플릿"
   ]
  },
  {
   "cell_type": "code",
   "execution_count": 21,
   "id": "783c7c79",
   "metadata": {},
   "outputs": [
    {
     "name": "stdout",
     "output_type": "stream",
     "text": [
      "Defaulting to user installation because normal site-packages is not writeable\n",
      "Collecting PyMuPDF\n",
      "  Downloading PyMuPDF-1.24.11-cp38-abi3-manylinux2014_x86_64.manylinux_2_17_x86_64.whl.metadata (3.4 kB)\n",
      "Downloading PyMuPDF-1.24.11-cp38-abi3-manylinux2014_x86_64.manylinux_2_17_x86_64.whl (19.6 MB)\n",
      "\u001b[2K   \u001b[90m━━━━━━━━━━━━━━━━━━━━━━━━━━━━━━━━━━━━━━━━\u001b[0m \u001b[32m19.6/19.6 MB\u001b[0m \u001b[31m40.0 MB/s\u001b[0m eta \u001b[36m0:00:00\u001b[0m00:01\u001b[0m00:01\u001b[0m\n",
      "\u001b[?25hInstalling collected packages: PyMuPDF\n",
      "Successfully installed PyMuPDF-1.24.11\n"
     ]
    }
   ],
   "source": [
    "# PyMuPDF : 텍스트, 이미지, 주석, 레이아웃 등 PDF의 모든 요소 처리 가능한 패키지\n",
    "! pip install PyMuPDF"
   ]
  },
  {
   "cell_type": "code",
   "execution_count": 22,
   "id": "4d261a21",
   "metadata": {},
   "outputs": [
    {
     "name": "stderr",
     "output_type": "stream",
     "text": [
      "/home/elicer/.local/lib/python3.10/site-packages/langchain_community/document_loaders/parsers/pdf.py:299: UserWarning: Warning: Empty content on page 0 of document ./초보 투자자를 위한 증권과 투자 따라잡기.pdf\n",
      "  warnings.warn(\n",
      "/home/elicer/.local/lib/python3.10/site-packages/langchain_community/document_loaders/parsers/pdf.py:299: UserWarning: Warning: Empty content on page 1 of document ./초보 투자자를 위한 증권과 투자 따라잡기.pdf\n",
      "  warnings.warn(\n",
      "/home/elicer/.local/lib/python3.10/site-packages/langchain_community/document_loaders/parsers/pdf.py:299: UserWarning: Warning: Empty content on page 72 of document ./초보 투자자를 위한 증권과 투자 따라잡기.pdf\n",
      "  warnings.warn(\n"
     ]
    }
   ],
   "source": [
    "# 필요한 모듈 import\n",
    "from langchain_core.prompts import ChatPromptTemplate\n",
    "from langchain_community.tools.tavily_search import TavilySearchResults\n",
    "from langchain_community.vectorstores import FAISS\n",
    "from langchain_community.chat_message_histories import ChatMessageHistory\n",
    "from langchain.text_splitter import RecursiveCharacterTextSplitter\n",
    "from langchain_openai import OpenAIEmbeddings, ChatOpenAI\n",
    "from langchain.document_loaders import PyMuPDFLoader\n",
    "from langchain.tools.retriever import create_retriever_tool\n",
    "from langchain.agents import create_tool_calling_agent, AgentExecutor\n",
    "from langchain_core.runnables.history import RunnableWithMessageHistory\n",
    "from langchain_teddynote.messages import AgentStreamParser\n",
    "\n",
    "########## 1. 도구를 정의 ##########\n",
    "\n",
    "### 1-1. Search 도구 ###\n",
    "# TavilySearchResults 클래스의 인스턴스를 생성\n",
    "# k=6은 검색 결과를 6개까지 가져오겠다는 의미\n",
    "search = TavilySearchResults(k=6)\n",
    "\n",
    "### 1-2. PDF 문서 검색 도구 (Retriever) ###\n",
    "# PDF 파일 로드. 파일의 경로 입력\n",
    "loader = PyMuPDFLoader(\"./초보 투자자를 위한 증권과 투자 따라잡기.pdf\")\n",
    "\n",
    "# 텍스트 분할기를 사용하여 문서를 분할\n",
    "text_splitter = RecursiveCharacterTextSplitter(chunk_size=1000, chunk_overlap=100)\n",
    "\n",
    "# 문서를 로드하고 분할\n",
    "split_docs = loader.load_and_split(text_splitter)\n",
    "\n",
    "# VectorStore를 생성\n",
    "vector = FAISS.from_documents(split_docs, OpenAIEmbeddings())\n",
    "\n",
    "# Retriever를 생성\n",
    "retriever = vector.as_retriever()\n",
    "\n",
    "\n",
    "retriever_tool = create_retriever_tool(\n",
    "    retriever,\n",
    "    name=\"pdf_search\",  # 도구의 이름을 입력\n",
    "    description=\"use this tool to search information from the PDF document\",  # 도구에 대한 설명을 자세히 기입해야 합니다!!\n",
    ")\n",
    "\n",
    "### 1-3. tools 리스트에 도구 목록을 추가 ###\n",
    "# tools 리스트에 search와 retriever_tool을 추가\n",
    "tools = [search, retriever_tool]\n",
    "\n",
    "########## 2. LLM 을 정의  ##########\n",
    "# LLM 모델을 생성\n",
    "llm = ChatOpenAI(model=\"gpt-4o\", temperature=0)\n",
    "\n",
    "########## 3. Prompt 를 정의##########\n",
    "\n",
    "# Prompt 정의\n",
    "prompt = ChatPromptTemplate.from_messages(\n",
    "    [\n",
    "        (\n",
    "            \"system\",\n",
    "            \"You are a helpful assistant. \"\n",
    "            \"Make sure to use the `pdf_search` tool for searching information from the PDF document. \"\n",
    "            \"If you can't find the information from the PDF document, use the `search` tool for searching information from the web.\",\n",
    "        ),\n",
    "        (\"placeholder\", \"{chat_history}\"),\n",
    "        (\"human\", \"{input}\"),\n",
    "        (\"placeholder\", \"{agent_scratchpad}\"),\n",
    "    ]\n",
    ")\n",
    "\n",
    "########## 4. Agent 를 정의 ##########\n",
    "\n",
    "# 에이전트를 생성\n",
    "# llm, tools, prompt를 인자로 사용\n",
    "agent = create_tool_calling_agent(llm, tools, prompt)\n",
    "\n",
    "########## 5. AgentExecutor 를 정의 ##########\n",
    "\n",
    "# AgentExecutor 클래스를 사용하여 agent와 tools를 설정하고, 상세한 로그를 출력하도록 verbose를 True로 설정\n",
    "agent_executor = AgentExecutor(agent=agent, tools=tools, verbose=False)\n",
    "\n",
    "########## 6. 채팅 기록을 수행하는 메모리를 추가 ##########\n",
    "\n",
    "# session_id 를 저장할 딕셔너리 생성\n",
    "store = {}\n",
    "\n",
    "\n",
    "# session_id 를 기반으로 세션 기록을 가져오는 함수\n",
    "def get_session_history(session_ids):\n",
    "    if session_ids not in store:  # session_id 가 store에 없는 경우\n",
    "        # 새로운 ChatMessageHistory 객체를 생성하여 store에 저장\n",
    "        store[session_ids] = ChatMessageHistory()\n",
    "    return store[session_ids]  # 해당 세션 ID에 대한 세션 기록 반환\n",
    "\n",
    "\n",
    "# 채팅 메시지 기록이 추가된 에이전트를 생성\n",
    "agent_with_chat_history = RunnableWithMessageHistory(\n",
    "    agent_executor,\n",
    "    # 대화 session_id\n",
    "    get_session_history,\n",
    "    # 프롬프트의 질문이 입력되는 key: \"input\"\n",
    "    input_messages_key=\"input\",\n",
    "    # 프롬프트의 메시지가 입력되는 key: \"chat_history\"\n",
    "    history_messages_key=\"chat_history\",\n",
    ")\n",
    "\n",
    "########## 7. Agent 파서를 정의합니다. ##########\n",
    "agent_stream_parser = AgentStreamParser()"
   ]
  },
  {
   "cell_type": "code",
   "execution_count": 23,
   "id": "3e2666f0",
   "metadata": {},
   "outputs": [
    {
     "name": "stdout",
     "output_type": "stream",
     "text": [
      "[도구 호출]\n",
      "Tool: pdf_search\n",
      "query: 국내 증권 시장의 역사\n",
      "Log: \n",
      "Invoking: `pdf_search` with `{'query': '국내 증권 시장의 역사'}`\n",
      "\n",
      "\n",
      "\n",
      "[관찰 내용]\n",
      "Observation: 지정한 종목을 코스닥증권시장(주) 호가중개시스템을 통해 거래할 수 있\n",
      "게 하였습니다. 증권거래소와 코스닥시장에 이어 2000년 3월 27일 세 번\n",
      "째로 문을 열었다는 뜻에서 제3시장이라 하였습니다. 그리고 2005년 7월 \n",
      "13일 제3시장이 제 기능을 못한다는 지적에 따라 증권업협회가 제도를 손\n",
      "질해 프리보드(Free Board)로 새롭게 출범하게 되었습니다. 그 후 증권업\n",
      "협회, 선물협회, 자산운용협회가 합병하여 한국금융투자협회가 출범하면\n",
      "서 2014년 6월 17일, 프리보드를 전면 개편하여 K-OTC(Korea Over-The-\n",
      "Counter)로 명칭을 변경하였습니다.\n",
      "벤처기업의 산실 NASDAQ\n",
      "장외시장 중 세계에서 가장 발전된 시장이 미국증권업협회가 주관하고 있는 NASDAQ(National Association \n",
      "of Securities Dealers Automated Quotations) 시장입니다. NASDAQ 시장은 미국증권업협회가 전산망을 \n",
      "통해 전국적으로 통합한 시장으로서 1971년 2월 개설되었습니다. 하지만 80년 후반에 들어와 거래규모가 커졌고 \n",
      "NASDAQ 시장의 주종을 이루고 있던 IT 등 첨단산업이 급속히 성장하면서 NASDAQ 시장은 세계 최고의 증권\n",
      "시장인 뉴욕증권거래소(NYSE)에 필적하는 새로운 형태의 시장조직으로 발전하였습니다. 즉, 거래량을 기준으로 \n",
      "할 때 뉴욕증권거래소에 이어 세계에서 두 번째로 큰 시장입니다. 현재 NASDAQ 시장에 상장되어 있는 대표적인 \n",
      "기업으로는 마이크로소프트(MS), 아마존, 애플, 구글 등을 들 수 있습니다. 우리나라의 기업들도 일부 NASDAQ \n",
      "시장에 상장되어 있으며, 최근에는 중국 기업들이 러시를 이루고 있습니다.\n",
      "우리나라의 증권 시장은 2005년에 새로운 변화를 맞이하게 되었습니\n",
      "다. 중복된 시장운영체제로는 지속적 성장 및 발전에 한계가 있다는 인식\n",
      "과 함께 1990년대 이후 거래소 통합추세 및 시장간 국제경쟁에 대비하기\n",
      "\n",
      "술혁신, 마케팅 전략, 안정적인 원재료 조달, 우량한 재무구조, 경기변화\n",
      "에 대한 강한 저항력, 그리고 향후 몇 년간 지속적으로 큰 폭의 매출 또는 \n",
      "순이익 증가가 기대되는 기업의 주식을 말합니다. 우리나라는 1970년대에\n",
      "는 건설주, 1980년대에는 전기전자와 자동차 등 첨단산업 관련주, 그리고 \n",
      "1990년대에는 외국인의 직접투자가 허용되면서 외국인에 의해 업종 대표\n",
      "주가 크게 부상하였습니다. 2000년대에 들어서는 IT산업이 크게 발전함\n",
      "에 따라 인터넷, 통신관련주 등이 시장을 이끌었고, 2020년 전후로는 4차 \n",
      "산업혁명의 도래와 함께 온라인 플랫폼, 2차전지, 게임‧콘텐츠, 바이오 등\n",
      "의 주식이 큰 관심을 받게 되었습니다.\n",
      "주식 발행 시 참여하는 주체는 발행인, 주관회사, 그리고 투자자로 구\n",
      "분할 수 있습니다. 발행인은 주식을 발행하여 자금을 조달하는 자로 주식\n",
      "의 공급자인 동시에 자금수요의 주체로 주식회사가 됩니다. 주관회사는 \n",
      "자금의 수요자인 발행회사가 필요한 자금을 쉽게 조달할 수 있도록 발행\n",
      "업무를 대행하여 주는 기능을 가진 기관입니다. 대표적인 주관회사는 증\n",
      "권회사, 금융투자회사, 은행, 종합금융회사 등입니다. 투자자는 발행회사\n",
      "가 발행한 증권을 매입함으로써 자금의 공급자와 증권의 수요자 기능을 \n",
      "수행하는 자로 볼 수 있습니다. 투자자는 소액의 자본을 가진 개인투자자\n",
      "2│주식발행시장 참여자\n",
      "\n",
      "1) 국고채권 거래소시장 거래 증가\n",
      "거래소시장을 통해 거래가 집중적으로 이루어지는 주식시장과는 달리 \n",
      "채권거래는 대부분 장외매매를 통하여 이루어져 1998년까지 장외거래 비\n",
      "중이 98% 이상을 차지하였습니다. 그러나 1999년 거래소 채권시장에 개\n",
      "설된 국채전문유통시장에서 국고채를 중심으로 한 장내거래 규모가 점진\n",
      "적으로 증가하는 양상을 보이면서, 최근(2019년)에는 장내외 채권시장의 \n",
      "거래비중이 서로 비슷한 수준을 보이고 있습니다.\n",
      "2) 기관투자가 중심의 시장\n",
      "채권거래에 있어 절대적인 비중을 차지하는 것은 기관투자가들 입니다. \n",
      "최근 저금리 지속에 따라 개인투자자의 채권투자에 대한 관심도가 증가\n",
      "하면서 각 증권회사의 HTS로 주식처럼 쉽게 장내 채권을 시세와 호가를 \n",
      "보면서 손쉽게 사고팔 수 있게 되었습니다. 일반적으로 채권은 대부분 금융\n",
      "기관이나 법인 등 기관투자가 간 100억 원 단위의 대량매매 형태로 거래\n",
      "되는 도매시장 성격을 띄고 있습니다.\n",
      "\n",
      "012\n",
      "013\n",
      "초보 투자자를 위한 증권과 투자 따라잡기\n",
      "증권시장의 이해\n",
      "2│주식회사와 증권시장\n",
      "증권시장은 거래대상이 되는 증권의 종류에 따라 주식시장과 채권시\n",
      "장으로 구분됩니다. 그리고 주식시장과 채권시장은 공히 발행시장과 유통\n",
      "시장을 가지고 있습니다.\n",
      "발행시장은 기업, 정부, 공공기관 등 자본을 수요로 하는 발행주체가 \n",
      "증권을 발행하여 이를 일반투자자에게 매각함으로써 장기적인 자본을 조\n",
      "달하는 시장입니다. 증권의 발행자인 기업 및 정부기관과 증권의 수요자\n",
      "인 투자자 사이에 자본증권과 화폐 간의 최초 교환이 이루어지므로 발\n",
      "행시장을 1차적 시장 혹은 본원적 시장(primary market)이라고 합니다.\n",
      "일반투자자들이 말하고 있는 증권시장은 이미 발행된 증권을 사고 파는 \n",
      "유통시장을 말합니다. 유통시장은 이미 발행된 증권이 투자자들 상호 간에 \n",
      "3│증권시장의 구성\n",
      "매매거래되는 시장으로서, 발행시장에 대비하여 2차적 시장(secondary \n",
      "market)이라고 합니다. 유통시장에서의 거래는 기업의 자금조달과 직접\n",
      "적인 관련이 없습니다. 즉, 기업이 자금을 조달하는 것은 발행시장에서 최초  \n",
      "증권을 발행하여 그것을 일반에게 매각할 때 조달되는 것이지, 그 후 발행\n",
      "된 증권이 유통시장에서 소유주를 바꾸어 거래되는 것은 증권 발행 기업의 \n",
      "자금조달과 직접적인 관련이 없습니다. 하지만 증권의 발행 규모와 조건, \n",
      "발행시기 등에 영향을 주는 시장은 유통시장이므로 유통시장은 기업의 자\n",
      "금조달을 간접적으로 도와주는 보완적 기능을 가진 시장입니다. 만약 유\n",
      "통시장에서 증권가격의 하락세가 우세할 경우, 발행시장에서 팔릴 증권을 \n",
      "투자자가 기피하게 되어 기업의 자금조달은 어렵게 됩니다. 또한 발행된 증\n",
      "권은 시장의 공급을 증가시키게 되므로 유통시장에서 증권의 가격을 더욱 \n",
      "하락시키는 요인으로 작용하기도 합니다.\n",
      "사유재산과 경제 활동의 자유 그리고 영리 추구를 특징으로 하는 자본\n",
      "주의는 주식회사 제도와 증권시장의 발달이 그 토대를 이루고 있습니다.\n",
      "[최종 답변]\n",
      "국내 증권 시장의 역사는 여러 변화를 겪어왔습니다. 2000년 3월 27일에 제3시장이 개설되었고, 2005년 7월 13일에는 제3시장이 프리보드(Free Board)로 새롭게 출범했습니다. 이후 2014년 6월 17일에는 K-OTC(Korea Over-The-Counter)로 명칭이 변경되었습니다. \n",
      "\n",
      "우리나라의 증권 시장은 2005년에 중복된 시장운영체제로 인한 지속적 성장 및 발전의 한계를 인식하고, 거래소 통합추세 및 시장 간 국제경쟁에 대비하기 위해 변화를 맞이했습니다. 1970년대에는 건설주, 1980년대에는 전기전자와 자동차 등 첨단산업 관련주, 1990년대에는 외국인의 직접투자가 허용되면서 외국인에 의해 업종 대표주가 부상했습니다. 2000년대에는 IT산업의 발전으로 인터넷, 통신관련주가 시장을 이끌었고, 2020년 전후로는 4차 산업혁명의 도래와 함께 온라인 플랫폼, 2차전지, 게임‧콘텐츠, 바이오 등의 주식이 큰 관심을 받았습니다.\n",
      "\n",
      "이러한 변화들은 국내 증권 시장의 발전과 변화를 보여주는 중요한 역사적 사건들입니다.\n"
     ]
    }
   ],
   "source": [
    "########## 8. 에이전트를 실행하고 결과를 확인합니다. ##########\n",
    "\n",
    "# 질의에 대한 답변을 출력합니다.\n",
    "response = agent_with_chat_history.stream(\n",
    "    {\"input\":  \"국내 증권 시장의 역사를 문서에서 찾아서 추천해줘.\"},\n",
    "    # 세션 ID를 설정\n",
    "    # 여기서는 간단한 메모리 내 ChatMessageHistory를 사용하기 때문에 실제로 사용되지 않음\n",
    "    config={\"configurable\": {\"session_id\": \"abc123\"}},\n",
    ")\n",
    "\n",
    "for step in response:\n",
    "    agent_stream_parser.process_agent_steps(step)"
   ]
  },
  {
   "cell_type": "code",
   "execution_count": 24,
   "id": "bc28b7c4",
   "metadata": {},
   "outputs": [
    {
     "name": "stdout",
     "output_type": "stream",
     "text": [
      "[최종 답변]\n",
      "The history of the domestic securities market has undergone several changes. On March 27, 2000, the third market was established, and on July 13, 2005, the third market was relaunched as the Free Board. Later, on June 17, 2014, it was renamed K-OTC (Korea Over-The-Counter).\n",
      "\n",
      "In 2005, recognizing the limitations of continuous growth and development due to the overlapping market operation system, and to prepare for the trend of exchange integration and international competition between markets, changes were made. In the 1970s, construction stocks were prominent; in the 1980s, stocks related to high-tech industries such as electronics and automobiles gained attention; and in the 1990s, with the allowance of direct foreign investment, industry-leading stocks emerged due to foreign investors. In the 2000s, with the development of the IT industry, internet and telecommunications-related stocks led the market, and around 2020, with the advent of the Fourth Industrial Revolution, stocks related to online platforms, secondary batteries, games and content, and bio industries garnered significant interest.\n",
      "\n",
      "These changes highlight important historical events that demonstrate the development and transformation of the domestic securities market.\n"
     ]
    }
   ],
   "source": [
    "########## 8. 에이전트를 실행하고 결과를 확인합니다. ##########\n",
    "\n",
    "# 질의에 대한 답변을 출력합니다.\n",
    "response = agent_with_chat_history.stream(\n",
    "    {\"input\": \"이전의 답변을 영어로 번역해 주세요\"},\n",
    "    # 세션 ID를 설정\n",
    "    # 여기서는 간단한 메모리 내 ChatMessageHistory를 사용하기 때문에 실제로 사용되지 않음\n",
    "    config={\"configurable\": {\"session_id\": \"abc123\"}},\n",
    ")\n",
    "\n",
    "for step in response:\n",
    "    agent_stream_parser.process_agent_steps(step)"
   ]
  },
  {
   "cell_type": "code",
   "execution_count": 25,
   "id": "54697845",
   "metadata": {},
   "outputs": [
    {
     "name": "stdout",
     "output_type": "stream",
     "text": [
      "[도구 호출]\n",
      "Tool: tavily_search_results_json\n",
      "query: 넷플릭스 흑백요리사 최종 우승자\n",
      "Log: \n",
      "Invoking: `tavily_search_results_json` with `{'query': '넷플릭스 흑백요리사 최종 우승자'}`\n",
      "\n",
      "\n",
      "\n",
      "[관찰 내용]\n",
      "Observation: [{'url': 'https://www.mk.co.kr/news/culture/11134868', 'content': \"흑수저 '나폴리 맛피아' 권성준(30)이 '흑백요리사' 최종 우승을 거머쥐었다. 8일 오후 공개된 넷플릭스 오리지널 예능 '흑백요리사 : 요리 계급 전쟁(이하 '흑백요리사') 최종 11~12회에서 나폴리 맛피아가 백수저 에드워드 리를 꺾고 우승, 상금 3억원을 차지했다.\"}, {'url': 'https://v.daum.net/v/20241008180911712', 'content': '8일 공개된 넷플릭스 \\'흑백요리사: 요리 계급 전쟁\\'에서는 \\'나폴리맛피아\\' 권성준이 백수저 에드워드리를 꺾고 최종 우승을 거머쥐었다. 권성준은 우승자 발표 하루 전 열린 \\'흑백요리사\\' 톱8 간담회에서 \"시즌2에 섭외가 온다면 백수저로 (섭외가) 올 것 같다.'}, {'url': 'https://www.chosun.com/culture-life/food-taste/2024/10/11/DSMXC57PSJDBFDSDDZVHNCS4KY/', 'content': '흑백요리사 우승자 식당에 11만명 몰려 150만원 암표까지 넷플릭스 요리 서바이벌 흑백요리사의 최종 우승자인 나폴리 맛피아29·권성준가 자신이 운영하는 식당 예약을 암표 거래하는 사람들에게 경고의 메시지를 날렸다. 나폴리 맛피아는 지난 8일 공개된 흑백요리사 최종..'}, {'url': 'https://namu.wiki/w/흑백요리사:+요리+계급+전쟁/진행+결과', 'content': '최종 우승자. 권성준(나폴리 맛피아) ... 넷플릭스 코리아 채널에 생존한 흑수저들 중에서 편집된 참가자들의 미공개 편집본이 올라왔다. ... 이로 인해 흑백요리사 내내 본인이 내놓은 요리를 보면 2라운드의 항정살 샐러드로 시작해서 4라운드의 에피타이저 ...'}, {'url': 'https://www.kmib.co.kr/article/view.asp?arcid=0020603992', 'content': '넷플릭스 오리지널 요리 경연 프로그램 \\'흑백요리사: 요리 계급 전쟁\\'에서 최종 우승한 \\'나폴리 맛피아\\' 권성준(30)씨가 경연 과정에서 보인 자신의 태도에 대해 \"건방지게 굴었다\"며 사과했다. 권씨는 \\'흑백요리사 ...'}]\n",
      "[최종 답변]\n",
      "넷플릭스 TV 프로그램 '흑백요리사: 요리 계급 전쟁'의 최종 우승자는 '나폴리 맛피아' 권성준입니다.\n"
     ]
    }
   ],
   "source": [
    "########## 8. 에이전트를 실행하고 결과를 확인합니다. ##########\n",
    "\n",
    "# 질의에 대한 답변을 출력합니다.\n",
    "response = agent_with_chat_history.stream(\n",
    "    {\n",
    "        \"input\": \"넷플릭스 TV 프로그램 흑백요리사 최종 우승자를 알려주세요. 한글로 답변하세요\"\n",
    "    },\n",
    "    # 세션 ID를 설정\n",
    "    # 여기서는 간단한 메모리 내 ChatMessageHistory를 사용하기 때문에 실제로 사용되지 않음\n",
    "    config={\"configurable\": {\"session_id\": \"abc456\"}},\n",
    ")\n",
    "\n",
    "for step in response:\n",
    "    agent_stream_parser.process_agent_steps(step)"
   ]
  },
  {
   "cell_type": "code",
   "execution_count": 26,
   "id": "7e3d1607",
   "metadata": {},
   "outputs": [
    {
     "name": "stdout",
     "output_type": "stream",
     "text": [
      "[최종 답변]\n",
      "넷플릭스 '흑백요리사: 요리 계급 전쟁'에서 '나폴리 맛피아' 권성준 셰프가 최종 우승을 차지했습니다! 축하합니다! 🎉 #흑백요리사 #권성준 #넷플릭스\n"
     ]
    }
   ],
   "source": [
    "########## 8. 에이전트를 실행하고 결과를 확인합니다. ##########\n",
    "\n",
    "# 질의에 대한 답변을 출력합니다.\n",
    "response = agent_with_chat_history.stream(\n",
    "    {\"input\": \"이전의 답변을 SNS 게시글 형태로 100자 내외로 작성하세요.\"},\n",
    "    # 세션 ID를 설정\n",
    "    # 여기서는 간단한 메모리 내 ChatMessageHistory를 사용하기 때문에 실제로 사용되지 않음\n",
    "    config={\"configurable\": {\"session_id\": \"abc456\"}},\n",
    ")\n",
    "\n",
    "for step in response:\n",
    "    agent_stream_parser.process_agent_steps(step)"
   ]
  },
  {
   "cell_type": "code",
   "execution_count": null,
   "id": "72d99d59",
   "metadata": {},
   "outputs": [],
   "source": [
    "########## 8. 에이전트를 실행하고 결과를 확인합니다. ##########\n",
    "\n",
    "# 질의에 대한 답변을 출력합니다.\n",
    "response = agent_with_chat_history.stream(\n",
    "    {\"input\": \"이전의 답변에 우승자의 소감도 찾아줘.\"},\n",
    "    # 세션 ID를 설정\n",
    "    # 여기서는 간단한 메모리 내 ChatMessageHistory를 사용하기 때문에 실제로 사용되지 않음\n",
    "    config={\"configurable\": {\"session_id\": \"abc456\"}},\n",
    ")\n",
    "\n",
    "for step in response:\n",
    "    agent_stream_parser.process_agent_steps(step)"
   ]
  },
  {
   "cell_type": "markdown",
   "id": "2e14407b",
   "metadata": {},
   "source": [
    "#### [실습] PDF를 활용한 RAG + 실시간 웹 검색을 활용한 챗봇 구축\n",
    " - 자유주제 가능\n",
    "  \n",
    " - (예시) 요리 레시피 검색 및 추천 에이전트  \n",
    "    목표: PDF로 제공된 요리책에서 원하는 레시피를 검색하고, 찾을 수 없으면 웹에서 정보를 검색해 추천 요리법을 제공하는 시스템을 구축\n",
    "    \n",
    " - (예시) 여행 정보 검색 및 추천 에이전트  \n",
    "   목표: PDF 문서로 제공된 여행 가이드북에서 특정 목적지에 대한 정보를 검색하고, 부족한 정보는 웹에서 검색해 종합적인 여행 계획을 제시하는 시스템을 구축\n",
    "\n",
    " - (예시) 논문 검색 및 관련 연구 서베이 에이전트\n",
    "   목표: 공모전 혹은 프로젝트에 사용할 딥러닝 모델을 논문 RAG 문서로 활용하여, 논문 질의 응답을 받은 후 부족한 정보다 비교 모델을 웹에서 검색해 사용할 모델들을 정리해주는 시스템을 구축"
   ]
  },
  {
   "cell_type": "code",
   "execution_count": 2,
   "id": "9da5cf2c",
   "metadata": {},
   "outputs": [],
   "source": [
    "# 필요한 모듈 import\n",
    "from langchain_core.prompts import ChatPromptTemplate\n",
    "from langchain_community.tools.tavily_search import TavilySearchResults\n",
    "from langchain_community.vectorstores import FAISS\n",
    "from langchain_community.chat_message_histories import ChatMessageHistory\n",
    "from langchain.text_splitter import RecursiveCharacterTextSplitter\n",
    "from langchain_openai import OpenAIEmbeddings, ChatOpenAI\n",
    "from langchain.document_loaders import PyMuPDFLoader\n",
    "from langchain.tools.retriever import create_retriever_tool\n",
    "from langchain.agents import create_tool_calling_agent, AgentExecutor\n",
    "from langchain_core.runnables.history import RunnableWithMessageHistory\n",
    "from langchain_teddynote.messages import AgentStreamParser\n",
    "\n",
    "########## 1. 도구를 정의 ##########\n",
    "\n",
    "### 1-1. Search 도구 ###\n",
    "# TavilySearchResults 클래스의 인스턴스를 생성\n",
    "# k=6은 검색 결과를 6개까지 가져오겠다는 의미\n",
    "search = TavilySearchResults(k=6)\n",
    "\n",
    "### 1-2. PDF 문서 검색 도구 (Retriever) ###\n",
    "# PDF 파일 로드. 파일의 경로 입력\n",
    "loader = PyMuPDFLoader(\"453626691_1879405402541497_3155007177325245432_n.pdf\")\n",
    "\n",
    "# 텍스트 분할기를 사용하여 문서를 분할\n",
    "text_splitter = RecursiveCharacterTextSplitter(chunk_size=1000, chunk_overlap=100)\n",
    "\n",
    "# 문서를 로드하고 분할\n",
    "split_docs = loader.load_and_split(text_splitter)\n",
    "\n",
    "# VectorStore를 생성\n",
    "vector = FAISS.from_documents(split_docs, OpenAIEmbeddings())\n",
    "\n",
    "# Retriever를 생성\n",
    "retriever = vector.as_retriever()\n",
    "\n",
    "\n",
    "retriever_tool = create_retriever_tool(\n",
    "    retriever,\n",
    "    name=\"pdf_search\",  # 도구의 이름을 입력\n",
    "    description=\"use this tool to search information from the PDF document\",  # 도구에 대한 설명을 자세히 기입해야 합니다!!\n",
    ")\n",
    "\n",
    "### 1-3. tools 리스트에 도구 목록을 추가 ###\n",
    "# tools 리스트에 search와 retriever_tool을 추가\n",
    "tools = [search, retriever_tool]\n",
    "\n",
    "########## 2. LLM 을 정의  ##########\n",
    "# LLM 모델을 생성\n",
    "llm = ChatOpenAI(model=\"gpt-4o\", temperature=0)\n",
    "\n",
    "########## 3. Prompt 를 정의##########\n",
    "\n",
    "# Prompt 정의\n",
    "prompt = ChatPromptTemplate.from_messages(\n",
    "    [\n",
    "        (\n",
    "            \"system\",\n",
    "            \"You are a helpful assistant. \"\n",
    "            \"Make sure to use the `pdf_search` tool for searching information from the PDF document. \"\n",
    "            \"If you can't find the information from the PDF document, use the `search` tool for searching information from the web.\",\n",
    "        ),\n",
    "        (\"placeholder\", \"{chat_history}\"),\n",
    "        (\"human\", \"{input}\"),\n",
    "        (\"placeholder\", \"{agent_scratchpad}\"),\n",
    "    ]\n",
    ")\n",
    "\n",
    "########## 4. Agent 를 정의 ##########\n",
    "\n",
    "# 에이전트를 생성\n",
    "# llm, tools, prompt를 인자로 사용\n",
    "agent = create_tool_calling_agent(llm, tools, prompt)\n",
    "\n",
    "########## 5. AgentExecutor 를 정의 ##########\n",
    "\n",
    "# AgentExecutor 클래스를 사용하여 agent와 tools를 설정하고, 상세한 로그를 출력하도록 verbose를 True로 설정\n",
    "agent_executor = AgentExecutor(agent=agent, tools=tools, verbose=False)\n",
    "\n",
    "########## 6. 채팅 기록을 수행하는 메모리를 추가 ##########\n",
    "\n",
    "# session_id 를 저장할 딕셔너리 생성\n",
    "store = {}\n",
    "\n",
    "\n",
    "# session_id 를 기반으로 세션 기록을 가져오는 함수\n",
    "def get_session_history(session_ids):\n",
    "    if session_ids not in store:  # session_id 가 store에 없는 경우\n",
    "        # 새로운 ChatMessageHistory 객체를 생성하여 store에 저장\n",
    "        store[session_ids] = ChatMessageHistory()\n",
    "    return store[session_ids]  # 해당 세션 ID에 대한 세션 기록 반환\n",
    "\n",
    "\n",
    "# 채팅 메시지 기록이 추가된 에이전트를 생성\n",
    "agent_with_chat_history = RunnableWithMessageHistory(\n",
    "    agent_executor,\n",
    "    # 대화 session_id\n",
    "    get_session_history,\n",
    "    # 프롬프트의 질문이 입력되는 key: \"input\"\n",
    "    input_messages_key=\"input\",\n",
    "    # 프롬프트의 메시지가 입력되는 key: \"chat_history\"\n",
    "    history_messages_key=\"chat_history\",\n",
    ")\n",
    "\n",
    "########## 7. Agent 파서를 정의합니다. ##########\n",
    "agent_stream_parser = AgentStreamParser()"
   ]
  },
  {
   "cell_type": "code",
   "execution_count": 15,
   "metadata": {},
   "outputs": [
    {
     "name": "stdout",
     "output_type": "stream",
     "text": [
      "[도구 호출]\n",
      "Tool: pdf_search\n",
      "query: SAM2 아키텍처\n",
      "Log: \n",
      "Invoking: `pdf_search` with `{'query': 'SAM2 아키텍처'}`\n",
      "\n",
      "\n",
      "\n",
      "[관찰 내용]\n",
      "Observation: Data source\n",
      "SAM 2 was trained on the SA-V dataset alongside internally available licensed\n",
      "video data. See Section 5 of the main text for more details and Appendix G.2 for\n",
      "the SA-V dataset data card.\n",
      "Ethical Considerations\n",
      "Data\n",
      "See Section 5 for more details about the SAM 2 training data. In Section 5.2 we\n",
      "show a geographic distribution of the videos and demographic distribution of the\n",
      "crowdworkers who collected the videos in the SA-V dataset.\n",
      "Cost and impact of compute\n",
      "The released SAM 2 was trained on 256 A100 GPUs for 108 hours. This corresponds\n",
      "to 12165.12 kWH and an estimated emissions of 3.89 metric tons of CO2e (Patterson\n",
      "et al., 2021; Lacoste et al., 2019). The emissions from training the released SAM\n",
      "2 are equivalent to ∼10k miles driven by an average gasoline-powered passenger\n",
      "vehicle (Agency, 2022).\n",
      "Risks and harms\n",
      "In Section 6.1.3 of the main text we analyze SAM 2 performance on people\n",
      "across demographic groups. When using SAM 2 in new settings, we suggest that\n",
      "\n",
      "SAM by introducing a High-Quality output token and training the model on fine-grained masks. Another\n",
      "line of work focuses on SAM’s efficiency to enable wider use in real-world and mobile applications, such as\n",
      "EfficientSAM (Xiong et al., 2023), MobileSAM (Zhang et al., 2023a), and FastSAM (Zhao et al., 2023). The\n",
      "success of SAM led to its adoption in a wide range of applications, such as medical imaging (Ma et al., 2024;\n",
      "Deng et al., 2023; Mazurowski et al., 2023; Wu et al., 2023a), remote sensing (Chen et al., 2024; Ren et al.,\n",
      "2024), motion segmentation (Xie et al., 2024), and camouflaged object detection (Tang et al., 2023).\n",
      "2\n",
      "\n",
      "We present a comparison with existing state-of-the-art in Table 7, reporting accuracy using standard protocols.\n",
      "SAM 2 shows significant improvement over the best existing methods. We observe that using a larger image\n",
      "encoder brings significant accuracy gains across the board.\n",
      "11\n",
      "\n",
      "final Segment Anything Video (SA-V) dataset (§5.2) consists of 35.5M masks across 50.9K videos, 53× more\n",
      "masks than any existing video segmentation dataset. SA-V is challenging with small objects and parts that\n",
      "get occluded and re-appear throughout the video. Our SA-V dataset is geographically diverse, and a fairness\n",
      "evaluation of SAM 2 indicates minimal performance discrepancy in video segmentation based on perceived\n",
      "gender, and little variance among the three perceived age groups we evaluated.\n",
      "Our experiments (§6) show that SAM 2 delivers a step-change in the video segmentation experience. SAM 2\n",
      "can produce better segmentation accuracy while using 3× fewer interactions than prior approaches. Further,\n",
      "SAM 2 outperforms prior work in established video object segmentation benchmarks, under multiple evaluation\n",
      "settings, and delivers better performance compared to SAM on image segmentation benchmarks, while being\n",
      "[최종 답변]\n",
      "SAM2의 아키텍처에 대한 정보를 문서에서 찾을 수 없었습니다. 대신, SAM2의 아키텍처에 대한 일반적인 설명을 제공하겠습니다.\n",
      "\n",
      "SAM2는 이미지와 비디오 세그멘테이션을 위한 고급 모델 아키텍처로, 기존의 SAM 아키텍처를 기반으로 여러 가지 개선과 최적화를 통해 세그멘테이션 기능을 향상시켰습니다. SAM2의 주요 특징은 다음과 같습니다:\n",
      "\n",
      "1. **통합 모델 아키텍처**: SAM2는 이미지와 비디오 세그멘테이션 기능을 하나의 모델로 통합하여, 두 가지 유형의 데이터를 원활하게 처리할 수 있습니다.\n",
      "\n",
      "2. **고급 기술**: SAM2는 강력하고 적응 가능한 모델로, 세그멘테이션 성능을 향상시키기 위해 정교한 신경망 레이어와 최적화를 포함하고 있습니다.\n",
      "\n",
      "3. **실시간 세그멘테이션**: SAM2는 이미지와 비디오에서 실시간으로 객체를 세그먼트할 수 있는 능력을 갖추고 있습니다.\n",
      "\n",
      "4. **훈련 및 데이터**: SAM2는 SA-V 데이터셋과 내부적으로 사용 가능한 라이선스 비디오 데이터를 사용하여 훈련되었습니다. 훈련 과정은 256개의 A100 GPU를 사용하여 108시간 동안 진행되었습니다.\n",
      "\n",
      "5. **응용 분야**: SAM2는 의료 영상, 원격 감지, 모션 세그멘테이션, 위장된 객체 탐지 등 다양한 응용 분야에서 채택되었습니다.\n",
      "\n",
      "이러한 특징들은 SAM2를 정적 이미지와 동적 비디오 콘텐츠의 다양한 세그멘테이션 작업에 적합하고 효율적인 모델로 만듭니다. 추가적인 세부 정보가 필요하다면, 관련 문서나 자료를 통해 더 깊이 있는 정보를 찾아보는 것이 좋습니다.\n"
     ]
    }
   ],
   "source": [
    "########## 8. 에이전트를 실행하고 결과를 확인합니다. ##########\n",
    "\n",
    "# 질의에 대한 답변을 출력합니다.\n",
    "response = agent_with_chat_history.stream(\n",
    "    {\n",
    "        \"input\": \"sam2의 아키텍처를 검색을 통하거나 문서를 통해 알아보고 설명하세요. 한글로 대답하세요 \"\n",
    "    },\n",
    "    # 세션 ID를 설정\n",
    "    # 여기서는 간단한 메모리 내 ChatMessageHistory를 사용하기 때문에 실제로 사용되지 않음\n",
    "    config={\"configurable\": {\"session_id\": \"ab\"}},\n",
    ")\n",
    "\n",
    "for step in response:\n",
    "    agent_stream_parser.process_agent_steps(step)"
   ]
  },
  {
   "cell_type": "code",
   "execution_count": 10,
   "metadata": {},
   "outputs": [
    {
     "name": "stdout",
     "output_type": "stream",
     "text": [
      "README.md\n"
     ]
    }
   ],
   "source": [
    "import os\n"
   ]
  }
 ],
 "metadata": {
  "kernelspec": {
   "display_name": "Python 3",
   "language": "python",
   "name": "python3"
  },
  "language_info": {
   "codemirror_mode": {
    "name": "ipython",
    "version": 3
   },
   "file_extension": ".py",
   "mimetype": "text/x-python",
   "name": "python",
   "nbconvert_exporter": "python",
   "pygments_lexer": "ipython3",
   "version": "3.10.13"
  }
 },
 "nbformat": 4,
 "nbformat_minor": 5
}
