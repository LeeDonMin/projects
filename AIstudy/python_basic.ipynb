{
 "cells": [
  {
   "cell_type": "markdown",
   "metadata": {},
   "source": [
    "#**<span style=\"color: orange;\">연산자</span>**  \n",
    "1.숫자 연산자\n",
    "|연산자|설명|예시|결과|\n",
    "|-----|----|----|----|\n",
    "|+|덧셈|5+3|8|\n",
    "|-|뺄셈|3-1|2|\n",
    "|*|곱셈|3*2|6|\n",
    "|/|나눗셈|10/5|2.0 **(float)**|\n",
    "|//|몫|10//3|3 **(int)**|\n",
    "|%|나머지|10%3|1|\n",
    "|**|제곱|2**3|8|\n"
   ]
  },
  {
   "cell_type": "code",
   "execution_count": null,
   "metadata": {},
   "outputs": [],
   "source": [
    "result = 5+3\n",
    "print(result)\n",
    "result = 3-1\n",
    "print(result)\n",
    "result = 3*2\n",
    "print(result)\n",
    "result = 10/5\n",
    "print(result)\n",
    "result = 10//3\n",
    "print(result)\n",
    "result = 10%3\n",
    "print(result)\n",
    "result = 2**3\n",
    "print(result)"
   ]
  },
  {
   "cell_type": "markdown",
   "metadata": {},
   "source": [
    "결과  \n",
    "8  \n",
    "2  \n",
    "6  \n",
    "2.0  \n",
    "3  \n",
    "1  \n",
    "8  \n"
   ]
  },
  {
   "cell_type": "markdown",
   "metadata": {},
   "source": [
    "2.문자열 연산"
   ]
  },
  {
   "cell_type": "code",
   "execution_count": null,
   "metadata": {},
   "outputs": [],
   "source": [
    "first_name = \"이\"\n",
    "last_name = \"돈민\"\n",
    "\n",
    "full_name = first_name + last_name\n",
    "print(full_name) \n",
    "greeting = \"안녕하세요, \" + full_name + \"님!\"\n",
    "print(greeting) \n",
    "print(len(greeting))\n",
    "print(greeting[1])\n",
    "print(greeting[-1])\n",
    "print(greeting[:2])\n",
    "print(greeting[1:12:1])\n",
    "print(greeting[::-1])\n",
    "age = 25\n",
    "message = f\"안녕하세요, 저는 {full_name}이고 {age}살입니다.\"\n",
    "print(message) "
   ]
  },
  {
   "cell_type": "markdown",
   "metadata": {},
   "source": [
    "결과  \n",
    "이돈민  \n",
    "안녕하세요, 이돈민님!  \n",
    "12  \n",
    "녕  \n",
    "!  \n",
    "안녕  \n",
    "녕하세요, 이돈민님!  \n",
    "!님민돈이 ,요세하녕안  \n",
    "안녕하세요, 저는 이돈민이고 25살입니다.  \n"
   ]
  },
  {
   "cell_type": "markdown",
   "metadata": {},
   "source": [
    "-자주 사용하는 문자열 메서드"
   ]
  },
  {
   "cell_type": "code",
   "execution_count": 26,
   "metadata": {},
   "outputs": [
    {
     "data": {
      "text/plain": [
       "'apple,banana,orange'"
      ]
     },
     "execution_count": 26,
     "metadata": {},
     "output_type": "execute_result"
    }
   ],
   "source": [
    "\"HELlo\".lower() ## 결과 \"hello\"\n",
    "\"HELlo\".upper() ## 결과 \"HELLO\"\n",
    "\"  Hello  \".strip() ## 결과 \"Hello\"\n",
    "\"Hello, world!\".replace(\"world\", \"Python\") ## 결과 \"Hello, Python!\"\n",
    "\"apple,banana,orange\".split(\",\") ## 결과 ['apple', 'banana', 'orange']\n",
    "\"안녕하세요 \".split(\" \") ## 결과 ['안녕하세요', '']\n",
    "\",\".join(['apple', 'banana', 'orange']) ##결과 'apple,banana,orange'"
   ]
  },
  {
   "cell_type": "markdown",
   "metadata": {},
   "source": [
    "3.비교연산자   \n",
    "|연산자|설명|예시|결과|\n",
    "|--|--|--|--|\n",
    "|==|같다|10==10|True|\n",
    "|!=|같지 않다|10!=5|True|\n",
    "|>|크다|10>5|True|\n",
    "|<|작다|6<10|True|\n",
    "|>=|크거나 같다|10>=10|True|\n",
    "|<=|작거나 같다|6<=10|True|"
   ]
  },
  {
   "cell_type": "code",
   "execution_count": 27,
   "metadata": {},
   "outputs": [
    {
     "name": "stdout",
     "output_type": "stream",
     "text": [
      "잘했어요! B 학점입니다.\n"
     ]
    }
   ],
   "source": [
    "score = 85\n",
    "\n",
    "if score >= 90:\n",
    "    print(\"축하합니다! A 학점입니다.\")\n",
    "elif score >= 80:\n",
    "    print(\"잘했어요! B 학점입니다.\")\n",
    "elif score >= 70:\n",
    "    print(\"괜찮아요! C 학점입니다.\")\n",
    "else:\n",
    "    print(\"좀 더 노력하세요! D 학점입니다.\")\n"
   ]
  },
  {
   "cell_type": "markdown",
   "metadata": {},
   "source": [
    "and = & , or = |"
   ]
  },
  {
   "cell_type": "code",
   "execution_count": 34,
   "metadata": {},
   "outputs": [
    {
     "name": "stdout",
     "output_type": "stream",
     "text": [
      "조건을 만족하지 않습니다.\n",
      "조건을 만족하지 않습니다.\n",
      "조건을 만족합니다.\n",
      "조건을 만족합니다.\n"
     ]
    }
   ],
   "source": [
    "age = 18\n",
    "height = 180\n",
    "\n",
    "if age >= 19 and height >= 170:\n",
    "    print(\"조건을 만족합니다.\")\n",
    "else:\n",
    "    print(\"조건을 만족하지 않습니다.\")\n",
    "if (age >= 19)&(height >= 170):\n",
    "    print(\"조건을 만족합니다.\")\n",
    "else:\n",
    "    print(\"조건을 만족하지 않습니다.\")\n",
    "if age >= 19 or height >= 170:\n",
    "    print(\"조건을 만족합니다.\")\n",
    "else:\n",
    "    print(\"조건을 만족하지 않습니다.\")\n",
    "if (age >= 19)|(height >= 170):\n",
    "    print(\"조건을 만족합니다.\")\n",
    "else:\n",
    "    print(\"조건을 만족하지 않습니다.\")"
   ]
  },
  {
   "cell_type": "code",
   "execution_count": null,
   "metadata": {},
   "outputs": [],
   "source": []
  }
 ],
 "metadata": {
  "kernelspec": {
   "display_name": "base",
   "language": "python",
   "name": "python3"
  },
  "language_info": {
   "codemirror_mode": {
    "name": "ipython",
    "version": 3
   },
   "file_extension": ".py",
   "mimetype": "text/x-python",
   "name": "python",
   "nbconvert_exporter": "python",
   "pygments_lexer": "ipython3",
   "version": "3.12.4"
  }
 },
 "nbformat": 4,
 "nbformat_minor": 2
}
