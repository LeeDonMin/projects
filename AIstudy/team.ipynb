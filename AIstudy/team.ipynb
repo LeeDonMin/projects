{
 "cells": [
  {
   "cell_type": "code",
   "execution_count": 3,
   "metadata": {},
   "outputs": [],
   "source": [
    "import pandas as pd\n",
    "\n",
    "df =pd.read_csv('bike_usage_0.csv', encoding='CP949')"
   ]
  },
  {
   "cell_type": "code",
   "execution_count": 4,
   "metadata": {},
   "outputs": [
    {
     "name": "stdout",
     "output_type": "stream",
     "text": [
      "<class 'pandas.core.frame.DataFrame'>\n",
      "RangeIndex: 36595 entries, 0 to 36594\n",
      "Data columns (total 15 columns):\n",
      " #   Column           Non-Null Count  Dtype \n",
      "---  ------           --------------  ----- \n",
      " 0   Date_out         36595 non-null  object\n",
      " 1   Time_out         36595 non-null  int64 \n",
      " 2   Station_no_out   36595 non-null  int64 \n",
      " 3   Station_out      36595 non-null  object\n",
      " 4   Membership_type  36595 non-null  object\n",
      " 5   Gender           18262 non-null  object\n",
      " 6   Age_Group        36595 non-null  object\n",
      " 7   Momentum         36595 non-null  object\n",
      " 8   Station_no_in    36595 non-null  int64 \n",
      " 9   Station_in       36595 non-null  object\n",
      " 10  Date_in          36595 non-null  object\n",
      " 11  Bike_no          36595 non-null  object\n",
      " 12  Carbon_amount    36595 non-null  object\n",
      " 13  Distance         36595 non-null  int64 \n",
      " 14  Duration         36595 non-null  int64 \n",
      "dtypes: int64(5), object(10)\n",
      "memory usage: 4.2+ MB\n"
     ]
    }
   ],
   "source": [
    "df.info()"
   ]
  },
  {
   "cell_type": "code",
   "execution_count": 5,
   "metadata": {},
   "outputs": [
    {
     "data": {
      "text/html": [
       "<div>\n",
       "<style scoped>\n",
       "    .dataframe tbody tr th:only-of-type {\n",
       "        vertical-align: middle;\n",
       "    }\n",
       "\n",
       "    .dataframe tbody tr th {\n",
       "        vertical-align: top;\n",
       "    }\n",
       "\n",
       "    .dataframe thead th {\n",
       "        text-align: right;\n",
       "    }\n",
       "</style>\n",
       "<table border=\"1\" class=\"dataframe\">\n",
       "  <thead>\n",
       "    <tr style=\"text-align: right;\">\n",
       "      <th></th>\n",
       "      <th>Date_out</th>\n",
       "      <th>Time_out</th>\n",
       "      <th>Station_no_out</th>\n",
       "      <th>Station_out</th>\n",
       "      <th>Membership_type</th>\n",
       "      <th>Gender</th>\n",
       "      <th>Age_Group</th>\n",
       "      <th>Momentum</th>\n",
       "      <th>Station_no_in</th>\n",
       "      <th>Station_in</th>\n",
       "      <th>Date_in</th>\n",
       "      <th>Bike_no</th>\n",
       "      <th>Carbon_amount</th>\n",
       "      <th>Distance</th>\n",
       "      <th>Duration</th>\n",
       "    </tr>\n",
       "  </thead>\n",
       "  <tbody>\n",
       "    <tr>\n",
       "      <th>0</th>\n",
       "      <td>2019-10-03</td>\n",
       "      <td>0</td>\n",
       "      <td>129</td>\n",
       "      <td>129. 신촌역(2호선) 6번출구 옆</td>\n",
       "      <td>정기권</td>\n",
       "      <td>NaN</td>\n",
       "      <td>~10대</td>\n",
       "      <td>28.27</td>\n",
       "      <td>122</td>\n",
       "      <td>신성기사식당 앞</td>\n",
       "      <td>2019-10-03 오전 12:20:42</td>\n",
       "      <td>SPB-15000</td>\n",
       "      <td>0.24</td>\n",
       "      <td>1050</td>\n",
       "      <td>5</td>\n",
       "    </tr>\n",
       "    <tr>\n",
       "      <th>1</th>\n",
       "      <td>2019-10-03</td>\n",
       "      <td>0</td>\n",
       "      <td>150</td>\n",
       "      <td>150. 서강대역 2번출구 앞</td>\n",
       "      <td>정기권</td>\n",
       "      <td>NaN</td>\n",
       "      <td>20대</td>\n",
       "      <td>146.46</td>\n",
       "      <td>2065</td>\n",
       "      <td>서울시여성가족재단</td>\n",
       "      <td>2019-10-03 오전 1:16 2</td>\n",
       "      <td>SPB-13087</td>\n",
       "      <td>1.32</td>\n",
       "      <td>5690</td>\n",
       "      <td>32</td>\n",
       "    </tr>\n",
       "    <tr>\n",
       "      <th>2</th>\n",
       "      <td>2019-10-03</td>\n",
       "      <td>0</td>\n",
       "      <td>240</td>\n",
       "      <td>240. 문래역 4번출구 앞</td>\n",
       "      <td>정기권</td>\n",
       "      <td>NaN</td>\n",
       "      <td>20대</td>\n",
       "      <td>37.13</td>\n",
       "      <td>245</td>\n",
       "      <td>삼성생명 당산사옥 앞</td>\n",
       "      <td>2019-10-03 오전 12:18:21</td>\n",
       "      <td>SPB-23229</td>\n",
       "      <td>0.29</td>\n",
       "      <td>1250</td>\n",
       "      <td>10</td>\n",
       "    </tr>\n",
       "    <tr>\n",
       "      <th>3</th>\n",
       "      <td>2019-10-03</td>\n",
       "      <td>0</td>\n",
       "      <td>623</td>\n",
       "      <td>623. 서울시립대 정문 앞</td>\n",
       "      <td>정기권</td>\n",
       "      <td>NaN</td>\n",
       "      <td>20대</td>\n",
       "      <td>134.62</td>\n",
       "      <td>1346</td>\n",
       "      <td>길음8골어린이공원 옆</td>\n",
       "      <td>2019-10-03 오전 1:15:39</td>\n",
       "      <td>SPB-14181</td>\n",
       "      <td>1.21</td>\n",
       "      <td>5230</td>\n",
       "      <td>24</td>\n",
       "    </tr>\n",
       "    <tr>\n",
       "      <th>4</th>\n",
       "      <td>2019-10-03</td>\n",
       "      <td>0</td>\n",
       "      <td>633</td>\n",
       "      <td>633. 청량리 기업은행 앞</td>\n",
       "      <td>정기권</td>\n",
       "      <td>NaN</td>\n",
       "      <td>20대</td>\n",
       "      <td>85.83</td>\n",
       "      <td>568</td>\n",
       "      <td>청계8가사거리 부근</td>\n",
       "      <td>2019-10-03 오전 12:17:58</td>\n",
       "      <td>SPB-15221</td>\n",
       "      <td>0.67</td>\n",
       "      <td>2890</td>\n",
       "      <td>11</td>\n",
       "    </tr>\n",
       "  </tbody>\n",
       "</table>\n",
       "</div>"
      ],
      "text/plain": [
       "     Date_out  Time_out  Station_no_out           Station_out Membership_type  \\\n",
       "0  2019-10-03         0             129  129. 신촌역(2호선) 6번출구 옆             정기권   \n",
       "1  2019-10-03         0             150      150. 서강대역 2번출구 앞             정기권   \n",
       "2  2019-10-03         0             240       240. 문래역 4번출구 앞             정기권   \n",
       "3  2019-10-03         0             623       623. 서울시립대 정문 앞             정기권   \n",
       "4  2019-10-03         0             633       633. 청량리 기업은행 앞             정기권   \n",
       "\n",
       "  Gender Age_Group Momentum  Station_no_in   Station_in  \\\n",
       "0    NaN      ~10대    28.27            122     신성기사식당 앞   \n",
       "1    NaN       20대   146.46           2065    서울시여성가족재단   \n",
       "2    NaN       20대    37.13            245  삼성생명 당산사옥 앞   \n",
       "3    NaN       20대   134.62           1346  길음8골어린이공원 옆   \n",
       "4    NaN       20대    85.83            568   청계8가사거리 부근   \n",
       "\n",
       "                  Date_in    Bike_no Carbon_amount  Distance  Duration  \n",
       "0  2019-10-03 오전 12:20:42  SPB-15000          0.24      1050         5  \n",
       "1    2019-10-03 오전 1:16 2  SPB-13087          1.32      5690        32  \n",
       "2  2019-10-03 오전 12:18:21  SPB-23229          0.29      1250        10  \n",
       "3   2019-10-03 오전 1:15:39  SPB-14181          1.21      5230        24  \n",
       "4  2019-10-03 오전 12:17:58  SPB-15221          0.67      2890        11  "
      ]
     },
     "execution_count": 5,
     "metadata": {},
     "output_type": "execute_result"
    }
   ],
   "source": [
    "df.head()"
   ]
  },
  {
   "cell_type": "code",
   "execution_count": 6,
   "metadata": {},
   "outputs": [
    {
     "name": "stdout",
     "output_type": "stream",
     "text": [
      "         Date_out  Time_out  Station_no_out           Station_out  \\\n",
      "0      2019-10-03         0             129  129. 신촌역(2호선) 6번출구 옆   \n",
      "1      2019-10-03         0             150      150. 서강대역 2번출구 앞   \n",
      "2      2019-10-03         0             240       240. 문래역 4번출구 앞   \n",
      "3      2019-10-03         0             623       623. 서울시립대 정문 앞   \n",
      "4      2019-10-03         0             633       633. 청량리 기업은행 앞   \n",
      "...           ...       ...             ...                   ...   \n",
      "36590  2019-10-05        23             130  130. 신촌역(2호선) 7번출구 앞   \n",
      "36591  2019-10-05        23            2215      2215. 반포종합운동장 입구   \n",
      "36592  2019-10-05        23             654         654. 전농동 텃골공원   \n",
      "36593  2019-10-05        23             119          119. 서강나루 공원   \n",
      "36594  2019-10-05        23             630         630. 동대문구 보건소   \n",
      "\n",
      "      Membership_type Gender Age_Group Momentum  Station_no_in    Station_in  \\\n",
      "0                 정기권    NaN      ~10대    28.27            122      신성기사식당 앞   \n",
      "1                 정기권    NaN       20대   146.46           2065     서울시여성가족재단   \n",
      "2                 정기권    NaN       20대    37.13            245   삼성생명 당산사옥 앞   \n",
      "3                 정기권    NaN       20대   134.62           1346   길음8골어린이공원 옆   \n",
      "4                 정기권    NaN       20대    85.83            568    청계8가사거리 부근   \n",
      "...               ...    ...       ...      ...            ...           ...   \n",
      "36590             일일권      M       30대   110.06            432       마포중앙도서관   \n",
      "36591             일일권      M       30대   153.15           2221  하나은행 방배동지점 앞   \n",
      "36592             일일권      M       40대    65.12            654      전농동 텃골공원   \n",
      "36593             일일권      M       40대    78.76           3102         연희삼거리   \n",
      "36594             단체권    NaN       20대    22.83            660        동의보감타워   \n",
      "\n",
      "                  Date_in    Bike_no Carbon_amount  Distance  Duration  \n",
      "0     2019-10-03 00:20:42  SPB-15000          0.24      1050         5  \n",
      "1                     NaT  SPB-13087          1.32      5690        32  \n",
      "2     2019-10-03 00:18:21  SPB-23229          0.29      1250        10  \n",
      "3     2019-10-03 01:15:39  SPB-14181          1.21      5230        24  \n",
      "4     2019-10-03 00:17:58  SPB-15221          0.67      2890        11  \n",
      "...                   ...        ...           ...       ...       ...  \n",
      "36590 2019-10-06 00:06:20  SPB-14263           0.9      3860        23  \n",
      "36591 2019-10-06 00:27:55  SPB-17557          1.38      5950        32  \n",
      "36592 2019-10-06 00:09:12  SPB-18226          0.59      2530        17  \n",
      "36593 2019-10-05 23:44:39  SPB-21624          0.71      3060        17  \n",
      "36594 2019-10-05 23:27:13  SPB-02538          0.14       620         5  \n",
      "\n",
      "[36595 rows x 15 columns]\n",
      "<class 'numpy.ndarray'>\n",
      "<class 'numpy.datetime64'>\n",
      "2019-10-03T00:20:42.000000000\n"
     ]
    }
   ],
   "source": [
    "df['Date_in'] = df['Date_in'].str.replace('오전', 'AM').str.replace('오후', 'PM')\n",
    "\n",
    "# 날짜 형식 변환, Date_in 의 type 을 pandas datetime 클래스로 바꿔줘야함 \n",
    "df['Date_in'] = pd.to_datetime(df['Date_in'], format='%Y-%m-%d %p %I:%M:%S', errors='coerce')\n",
    "\n",
    "print(df)\n",
    "print(type(df['Date_in'].values))  # numpy.ndarray\n",
    "print(type(df['Date_in'].values[0]))  # numpy.datetime64\n",
    "print(df['Date_in'].values[0])  # 시계열 데이터 값"
   ]
  },
  {
   "cell_type": "code",
   "execution_count": 7,
   "metadata": {},
   "outputs": [
    {
     "data": {
      "text/plain": [
       "numpy.datetime64('2019-10-03T00:20:42.000000000')"
      ]
     },
     "execution_count": 7,
     "metadata": {},
     "output_type": "execute_result"
    }
   ],
   "source": [
    "type(df['Date_in'].values)\n",
    "type(df['Date_in'].values[0])\n",
    "df['Date_in'].values[0]"
   ]
  },
  {
   "cell_type": "code",
   "execution_count": 8,
   "metadata": {},
   "outputs": [
    {
     "data": {
      "text/plain": [
       "pandas._libs.tslibs.timestamps.Timestamp"
      ]
     },
     "execution_count": 8,
     "metadata": {},
     "output_type": "execute_result"
    }
   ],
   "source": [
    "type(df.iloc[0]['Date_in'])"
   ]
  },
  {
   "cell_type": "code",
   "execution_count": 9,
   "metadata": {},
   "outputs": [],
   "source": [
    "df_part = df.iloc[:5]"
   ]
  },
  {
   "cell_type": "code",
   "execution_count": 10,
   "metadata": {},
   "outputs": [],
   "source": [
    "# 날짜를 내림차순으로 정렬\n",
    "df = df.sort_values(by='Date_in', ascending=False).reset_index(drop=True)\n"
   ]
  },
  {
   "cell_type": "code",
   "execution_count": 11,
   "metadata": {},
   "outputs": [
    {
     "data": {
      "text/html": [
       "<div>\n",
       "<style scoped>\n",
       "    .dataframe tbody tr th:only-of-type {\n",
       "        vertical-align: middle;\n",
       "    }\n",
       "\n",
       "    .dataframe tbody tr th {\n",
       "        vertical-align: top;\n",
       "    }\n",
       "\n",
       "    .dataframe thead th {\n",
       "        text-align: right;\n",
       "    }\n",
       "</style>\n",
       "<table border=\"1\" class=\"dataframe\">\n",
       "  <thead>\n",
       "    <tr style=\"text-align: right;\">\n",
       "      <th></th>\n",
       "      <th>Date_out</th>\n",
       "      <th>Time_out</th>\n",
       "      <th>Station_no_out</th>\n",
       "      <th>Station_out</th>\n",
       "      <th>Membership_type</th>\n",
       "      <th>Gender</th>\n",
       "      <th>Age_Group</th>\n",
       "      <th>Momentum</th>\n",
       "      <th>Station_no_in</th>\n",
       "      <th>Station_in</th>\n",
       "      <th>Date_in</th>\n",
       "      <th>Bike_no</th>\n",
       "      <th>Carbon_amount</th>\n",
       "      <th>Distance</th>\n",
       "      <th>Duration</th>\n",
       "    </tr>\n",
       "  </thead>\n",
       "  <tbody>\n",
       "    <tr>\n",
       "      <th>0</th>\n",
       "      <td>2019-10-05</td>\n",
       "      <td>23</td>\n",
       "      <td>186</td>\n",
       "      <td>186. 월드컵공원</td>\n",
       "      <td>일일권</td>\n",
       "      <td>NaN</td>\n",
       "      <td>20대</td>\n",
       "      <td>254.47</td>\n",
       "      <td>907</td>\n",
       "      <td>CJ 드림시티</td>\n",
       "      <td>2019-10-06 02:00:47</td>\n",
       "      <td>SPB-04304</td>\n",
       "      <td>2.48</td>\n",
       "      <td>10710</td>\n",
       "      <td>132</td>\n",
       "    </tr>\n",
       "    <tr>\n",
       "      <th>1</th>\n",
       "      <td>2019-10-05</td>\n",
       "      <td>23</td>\n",
       "      <td>186</td>\n",
       "      <td>186. 월드컵공원</td>\n",
       "      <td>정기권</td>\n",
       "      <td>NaN</td>\n",
       "      <td>20대</td>\n",
       "      <td>230.87</td>\n",
       "      <td>907</td>\n",
       "      <td>CJ 드림시티</td>\n",
       "      <td>2019-10-06 02:00:18</td>\n",
       "      <td>SPB-04841</td>\n",
       "      <td>2.46</td>\n",
       "      <td>10600</td>\n",
       "      <td>133</td>\n",
       "    </tr>\n",
       "    <tr>\n",
       "      <th>2</th>\n",
       "      <td>2019-10-05</td>\n",
       "      <td>23</td>\n",
       "      <td>2220</td>\n",
       "      <td>2220. 반포본동 주민센터 앞</td>\n",
       "      <td>일일권</td>\n",
       "      <td>NaN</td>\n",
       "      <td>20대</td>\n",
       "      <td>127.44</td>\n",
       "      <td>843</td>\n",
       "      <td>녹사평역 광장</td>\n",
       "      <td>2019-10-06 01:48:01</td>\n",
       "      <td>SPB-25144</td>\n",
       "      <td>1.46</td>\n",
       "      <td>6310</td>\n",
       "      <td>131</td>\n",
       "    </tr>\n",
       "    <tr>\n",
       "      <th>3</th>\n",
       "      <td>2019-10-05</td>\n",
       "      <td>23</td>\n",
       "      <td>143</td>\n",
       "      <td>143. 공덕역 2번출구</td>\n",
       "      <td>일일권</td>\n",
       "      <td>F</td>\n",
       "      <td>30대</td>\n",
       "      <td>77.43</td>\n",
       "      <td>143</td>\n",
       "      <td>공덕역 2번출구</td>\n",
       "      <td>2019-10-06 01:32:50</td>\n",
       "      <td>SPB-15563</td>\n",
       "      <td>0.97</td>\n",
       "      <td>4160</td>\n",
       "      <td>108</td>\n",
       "    </tr>\n",
       "    <tr>\n",
       "      <th>4</th>\n",
       "      <td>2019-10-05</td>\n",
       "      <td>23</td>\n",
       "      <td>437</td>\n",
       "      <td>437. 대흥역 1번출구</td>\n",
       "      <td>일일권</td>\n",
       "      <td>M</td>\n",
       "      <td>20대</td>\n",
       "      <td>346.1</td>\n",
       "      <td>437</td>\n",
       "      <td>대흥역 1번출구</td>\n",
       "      <td>2019-10-06 01:26:17</td>\n",
       "      <td>SPB-25415</td>\n",
       "      <td>2.67</td>\n",
       "      <td>11500</td>\n",
       "      <td>109</td>\n",
       "    </tr>\n",
       "  </tbody>\n",
       "</table>\n",
       "</div>"
      ],
      "text/plain": [
       "     Date_out  Time_out  Station_no_out        Station_out Membership_type  \\\n",
       "0  2019-10-05        23             186         186. 월드컵공원             일일권   \n",
       "1  2019-10-05        23             186         186. 월드컵공원             정기권   \n",
       "2  2019-10-05        23            2220  2220. 반포본동 주민센터 앞             일일권   \n",
       "3  2019-10-05        23             143      143. 공덕역 2번출구             일일권   \n",
       "4  2019-10-05        23             437      437. 대흥역 1번출구             일일권   \n",
       "\n",
       "  Gender Age_Group Momentum  Station_no_in Station_in             Date_in  \\\n",
       "0    NaN       20대   254.47            907    CJ 드림시티 2019-10-06 02:00:47   \n",
       "1    NaN       20대   230.87            907    CJ 드림시티 2019-10-06 02:00:18   \n",
       "2    NaN       20대   127.44            843    녹사평역 광장 2019-10-06 01:48:01   \n",
       "3      F       30대    77.43            143   공덕역 2번출구 2019-10-06 01:32:50   \n",
       "4      M       20대    346.1            437   대흥역 1번출구 2019-10-06 01:26:17   \n",
       "\n",
       "     Bike_no Carbon_amount  Distance  Duration  \n",
       "0  SPB-04304          2.48     10710       132  \n",
       "1  SPB-04841          2.46     10600       133  \n",
       "2  SPB-25144          1.46      6310       131  \n",
       "3  SPB-15563          0.97      4160       108  \n",
       "4  SPB-25415          2.67     11500       109  "
      ]
     },
     "execution_count": 11,
     "metadata": {},
     "output_type": "execute_result"
    }
   ],
   "source": [
    "df.head()"
   ]
  },
  {
   "cell_type": "code",
   "execution_count": 32,
   "metadata": {},
   "outputs": [
    {
     "name": "stdout",
     "output_type": "stream",
     "text": [
      "Franklin Gothic Medium Cond\n",
      "Copperplate Gothic Light\n",
      "Franklin Gothic Demi Cond\n",
      "Malgun Gothic\n",
      "Malgun Gothic\n",
      "Copperplate Gothic Bold\n",
      "Century Gothic\n",
      "Yu Gothic\n",
      "Franklin Gothic Book\n",
      "Franklin Gothic Medium\n",
      "Franklin Gothic Heavy\n",
      "Franklin Gothic Heavy\n",
      "HYGothic-Medium\n",
      "Franklin Gothic Book\n",
      "Yu Gothic\n",
      "Century Gothic\n",
      "Century Gothic\n",
      "Hancom Gothic\n",
      "Century Gothic\n",
      "Yu Gothic\n",
      "Hancom Gothic\n",
      "HYGothic-Extra\n",
      "Yu Gothic\n",
      "Franklin Gothic Demi\n",
      "MS Gothic\n",
      "Franklin Gothic Demi\n",
      "Malgun Gothic\n",
      "Franklin Gothic Medium\n",
      "Showcard Gothic\n"
     ]
    }
   ],
   "source": [
    "import matplotlib.font_manager as fm \n",
    "fonts = [f.name for f in fm.fontManager.ttflist ] \n",
    "for font in fonts:\n",
    "    if 'gothic' in font.lower():\n",
    "        print(font)"
   ]
  },
  {
   "cell_type": "code",
   "execution_count": null,
   "metadata": {},
   "outputs": [],
   "source": [
    "import matplotlib.pyplot as plt\n",
    "from matplotlib import rc\n",
    "## 폰트 깨짐 해결\n",
    "plt.rc('font', family='Malgun Gothic')\n",
    "plt.rcParams['axes.unicode_minus'] = False "
   ]
  },
  {
   "cell_type": "code",
   "execution_count": 34,
   "metadata": {},
   "outputs": [
    {
     "data": {
      "text/plain": [
       "<Axes: >"
      ]
     },
     "execution_count": 34,
     "metadata": {},
     "output_type": "execute_result"
    },
    {
     "data": {
      "image/png": "[encoded data removed]",
      "text/plain": [
       "<Figure size 640x480 with 1 Axes>"
      ]
     },
     "metadata": {},
     "output_type": "display_data"
    }
   ],
   "source": [
    "df['Age_Group'].hist()"
   ]
  },
  {
   "cell_type": "code",
   "execution_count": null,
   "metadata": {},
   "outputs": [],
   "source": [
    "# Age_Group의 범주형 데이터 순서 지정\n",
    "age_categories = ['~10대', '20대', '30대', '40대', '50대', '60대', '70대~']\n",
    "df['Age_Group'] = pd.Categorical(df['Age_Group'], categories=age_categories, ordered=True)\n",
    "\n",
    "# 히스토그램 생성\n",
    "ax = df['Age_Group'].value_counts(sort=False).plot(kind='bar')"
   ]
  },
  {
   "cell_type": "code",
   "execution_count": null,
   "metadata": {},
   "outputs": [],
   "source": [
    "# 예제 데이터 프레임 생성\n",
    "# data = {'Age_Group': ['a', 'b', 'a', 'c', 'b', 'a']}\n",
    "# df = pd.DataFrame(data)\n",
    "\n",
    "# # 매핑 딕셔너리 생성\n",
    "# category_mapping = {'a': 1, 'b': 2, 'c': 3}\n",
    "\n",
    "category_mapping = {a:i for i, a in enumerate(age_categories)}\n",
    "print(category_mapping)\n",
    "\n",
    "# 범주형 데이터를 숫자형 데이터로 변환, 연령을 그래프로 찍기 위해서 \n",
    "df['Age_Group'] = df['Age_Group'].map(category_mapping)"
   ]
  },
  {
   "cell_type": "code",
   "execution_count": null,
   "metadata": {},
   "outputs": [],
   "source": [
    "df.plot.scatter(x='Age_Group', y='Distance')"
   ]
  },
  {
   "cell_type": "code",
   "execution_count": null,
   "metadata": {},
   "outputs": [],
   "source": [
    "df['Age_Group'].values"
   ]
  },
  {
   "cell_type": "code",
   "execution_count": null,
   "metadata": {},
   "outputs": [],
   "source": [
    "# 그래프 생성\n",
    "fig, ax = plt.subplots()\n",
    "\n",
    "# 카테고리별 데이터 산점도\n",
    "for category in df['Age_Group'].unique():\n",
    "    subset = df[df['Age_Group'] == category]\n",
    "    ax.scatter(subset['Age_Group'], subset['Distance'], label=f'Data points ({category})')\n",
    "\n",
    "\n",
    "# 카테고리형 데이터 기준으로 그룹바이하여 평균과 표준편차 계산\n",
    "grouped = df.groupby('Age_Group')['Distance'].agg(['mean', 'std']).reset_index()\n",
    "\n",
    "# 평균과 표준편차 에러바 추가\n",
    "ax.errorbar(grouped['Age_Group'], grouped['mean'], yerr=grouped['std'], fmt='o', color='red', label='Mean ± STD')\n",
    "\n",
    "# 그래프 레이블 설정\n",
    "ax.set_xlabel('Age_Group')\n",
    "ax.set_ylabel('Distance')\n",
    "ax.set_title('Scatter Plot with Mean and Standard Deviation')\n",
    "ax.legend()\n",
    "\n",
    "plt.show()"
   ]
  },
  {
   "cell_type": "code",
   "execution_count": null,
   "metadata": {},
   "outputs": [],
   "source": [
    "df.head()"
   ]
  },
  {
   "cell_type": "code",
   "execution_count": null,
   "metadata": {},
   "outputs": [],
   "source": [
    "df['Station_out'].sample(100)"
   ]
  },
  {
   "cell_type": "code",
   "execution_count": null,
   "metadata": {},
   "outputs": [],
   "source": [
    "df2 = pd.read_csv('stations.csv')"
   ]
  },
  {
   "cell_type": "code",
   "execution_count": null,
   "metadata": {},
   "outputs": [],
   "source": [
    "df2.head()"
   ]
  },
  {
   "cell_type": "code",
   "execution_count": null,
   "metadata": {},
   "outputs": [],
   "source": [
    "df3 = pd.read_csv('weather.csv')\n",
    "df3.head()"
   ]
  },
  {
   "cell_type": "markdown",
   "metadata": {},
   "source": [
    "# 결측값 처리하고 시작하기"
   ]
  },
  {
   "cell_type": "markdown",
   "metadata": {},
   "source": [
    "### 해볼 수 있는 것 . 순서대로 풀지 않아도 됨. 팀 별 분석 아이디어 구현이 더 중요\n"
   ]
  },
  {
   "cell_type": "code",
   "execution_count": null,
   "metadata": {},
   "outputs": [],
   "source": [
    "# 문제 1 \n",
    "# 연령과 주행 거리의 관계 그래프 \n",
    "import pandas as pd\n",
    "import datetime\n",
    "df =pd.read_csv('bike_usage_0.csv', encoding='CP949', parse_dates=['Date_in','Time_out'])\n",
    "df['Date_in'] = df['Date_in'].str.replace('오전', 'AM').str.replace('오후', 'PM')\n",
    "df['Date_in'] = pd.to_datetime(df['Date_in'], format='%Y-%m-%d %p %I:%M:%S', errors='coerce')\n",
    "df['Time_out'] = df['Date_in']-df['Duration'].apply(pd.offsets.Minute)\n",
    "df.head()"
   ]
  },
  {
   "cell_type": "code",
   "execution_count": null,
   "metadata": {},
   "outputs": [],
   "source": [
    "# 문제 2 \n",
    "# 연령별 가장 많이 자전거 빌리는 곳 = 그 연령대 거주지 혹은 핫플레이스\n"
   ]
  },
  {
   "cell_type": "code",
   "execution_count": null,
   "metadata": {},
   "outputs": [],
   "source": [
    "# 문제 3\n",
    "# 현재 자전거가 가장 많이 주차되어 있는 곳 "
   ]
  },
  {
   "cell_type": "code",
   "execution_count": null,
   "metadata": {},
   "outputs": [],
   "source": [
    "# 문제 4 \n",
    "# 출퇴근 시간대에 가장 많이 빌리는 곳. 시간대 오전 8시~9시를 설정해서 풀기 pandas.datetime 클래스 검색해서 사용법 찾기 \n"
   ]
  },
  {
   "cell_type": "code",
   "execution_count": null,
   "metadata": {},
   "outputs": [],
   "source": [
    "# 문제 5 \n",
    "# date out 컬럼을 Duration과 date in 시간으로 계산\n"
   ]
  },
  {
   "cell_type": "code",
   "execution_count": null,
   "metadata": {},
   "outputs": [],
   "source": [
    "# 문제 6 \n",
    "# 전체 대여건 연령 분포 히스토그램 \n",
    "# 특정 정거장의 연령 분포 히스토그램 그리기 \n"
   ]
  },
  {
   "cell_type": "code",
   "execution_count": null,
   "metadata": {},
   "outputs": [],
   "source": [
    "# 문제 7\n",
    "# 가장 긴 거리 주행한 건의 거리는?\n",
    "# 가장 긴 누적 주행거리를 가진 자전거 구하기? \n"
   ]
  },
  {
   "cell_type": "code",
   "execution_count": null,
   "metadata": {},
   "outputs": [],
   "source": [
    "import pandas as pd\n",
    "import matplotlib.pyplot as plt\n",
    "import seaborn as sns\n",
    "BIKEdata = pd.read_csv('bike_usage_0.csv', encoding='CP949')\n",
    "STATIONdata = pd.read_csv('stations.csv')\n",
    "WEATHERdata = pd.read_csv('weather.csv')\n",
    "\n",
    "#Membership_type, Gender Age_Group Momentum Station_no_in Station_in Date_in Bike_no Carbon_amount Distance Duration\n",
    "#Gu ID Station Address Latitude Longitude Date No_of_Racks\n",
    "#date_old: 날짜 시간 분  date time temp cum_precipitation강수량 humidity 습도 insolation일사량 sunshine 밝기?  wind 바람 \n",
    "#wind_direction   sealvlpressure"
   ]
  },
  {
   "cell_type": "code",
   "execution_count": null,
   "metadata": {},
   "outputs": [],
   "source": [
    "\n"
   ]
  },
  {
   "cell_type": "code",
   "execution_count": null,
   "metadata": {},
   "outputs": [],
   "source": [
    "print(WEATHERdata)"
   ]
  },
  {
   "cell_type": "code",
   "execution_count": null,
   "metadata": {},
   "outputs": [],
   "source": [
    "STATIONdata.loc[:,['Latitude','Longitude']].values.shape"
   ]
  },
  {
   "cell_type": "markdown",
   "metadata": {},
   "source": [
    "# 지도에 표시 라이브러리 : folium 힌트 코드. 라이브러리 문서에서 사용법 찾기. "
   ]
  },
  {
   "cell_type": "markdown",
   "metadata": {},
   "source": [
    "https://python-visualization.github.io/folium/latest/user_guide.html"
   ]
  },
  {
   "cell_type": "markdown",
   "metadata": {},
   "source": [
    "## 터미널 열어서 현재 가상환경(base)에 folium 설치 \n",
    "## 터미널(명령 프롬프트, command prompt)에 pip install folium 입력 "
   ]
  },
  {
   "cell_type": "code",
   "execution_count": 1,
   "metadata": {},
   "outputs": [
    {
     "name": "stdout",
     "output_type": "stream",
     "text": [
      "['37.4648267%2C126.9571988', '37.555946%2C126.972317']\n",
      "[37.4648267, 126.9571988] [37.555946, 126.972317]\n",
      "0      True\n",
      "1      True\n",
      "2      True\n",
      "3      True\n",
      "4      True\n",
      "       ... \n",
      "366    True\n",
      "367    True\n",
      "368    True\n",
      "369    True\n",
      "370    True\n",
      "Length: 371, dtype: bool\n",
      "[ 37.555946 126.972317] [ 37.4648267 126.9571988]\n",
      "출발지: Gu                                  서초구\n",
      "ID                                 2223\n",
      "Station                2223. 방배래미안 정문 앞\n",
      "Address            서울특별시 서초구 남부순환로 2183\n",
      "Latitude                       37.47261\n",
      "Longitude                    126.983009\n",
      "Date                   2017-06-01 10:23\n",
      "No_of_Racks                          20\n",
      "distancestart                  0.026958\n",
      "distanceend                    0.084019\n",
      "Stationdistance                0.332932\n",
      "Name: 297, dtype: object 도착지 Gu                                 마포구\n",
      "ID                                 157\n",
      "Station               157. 애오개역 4번출구 앞\n",
      "Address            서울특별시 마포구 아현동 607-1\n",
      "Latitude                     37.553001\n",
      "Longitude                   126.956688\n",
      "Date                  2016-06-29 12:00\n",
      "No_of_Racks                         12\n",
      "distancestart                 0.088176\n",
      "distanceend                   0.015904\n",
      "Stationdistance               0.312239\n",
      "Name: 39, dtype: object\n",
      "<class 'list'>\n",
      "<class 'list'>\n",
      "<class 'list'>\n",
      "<class 'list'>\n",
      "<class 'list'>\n",
      "<class 'list'>\n"
     ]
    }
   ],
   "source": [
    "import folium\n",
    "import requests\n",
    "import pandas as pd\n",
    "import numpy as np\n",
    "BIKEdata = pd.read_csv('bike_usage_0.csv', encoding='CP949')\n",
    "STATIONdata = pd.read_csv('stations.csv')\n",
    "WEATHERdata = pd.read_csv('weather.csv')\n",
    "\n",
    "start = '서울대'\n",
    "end = '서울역'\n",
    "request = requests.get(f'https://www.google.co.kr/maps/dir/{start}/{end}')\n",
    "result= request.text.split(\"markers=\")[1].split(\"&amp\")[0].split(\"%7C\")\n",
    "print(result)\n",
    "startxy=list(map(float,[result[0].split(\"%2C\")[0],result[0].split(\"%2C\")[1]]))\n",
    "endxy=list(map(float,[result[1].split(\"%2C\")[0],result[1].split(\"%2C\")[1]]))\n",
    "print(startxy,endxy)\n",
    "startpoint = np.array(startxy)\n",
    "endpoint = np.array(endxy)\n",
    "dataxy=STATIONdata.loc[:,['Latitude','Longitude']].values\n",
    "resultstartxy = (abs(dataxy-startpoint))\n",
    "def reach(a, b):\n",
    "    x, y=(a-b)[:,0],(a-b)[:,1]\n",
    "    return ((x)**2+(y)**2)**(1/2)\n",
    "\n",
    "STATIONdata['distancestart']=reach(startpoint, dataxy)\n",
    "STATIONdata['distanceend'] = reach(endpoint, dataxy)\n",
    "print(STATIONdata['Longitude'].between(startpoint[1],endpoint[1])&STATIONdata['Latitude'].between(endpoint[0],startpoint[0])&STATIONdata['distancestart']<=STATIONdata['distancestart'].min())\n",
    "nearstart = STATIONdata['distancestart'].idxmin()\n",
    "print(endpoint, startpoint)\n",
    "nearstart2 = STATIONdata[['Latitude','Longitude']].iloc[nearstart].to_list()\n",
    "resultendxy = (abs(dataxy-endpoint))\n",
    "STATIONdata['distanceend'] = (resultendxy[:,0]**2+resultendxy[:,1]**2)**(1/2)\n",
    "nearend=STATIONdata['distanceend'].idxmin()\n",
    "nearend2 =STATIONdata[['Latitude','Longitude']].iloc[nearend].to_list()\n",
    "\n",
    "STATIONdata['Stationdistance']= (STATIONdata['distancestart']+STATIONdata['distanceend'])*3\n",
    "print('출발지:',STATIONdata.iloc[nearstart],'도착지',STATIONdata.iloc[nearend])\n",
    "m = folium.Map(width=600, height=400, location= nearstart2, zoom_start=15)\n",
    "lines =[startxy,nearstart2,nearend2,endxy]\n",
    "print(type(nearstart2))\n",
    "print(type(lines))\n",
    "folium.PolyLine(\n",
    "    locations = lines,\n",
    "    tooltip = 'PolyLine'\n",
    ").add_to(m)\n",
    "for op in lines:\n",
    "    print(type(op))\n",
    "    if op == lines[0]:\n",
    "    \n",
    "        h = f'출발지: {start}'\n",
    "        color='red'\n",
    "    elif op == lines[1]:\n",
    "        h = f\"가까운 station:{STATIONdata['Station'].iloc[nearstart]}\"\n",
    "        color='blue'\n",
    "    elif op == lines[2]:\n",
    "        h = f\"도착지에서 가까운 station:{STATIONdata['Station'].iloc[nearend]}\"\n",
    "        color='blue'\n",
    "    else:\n",
    "        h =f'도착지: {end}'\n",
    "        color='green'\n",
    "    folium.Marker(\n",
    "        location = op,\n",
    "        radius = 10,   \n",
    "        popup= h,\n",
    "        icon=folium.Icon(color=color,icon='star')\n",
    "    \n",
    "\n",
    "\n",
    "        ).add_to(m)\n"
   ]
  },
  {
   "cell_type": "code",
   "execution_count": 2,
   "metadata": {},
   "outputs": [
    {
     "ename": "NameError",
     "evalue": "name 'df2' is not defined",
     "output_type": "error",
     "traceback": [
      "\u001b[1;31m---------------------------------------------------------------------------\u001b[0m",
      "\u001b[1;31mNameError\u001b[0m                                 Traceback (most recent call last)",
      "Cell \u001b[1;32mIn[2], line 5\u001b[0m\n\u001b[0;32m      2\u001b[0m m \u001b[38;5;241m=\u001b[39m folium\u001b[38;5;241m.\u001b[39mMap(width\u001b[38;5;241m=\u001b[39m\u001b[38;5;241m600\u001b[39m, height\u001b[38;5;241m=\u001b[39m\u001b[38;5;241m400\u001b[39m, location\u001b[38;5;241m=\u001b[39mcenter, zoom_start\u001b[38;5;241m=\u001b[39m\u001b[38;5;241m10\u001b[39m)\n\u001b[0;32m      4\u001b[0m \u001b[38;5;66;03m#\u001b[39;00m\n\u001b[1;32m----> 5\u001b[0m \u001b[38;5;28;01mfor\u001b[39;00m i \u001b[38;5;129;01min\u001b[39;00m df2\u001b[38;5;241m.\u001b[39mindex[:\u001b[38;5;241m1\u001b[39m]: \u001b[38;5;66;03m#한줄만 찍기 \u001b[39;00m\n\u001b[0;32m      6\u001b[0m     folium\u001b[38;5;241m.\u001b[39mCircle(\n\u001b[0;32m      7\u001b[0m         location \u001b[38;5;241m=\u001b[39m df2\u001b[38;5;241m.\u001b[39mloc[i, [\u001b[38;5;124m'\u001b[39m\u001b[38;5;124mLatitude\u001b[39m\u001b[38;5;124m'\u001b[39m, \u001b[38;5;124m'\u001b[39m\u001b[38;5;124mLongitude\u001b[39m\u001b[38;5;124m'\u001b[39m]],\n\u001b[0;32m      8\u001b[0m         tooltip \u001b[38;5;241m=\u001b[39m df2\u001b[38;5;241m.\u001b[39mloc[i, \u001b[38;5;124m'\u001b[39m\u001b[38;5;124mStation\u001b[39m\u001b[38;5;124m'\u001b[39m],\n\u001b[0;32m      9\u001b[0m         radius \u001b[38;5;241m=\u001b[39m \u001b[38;5;241m2000\u001b[39m   \u001b[38;5;66;03m# 원의 크기\u001b[39;00m\n\u001b[0;32m     10\u001b[0m     )\u001b[38;5;241m.\u001b[39madd_to(m)\n\u001b[0;32m     12\u001b[0m     \u001b[38;5;28mprint\u001b[39m(df2\u001b[38;5;241m.\u001b[39mloc[i][\u001b[38;5;124m'\u001b[39m\u001b[38;5;124mStation\u001b[39m\u001b[38;5;124m'\u001b[39m])\n",
      "\u001b[1;31mNameError\u001b[0m: name 'df2' is not defined"
     ]
    }
   ],
   "source": [
    "center = [37.541, 126.986] # 지도를 표시할 중심 좌표\n",
    "m = folium.Map(width=600, height=400, location=center, zoom_start=10)\n",
    "\n",
    "#\n",
    "for i in df2.index[:1]: #한줄만 찍기 \n",
    "    folium.Circle(\n",
    "        location = df2.loc[i, ['Latitude', 'Longitude']],\n",
    "        tooltip = df2.loc[i, 'Station'],\n",
    "        radius = 2000   # 원의 크기\n",
    "    ).add_to(m)\n",
    "\n",
    "    print(df2.loc[i]['Station'])\n",
    "m"
   ]
  },
  {
   "cell_type": "code",
   "execution_count": null,
   "metadata": {},
   "outputs": [],
   "source": [
    "# 문제 8\n",
    "# 지도에 정거장 위치에 사용자 수에 비례하여 커지는 원 그리기 \n",
    "# 저녁시간대 Statin In 이 가장 많은 정거장 찾아 지도상에 표시. 퇴근. 거주지역.\n",
    "# 아침시간대 Statin In 이 가장 많은 정거장 찾아 지도상에 표시. 출근. 업무지역.\n"
   ]
  },
  {
   "cell_type": "code",
   "execution_count": null,
   "metadata": {},
   "outputs": [],
   "source": [
    "lines =[[37.50140089999999, 127.1586471],\n",
    " [37.644936799999996, 127.0737283],\n",
    " [37.6403353, 127.0776372],\n",
    " [37.645723499999995, 127.02044939999999],\n",
    " [37.6597831, 127.0311865]]\n",
    "\n",
    "\n",
    "center = [37.541, 126.986]\n",
    "m = folium.Map(width=600, height=400 ,location=center, zoom_start=10)\n",
    "\n",
    "folium.PolyLine(\n",
    "    locations = lines,\n",
    "    tooltip = 'PolyLine'\n",
    ").add_to(m)\n",
    "\n",
    "m"
   ]
  },
  {
   "cell_type": "code",
   "execution_count": null,
   "metadata": {},
   "outputs": [],
   "source": [
    "# 문제 9 \n",
    "# 문제 7 에서 찾은 가장 누적 주행거리가 긴 자전거의 이동경로 지도상에 표시하기."
   ]
  },
  {
   "cell_type": "code",
   "execution_count": null,
   "metadata": {},
   "outputs": [],
   "source": [
    "# 문제 10\n",
    "# 남성이 Statin_In 한 정거장을 가장 많은 순으로 3곳 찾아서 지도 상에 표기. 원의 크기가 횟수에 비례하게 "
   ]
  },
  {
   "cell_type": "markdown",
   "metadata": {},
   "source": [
    "# 각 팀별 분석 아이디어 내기! \n",
    "### 이 데이터들을 가지고 계산하거나 시각화 해보면 좋을 것 3개 생각하고 구현해보기. \n"
   ]
  },
  {
   "cell_type": "markdown",
   "metadata": {},
   "source": [
    "# 분석 아이디어 1 : 여기에 작성"
   ]
  },
  {
   "cell_type": "code",
   "execution_count": null,
   "metadata": {},
   "outputs": [],
   "source": []
  },
  {
   "cell_type": "markdown",
   "metadata": {},
   "source": [
    "# 분석 아이디어 2 : 여기에 작성"
   ]
  },
  {
   "cell_type": "code",
   "execution_count": null,
   "metadata": {},
   "outputs": [],
   "source": []
  },
  {
   "cell_type": "markdown",
   "metadata": {},
   "source": [
    "# 분석 아이디어 3 : 여기에 작성 "
   ]
  },
  {
   "cell_type": "markdown",
   "metadata": {},
   "source": []
  }
 ],
 "metadata": {
  "kernelspec": {
   "display_name": "base",
   "language": "python",
   "name": "python3"
  },
  "language_info": {
   "codemirror_mode": {
    "name": "ipython",
    "version": 3
   },
   "file_extension": ".py",
   "mimetype": "text/x-python",
   "name": "python",
   "nbconvert_exporter": "python",
   "pygments_lexer": "ipython3",
   "version": "3.12.3"
  }
 },
 "nbformat": 4,
 "nbformat_minor": 2
}
