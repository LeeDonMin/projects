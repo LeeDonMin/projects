{
  "cells": [
    {
      "cell_type": "markdown",
      "metadata": {
        "id": "6wZ0T1E6bKGC"
      },
      "source": [
        "# 로이터 뉴스 데이터에 분류"
      ]
    },
    {
      "cell_type": "code",
      "execution_count": 3,
      "metadata": {
        "id": "US5FdxUgOMKe"
      },
      "outputs": [],
      "source": [
        "import numpy as np\n",
        "import seaborn as sns\n",
        "import matplotlib.pyplot as plt\n"
      ]
    },
    {
      "cell_type": "code",
      "execution_count": 2,
      "metadata": {
        "colab": {
          "base_uri": "https://localhost:8080/"
        },
        "id": "l7NVOeX6OMZp",
        "outputId": "35f3f3c5-e3af-4d12-eb2c-f05bacbff876"
      },
      "outputs": [],
      "source": [
        "# 데이터 불러오기\n",
        "from tensorflow.keras.datasets import reuters\n",
        "# num_words로 사용할 단어 수 지정 가능, None일 경우 데이터셋에 존재하는 모든 단어 사용(데이터 확인용)\n",
        "(X_train, y_train), (X_test, y_test) = reuters.load_data(num_words=None, test_split=0.2)\n"
      ]
    },
    {
      "cell_type": "code",
      "execution_count": 14,
      "metadata": {},
      "outputs": [
        {
          "data": {
            "text/plain": [
              "array([list([1, 27595, 28842, 8, 43, 10, 447, 5, 25, 207, 270, 5, 3095, 111, 16, 369, 186, 90, 67, 7, 89, 5, 19, 102, 6, 19, 124, 15, 90, 67, 84, 22, 482, 26, 7, 48, 4, 49, 8, 864, 39, 209, 154, 6, 151, 6, 83, 11, 15, 22, 155, 11, 15, 7, 48, 9, 4579, 1005, 504, 6, 258, 6, 272, 11, 15, 22, 134, 44, 11, 15, 16, 8, 197, 1245, 90, 67, 52, 29, 209, 30, 32, 132, 6, 109, 15, 17, 12]),\n",
              "       list([1, 3267, 699, 3434, 2295, 56, 16784, 7511, 9, 56, 3906, 1073, 81, 5, 1198, 57, 366, 737, 132, 20, 4093, 7, 19261, 49, 2295, 13415, 1037, 3267, 699, 3434, 8, 7, 10, 241, 16, 855, 129, 231, 783, 5, 4, 587, 2295, 13415, 30625, 775, 7, 48, 34, 191, 44, 35, 1795, 505, 17, 12]),\n",
              "       list([1, 53, 12, 284, 15, 14, 272, 26, 53, 959, 32, 818, 15, 14, 272, 26, 39, 684, 70, 11, 14, 12, 3886, 18, 180, 183, 187, 70, 11, 14, 102, 32, 11, 29, 53, 44, 704, 15, 14, 19, 758, 15, 53, 959, 47, 1013, 15, 14, 19, 132, 15, 39, 965, 32, 11, 14, 147, 72, 11, 180, 183, 187, 44, 11, 14, 102, 19, 11, 123, 186, 90, 67, 960, 4, 78, 13, 68, 467, 511, 110, 59, 89, 90, 67, 1390, 55, 2678, 92, 617, 80, 1274, 46, 905, 220, 13, 4, 346, 48, 235, 629, 5, 211, 5, 1118, 7, 11733, 81, 5, 187, 11, 15, 9, 1709, 201, 5, 47, 3615, 18, 478, 4514, 5, 1118, 7, 232, 13051, 71, 5, 160, 63, 11, 9, 26503, 81, 5, 102, 59, 11, 17, 12]),\n",
              "       ...,\n",
              "       list([1, 141, 3890, 387, 81, 8, 16, 1629, 10, 340, 1241, 850, 31, 56, 3890, 691, 9, 1241, 71, 9, 5985, 16338, 19170, 699, 19886, 13441, 18064, 699, 244, 5945, 4, 49, 8, 4, 656, 850, 33, 2993, 9, 2139, 340, 3371, 1493, 9, 17870, 22, 16964, 1094, 687, 83, 35, 15, 257, 6, 57, 9190, 7, 4, 5956, 654, 5, 17822, 6191, 1371, 4, 49, 8, 16, 369, 646, 6, 1076, 7, 124, 407, 17, 12]),\n",
              "       list([1, 53, 46, 957, 26, 14, 74, 132, 26, 39, 46, 258, 3614, 18, 14, 74, 134, 5131, 18, 88, 2321, 72, 11, 14, 1842, 32, 11, 123, 383, 89, 39, 46, 235, 10, 864, 728, 5, 258, 44, 11, 15, 22, 753, 9, 42, 92, 131, 728, 5, 69, 312, 11, 15, 22, 222, 10964, 3237, 383, 48, 39, 74, 235, 10, 864, 276, 5, 61, 32, 11, 15, 21, 4, 211, 5, 126, 1072, 42, 92, 131, 46, 19, 352, 11, 15, 22, 710, 220, 9, 42, 92, 131, 276, 5, 59, 61, 11, 15, 22, 10, 455, 7, 1172, 137, 336, 1325, 6, 1532, 142, 971, 6463, 43, 359, 5, 4, 326, 753, 364, 17, 12]),\n",
              "       list([1, 227, 2406, 91, 21969, 125, 2855, 21, 4, 3976, 76, 7, 4, 757, 481, 3976, 790, 5259, 5654, 9, 111, 149, 8, 7, 10, 76, 223, 51, 4, 417, 8, 1047, 91, 6917, 1688, 340, 7, 194, 9411, 6, 1894, 21, 127, 2151, 2394, 1456, 6, 3034, 4, 329, 433, 7, 65, 87, 1127, 10, 8219, 1475, 290, 9, 21, 567, 16, 1926, 24, 4, 76, 209, 30, 4033, 6655, 5654, 8, 4, 60, 8, 4, 966, 308, 40, 2575, 129, 15562, 295, 277, 1071, 9, 24, 286, 2114, 234, 222, 9, 4, 906, 3994, 8519, 114, 5758, 1752, 7, 4, 113, 17, 12])],\n",
              "      dtype=object)"
            ]
          },
          "execution_count": 14,
          "metadata": {},
          "output_type": "execute_result"
        }
      ],
      "source": [
        "X_train"
      ]
    },
    {
      "cell_type": "code",
      "execution_count": 16,
      "metadata": {
        "colab": {
          "base_uri": "https://localhost:8080/"
        },
        "id": "2hbheqCB1d0E",
        "outputId": "4dc72902-053c-4f96-94df-b98c68098af6"
      },
      "outputs": [
        {
          "data": {
            "text/plain": [
              "8982.0"
            ]
          },
          "execution_count": 16,
          "metadata": {},
          "output_type": "execute_result"
        }
      ],
      "source": [
        "# 데이터셋 구조 확인(훈련용 데이터 개수, 테스트용 데이터 개수, 카테고리 수 등)\n",
        "np.percentile(len([x for x in X_train]),99)"
      ]
    },
    {
      "cell_type": "code",
      "execution_count": 5,
      "metadata": {},
      "outputs": [
        {
          "data": {
            "image/png": "[encoded data removed]",
            "text/plain": [
              "<Figure size 640x480 with 2 Axes>"
            ]
          },
          "metadata": {},
          "output_type": "display_data"
        }
      ],
      "source": [
        "import tensorflow as tf\n",
        "import numpy as np \n",
        "import matplotlib.pyplot as plt\n",
        "from tensorflow.keras.preprocessing import sequence\n",
        "\n",
        "plt.subplot(1,2,1)\n",
        "plt.boxplot([len(x) for x in X_train])\n",
        "plt.subplot(1,2,2)\n",
        "plt.hist([len(x) for x in X_train],bins=50)\n",
        "plt.show()"
      ]
    },
    {
      "cell_type": "code",
      "execution_count": 27,
      "metadata": {
        "colab": {
          "base_uri": "https://localhost:8080/",
          "height": 314
        },
        "id": "n9BZQ6ZJ1uUw",
        "outputId": "d1301d68-6817-4b6b-ef88-cc02d220e747"
      },
      "outputs": [
        {
          "name": "stdout",
          "output_type": "stream",
          "text": [
            "리뷰의 최대 길이 : 2376\n",
            "리뷰의 평균 길이 : 145.5398574927633\n",
            "리뷰의 평균 길이 : 718.0\n"
          ]
        }
      ],
      "source": [
        "# 뉴스 기사의 최대 길이 및 평균길이 출력(그래프 시각화하면 더 좋음)\n",
        "print('리뷰의 최대 길이 : {}'.format(np.max([len(x) for x in X_train])))\n",
        "print('리뷰의 평균 길이 : {}'.format(np.mean([len(x) for x in X_train])))\n",
        "print('리뷰의 평균 길이 : {}'.format(np.percentile([len(x) for x in X_train],99)))"
      ]
    },
    {
      "cell_type": "code",
      "execution_count": 76,
      "metadata": {
        "colab": {
          "base_uri": "https://localhost:8080/"
        },
        "id": "haVVzGMr2ECX",
        "outputId": "7990e734-9ccd-417a-870b-9926416a5a4e"
      },
      "outputs": [
        {
          "name": "stdout",
          "output_type": "stream",
          "text": [
            "30979\n"
          ]
        },
        {
          "ename": "TypeError",
          "evalue": "'numpy.int64' object is not iterable",
          "output_type": "error",
          "traceback": [
            "\u001b[1;31m---------------------------------------------------------------------------\u001b[0m",
            "\u001b[1;31mTypeError\u001b[0m                                 Traceback (most recent call last)",
            "Cell \u001b[1;32mIn[76], line 4\u001b[0m\n\u001b[0;32m      2\u001b[0m word_to_index \u001b[38;5;241m=\u001b[39m reuters\u001b[38;5;241m.\u001b[39mget_word_index()\n\u001b[0;32m      3\u001b[0m \u001b[38;5;28mprint\u001b[39m(\u001b[38;5;28mlen\u001b[39m(word_to_index))\n\u001b[1;32m----> 4\u001b[0m \u001b[38;5;28mprint\u001b[39m(\u001b[38;5;124m'\u001b[39m\u001b[38;5;124m \u001b[39m\u001b[38;5;124m'\u001b[39m\u001b[38;5;241m.\u001b[39mjoin([index_to_word[index] \u001b[38;5;28;01mfor\u001b[39;00m index \u001b[38;5;129;01min\u001b[39;00m y_train[\u001b[38;5;241m0\u001b[39m]]))\n",
            "\u001b[1;31mTypeError\u001b[0m: 'numpy.int64' object is not iterable"
          ]
        }
      ],
      "source": [
        "# 각 단어와 그 단어에 부여된 인덱스 확인\n",
        "word_to_index = reuters.get_word_index()\n",
        "print(len(word_to_index))\n",
        "print(' '.join([index_to_word[index] for index in y_train[0]]))"
      ]
    },
    {
      "cell_type": "code",
      "execution_count": 79,
      "metadata": {},
      "outputs": [
        {
          "data": {
            "text/plain": [
              "('cocoa',\n",
              " 'grain',\n",
              " 'veg-oil',\n",
              " 'earn',\n",
              " 'acq',\n",
              " 'wheat',\n",
              " 'copper',\n",
              " 'housing',\n",
              " 'money-supply',\n",
              " 'coffee',\n",
              " 'sugar',\n",
              " 'trade',\n",
              " 'reserves',\n",
              " 'ship',\n",
              " 'cotton',\n",
              " 'carcass',\n",
              " 'crude',\n",
              " 'nat-gas',\n",
              " 'cpi',\n",
              " 'money-fx',\n",
              " 'interest',\n",
              " 'gnp',\n",
              " 'meal-feed',\n",
              " 'alum',\n",
              " 'oilseed',\n",
              " 'gold',\n",
              " 'tin',\n",
              " 'strategic-metal',\n",
              " 'livestock',\n",
              " 'retail',\n",
              " 'ipi',\n",
              " 'iron-steel',\n",
              " 'rubber',\n",
              " 'heat',\n",
              " 'jobs',\n",
              " 'lei',\n",
              " 'bop',\n",
              " 'zinc',\n",
              " 'orange',\n",
              " 'pet-chem',\n",
              " 'dlr',\n",
              " 'gas',\n",
              " 'silver',\n",
              " 'wpi',\n",
              " 'hog',\n",
              " 'lead')"
            ]
          },
          "execution_count": 79,
          "metadata": {},
          "output_type": "execute_result"
        }
      ],
      "source": [
        "reuters.get_label_names()"
      ]
    },
    {
      "cell_type": "code",
      "execution_count": 78,
      "metadata": {
        "colab": {
          "base_uri": "https://localhost:8080/"
        },
        "id": "mmdzvmOe2KEk",
        "outputId": "af6cff67-b94e-4c15-e12c-436fa8062a49"
      },
      "outputs": [
        {
          "name": "stdout",
          "output_type": "stream",
          "text": [
            "<sos> mcgrath rentcorp said as a result of its december acquisition of space co it expects earnings per share in 1987 of 1 15 to 1 30 dlrs per share up from 70 cts in 1986 the company said pretax net should rise to nine to 10 mln dlrs from six mln dlrs in 1986 and rental operation revenues to 19 to 22 mln dlrs from 12 5 mln dlrs it said cash flow per share this year should be 2 50 to three dlrs reuter 3\n"
          ]
        },
        {
          "data": {
            "text/plain": [
              "array([ 3,  4,  3, ..., 25,  3, 25], dtype=int64)"
            ]
          },
          "execution_count": 78,
          "metadata": {},
          "output_type": "execute_result"
        }
      ],
      "source": [
        "# index_to_word에서 숫자 0은 패딩을 의미하는 pad, 숫자 1은 문장의 시작을 의미하는 sos,\n",
        "# 숫자 2는 OOV를 위한 unk라는 특별 토큰에 맵핑되어져야 함(로이터 뉴스 데이터셋에서 정한 규칙)\n",
        "index_to_word = {}\n",
        "for key, value in word_to_index.items():\n",
        "    index_to_word[value+3] = key\n",
        "\n",
        "for index, token in enumerate((\"<pad>\", \"<sos>\", \"<unk>\")):\n",
        "  index_to_word[index] = token\n",
        "\n",
        "# X_train[0]가 원래 어떤 단어들로 구성되어있는지를 확인\n",
        "print(' '.join([index_to_word[index] for index in X_train[0]]))\n"
      ]
    },
    {
      "cell_type": "markdown",
      "metadata": {
        "id": "BQ9lSqa7bMt4"
      },
      "source": [
        "# 로이터 뉴스 분류하기"
      ]
    },
    {
      "cell_type": "code",
      "execution_count": 74,
      "metadata": {},
      "outputs": [
        {
          "ename": "TypeError",
          "evalue": "Tensor is unhashable. Instead, use tensor.ref() as the key.",
          "output_type": "error",
          "traceback": [
            "\u001b[1;31m---------------------------------------------------------------------------\u001b[0m",
            "\u001b[1;31mTypeError\u001b[0m                                 Traceback (most recent call last)",
            "Cell \u001b[1;32mIn[74], line 1\u001b[0m\n\u001b[1;32m----> 1\u001b[0m \u001b[38;5;28mprint\u001b[39m(\u001b[38;5;124m'\u001b[39m\u001b[38;5;124m \u001b[39m\u001b[38;5;124m'\u001b[39m\u001b[38;5;241m.\u001b[39mjoin([index_to_word[index] \u001b[38;5;28;01mfor\u001b[39;00m index \u001b[38;5;129;01min\u001b[39;00m y_train[\u001b[38;5;241m0\u001b[39m]]))\n",
            "File \u001b[1;32mc:\\Users\\humming\\anaconda3\\Lib\\site-packages\\tensorflow\\python\\framework\\ops.py:365\u001b[0m, in \u001b[0;36m_EagerTensorBase.__hash__\u001b[1;34m(self)\u001b[0m\n\u001b[0;32m    363\u001b[0m \u001b[38;5;28;01mdef\u001b[39;00m \u001b[38;5;21m__hash__\u001b[39m(\u001b[38;5;28mself\u001b[39m) \u001b[38;5;241m-\u001b[39m\u001b[38;5;241m>\u001b[39m \u001b[38;5;28mint\u001b[39m:\n\u001b[0;32m    364\u001b[0m   \u001b[38;5;66;03m# EagerTensors are never hashable.\u001b[39;00m\n\u001b[1;32m--> 365\u001b[0m   \u001b[38;5;28;01mraise\u001b[39;00m \u001b[38;5;167;01mTypeError\u001b[39;00m(\u001b[38;5;124m\"\u001b[39m\u001b[38;5;124mTensor is unhashable. \u001b[39m\u001b[38;5;124m\"\u001b[39m\n\u001b[0;32m    366\u001b[0m                   \u001b[38;5;124m\"\u001b[39m\u001b[38;5;124mInstead, use tensor.ref() as the key.\u001b[39m\u001b[38;5;124m\"\u001b[39m)\n",
            "\u001b[1;31mTypeError\u001b[0m: Tensor is unhashable. Instead, use tensor.ref() as the key."
          ]
        }
      ],
      "source": [
        "print(' '.join([index_to_word[index] for index in y_train[0]]))"
      ]
    },
    {
      "cell_type": "code",
      "execution_count": 38,
      "metadata": {
        "id": "EfjzBmbB3HYJ"
      },
      "outputs": [],
      "source": [
        "# num_words, test_split 지정하여 reuters 데이터셋 로드\n",
        "num_words=30980"
      ]
    },
    {
      "cell_type": "code",
      "execution_count": 45,
      "metadata": {},
      "outputs": [
        {
          "name": "stdout",
          "output_type": "stream",
          "text": [
            "30979\n"
          ]
        }
      ],
      "source": [
        "word_to_index = reuters.get_word_index()\n",
        "print(len(word_to_index))"
      ]
    },
    {
      "cell_type": "code",
      "execution_count": 6,
      "metadata": {
        "id": "0xzr0lmFONiZ"
      },
      "outputs": [],
      "source": [
        "# 95%의 데이터를 포함하는 길이로 maxlen 지정\n",
        "(X_train, y_train), (X_test, y_test) = reuters.load_data(num_words=30980, test_split=0.2)\n",
        "maxlen = int(np.percentile([len(x) for x in X_train],95))\n",
        "\n",
        "# maxlen길이만큼 뉴스 기사 패딩\n",
        "X_train = sequence.pad_sequences(X_train, maxlen=maxlen)\n",
        "X_test = sequence.pad_sequences(X_test, maxlen=maxlen)\n",
        "\n",
        "\n",
        "# 레이블 원-핫 인코딩\n",
        "y_train = tf.one_hot(y_train,46)\n",
        "y_test = tf.one_hot(y_test,46)"
      ]
    },
    {
      "cell_type": "code",
      "execution_count": 30,
      "metadata": {},
      "outputs": [
        {
          "data": {
            "text/plain": [
              "(8982, 459)"
            ]
          },
          "execution_count": 30,
          "metadata": {},
          "output_type": "execute_result"
        }
      ],
      "source": [
        "X_train.shape"
      ]
    },
    {
      "cell_type": "code",
      "execution_count": 137,
      "metadata": {
        "id": "h-zpcjM3OT-R"
      },
      "outputs": [],
      "source": [
        "# 모델 생성\n",
        "from tensorflow.keras.layers import Embedding, Dense, GRU, Flatten, BatchNormalization,Dropout, Conv1D, MaxPooling1D\n",
        "from tensorflow.keras.models import Sequential, load_model\n",
        "from tensorflow.keras.callbacks import ModelCheckpoint\n",
        "from tensorflow.keras.initializers import HeNormal\n",
        "from tensorflow.keras.optimizers import Adam\n",
        "max_features = 30980\n",
        "# ModelCheckpoint 콜백 생성\n",
        "model_checkpoint=ModelCheckpoint(filepath = 'best_1.keras', monitor = 'val_accuracy', save_best_only = True, verbose=1)\n",
        "\n",
        "# 모델 구성\n",
        "model = Sequential()\n",
        "model.add(Embedding(max_features, 64))\n",
        "model.add(Dropout(0.2))\n",
        "model.add(Conv1D(filters=64, kernel_size= 8,activation = 'relu', padding='same'))\n",
        "# model.add(BatchNormalization())\n",
        "# model.add(MaxPooling1D(pool_size=2))\n",
        "model.add(Dropout(0.2))\n",
        "model.add(Conv1D(filters=64, kernel_size= 2,activation = 'relu'))\n",
        "model.add(Flatten())\n",
        "# model.add(BatchNormalization())\n",
        "model.add(Dense(32, activation = 'tanh'))\n",
        "# model.add(BatchNormalization())\n",
        "# model.add(Dense(32, activation = 'relu'))\n",
        "# model.add(Dense(64, activation = 'relu'))\n",
        "# model.add(BatchNormalization())\n",
        "# model.add(Dropout(0.2))\n",
        "# model.add(Dense(64, activation = 'relu'))\n",
        "model.add(Dense(46,activation = 'softmax'))\n",
        "\n",
        "model.compile(optimizer = Adam(learning_rate=0.001), loss='categorical_crossentropy', metrics = ['accuracy'])\n",
        "\n"
      ]
    },
    {
      "cell_type": "code",
      "execution_count": 140,
      "metadata": {},
      "outputs": [
        {
          "name": "stdout",
          "output_type": "stream",
          "text": [
            "Epoch 1/5\n",
            "\u001b[1m35/36\u001b[0m \u001b[32m━━━━━━━━━━━━━━━━━━━\u001b[0m\u001b[37m━\u001b[0m \u001b[1m0s\u001b[0m 86ms/step - accuracy: 0.6764 - loss: 1.2992\n",
            "Epoch 1: val_accuracy improved from 0.61556 to 0.68248, saving model to best_1.keras\n",
            "\u001b[1m36/36\u001b[0m \u001b[32m━━━━━━━━━━━━━━━━━━━━\u001b[0m\u001b[37m\u001b[0m \u001b[1m5s\u001b[0m 110ms/step - accuracy: 0.6765 - loss: 1.2987 - val_accuracy: 0.6825 - val_loss: 1.2506\n",
            "Epoch 2/5\n",
            "\u001b[1m35/36\u001b[0m \u001b[32m━━━━━━━━━━━━━━━━━━━\u001b[0m\u001b[37m━\u001b[0m \u001b[1m0s\u001b[0m 83ms/step - accuracy: 0.7068 - loss: 1.2075\n",
            "Epoch 2: val_accuracy improved from 0.68248 to 0.68582, saving model to best_1.keras\n",
            "\u001b[1m36/36\u001b[0m \u001b[32m━━━━━━━━━━━━━━━━━━━━\u001b[0m\u001b[37m\u001b[0m \u001b[1m4s\u001b[0m 106ms/step - accuracy: 0.7068 - loss: 1.2062 - val_accuracy: 0.6858 - val_loss: 1.2368\n",
            "Epoch 3/5\n",
            "\u001b[1m35/36\u001b[0m \u001b[32m━━━━━━━━━━━━━━━━━━━\u001b[0m\u001b[37m━\u001b[0m \u001b[1m0s\u001b[0m 89ms/step - accuracy: 0.7323 - loss: 1.0882\n",
            "Epoch 3: val_accuracy improved from 0.68582 to 0.68804, saving model to best_1.keras\n",
            "\u001b[1m36/36\u001b[0m \u001b[32m━━━━━━━━━━━━━━━━━━━━\u001b[0m\u001b[37m\u001b[0m \u001b[1m4s\u001b[0m 112ms/step - accuracy: 0.7324 - loss: 1.0885 - val_accuracy: 0.6880 - val_loss: 1.2326\n",
            "Epoch 4/5\n",
            "\u001b[1m35/36\u001b[0m \u001b[32m━━━━━━━━━━━━━━━━━━━\u001b[0m\u001b[37m━\u001b[0m \u001b[1m0s\u001b[0m 85ms/step - accuracy: 0.7604 - loss: 1.0008\n",
            "Epoch 4: val_accuracy did not improve from 0.68804\n",
            "\u001b[1m36/36\u001b[0m \u001b[32m━━━━━━━━━━━━━━━━━━━━\u001b[0m\u001b[37m\u001b[0m \u001b[1m4s\u001b[0m 103ms/step - accuracy: 0.7605 - loss: 1.0009 - val_accuracy: 0.6872 - val_loss: 1.2376\n",
            "Epoch 5/5\n",
            "\u001b[1m35/36\u001b[0m \u001b[32m━━━━━━━━━━━━━━━━━━━\u001b[0m\u001b[37m━\u001b[0m \u001b[1m0s\u001b[0m 82ms/step - accuracy: 0.7913 - loss: 0.9172\n",
            "Epoch 5: val_accuracy improved from 0.68804 to 0.69829, saving model to best_1.keras\n",
            "\u001b[1m36/36\u001b[0m \u001b[32m━━━━━━━━━━━━━━━━━━━━\u001b[0m\u001b[37m\u001b[0m \u001b[1m4s\u001b[0m 105ms/step - accuracy: 0.7912 - loss: 0.9175 - val_accuracy: 0.6983 - val_loss: 1.2171\n"
          ]
        }
      ],
      "source": [
        "# model = load_model('best_1.keras')\n",
        "history = model.fit(X_train, y_train, batch_size = 128 ,epochs = 5, validation_split=0.5, callbacks=[model_checkpoint])"
      ]
    },
    {
      "cell_type": "code",
      "execution_count": 166,
      "metadata": {},
      "outputs": [
        {
          "name": "stdout",
          "output_type": "stream",
          "text": [
            "\u001b[1m28/29\u001b[0m \u001b[32m━━━━━━━━━━━━━━━━━━━\u001b[0m\u001b[37m━\u001b[0m \u001b[1m0s\u001b[0m 154ms/step - accuracy: 0.9374 - loss: 0.3137\n",
            "Epoch 1: val_accuracy did not improve from 0.90488\n",
            "\u001b[1m29/29\u001b[0m \u001b[32m━━━━━━━━━━━━━━━━━━━━\u001b[0m\u001b[37m\u001b[0m \u001b[1m5s\u001b[0m 162ms/step - accuracy: 0.9375 - loss: 0.3131 - val_accuracy: 0.8420 - val_loss: 0.7072\n",
            "\u001b[1m28/29\u001b[0m \u001b[32m━━━━━━━━━━━━━━━━━━━\u001b[0m\u001b[37m━\u001b[0m \u001b[1m0s\u001b[0m 152ms/step - accuracy: 0.9449 - loss: 0.2772\n",
            "Epoch 1: val_accuracy did not improve from 0.90488\n",
            "\u001b[1m29/29\u001b[0m \u001b[32m━━━━━━━━━━━━━━━━━━━━\u001b[0m\u001b[37m\u001b[0m \u001b[1m5s\u001b[0m 160ms/step - accuracy: 0.9447 - loss: 0.2779 - val_accuracy: 0.8308 - val_loss: 0.7610\n",
            "\u001b[1m28/29\u001b[0m \u001b[32m━━━━━━━━━━━━━━━━━━━\u001b[0m\u001b[37m━\u001b[0m \u001b[1m0s\u001b[0m 150ms/step - accuracy: 0.9504 - loss: 0.2502\n",
            "Epoch 1: val_accuracy did not improve from 0.90488\n",
            "\u001b[1m29/29\u001b[0m \u001b[32m━━━━━━━━━━━━━━━━━━━━\u001b[0m\u001b[37m\u001b[0m \u001b[1m5s\u001b[0m 158ms/step - accuracy: 0.9503 - loss: 0.2507 - val_accuracy: 0.8325 - val_loss: 0.7599\n",
            "\u001b[1m28/29\u001b[0m \u001b[32m━━━━━━━━━━━━━━━━━━━\u001b[0m\u001b[37m━\u001b[0m \u001b[1m0s\u001b[0m 152ms/step - accuracy: 0.9494 - loss: 0.2553\n",
            "Epoch 1: val_accuracy did not improve from 0.90488\n",
            "\u001b[1m29/29\u001b[0m \u001b[32m━━━━━━━━━━━━━━━━━━━━\u001b[0m\u001b[37m\u001b[0m \u001b[1m5s\u001b[0m 159ms/step - accuracy: 0.9496 - loss: 0.2542 - val_accuracy: 0.8414 - val_loss: 0.7502\n",
            "\u001b[1m28/29\u001b[0m \u001b[32m━━━━━━━━━━━━━━━━━━━\u001b[0m\u001b[37m━\u001b[0m \u001b[1m0s\u001b[0m 153ms/step - accuracy: 0.9579 - loss: 0.2087\n",
            "Epoch 1: val_accuracy did not improve from 0.90488\n",
            "\u001b[1m29/29\u001b[0m \u001b[32m━━━━━━━━━━━━━━━━━━━━\u001b[0m\u001b[37m\u001b[0m \u001b[1m5s\u001b[0m 161ms/step - accuracy: 0.9578 - loss: 0.2094 - val_accuracy: 0.8308 - val_loss: 0.7670\n",
            "\u001b[1m28/29\u001b[0m \u001b[32m━━━━━━━━━━━━━━━━━━━\u001b[0m\u001b[37m━\u001b[0m \u001b[1m0s\u001b[0m 151ms/step - accuracy: 0.9565 - loss: 0.2155\n",
            "Epoch 1: val_accuracy did not improve from 0.90488\n",
            "\u001b[1m29/29\u001b[0m \u001b[32m━━━━━━━━━━━━━━━━━━━━\u001b[0m\u001b[37m\u001b[0m \u001b[1m5s\u001b[0m 159ms/step - accuracy: 0.9566 - loss: 0.2151 - val_accuracy: 0.8319 - val_loss: 0.7668\n",
            "\u001b[1m28/29\u001b[0m \u001b[32m━━━━━━━━━━━━━━━━━━━\u001b[0m\u001b[37m━\u001b[0m \u001b[1m0s\u001b[0m 151ms/step - accuracy: 0.9603 - loss: 0.1946\n",
            "Epoch 1: val_accuracy did not improve from 0.90488\n",
            "\u001b[1m29/29\u001b[0m \u001b[32m━━━━━━━━━━━━━━━━━━━━\u001b[0m\u001b[37m\u001b[0m \u001b[1m5s\u001b[0m 158ms/step - accuracy: 0.9601 - loss: 0.1950 - val_accuracy: 0.8314 - val_loss: 0.7789\n"
          ]
        }
      ],
      "source": [
        "# model = load_model('best_1.keras')\n",
        "i=0\n",
        "while (history.history['val_accuracy'][0]<0.95)&(i<7):\n",
        "    \n",
        "    history = model.fit(X_train, y_train, batch_size = 256 ,epochs = 1, validation_split=0.2, callbacks=[model_checkpoint])\n",
        "    i+=1"
      ]
    },
    {
      "cell_type": "code",
      "execution_count": 13,
      "metadata": {
        "id": "N42Pc8aWOUnZ"
      },
      "outputs": [
        {
          "name": "stdout",
          "output_type": "stream",
          "text": [
            "\u001b[1m57/57\u001b[0m \u001b[32m━━━━━━━━━━━━━━━━━━━━\u001b[0m\u001b[37m\u001b[0m \u001b[1m0s\u001b[0m 39ms/step - accuracy: 0.9690 - loss: 0.0790\n",
            "Epoch 1: val_accuracy improved from -inf to 0.66834, saving model to best.keras\n",
            "\u001b[1m57/57\u001b[0m \u001b[32m━━━━━━━━━━━━━━━━━━━━\u001b[0m\u001b[37m\u001b[0m \u001b[1m6s\u001b[0m 54ms/step - accuracy: 0.9689 - loss: 0.0791 - val_accuracy: 0.6683 - val_loss: 1.9899\n"
          ]
        }
      ],
      "source": [
        "# 체크포인트 설정 및 컴파일\n",
        "model = load_model('best.keras')\n",
        "history = model.fit(X_train, y_train, batch_size = 128 ,epochs = 1, validation_split=0.2, callbacks=[model_checkpoint])\n"
      ]
    },
    {
      "cell_type": "code",
      "execution_count": 148,
      "metadata": {
        "colab": {
          "base_uri": "https://localhost:8080/"
        },
        "id": "HM5JjY2jOfTx",
        "outputId": "8a037c24-b106-4bd3-ffe2-c22e3c1ec49d"
      },
      "outputs": [],
      "source": [
        "# 모델 학습(history 변수에 학습 과정 저장)\n",
        "model = load_model('best.keras')\n",
        "\n",
        "while history.history['val_accuracy'][0]<0.85:\n",
        "    \n",
        "    history = model.fit(X_train, y_train, batch_size = 128 ,epochs = 1, validation_split=0.3, callbacks=[model_checkpoint])"
      ]
    },
    {
      "cell_type": "code",
      "execution_count": 129,
      "metadata": {},
      "outputs": [
        {
          "data": {
            "text/plain": [
              "0.6944907903671265"
            ]
          },
          "execution_count": 129,
          "metadata": {},
          "output_type": "execute_result"
        }
      ],
      "source": [
        "history.history['val_accuracy'][0]"
      ]
    },
    {
      "cell_type": "code",
      "execution_count": 167,
      "metadata": {},
      "outputs": [
        {
          "name": "stdout",
          "output_type": "stream",
          "text": [
            "\u001b[1m71/71\u001b[0m \u001b[32m━━━━━━━━━━━━━━━━━━━━\u001b[0m\u001b[37m\u001b[0m \u001b[1m1s\u001b[0m 7ms/step - accuracy: 0.6719 - loss: 1.6512\n",
            "\n",
            "테스트 손실: 1.6780\n",
            "테스트 정확도: 0.6679\n"
          ]
        }
      ],
      "source": [
        "# 정확도 평가(result[0]: 손실, result[1] : 정확도)\n",
        "# model = load_model('best_1.keras')\n",
        "result = model.evaluate(X_test, y_test)\n",
        "print(\"\\n테스트 손실: %.4f\" % (result[0]))\n",
        "print(\"테스트 정확도: %.4f\" % (result[1]))"
      ]
    },
    {
      "cell_type": "code",
      "execution_count": 162,
      "metadata": {},
      "outputs": [
        {
          "data": {
            "image/png": "[encoded data removed]",
            "text/plain": [
              "<Figure size 640x480 with 1 Axes>"
            ]
          },
          "metadata": {},
          "output_type": "display_data"
        }
      ],
      "source": [
        "# loss 시각화\n",
        "epochs = range(1, len(history.history['accuracy']) + 1)\n",
        "plt.plot(epochs, history.history['loss'])\n",
        "plt.plot(epochs, history.history['val_loss'])\n",
        "plt.title('model loss')\n",
        "plt.ylabel('loss')\n",
        "plt.xlabel('epoch')\n",
        "plt.legend(['train', 'test'], loc='upper left')\n",
        "plt.show()"
      ]
    },
    {
      "cell_type": "markdown",
      "metadata": {},
      "source": [
        "# 학습된 가중치 불러와서 평가"
      ]
    },
    {
      "cell_type": "code",
      "execution_count": null,
      "metadata": {
        "colab": {
          "base_uri": "https://localhost:8080/"
        },
        "id": "3ewnLIkjSvfE",
        "outputId": "9c4aa404-8ac8-4d8a-d972-af6fad890c77"
      },
      "outputs": [],
      "source": [
        "# best_model.keras 파일을 불러와서 테스트 데이터 손실과 정확도를 출력해보세요.\n",
        "\n"
      ]
    }
  ],
  "metadata": {
    "accelerator": "GPU",
    "colab": {
      "collapsed_sections": [],
      "name": "Reuters News Classification.ipynb",
      "provenance": []
    },
    "kernelspec": {
      "display_name": "Python 3",
      "name": "python3"
    },
    "language_info": {
      "codemirror_mode": {
        "name": "ipython",
        "version": 3
      },
      "file_extension": ".py",
      "mimetype": "text/x-python",
      "name": "python",
      "nbconvert_exporter": "python",
      "pygments_lexer": "ipython3",
      "version": "3.12.4"
    }
  },
  "nbformat": 4,
  "nbformat_minor": 0
}
