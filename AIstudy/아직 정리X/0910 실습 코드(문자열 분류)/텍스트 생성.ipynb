{
 "cells": [
  {
   "cell_type": "code",
   "execution_count": 1,
   "metadata": {},
   "outputs": [],
   "source": [
    "import multiprocessing\n",
    "from tqdm import tqdm\n",
    "import konlpy\n",
    "from konlpy.tag import Okt\n",
    "import pandas as pd\n",
    "\n",
    "# KoNLPy의 Okt 클래스를 사용\n",
    "\n",
    "global sentences \n",
    "setences = pd.Series([\"안녕하세요\", \"저는 학생입니다\", \"파이썬을 좋아합니다\"])\n",
    "# 불용어 리스트를 정의\n",
    "global X_train=[]\n",
    "def preprocess_sentence(num):\n",
    "    print('here1',num)\n",
    "    okt = Okt()\n",
    "    sentences = pd.Series([\"안녕하세요\", \"저는 학생입니다\", \"파이썬을 좋아합니다\"])\n",
    "    stopwords = ['의','가','이','은','들','는','좀','잘','걍','과','도','를','으로','자','에','와','한','하다']\n",
    "    X_train = []\n",
    "    print('here2',num)\n",
    "\n",
    "    # tqdm을 사용하여 문장 처리의 진행 상황을 표시합니다.\n",
    "    for sentence in tqdm(sentences):\n",
    "        # 문장을 형태소 단위로 토큰화, stem=True는 형태소의 원형 반환\n",
    "        tokenized_sentence = okt.morphs(sentence, stem=True)\n",
    "        \n",
    "        # 불용어 제거, 불용어 리스트에 포함되지 않은 단어만 남김\n",
    "        stopwords_removed_sentence = [word for word in tokenized_sentence if not word in stopwords]\n",
    "        \n",
    "        # 불용어가 제거된 단어 리스트\n",
    "        X_train.append(stopwords_removed_sentence)\n",
    "        print('here',num)\n",
    "    return X_train\n",
    "num_list = ['p1','p2','p3','p4']\n",
    "# 실제 실행 부분\n",
    "if __name__ == \"__main__\":\n",
    "    # 문서 리스트\n",
    "\n",
    "\n",
    "    # 멀티프로세싱 Pool 생성\n",
    "    pool = multiprocessing.Pool(processes=2)  # 4개의 프로세스를 사용\n",
    "    pool.map(preprocess_sentence,num_list)\n",
    "    pool.close()\n",
    "    pool.join()\n",
    "\n",
    "    print(\"--- Processing completed ---\")\n",
    "    # print(X_train[:5])  # 처리된 데이터의 일부 출력"
   ]
  },
  {
   "cell_type": "code",
   "execution_count": 2,
   "metadata": {},
   "outputs": [],
   "source": [
    "import multiprocessing\n",
    "\n",
    "def square(x):\n",
    "    return x ** 2\n",
    "\n",
    "if __name__ == '__main__':\n",
    "    numbers = [1, 2, 3, 4, 5]\n",
    "    \n",
    "    pool = multiprocessing.Pool()\n",
    "    results = pool.map(square, numbers)\n",
    "    pool.close()\n",
    "    pool.join()\n",
    "    \n",
    "    print(results)\n"
   ]
  }
 ],
 "metadata": {
  "kernelspec": {
   "display_name": "base",
   "language": "python",
   "name": "python3"
  },
  "language_info": {
   "codemirror_mode": {
    "name": "ipython",
    "version": 3
   },
   "file_extension": ".py",
   "mimetype": "text/x-python",
   "name": "python",
   "nbconvert_exporter": "python",
   "pygments_lexer": "ipython3",
   "version": "3.12.4"
  }
 },
 "nbformat": 4,
 "nbformat_minor": 2
}
