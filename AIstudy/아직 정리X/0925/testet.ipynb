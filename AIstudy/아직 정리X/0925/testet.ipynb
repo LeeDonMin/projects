{
 "cells": [
  {
   "cell_type": "code",
   "execution_count": 18,
   "metadata": {},
   "outputs": [],
   "source": [
    "import gym\n",
    "import numpy as np\n",
    "import pandas as pd"
   ]
  },
  {
   "cell_type": "code",
   "execution_count": 34,
   "metadata": {},
   "outputs": [],
   "source": [
    "env  = gym.make(\"FrozenLake-v1\",is_slippery = False)"
   ]
  },
  {
   "cell_type": "code",
   "execution_count": 35,
   "metadata": {},
   "outputs": [
    {
     "name": "stdout",
     "output_type": "stream",
     "text": [
      "0 0.0 False False\n"
     ]
    }
   ],
   "source": [
    "action = env.action_space.sample()\n",
    "env.observation_space\n",
    "env.reset()\n",
    "step,reward,terminated,truncated,_ = env.step(action)\n",
    "print(step,reward,terminated,truncated)"
   ]
  },
  {
   "cell_type": "code",
   "execution_count": 24,
   "metadata": {},
   "outputs": [
    {
     "name": "stdout",
     "output_type": "stream",
     "text": [
      "0 0.0 False False\n",
      "1 0.0 False False\n",
      "2 0.0 False False\n",
      "2 0.0 False False\n",
      "3 0.0 False False\n",
      "2 0.0 False False\n",
      "6 0.0 False False\n",
      "5 0.0 True False\n",
      "4 0.0 False False\n",
      "0 0.0 False False\n",
      "1 0.0 False False\n",
      "5 0.0 True False\n",
      "1 0.0 False False\n",
      "1 0.0 False False\n",
      "1 0.0 False False\n",
      "5 0.0 True False\n",
      "4 0.0 False False\n",
      "4 0.0 False False\n",
      "0 0.0 False False\n",
      "1 0.0 False False\n"
     ]
    }
   ],
   "source": [
    "env.reset()\n",
    "for i in range(20):  \n",
    "    action = env.action_space.sample()\n",
    "    newstate,reward,terminated,truncated,_ = env.step(action)\n",
    "    print(newstate,reward,terminated,truncated)\n",
    "    if terminated:\n",
    "        env.reset()\n",
    "env.close()"
   ]
  },
  {
   "cell_type": "code",
   "execution_count": 36,
   "metadata": {},
   "outputs": [],
   "source": [
    "\n",
    "episodes = 20000\n",
    "epsilon = 1\n",
    "epsilon_decay = 0.0001\n",
    "learning_rate = 0.8\n",
    "discount_factor = 0.8\n",
    "rewardEpisodes = np.zeros(episodes)\n",
    "q_table = np.zeros((env.observation_space.n,env.action_space.n))"
   ]
  },
  {
   "cell_type": "code",
   "execution_count": 37,
   "metadata": {},
   "outputs": [
    {
     "name": "stdout",
     "output_type": "stream",
     "text": [
      "Q_table after Training\n",
      "        left     down    right        up\n",
      "0   0.262144  0.32768  0.32768  0.262144\n",
      "1   0.262144  0.00000  0.40960  0.327680\n",
      "2   0.327680  0.51200  0.32768  0.409600\n",
      "3   0.409600  0.00000  0.32768  0.327680\n",
      "4   0.327680  0.40960  0.00000  0.262144\n",
      "5   0.000000  0.00000  0.00000  0.000000\n",
      "6   0.000000  0.64000  0.00000  0.409600\n",
      "7   0.000000  0.00000  0.00000  0.000000\n",
      "8   0.409600  0.00000  0.51200  0.327680\n",
      "9   0.409600  0.64000  0.64000  0.000000\n",
      "10  0.512000  0.80000  0.00000  0.512000\n",
      "11  0.000000  0.00000  0.00000  0.000000\n",
      "12  0.000000  0.00000  0.00000  0.000000\n",
      "13  0.000000  0.64000  0.80000  0.512000\n",
      "14  0.640000  0.80000  1.00000  0.640000\n",
      "15  0.000000  0.00000  0.00000  0.000000\n"
     ]
    }
   ],
   "source": [
    "for i in range(episodes):\n",
    "    state = env.reset()[0]\n",
    "    terminated = False\n",
    "    truncated  = False\n",
    "    while (not terminated  and not truncated):\n",
    "        if np.random.random() < epsilon:\n",
    "            action = env.action_space.sample()\n",
    "        else:\n",
    "            action = np.argmax(q_table[state,:])\n",
    "        newstate,reward,terminated,truncated,_ = env.step(action)\n",
    "        q_table[state,action] = (1-learning_rate)*q_table[state,action] + learning_rate*(\n",
    "            reward + discount_factor*np.max(q_table[newstate,:]))\n",
    "        state = newstate\n",
    "        \n",
    "    epsilon = max(epsilon - epsilon_decay,0)   \n",
    "    if epsilon == 0:\n",
    "        learning_rate = 0.0001\n",
    "    if reward == 1:\n",
    "        rewardEpisodes[i] = 1 \n",
    "# env.close()  \n",
    "q_table_df = pd.DataFrame(q_table)    \n",
    "q_table_df.columns = ['left', 'down', 'right', 'up']\n",
    "print(\"Q_table after Training\")\n",
    "print(q_table_df)        \n",
    "        "
   ]
  },
  {
   "cell_type": "code",
   "execution_count": 38,
   "metadata": {},
   "outputs": [],
   "source": [
    "env  = gym.make(\"FrozenLake-v1\",is_slippery = False,render_mode = 'human')"
   ]
  },
  {
   "cell_type": "code",
   "execution_count": 39,
   "metadata": {},
   "outputs": [
    {
     "name": "stderr",
     "output_type": "stream",
     "text": [
      "c:\\Users\\humming\\anaconda3\\Lib\\site-packages\\gym\\utils\\passive_env_checker.py:233: DeprecationWarning: `np.bool8` is a deprecated alias for `np.bool_`.  (Deprecated NumPy 1.24)\n",
      "  if not isinstance(terminated, (bool, np.bool8)):\n"
     ]
    }
   ],
   "source": [
    "for i in range(20):\n",
    "    state = env.reset()[0]\n",
    "    terminated = False\n",
    "    truncated  = False\n",
    "    while (not terminated  and not truncated):\n",
    "        action = np.argmax(q_table[state,:])\n",
    "        newstate,reward,terminated,truncated,_ = env.step(action)\n",
    "        state = newstate\n",
    "\n",
    "env.close()        "
   ]
  },
  {
   "cell_type": "code",
   "execution_count": null,
   "metadata": {},
   "outputs": [],
   "source": []
  }
 ],
 "metadata": {
  "kernelspec": {
   "display_name": "base",
   "language": "python",
   "name": "python3"
  },
  "language_info": {
   "codemirror_mode": {
    "name": "ipython",
    "version": 3
   },
   "file_extension": ".py",
   "mimetype": "text/x-python",
   "name": "python",
   "nbconvert_exporter": "python",
   "pygments_lexer": "ipython3",
   "version": "3.12.3"
  }
 },
 "nbformat": 4,
 "nbformat_minor": 2
}
