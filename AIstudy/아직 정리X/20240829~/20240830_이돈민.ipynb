{
 "cells": [
  {
   "cell_type": "code",
   "execution_count": 1,
   "metadata": {},
   "outputs": [],
   "source": [
    "import numpy as np\n",
    "import math"
   ]
  },
  {
   "cell_type": "code",
   "execution_count": 2,
   "metadata": {},
   "outputs": [],
   "source": [
    "def AND(x1,x2):\n",
    "    w1=0.5\n",
    "    w2=0.5\n",
    "    y= x1*w1+x2*w2\n",
    "    if y>=0.7:\n",
    "        return 1\n",
    "    else:\n",
    "        return 0 "
   ]
  },
  {
   "cell_type": "code",
   "execution_count": 3,
   "metadata": {},
   "outputs": [],
   "source": [
    "def NPAND(x1,x2):\n",
    "    x = np.array([x1,x2])\n",
    "    w = np.array([0.5, 0.5])\n",
    "    b= 0.7\n",
    "    y=np.sum(w*x)-b\n",
    "    if y>0:\n",
    "        return 1 \n",
    "    else:\n",
    "        return 0 \n"
   ]
  },
  {
   "cell_type": "code",
   "execution_count": 4,
   "metadata": {},
   "outputs": [],
   "source": [
    "X=[(0,0),(0,1),(1,0),(1,1)]"
   ]
  },
  {
   "cell_type": "code",
   "execution_count": 5,
   "metadata": {},
   "outputs": [
    {
     "name": "stdout",
     "output_type": "stream",
     "text": [
      "(0, 0) -> 0\n",
      "(0, 1) -> 0\n",
      "(1, 0) -> 0\n",
      "(1, 1) -> 1\n"
     ]
    }
   ],
   "source": [
    "for Xs in X:\n",
    "    y = NPAND(Xs[0]*0.8,Xs[1]*0.8)\n",
    "    print(Xs,'->',y)"
   ]
  },
  {
   "cell_type": "code",
   "execution_count": 6,
   "metadata": {},
   "outputs": [],
   "source": [
    "def NPOR(x1,x2):\n",
    "    x = np.array([x1,x2])\n",
    "    w = np.array([0.5,0.5])\n",
    "    b=0.2\n",
    "    y=np.sum(w*x)-b\n",
    "    if y<=0:\n",
    "        return 0\n",
    "    else:\n",
    "        return 1\n"
   ]
  },
  {
   "cell_type": "code",
   "execution_count": 7,
   "metadata": {},
   "outputs": [
    {
     "name": "stdout",
     "output_type": "stream",
     "text": [
      "(0, 0) -> 0\n",
      "(0, 1) -> 1\n",
      "(1, 0) -> 1\n",
      "(1, 1) -> 1\n"
     ]
    }
   ],
   "source": [
    "for Xs in X:\n",
    "    y = NPOR(Xs[0],Xs[1]*0.5)\n",
    "    print(Xs,'->',y)"
   ]
  },
  {
   "cell_type": "code",
   "execution_count": 8,
   "metadata": {},
   "outputs": [],
   "source": [
    "def NPNOR(x1,x2):\n",
    "    x = np.array([x1,x2])\n",
    "    w = np.array(0.5)\n",
    "    b=0.4\n",
    "    y=np.sum(w*x)-b\n",
    "    if y>0:\n",
    "        return 0 \n",
    "    else:\n",
    "        return 1\n"
   ]
  },
  {
   "cell_type": "code",
   "execution_count": 9,
   "metadata": {},
   "outputs": [
    {
     "name": "stdout",
     "output_type": "stream",
     "text": [
      "(0, 0) -> 1\n",
      "(0, 1) -> 0\n",
      "(1, 0) -> 0\n",
      "(1, 1) -> 0\n"
     ]
    }
   ],
   "source": [
    "for Xs in X:\n",
    "    y = NPNOR(Xs[0],Xs[1])\n",
    "    print(Xs,'->',y)"
   ]
  },
  {
   "cell_type": "code",
   "execution_count": 10,
   "metadata": {},
   "outputs": [],
   "source": [
    "def NPNAND(x1,x2):\n",
    "    x = np.array([x1,x2])\n",
    "    w = np.array([0.5, 0.5])\n",
    "    b= 0.7\n",
    "    y=np.sum(w*x)-b\n",
    "    if y>0:\n",
    "        return 0\n",
    "    else:\n",
    "        return 1"
   ]
  },
  {
   "cell_type": "code",
   "execution_count": 11,
   "metadata": {},
   "outputs": [
    {
     "name": "stdout",
     "output_type": "stream",
     "text": [
      "(0, 0) -> 1\n",
      "(0, 1) -> 1\n",
      "(1, 0) -> 1\n",
      "(1, 1) -> 0\n"
     ]
    }
   ],
   "source": [
    "for Xs in X:\n",
    "    y = NPNAND(Xs[0],Xs[1])\n",
    "    print(Xs,'->',y)"
   ]
  },
  {
   "cell_type": "code",
   "execution_count": 12,
   "metadata": {},
   "outputs": [],
   "source": [
    "def NPXOR(x1,x2):\n",
    "    x = np.array([x1,x2])\n",
    "    w = np.array([0.5, 0.5])\n",
    "    b=0.3\n",
    "    y = np.sum(-(w*(x-b))**2+b**2)\n",
    "    print(y)\n",
    "    if y>b**2:\n",
    "        return 1 \n",
    "    else:\n",
    "        return 0"
   ]
  },
  {
   "cell_type": "code",
   "execution_count": 13,
   "metadata": {},
   "outputs": [
    {
     "name": "stdout",
     "output_type": "stream",
     "text": [
      "0.135\n",
      "(0, 0) -> 1\n",
      "0.095\n",
      "(0, 1) -> 1\n",
      "0.095\n",
      "(1, 0) -> 1\n",
      "0.05499999999999999\n",
      "(1, 1) -> 0\n"
     ]
    }
   ],
   "source": [
    "for Xs in X:\n",
    "    y = NPXOR(Xs[0]*0.8,Xs[1]*0.8)\n",
    "    print(Xs,'->',y)"
   ]
  },
  {
   "cell_type": "code",
   "execution_count": 14,
   "metadata": {},
   "outputs": [],
   "source": [
    "def step_function(x):\n",
    "    print(x)\n",
    "    if x== 0:\n",
    "        return 0\n",
    "    else:\n",
    "        y= x**2/x\n",
    "    if y>0:\n",
    "        return 1\n",
    "    else:\n",
    "        return 0"
   ]
  },
  {
   "cell_type": "code",
   "execution_count": 15,
   "metadata": {},
   "outputs": [],
   "source": [
    "def step_function(x):\n",
    "    return (x>0).astype(int)"
   ]
  },
  {
   "cell_type": "code",
   "execution_count": 16,
   "metadata": {},
   "outputs": [],
   "source": [
    "import random"
   ]
  },
  {
   "cell_type": "code",
   "execution_count": 17,
   "metadata": {},
   "outputs": [],
   "source": [
    "X=np.array(range(-1,2))"
   ]
  },
  {
   "cell_type": "code",
   "execution_count": 18,
   "metadata": {},
   "outputs": [
    {
     "data": {
      "text/plain": [
       "array([0, 0, 1])"
      ]
     },
     "execution_count": 18,
     "metadata": {},
     "output_type": "execute_result"
    }
   ],
   "source": [
    "step_function(X)"
   ]
  },
  {
   "cell_type": "code",
   "execution_count": 19,
   "metadata": {},
   "outputs": [],
   "source": [
    "def sigmoid(x):\n",
    "    y=1/(1+np.exp(-x))\n",
    "    return y"
   ]
  },
  {
   "cell_type": "code",
   "execution_count": 20,
   "metadata": {},
   "outputs": [
    {
     "data": {
      "text/plain": [
       "[<matplotlib.lines.Line2D at 0x1ba72782a80>]"
      ]
     },
     "execution_count": 20,
     "metadata": {},
     "output_type": "execute_result"
    },
    {
     "data": {
      "image/png": "[encoded data removed]",
      "text/plain": [
       "<Figure size 640x480 with 1 Axes>"
      ]
     },
     "metadata": {},
     "output_type": "display_data"
    }
   ],
   "source": [
    "import matplotlib.pyplot as plt \n",
    "x=np.linspace(-10,10,100)\n",
    "plt.plot(x, sigmoid(x))"
   ]
  },
  {
   "cell_type": "code",
   "execution_count": 21,
   "metadata": {},
   "outputs": [],
   "source": [
    "def relu(x):\n",
    "    y=np.maximum(0,x)\n",
    "    return y"
   ]
  },
  {
   "cell_type": "code",
   "execution_count": 22,
   "metadata": {},
   "outputs": [
    {
     "data": {
      "text/plain": [
       "[<matplotlib.lines.Line2D at 0x1ba73038aa0>]"
      ]
     },
     "execution_count": 22,
     "metadata": {},
     "output_type": "execute_result"
    },
    {
     "data": {
      "image/png": "[encoded data removed]",
      "text/plain": [
       "<Figure size 640x480 with 1 Axes>"
      ]
     },
     "metadata": {},
     "output_type": "display_data"
    }
   ],
   "source": [
    "import matplotlib.pyplot as plt \n",
    "x=np.linspace(-10,10,100)\n",
    "plt.plot(x, relu(x))"
   ]
  },
  {
   "cell_type": "code",
   "execution_count": 23,
   "metadata": {},
   "outputs": [],
   "source": [
    "def hyperT(x):\n",
    "    return (np.exp(2*x)-1)/(np.exp(2*x)+1)"
   ]
  },
  {
   "cell_type": "code",
   "execution_count": 24,
   "metadata": {},
   "outputs": [
    {
     "data": {
      "image/png": "[encoded data removed]",
      "text/plain": [
       "<Figure size 640x480 with 1 Axes>"
      ]
     },
     "metadata": {},
     "output_type": "display_data"
    }
   ],
   "source": [
    "import matplotlib.pyplot as plt \n",
    "\n",
    "x=np.linspace(-10,10,100)\n",
    "plt.plot(x,step_function(x))\n",
    "plt.plot(x,sigmoid(x))\n",
    "plt.plot(x,hyperT(x))\n",
    "plt.show()"
   ]
  },
  {
   "cell_type": "code",
   "execution_count": 25,
   "metadata": {},
   "outputs": [],
   "source": [
    "def same(x):\n",
    "    return x"
   ]
  },
  {
   "cell_type": "code",
   "execution_count": 26,
   "metadata": {},
   "outputs": [],
   "source": [
    "def softmax(x):\n",
    "    return np.exp(x)/np.sum(np.exp(x))"
   ]
  },
  {
   "cell_type": "code",
   "execution_count": 27,
   "metadata": {},
   "outputs": [
    {
     "data": {
      "image/png": "[encoded data removed]",
      "text/plain": [
       "<Figure size 640x480 with 1 Axes>"
      ]
     },
     "metadata": {},
     "output_type": "display_data"
    }
   ],
   "source": [
    "\n",
    "x=np.linspace(-10,10,100)\n",
    "y=softmax(x)\n",
    "plt.plot(x,y)\n",
    "plt.title(f\"softmax\")\n",
    "plt.show()"
   ]
  },
  {
   "cell_type": "code",
   "execution_count": 28,
   "metadata": {},
   "outputs": [],
   "source": [
    "import numpy as np \n",
    "import matplotlib.pyplot as plt"
   ]
  },
  {
   "cell_type": "code",
   "execution_count": 29,
   "metadata": {},
   "outputs": [],
   "source": [
    "x1 = random.randrange(60,100)\n",
    "x2 = random.randrange(60,100)"
   ]
  },
  {
   "cell_type": "code",
   "execution_count": 2456,
   "metadata": {},
   "outputs": [],
   "source": [
    "def neural():\n",
    "    network = {}\n",
    "    network['w1'] = np.array([[0.1,0.2,0.3],[0.4,0.5,0.6]]) \n",
    "    network['b1'] = np.array([0.1,0.2,0.2])\n",
    "    network['w2'] = np.array([[0.4,0.5],[0.3,0.2],[0.4,0.3]])\n",
    "    network['b2'] = np.array([0.3,0.4])\n",
    "    network['w3'] = np.array([0.3,0.6])\n",
    "    network['b3'] = np.array([0.3])\n",
    "    return network\n",
    "def forward(net,x):\n",
    "    w=[]\n",
    "    b=[]\n",
    "    for i in range(1,4):\n",
    "        w.append(net[f'w{i}'])\n",
    "        b.append(net[f'b{i}'])\n",
    "    w1,w2,w3=w\n",
    "\n",
    "    b1,b2,b3=b\n",
    "    a1 = np.dot(x,w1)+b1\n",
    "    z1 = sigmoid(a1)\n",
    "   \n",
    "    a2 = np.dot(z1, w2) + b2\n",
    "    z2 = sigmoid(a2)\n",
    "    a3 = np.dot(z2,w3)+b3\n",
    "    z3 = relu(a3)\n",
    "    y = same(z3)\n",
    " \n",
    "    return y\n",
    "loss_G=[]\n",
    "i=0\n",
    "def optimaitizer(target, output, i = i):\n",
    "    i+=1\n",
    "\n",
    "    return np.sum((output-target)**2)/len(output)\n",
    "target = 0.85\n",
    "def loss(x, t = target):\n",
    "    y = forward(network, x)\n",
    "    if len(loss_G) == 0 : \n",
    "        loss = optimaitizer(t, y)\n",
    "    else:\n",
    "        gen = loss_G.pop(0)\n",
    "        loss = optimaitizer(t, y)*0.1+gen*0.9 \n",
    "    loss_G.append(loss)  \n",
    "    return loss \n",
    "\n",
    "network = neural()\n"
   ]
  },
  {
   "cell_type": "code",
   "execution_count": 2462,
   "metadata": {},
   "outputs": [
    {
     "name": "stdout",
     "output_type": "stream",
     "text": [
      "1\n",
      "[0.85165165]\n",
      "1\n",
      "[3.77029476e-10 4.61436094e-10 5.64739054e-10 6.91168729e-10\n",
      " 8.45902561e-10 1.03527708e-09 1.26704739e-09 1.55070475e-09\n",
      " 1.89786526e-09 2.32274554e-09 2.84274493e-09 3.47915801e-09\n",
      " 4.25804662e-09 5.21130715e-09 6.37797672e-09 7.80583179e-09\n",
      " 9.55334469e-09 1.16920781e-08 1.43096155e-08 1.75131483e-08\n",
      " 2.14338646e-08 2.62323225e-08 3.21050242e-08 3.92924637e-08\n",
      " 4.80889749e-08 5.88547851e-08 7.20307667e-08 8.81564912e-08\n",
      " 1.07892326e-07 1.32046476e-07 1.61608081e-07 1.97787724e-07\n",
      " 2.42067002e-07 2.96259203e-07 3.62583560e-07 4.43756133e-07\n",
      " 5.43101031e-07 6.64686542e-07 8.13491735e-07 9.95610352e-07\n",
      " 1.21850036e-06 1.49128937e-06 1.82514839e-06 2.23374935e-06\n",
      " 2.73382492e-06 3.34585378e-06 4.09489921e-06 5.01163548e-06\n",
      " 6.13360401e-06 7.50675071e-06 9.18730750e-06 1.12440951e-05\n",
      " 1.37613414e-05 1.68421305e-05 2.06126243e-05 2.52272289e-05\n",
      " 3.08749175e-05 3.77869697e-05 4.62464418e-05 5.65997592e-05\n",
      " 6.92709019e-05 8.47787680e-05 1.03758422e-04 1.26987104e-04\n",
      " 1.55416054e-04 1.90209471e-04 2.32792185e-04 2.84908007e-04\n",
      " 3.48691141e-04 4.26753580e-04 5.22292070e-04 6.39219023e-04\n",
      " 7.82322732e-04 9.57463460e-04 1.17181342e-03 1.43415049e-03\n",
      " 1.75521768e-03 2.14816306e-03 2.62907820e-03 3.21765712e-03\n",
      " 3.93800281e-03 4.81961426e-03 5.89859447e-03 7.21912894e-03\n",
      " 8.83529506e-03 1.08132767e-02 1.32340745e-02 1.61968229e-02\n",
      " 1.98228499e-02 2.42606455e-02 2.96919425e-02 3.63391588e-02\n",
      " 4.44745056e-02 5.44311347e-02 6.66167816e-02 8.15304625e-02\n",
      " 9.97829100e-02 1.22121583e-01 1.49461275e-01 1.82921579e-01]\n",
      "1\n",
      "[3.77029476e-10 4.61436094e-10 5.64739054e-10 6.91168729e-10\n",
      " 8.45902561e-10 1.03527708e-09 1.26704739e-09 1.55070475e-09\n",
      " 1.89786526e-09 2.32274554e-09 2.84274493e-09 3.47915801e-09\n",
      " 4.25804662e-09 5.21130715e-09 6.37797672e-09 7.80583179e-09\n",
      " 9.55334469e-09 1.16920781e-08 1.43096155e-08 1.75131483e-08\n",
      " 2.14338646e-08 2.62323225e-08 3.21050242e-08 3.92924637e-08\n",
      " 4.80889749e-08 5.88547851e-08 7.20307667e-08 8.81564912e-08\n",
      " 1.07892326e-07 1.32046476e-07 1.61608081e-07 1.97787724e-07\n",
      " 2.42067002e-07 2.96259203e-07 3.62583560e-07 4.43756133e-07\n",
      " 5.43101031e-07 6.64686542e-07 8.13491735e-07 9.95610352e-07\n",
      " 1.21850036e-06 1.49128937e-06 1.82514839e-06 2.23374935e-06\n",
      " 2.73382492e-06 3.34585378e-06 4.09489921e-06 5.01163548e-06\n",
      " 6.13360401e-06 7.50675071e-06 9.18730750e-06 1.12440951e-05\n",
      " 1.37613414e-05 1.68421305e-05 2.06126243e-05 2.52272289e-05\n",
      " 3.08749175e-05 3.77869697e-05 4.62464418e-05 5.65997592e-05\n",
      " 6.92709019e-05 8.47787680e-05 1.03758422e-04 1.26987104e-04\n",
      " 1.55416054e-04 1.90209471e-04 2.32792185e-04 2.84908007e-04\n",
      " 3.48691141e-04 4.26753580e-04 5.22292070e-04 6.39219023e-04\n",
      " 7.82322732e-04 9.57463460e-04 1.17181342e-03 1.43415049e-03\n",
      " 1.75521768e-03 2.14816306e-03 2.62907820e-03 3.21765712e-03\n",
      " 3.93800281e-03 4.81961426e-03 5.89859447e-03 7.21912894e-03\n",
      " 8.83529506e-03 1.08132767e-02 1.32340745e-02 1.61968229e-02\n",
      " 1.98228499e-02 2.42606455e-02 2.96919425e-02 3.63391588e-02\n",
      " 4.44745056e-02 5.44311347e-02 6.66167816e-02 8.15304625e-02\n",
      " 9.97829100e-02 1.22121583e-01 1.49461275e-01 1.82921579e-01]\n",
      "1\n",
      "[3.77029476e-10 4.61436094e-10 5.64739054e-10 6.91168729e-10\n",
      " 8.45902561e-10 1.03527708e-09 1.26704739e-09 1.55070475e-09\n",
      " 1.89786526e-09 2.32274554e-09 2.84274493e-09 3.47915801e-09\n",
      " 4.25804662e-09 5.21130715e-09 6.37797672e-09 7.80583179e-09\n",
      " 9.55334469e-09 1.16920781e-08 1.43096155e-08 1.75131483e-08\n",
      " 2.14338646e-08 2.62323225e-08 3.21050242e-08 3.92924637e-08\n",
      " 4.80889749e-08 5.88547851e-08 7.20307667e-08 8.81564912e-08\n",
      " 1.07892326e-07 1.32046476e-07 1.61608081e-07 1.97787724e-07\n",
      " 2.42067002e-07 2.96259203e-07 3.62583560e-07 4.43756133e-07\n",
      " 5.43101031e-07 6.64686542e-07 8.13491735e-07 9.95610352e-07\n",
      " 1.21850036e-06 1.49128937e-06 1.82514839e-06 2.23374935e-06\n",
      " 2.73382492e-06 3.34585378e-06 4.09489921e-06 5.01163548e-06\n",
      " 6.13360401e-06 7.50675071e-06 9.18730750e-06 1.12440951e-05\n",
      " 1.37613414e-05 1.68421305e-05 2.06126243e-05 2.52272289e-05\n",
      " 3.08749175e-05 3.77869697e-05 4.62464418e-05 5.65997592e-05\n",
      " 6.92709019e-05 8.47787680e-05 1.03758422e-04 1.26987104e-04\n",
      " 1.55416054e-04 1.90209471e-04 2.32792185e-04 2.84908007e-04\n",
      " 3.48691141e-04 4.26753580e-04 5.22292070e-04 6.39219023e-04\n",
      " 7.82322732e-04 9.57463460e-04 1.17181342e-03 1.43415049e-03\n",
      " 1.75521768e-03 2.14816306e-03 2.62907820e-03 3.21765712e-03\n",
      " 3.93800281e-03 4.81961426e-03 5.89859447e-03 7.21912894e-03\n",
      " 8.83529506e-03 1.08132767e-02 1.32340745e-02 1.61968229e-02\n",
      " 1.98228499e-02 2.42606455e-02 2.96919425e-02 3.63391588e-02\n",
      " 4.44745056e-02 5.44311347e-02 6.66167816e-02 8.15304625e-02\n",
      " 9.97829100e-02 1.22121583e-01 1.49461275e-01 1.82921579e-01]\n",
      "1\n",
      "[3.77029476e-10 4.61436094e-10 5.64739054e-10 6.91168729e-10\n",
      " 8.45902561e-10 1.03527708e-09 1.26704739e-09 1.55070475e-09\n",
      " 1.89786526e-09 2.32274554e-09 2.84274493e-09 3.47915801e-09\n",
      " 4.25804662e-09 5.21130715e-09 6.37797672e-09 7.80583179e-09\n",
      " 9.55334469e-09 1.16920781e-08 1.43096155e-08 1.75131483e-08\n",
      " 2.14338646e-08 2.62323225e-08 3.21050242e-08 3.92924637e-08\n",
      " 4.80889749e-08 5.88547851e-08 7.20307667e-08 8.81564912e-08\n",
      " 1.07892326e-07 1.32046476e-07 1.61608081e-07 1.97787724e-07\n",
      " 2.42067002e-07 2.96259203e-07 3.62583560e-07 4.43756133e-07\n",
      " 5.43101031e-07 6.64686542e-07 8.13491735e-07 9.95610352e-07\n",
      " 1.21850036e-06 1.49128937e-06 1.82514839e-06 2.23374935e-06\n",
      " 2.73382492e-06 3.34585378e-06 4.09489921e-06 5.01163548e-06\n",
      " 6.13360401e-06 7.50675071e-06 9.18730750e-06 1.12440951e-05\n",
      " 1.37613414e-05 1.68421305e-05 2.06126243e-05 2.52272289e-05\n",
      " 3.08749175e-05 3.77869697e-05 4.62464418e-05 5.65997592e-05\n",
      " 6.92709019e-05 8.47787680e-05 1.03758422e-04 1.26987104e-04\n",
      " 1.55416054e-04 1.90209471e-04 2.32792185e-04 2.84908007e-04\n",
      " 3.48691141e-04 4.26753580e-04 5.22292070e-04 6.39219023e-04\n",
      " 7.82322732e-04 9.57463460e-04 1.17181342e-03 1.43415049e-03\n",
      " 1.75521768e-03 2.14816306e-03 2.62907820e-03 3.21765712e-03\n",
      " 3.93800281e-03 4.81961426e-03 5.89859447e-03 7.21912894e-03\n",
      " 8.83529506e-03 1.08132767e-02 1.32340745e-02 1.61968229e-02\n",
      " 1.98228499e-02 2.42606455e-02 2.96919425e-02 3.63391588e-02\n",
      " 4.44745056e-02 5.44311347e-02 6.66167816e-02 8.15304625e-02\n",
      " 9.97829100e-02 1.22121583e-01 1.49461275e-01 1.82921579e-01]\n",
      "1\n",
      "[3.77029476e-10 4.61436094e-10 5.64739054e-10 6.91168729e-10\n",
      " 8.45902561e-10 1.03527708e-09 1.26704739e-09 1.55070475e-09\n",
      " 1.89786526e-09 2.32274554e-09 2.84274493e-09 3.47915801e-09\n",
      " 4.25804662e-09 5.21130715e-09 6.37797672e-09 7.80583179e-09\n",
      " 9.55334469e-09 1.16920781e-08 1.43096155e-08 1.75131483e-08\n",
      " 2.14338646e-08 2.62323225e-08 3.21050242e-08 3.92924637e-08\n",
      " 4.80889749e-08 5.88547851e-08 7.20307667e-08 8.81564912e-08\n",
      " 1.07892326e-07 1.32046476e-07 1.61608081e-07 1.97787724e-07\n",
      " 2.42067002e-07 2.96259203e-07 3.62583560e-07 4.43756133e-07\n",
      " 5.43101031e-07 6.64686542e-07 8.13491735e-07 9.95610352e-07\n",
      " 1.21850036e-06 1.49128937e-06 1.82514839e-06 2.23374935e-06\n",
      " 2.73382492e-06 3.34585378e-06 4.09489921e-06 5.01163548e-06\n",
      " 6.13360401e-06 7.50675071e-06 9.18730750e-06 1.12440951e-05\n",
      " 1.37613414e-05 1.68421305e-05 2.06126243e-05 2.52272289e-05\n",
      " 3.08749175e-05 3.77869697e-05 4.62464418e-05 5.65997592e-05\n",
      " 6.92709019e-05 8.47787680e-05 1.03758422e-04 1.26987104e-04\n",
      " 1.55416054e-04 1.90209471e-04 2.32792185e-04 2.84908007e-04\n",
      " 3.48691141e-04 4.26753580e-04 5.22292070e-04 6.39219023e-04\n",
      " 7.82322732e-04 9.57463460e-04 1.17181342e-03 1.43415049e-03\n",
      " 1.75521768e-03 2.14816306e-03 2.62907820e-03 3.21765712e-03\n",
      " 3.93800281e-03 4.81961426e-03 5.89859447e-03 7.21912894e-03\n",
      " 8.83529506e-03 1.08132767e-02 1.32340745e-02 1.61968229e-02\n",
      " 1.98228499e-02 2.42606455e-02 2.96919425e-02 3.63391588e-02\n",
      " 4.44745056e-02 5.44311347e-02 6.66167816e-02 8.15304625e-02\n",
      " 9.97829100e-02 1.22121583e-01 1.49461275e-01 1.82921579e-01]\n",
      "1\n",
      "[3.77029476e-10 4.61436094e-10 5.64739054e-10 6.91168729e-10\n",
      " 8.45902561e-10 1.03527708e-09 1.26704739e-09 1.55070475e-09\n",
      " 1.89786526e-09 2.32274554e-09 2.84274493e-09 3.47915801e-09\n",
      " 4.25804662e-09 5.21130715e-09 6.37797672e-09 7.80583179e-09\n",
      " 9.55334469e-09 1.16920781e-08 1.43096155e-08 1.75131483e-08\n",
      " 2.14338646e-08 2.62323225e-08 3.21050242e-08 3.92924637e-08\n",
      " 4.80889749e-08 5.88547851e-08 7.20307667e-08 8.81564912e-08\n",
      " 1.07892326e-07 1.32046476e-07 1.61608081e-07 1.97787724e-07\n",
      " 2.42067002e-07 2.96259203e-07 3.62583560e-07 4.43756133e-07\n",
      " 5.43101031e-07 6.64686542e-07 8.13491735e-07 9.95610352e-07\n",
      " 1.21850036e-06 1.49128937e-06 1.82514839e-06 2.23374935e-06\n",
      " 2.73382492e-06 3.34585378e-06 4.09489921e-06 5.01163548e-06\n",
      " 6.13360401e-06 7.50675071e-06 9.18730750e-06 1.12440951e-05\n",
      " 1.37613414e-05 1.68421305e-05 2.06126243e-05 2.52272289e-05\n",
      " 3.08749175e-05 3.77869697e-05 4.62464418e-05 5.65997592e-05\n",
      " 6.92709019e-05 8.47787680e-05 1.03758422e-04 1.26987104e-04\n",
      " 1.55416054e-04 1.90209471e-04 2.32792185e-04 2.84908007e-04\n",
      " 3.48691141e-04 4.26753580e-04 5.22292070e-04 6.39219023e-04\n",
      " 7.82322732e-04 9.57463460e-04 1.17181342e-03 1.43415049e-03\n",
      " 1.75521768e-03 2.14816306e-03 2.62907820e-03 3.21765712e-03\n",
      " 3.93800281e-03 4.81961426e-03 5.89859447e-03 7.21912894e-03\n",
      " 8.83529506e-03 1.08132767e-02 1.32340745e-02 1.61968229e-02\n",
      " 1.98228499e-02 2.42606455e-02 2.96919425e-02 3.63391588e-02\n",
      " 4.44745056e-02 5.44311347e-02 6.66167816e-02 8.15304625e-02\n",
      " 9.97829100e-02 1.22121583e-01 1.49461275e-01 1.82921579e-01]\n",
      "1\n",
      "[0.84685014]\n"
     ]
    }
   ],
   "source": [
    "\n",
    "output = forward(network, input)\n",
    "print(output) #[1.0219655]\n",
    "target = 0.85\n",
    "if output>target:\n",
    "    network['w1'] -=loss(input)\n",
    "    network['b1'] -=loss(input)\n",
    "    network['w2'] -=loss(input)\n",
    "    network['b2'] -=loss(input)\n",
    "    network['w3'] -=loss(input)\n",
    "    network['b3'] -=loss(input)\n",
    "else:\n",
    "    network['w1'] +=loss(input)\n",
    "    network['b1'] +=loss(input)\n",
    "    network['w2'] +=loss(input)\n",
    "    network['b2'] +=loss(input)\n",
    "    network['w3'] +=loss(input)\n",
    "    network['b3'] +=loss(input)\n",
    "\n",
    "input = np.array([60,90])\n",
    "output = forward(network, input)\n",
    "print(output) #[1.0219655]\n"
   ]
  },
  {
   "cell_type": "code",
   "execution_count": 2338,
   "metadata": {},
   "outputs": [
    {
     "name": "stdout",
     "output_type": "stream",
     "text": [
      "[[0.03334963 0.13334963 0.23334963]\n",
      " [0.33334963 0.43334963 0.53334963]] [0.03630152 0.13630152 0.13630152] [[0.33895826 0.43895826]\n",
      " [0.23895826 0.13895826]\n",
      " [0.33895826 0.23895826]] [0.24195151 0.34195151] [0.24483337 0.54483337] [0.24896934]\n"
     ]
    }
   ],
   "source": [
    "print(    network['w1'],\n",
    "    network['b1'] ,\n",
    "    network['w2'] ,\n",
    "    network['b2'] ,\n",
    "    network['w3'] ,\n",
    "    network['b3'])"
   ]
  },
  {
   "cell_type": "code",
   "execution_count": 2376,
   "metadata": {},
   "outputs": [
    {
     "name": "stdout",
     "output_type": "stream",
     "text": [
      "[26  3]\n",
      "1\n",
      "[0.84209526]\n"
     ]
    }
   ],
   "source": [
    "input = np.random.randint(0,100,2)\n",
    "print(input)\n",
    "output = forward(network, input)\n",
    "print(output) #[1.0219655]"
   ]
  },
  {
   "cell_type": "code",
   "execution_count": 1507,
   "metadata": {},
   "outputs": [],
   "source": [
    "p=[1,2]"
   ]
  },
  {
   "cell_type": "code",
   "execution_count": 1510,
   "metadata": {},
   "outputs": [],
   "source": [
    "x=p.pop(0)"
   ]
  },
  {
   "cell_type": "code",
   "execution_count": 1511,
   "metadata": {},
   "outputs": [
    {
     "data": {
      "text/plain": [
       "1"
      ]
     },
     "execution_count": 1511,
     "metadata": {},
     "output_type": "execute_result"
    }
   ],
   "source": [
    "x"
   ]
  },
  {
   "cell_type": "code",
   "execution_count": 32,
   "metadata": {},
   "outputs": [],
   "source": [
    "x= np.array([60, 70])"
   ]
  },
  {
   "cell_type": "code",
   "execution_count": 33,
   "metadata": {},
   "outputs": [],
   "source": [
    "network=neural()"
   ]
  },
  {
   "cell_type": "code",
   "execution_count": 34,
   "metadata": {},
   "outputs": [
    {
     "name": "stdout",
     "output_type": "stream",
     "text": [
      "[array([[0.1, 0.2, 0.3],\n",
      "       [0.4, 0.5, 0.6]]), array([[0.4, 0.5],\n",
      "       [0.3, 0.2],\n",
      "       [0.4, 0.3]]), array([0.3, 0.6])] [array([0.1, 0.2, 0.2]), array([0.3, 0.4]), array([0.3])]\n",
      "[34.1 47.2 60.2] <class 'numpy.ndarray'>\n",
      "[1.0219655]\n"
     ]
    }
   ],
   "source": [
    "print(foroward(network,x))"
   ]
  },
  {
   "cell_type": "code",
   "execution_count": 2305,
   "metadata": {},
   "outputs": [
    {
     "name": "stdout",
     "output_type": "stream",
     "text": [
      "Collecting tensorflow\n",
      "  Downloading tensorflow-2.17.0-cp312-cp312-win_amd64.whl.metadata (3.2 kB)\n",
      "Collecting tensorflow-intel==2.17.0 (from tensorflow)\n",
      "  Downloading tensorflow_intel-2.17.0-cp312-cp312-win_amd64.whl.metadata (5.0 kB)\n",
      "Collecting absl-py>=1.0.0 (from tensorflow-intel==2.17.0->tensorflow)\n",
      "  Using cached absl_py-2.1.0-py3-none-any.whl.metadata (2.3 kB)\n",
      "Collecting astunparse>=1.6.0 (from tensorflow-intel==2.17.0->tensorflow)\n",
      "  Using cached astunparse-1.6.3-py2.py3-none-any.whl.metadata (4.4 kB)\n",
      "Collecting flatbuffers>=24.3.25 (from tensorflow-intel==2.17.0->tensorflow)\n",
      "  Using cached flatbuffers-24.3.25-py2.py3-none-any.whl.metadata (850 bytes)\n",
      "Collecting gast!=0.5.0,!=0.5.1,!=0.5.2,>=0.2.1 (from tensorflow-intel==2.17.0->tensorflow)\n",
      "  Downloading gast-0.6.0-py3-none-any.whl.metadata (1.3 kB)\n",
      "Collecting google-pasta>=0.1.1 (from tensorflow-intel==2.17.0->tensorflow)\n",
      "  Using cached google_pasta-0.2.0-py3-none-any.whl.metadata (814 bytes)\n",
      "Requirement already satisfied: h5py>=3.10.0 in c:\\users\\humming\\anaconda3\\lib\\site-packages (from tensorflow-intel==2.17.0->tensorflow) (3.11.0)\n",
      "Collecting libclang>=13.0.0 (from tensorflow-intel==2.17.0->tensorflow)\n",
      "  Using cached libclang-18.1.1-py2.py3-none-win_amd64.whl.metadata (5.3 kB)\n",
      "Collecting ml-dtypes<0.5.0,>=0.3.1 (from tensorflow-intel==2.17.0->tensorflow)\n",
      "  Downloading ml_dtypes-0.4.0-cp312-cp312-win_amd64.whl.metadata (20 kB)\n",
      "Collecting opt-einsum>=2.3.2 (from tensorflow-intel==2.17.0->tensorflow)\n",
      "  Using cached opt_einsum-3.3.0-py3-none-any.whl.metadata (6.5 kB)\n",
      "Requirement already satisfied: packaging in c:\\users\\humming\\anaconda3\\lib\\site-packages (from tensorflow-intel==2.17.0->tensorflow) (23.2)\n",
      "Requirement already satisfied: protobuf!=4.21.0,!=4.21.1,!=4.21.2,!=4.21.3,!=4.21.4,!=4.21.5,<5.0.0dev,>=3.20.3 in c:\\users\\humming\\anaconda3\\lib\\site-packages (from tensorflow-intel==2.17.0->tensorflow) (3.20.3)\n",
      "Requirement already satisfied: requests<3,>=2.21.0 in c:\\users\\humming\\anaconda3\\lib\\site-packages (from tensorflow-intel==2.17.0->tensorflow) (2.32.2)\n",
      "Requirement already satisfied: setuptools in c:\\users\\humming\\anaconda3\\lib\\site-packages (from tensorflow-intel==2.17.0->tensorflow) (69.5.1)\n",
      "Requirement already satisfied: six>=1.12.0 in c:\\users\\humming\\anaconda3\\lib\\site-packages (from tensorflow-intel==2.17.0->tensorflow) (1.16.0)\n",
      "Collecting termcolor>=1.1.0 (from tensorflow-intel==2.17.0->tensorflow)\n",
      "  Using cached termcolor-2.4.0-py3-none-any.whl.metadata (6.1 kB)\n",
      "Requirement already satisfied: typing-extensions>=3.6.6 in c:\\users\\humming\\anaconda3\\lib\\site-packages (from tensorflow-intel==2.17.0->tensorflow) (4.11.0)\n",
      "Requirement already satisfied: wrapt>=1.11.0 in c:\\users\\humming\\anaconda3\\lib\\site-packages (from tensorflow-intel==2.17.0->tensorflow) (1.14.1)\n",
      "Collecting grpcio<2.0,>=1.24.3 (from tensorflow-intel==2.17.0->tensorflow)\n",
      "  Downloading grpcio-1.66.1-cp312-cp312-win_amd64.whl.metadata (4.0 kB)\n",
      "Collecting tensorboard<2.18,>=2.17 (from tensorflow-intel==2.17.0->tensorflow)\n",
      "  Downloading tensorboard-2.17.1-py3-none-any.whl.metadata (1.6 kB)\n",
      "Collecting keras>=3.2.0 (from tensorflow-intel==2.17.0->tensorflow)\n",
      "  Downloading keras-3.5.0-py3-none-any.whl.metadata (5.8 kB)\n",
      "Requirement already satisfied: numpy<2.0.0,>=1.26.0 in c:\\users\\humming\\anaconda3\\lib\\site-packages (from tensorflow-intel==2.17.0->tensorflow) (1.26.4)\n",
      "Requirement already satisfied: wheel<1.0,>=0.23.0 in c:\\users\\humming\\anaconda3\\lib\\site-packages (from astunparse>=1.6.0->tensorflow-intel==2.17.0->tensorflow) (0.43.0)\n",
      "Requirement already satisfied: rich in c:\\users\\humming\\anaconda3\\lib\\site-packages (from keras>=3.2.0->tensorflow-intel==2.17.0->tensorflow) (13.3.5)\n",
      "Collecting namex (from keras>=3.2.0->tensorflow-intel==2.17.0->tensorflow)\n",
      "  Downloading namex-0.0.8-py3-none-any.whl.metadata (246 bytes)\n",
      "Collecting optree (from keras>=3.2.0->tensorflow-intel==2.17.0->tensorflow)\n",
      "  Downloading optree-0.12.1-cp312-cp312-win_amd64.whl.metadata (48 kB)\n",
      "     ---------------------------------------- 0.0/48.7 kB ? eta -:--:--\n",
      "     ---------------------------------------- 48.7/48.7 kB 2.4 MB/s eta 0:00:00\n",
      "Requirement already satisfied: charset-normalizer<4,>=2 in c:\\users\\humming\\anaconda3\\lib\\site-packages (from requests<3,>=2.21.0->tensorflow-intel==2.17.0->tensorflow) (2.0.4)\n",
      "Requirement already satisfied: idna<4,>=2.5 in c:\\users\\humming\\anaconda3\\lib\\site-packages (from requests<3,>=2.21.0->tensorflow-intel==2.17.0->tensorflow) (2.10)\n",
      "Requirement already satisfied: urllib3<3,>=1.21.1 in c:\\users\\humming\\anaconda3\\lib\\site-packages (from requests<3,>=2.21.0->tensorflow-intel==2.17.0->tensorflow) (2.0.3)\n",
      "Requirement already satisfied: certifi>=2017.4.17 in c:\\users\\humming\\anaconda3\\lib\\site-packages (from requests<3,>=2.21.0->tensorflow-intel==2.17.0->tensorflow) (2024.7.4)\n",
      "Requirement already satisfied: markdown>=2.6.8 in c:\\users\\humming\\anaconda3\\lib\\site-packages (from tensorboard<2.18,>=2.17->tensorflow-intel==2.17.0->tensorflow) (3.4.1)\n",
      "Collecting tensorboard-data-server<0.8.0,>=0.7.0 (from tensorboard<2.18,>=2.17->tensorflow-intel==2.17.0->tensorflow)\n",
      "  Using cached tensorboard_data_server-0.7.2-py3-none-any.whl.metadata (1.1 kB)\n",
      "Requirement already satisfied: werkzeug>=1.0.1 in c:\\users\\humming\\anaconda3\\lib\\site-packages (from tensorboard<2.18,>=2.17->tensorflow-intel==2.17.0->tensorflow) (3.0.3)\n",
      "Requirement already satisfied: MarkupSafe>=2.1.1 in c:\\users\\humming\\anaconda3\\lib\\site-packages (from werkzeug>=1.0.1->tensorboard<2.18,>=2.17->tensorflow-intel==2.17.0->tensorflow) (2.1.3)\n",
      "Requirement already satisfied: markdown-it-py<3.0.0,>=2.2.0 in c:\\users\\humming\\anaconda3\\lib\\site-packages (from rich->keras>=3.2.0->tensorflow-intel==2.17.0->tensorflow) (2.2.0)\n",
      "Requirement already satisfied: pygments<3.0.0,>=2.13.0 in c:\\users\\humming\\anaconda3\\lib\\site-packages (from rich->keras>=3.2.0->tensorflow-intel==2.17.0->tensorflow) (2.15.1)\n",
      "Requirement already satisfied: mdurl~=0.1 in c:\\users\\humming\\anaconda3\\lib\\site-packages (from markdown-it-py<3.0.0,>=2.2.0->rich->keras>=3.2.0->tensorflow-intel==2.17.0->tensorflow) (0.1.0)\n",
      "Downloading tensorflow-2.17.0-cp312-cp312-win_amd64.whl (2.0 kB)\n",
      "Downloading tensorflow_intel-2.17.0-cp312-cp312-win_amd64.whl (385.2 MB)\n",
      "   ---------------------------------------- 0.0/385.2 MB ? eta -:--:--\n",
      "   ---------------------------------------- 0.5/385.2 MB 15.5 MB/s eta 0:00:25\n",
      "   ---------------------------------------- 1.1/385.2 MB 13.9 MB/s eta 0:00:28\n",
      "   ---------------------------------------- 1.8/385.2 MB 14.3 MB/s eta 0:00:27\n",
      "   ---------------------------------------- 2.7/385.2 MB 15.4 MB/s eta 0:00:25\n",
      "   ---------------------------------------- 3.3/385.2 MB 15.0 MB/s eta 0:00:26\n",
      "   ---------------------------------------- 4.0/385.2 MB 15.1 MB/s eta 0:00:26\n",
      "   ---------------------------------------- 4.6/385.2 MB 14.6 MB/s eta 0:00:27\n",
      "    --------------------------------------- 5.3/385.2 MB 14.8 MB/s eta 0:00:26\n",
      "    --------------------------------------- 6.1/385.2 MB 14.9 MB/s eta 0:00:26\n",
      "    --------------------------------------- 6.8/385.2 MB 15.0 MB/s eta 0:00:26\n",
      "    --------------------------------------- 7.2/385.2 MB 14.5 MB/s eta 0:00:27\n",
      "    --------------------------------------- 7.9/385.2 MB 14.4 MB/s eta 0:00:27\n",
      "    --------------------------------------- 8.6/385.2 MB 14.5 MB/s eta 0:00:26\n",
      "    --------------------------------------- 9.5/385.2 MB 14.8 MB/s eta 0:00:26\n",
      "   - -------------------------------------- 10.2/385.2 MB 14.8 MB/s eta 0:00:26\n",
      "   - -------------------------------------- 10.9/385.2 MB 14.9 MB/s eta 0:00:26\n",
      "   - -------------------------------------- 11.9/385.2 MB 15.6 MB/s eta 0:00:24\n",
      "   - -------------------------------------- 12.8/385.2 MB 15.6 MB/s eta 0:00:24\n",
      "   - -------------------------------------- 13.4/385.2 MB 15.6 MB/s eta 0:00:24\n",
      "   - -------------------------------------- 14.2/385.2 MB 15.6 MB/s eta 0:00:24\n",
      "   - -------------------------------------- 14.7/385.2 MB 16.0 MB/s eta 0:00:24\n",
      "   - -------------------------------------- 15.6/385.2 MB 15.6 MB/s eta 0:00:24\n",
      "   - -------------------------------------- 16.2/385.2 MB 15.6 MB/s eta 0:00:24\n",
      "   - -------------------------------------- 17.0/385.2 MB 15.6 MB/s eta 0:00:24\n",
      "   - -------------------------------------- 17.2/385.2 MB 14.9 MB/s eta 0:00:25\n",
      "   - -------------------------------------- 17.3/385.2 MB 14.2 MB/s eta 0:00:26\n",
      "   - -------------------------------------- 18.0/385.2 MB 14.2 MB/s eta 0:00:26\n",
      "   - -------------------------------------- 18.5/385.2 MB 13.9 MB/s eta 0:00:27\n",
      "   - -------------------------------------- 19.1/385.2 MB 14.2 MB/s eta 0:00:26\n",
      "   -- ------------------------------------- 20.0/385.2 MB 14.2 MB/s eta 0:00:26\n",
      "   -- ------------------------------------- 20.5/385.2 MB 13.9 MB/s eta 0:00:27\n",
      "   -- ------------------------------------- 21.1/385.2 MB 13.9 MB/s eta 0:00:27\n",
      "   -- ------------------------------------- 21.5/385.2 MB 13.4 MB/s eta 0:00:28\n",
      "   -- ------------------------------------- 22.5/385.2 MB 13.6 MB/s eta 0:00:27\n",
      "   -- ------------------------------------- 23.3/385.2 MB 13.4 MB/s eta 0:00:28\n",
      "   -- ------------------------------------- 23.9/385.2 MB 13.4 MB/s eta 0:00:28\n",
      "   -- ------------------------------------- 24.6/385.2 MB 13.4 MB/s eta 0:00:27\n",
      "   -- ------------------------------------- 25.1/385.2 MB 13.1 MB/s eta 0:00:28\n",
      "   -- ------------------------------------- 25.8/385.2 MB 13.1 MB/s eta 0:00:28\n",
      "   -- ------------------------------------- 26.4/385.2 MB 13.4 MB/s eta 0:00:27\n",
      "   -- ------------------------------------- 27.1/385.2 MB 12.8 MB/s eta 0:00:28\n",
      "   -- ------------------------------------- 27.7/385.2 MB 13.9 MB/s eta 0:00:26\n",
      "   -- ------------------------------------- 28.3/385.2 MB 13.9 MB/s eta 0:00:26\n",
      "   -- ------------------------------------- 28.8/385.2 MB 14.2 MB/s eta 0:00:26\n",
      "   --- ------------------------------------ 29.3/385.2 MB 13.9 MB/s eta 0:00:26\n",
      "   --- ------------------------------------ 29.8/385.2 MB 13.4 MB/s eta 0:00:27\n",
      "   --- ------------------------------------ 30.8/385.2 MB 13.4 MB/s eta 0:00:27\n",
      "   --- ------------------------------------ 31.4/385.2 MB 13.6 MB/s eta 0:00:26\n",
      "   --- ------------------------------------ 32.3/385.2 MB 13.9 MB/s eta 0:00:26\n",
      "   --- ------------------------------------ 33.1/385.2 MB 13.9 MB/s eta 0:00:26\n",
      "   --- ------------------------------------ 34.0/385.2 MB 13.9 MB/s eta 0:00:26\n",
      "   --- ------------------------------------ 34.9/385.2 MB 14.2 MB/s eta 0:00:25\n",
      "   --- ------------------------------------ 35.5/385.2 MB 14.2 MB/s eta 0:00:25\n",
      "   --- ------------------------------------ 36.1/385.2 MB 14.5 MB/s eta 0:00:25\n",
      "   --- ------------------------------------ 36.9/385.2 MB 14.6 MB/s eta 0:00:24\n",
      "   --- ------------------------------------ 37.4/385.2 MB 14.2 MB/s eta 0:00:25\n",
      "   --- ------------------------------------ 37.8/385.2 MB 14.2 MB/s eta 0:00:25\n",
      "   ---- ----------------------------------- 38.8/385.2 MB 14.6 MB/s eta 0:00:24\n",
      "   ---- ----------------------------------- 39.5/385.2 MB 14.9 MB/s eta 0:00:24\n",
      "   ---- ----------------------------------- 40.2/385.2 MB 15.2 MB/s eta 0:00:23\n",
      "   ---- ----------------------------------- 40.9/385.2 MB 15.6 MB/s eta 0:00:23\n",
      "   ---- ----------------------------------- 42.1/385.2 MB 15.2 MB/s eta 0:00:23\n",
      "   ---- ----------------------------------- 42.8/385.2 MB 15.2 MB/s eta 0:00:23\n",
      "   ---- ----------------------------------- 42.8/385.2 MB 14.5 MB/s eta 0:00:24\n",
      "   ---- ----------------------------------- 43.0/385.2 MB 13.6 MB/s eta 0:00:26\n",
      "   ---- ----------------------------------- 43.5/385.2 MB 13.4 MB/s eta 0:00:26\n",
      "   ---- ----------------------------------- 44.0/385.2 MB 13.1 MB/s eta 0:00:27\n",
      "   ---- ----------------------------------- 44.6/385.2 MB 12.8 MB/s eta 0:00:27\n",
      "   ---- ----------------------------------- 45.3/385.2 MB 12.8 MB/s eta 0:00:27\n",
      "   ---- ----------------------------------- 46.0/385.2 MB 12.6 MB/s eta 0:00:27\n",
      "   ---- ----------------------------------- 46.7/385.2 MB 13.1 MB/s eta 0:00:26\n",
      "   ---- ----------------------------------- 47.4/385.2 MB 13.4 MB/s eta 0:00:26\n",
      "   ---- ----------------------------------- 48.1/385.2 MB 13.1 MB/s eta 0:00:26\n",
      "   ----- ---------------------------------- 48.9/385.2 MB 13.4 MB/s eta 0:00:26\n",
      "   ----- ---------------------------------- 49.3/385.2 MB 13.1 MB/s eta 0:00:26\n",
      "   ----- ---------------------------------- 49.5/385.2 MB 12.1 MB/s eta 0:00:28\n",
      "   ----- ---------------------------------- 50.1/385.2 MB 12.1 MB/s eta 0:00:28\n",
      "   ----- ---------------------------------- 50.7/385.2 MB 12.1 MB/s eta 0:00:28\n",
      "   ----- ---------------------------------- 51.3/385.2 MB 12.4 MB/s eta 0:00:28\n",
      "   ----- ---------------------------------- 52.0/385.2 MB 12.1 MB/s eta 0:00:28\n",
      "   ----- ---------------------------------- 52.8/385.2 MB 12.1 MB/s eta 0:00:28\n",
      "   ----- ---------------------------------- 53.5/385.2 MB 13.4 MB/s eta 0:00:25\n",
      "   ----- ---------------------------------- 54.2/385.2 MB 13.6 MB/s eta 0:00:25\n",
      "   ----- ---------------------------------- 54.8/385.2 MB 13.6 MB/s eta 0:00:25\n",
      "   ----- ---------------------------------- 55.5/385.2 MB 13.6 MB/s eta 0:00:25\n",
      "   ----- ---------------------------------- 56.0/385.2 MB 13.6 MB/s eta 0:00:25\n",
      "   ----- ---------------------------------- 56.8/385.2 MB 13.6 MB/s eta 0:00:25\n",
      "   ----- ---------------------------------- 57.5/385.2 MB 13.6 MB/s eta 0:00:25\n",
      "   ------ --------------------------------- 58.0/385.2 MB 13.6 MB/s eta 0:00:24\n",
      "   ------ --------------------------------- 58.7/385.2 MB 13.4 MB/s eta 0:00:25\n",
      "   ------ --------------------------------- 59.0/385.2 MB 13.1 MB/s eta 0:00:25\n",
      "   ------ --------------------------------- 59.3/385.2 MB 12.6 MB/s eta 0:00:26\n",
      "   ------ --------------------------------- 59.9/385.2 MB 13.6 MB/s eta 0:00:24\n",
      "   ------ --------------------------------- 60.5/385.2 MB 13.1 MB/s eta 0:00:25\n",
      "   ------ --------------------------------- 61.0/385.2 MB 13.1 MB/s eta 0:00:25\n",
      "   ------ --------------------------------- 61.6/385.2 MB 13.1 MB/s eta 0:00:25\n",
      "   ------ --------------------------------- 61.9/385.2 MB 13.1 MB/s eta 0:00:25\n",
      "   ------ --------------------------------- 61.9/385.2 MB 13.1 MB/s eta 0:00:25\n",
      "   ------ --------------------------------- 61.9/385.2 MB 13.1 MB/s eta 0:00:25\n",
      "   ------ --------------------------------- 61.9/385.2 MB 13.1 MB/s eta 0:00:25\n",
      "   ------ --------------------------------- 61.9/385.2 MB 10.2 MB/s eta 0:00:32\n",
      "   ------ --------------------------------- 62.4/385.2 MB 10.1 MB/s eta 0:00:33\n",
      "   ------ --------------------------------- 63.1/385.2 MB 10.1 MB/s eta 0:00:32\n",
      "   ------ --------------------------------- 63.8/385.2 MB 10.1 MB/s eta 0:00:32\n",
      "   ------ --------------------------------- 64.3/385.2 MB 9.9 MB/s eta 0:00:33\n",
      "   ------ --------------------------------- 64.7/385.2 MB 9.9 MB/s eta 0:00:33\n",
      "   ------ --------------------------------- 65.3/385.2 MB 9.6 MB/s eta 0:00:34\n",
      "   ------ --------------------------------- 65.9/385.2 MB 9.6 MB/s eta 0:00:34\n",
      "   ------ --------------------------------- 66.6/385.2 MB 9.6 MB/s eta 0:00:34\n",
      "   ------ --------------------------------- 67.0/385.2 MB 9.5 MB/s eta 0:00:34\n",
      "   ------- -------------------------------- 67.7/385.2 MB 9.5 MB/s eta 0:00:34\n",
      "   ------- -------------------------------- 68.3/385.2 MB 9.5 MB/s eta 0:00:34\n",
      "   ------- -------------------------------- 68.9/385.2 MB 9.6 MB/s eta 0:00:33\n",
      "   ------- -------------------------------- 69.3/385.2 MB 9.9 MB/s eta 0:00:32\n",
      "   ------- -------------------------------- 70.1/385.2 MB 9.9 MB/s eta 0:00:32\n",
      "   ------- -------------------------------- 70.5/385.2 MB 9.9 MB/s eta 0:00:32\n",
      "   ------- -------------------------------- 71.1/385.2 MB 9.8 MB/s eta 0:00:33\n",
      "   ------- -------------------------------- 71.6/385.2 MB 9.9 MB/s eta 0:00:32\n",
      "   ------- -------------------------------- 72.4/385.2 MB 12.6 MB/s eta 0:00:25\n",
      "   ------- -------------------------------- 73.1/385.2 MB 12.6 MB/s eta 0:00:25\n",
      "   ------- -------------------------------- 73.8/385.2 MB 12.8 MB/s eta 0:00:25\n",
      "   ------- -------------------------------- 74.5/385.2 MB 13.1 MB/s eta 0:00:24\n",
      "   ------- -------------------------------- 75.1/385.2 MB 13.1 MB/s eta 0:00:24\n",
      "   ------- -------------------------------- 75.8/385.2 MB 13.4 MB/s eta 0:00:24\n",
      "   ------- -------------------------------- 76.3/385.2 MB 13.1 MB/s eta 0:00:24\n",
      "   ------- -------------------------------- 77.0/385.2 MB 13.1 MB/s eta 0:00:24\n",
      "   -------- ------------------------------- 77.8/385.2 MB 13.4 MB/s eta 0:00:24\n",
      "   -------- ------------------------------- 78.5/385.2 MB 13.6 MB/s eta 0:00:23\n",
      "   -------- ------------------------------- 79.0/385.2 MB 13.4 MB/s eta 0:00:23\n",
      "   -------- ------------------------------- 79.7/385.2 MB 13.6 MB/s eta 0:00:23\n",
      "   -------- ------------------------------- 80.4/385.2 MB 13.4 MB/s eta 0:00:23\n",
      "   -------- ------------------------------- 80.9/385.2 MB 13.9 MB/s eta 0:00:22\n",
      "   -------- ------------------------------- 81.7/385.2 MB 13.9 MB/s eta 0:00:22\n",
      "   -------- ------------------------------- 82.2/385.2 MB 13.9 MB/s eta 0:00:22\n",
      "   -------- ------------------------------- 83.0/385.2 MB 13.9 MB/s eta 0:00:22\n",
      "   -------- ------------------------------- 83.8/385.2 MB 13.9 MB/s eta 0:00:22\n",
      "   -------- ------------------------------- 84.4/385.2 MB 13.6 MB/s eta 0:00:23\n",
      "   -------- ------------------------------- 85.0/385.2 MB 13.6 MB/s eta 0:00:23\n",
      "   -------- ------------------------------- 85.7/385.2 MB 13.9 MB/s eta 0:00:22\n",
      "   -------- ------------------------------- 86.4/385.2 MB 13.9 MB/s eta 0:00:22\n",
      "   --------- ------------------------------ 87.1/385.2 MB 14.9 MB/s eta 0:00:21\n",
      "   --------- ------------------------------ 87.9/385.2 MB 14.9 MB/s eta 0:00:20\n",
      "   --------- ------------------------------ 88.6/385.2 MB 14.6 MB/s eta 0:00:21\n",
      "   --------- ------------------------------ 89.3/385.2 MB 14.9 MB/s eta 0:00:20\n",
      "   --------- ------------------------------ 90.0/385.2 MB 14.9 MB/s eta 0:00:20\n",
      "   --------- ------------------------------ 90.7/385.2 MB 15.2 MB/s eta 0:00:20\n",
      "   --------- ------------------------------ 91.4/385.2 MB 15.2 MB/s eta 0:00:20\n",
      "   --------- ------------------------------ 92.1/385.2 MB 15.2 MB/s eta 0:00:20\n",
      "   --------- ------------------------------ 92.8/385.2 MB 15.2 MB/s eta 0:00:20\n",
      "   --------- ------------------------------ 93.3/385.2 MB 15.2 MB/s eta 0:00:20\n",
      "   --------- ------------------------------ 93.3/385.2 MB 15.2 MB/s eta 0:00:20\n",
      "   --------- ------------------------------ 93.3/385.2 MB 15.2 MB/s eta 0:00:20\n",
      "   --------- ------------------------------ 93.3/385.2 MB 15.2 MB/s eta 0:00:20\n",
      "   --------- ------------------------------ 93.3/385.2 MB 15.2 MB/s eta 0:00:20\n",
      "   --------- ------------------------------ 93.7/385.2 MB 11.3 MB/s eta 0:00:26\n",
      "   --------- ------------------------------ 94.3/385.2 MB 11.3 MB/s eta 0:00:26\n",
      "   --------- ------------------------------ 95.1/385.2 MB 11.5 MB/s eta 0:00:26\n",
      "   --------- ------------------------------ 95.4/385.2 MB 11.7 MB/s eta 0:00:25\n",
      "   --------- ------------------------------ 95.7/385.2 MB 10.9 MB/s eta 0:00:27\n",
      "   ---------- ----------------------------- 96.3/385.2 MB 10.7 MB/s eta 0:00:27\n",
      "   ---------- ----------------------------- 97.1/385.2 MB 10.7 MB/s eta 0:00:27\n",
      "   ---------- ----------------------------- 97.6/385.2 MB 10.7 MB/s eta 0:00:27\n",
      "   ---------- ----------------------------- 98.3/385.2 MB 10.7 MB/s eta 0:00:27\n",
      "   ---------- ----------------------------- 99.2/385.2 MB 10.7 MB/s eta 0:00:27\n",
      "   ---------- ----------------------------- 99.8/385.2 MB 10.7 MB/s eta 0:00:27\n",
      "   ---------- ---------------------------- 100.7/385.2 MB 10.9 MB/s eta 0:00:27\n",
      "   ---------- ---------------------------- 101.2/385.2 MB 10.7 MB/s eta 0:00:27\n",
      "   ---------- ---------------------------- 102.1/385.2 MB 10.9 MB/s eta 0:00:26\n",
      "   ---------- ---------------------------- 102.9/385.2 MB 10.9 MB/s eta 0:00:26\n",
      "   ---------- ---------------------------- 103.5/385.2 MB 10.7 MB/s eta 0:00:27\n",
      "   ---------- ---------------------------- 104.3/385.2 MB 14.6 MB/s eta 0:00:20\n",
      "   ---------- ---------------------------- 105.2/385.2 MB 14.2 MB/s eta 0:00:20\n",
      "   ---------- ---------------------------- 105.8/385.2 MB 15.6 MB/s eta 0:00:18\n",
      "   ---------- ---------------------------- 106.7/385.2 MB 16.0 MB/s eta 0:00:18\n",
      "   ---------- ---------------------------- 106.9/385.2 MB 16.4 MB/s eta 0:00:17\n",
      "   ---------- ---------------------------- 106.9/385.2 MB 16.4 MB/s eta 0:00:17\n",
      "   ---------- ---------------------------- 106.9/385.2 MB 16.4 MB/s eta 0:00:17\n",
      "   ---------- ---------------------------- 106.9/385.2 MB 16.4 MB/s eta 0:00:17\n",
      "   ---------- ---------------------------- 107.2/385.2 MB 11.9 MB/s eta 0:00:24\n",
      "   ---------- ---------------------------- 108.0/385.2 MB 12.4 MB/s eta 0:00:23\n",
      "   ----------- --------------------------- 108.7/385.2 MB 12.1 MB/s eta 0:00:23\n",
      "   ----------- --------------------------- 109.4/385.2 MB 12.1 MB/s eta 0:00:23\n",
      "   ----------- --------------------------- 110.3/385.2 MB 12.1 MB/s eta 0:00:23\n",
      "   ----------- --------------------------- 111.3/385.2 MB 12.4 MB/s eta 0:00:23\n",
      "   ----------- --------------------------- 112.2/385.2 MB 12.6 MB/s eta 0:00:22\n",
      "   ----------- --------------------------- 113.2/385.2 MB 12.8 MB/s eta 0:00:22\n",
      "   ----------- --------------------------- 113.9/385.2 MB 12.8 MB/s eta 0:00:22\n",
      "   ----------- --------------------------- 114.6/385.2 MB 12.9 MB/s eta 0:00:22\n",
      "   ----------- --------------------------- 115.3/385.2 MB 12.8 MB/s eta 0:00:22\n",
      "   ----------- --------------------------- 116.0/385.2 MB 13.1 MB/s eta 0:00:21\n",
      "   ----------- --------------------------- 116.7/385.2 MB 12.8 MB/s eta 0:00:21\n",
      "   ----------- --------------------------- 117.4/385.2 MB 17.3 MB/s eta 0:00:16\n",
      "   ----------- --------------------------- 118.2/385.2 MB 17.2 MB/s eta 0:00:16\n",
      "   ------------ -------------------------- 119.1/385.2 MB 17.7 MB/s eta 0:00:16\n",
      "   ------------ -------------------------- 119.8/385.2 MB 17.2 MB/s eta 0:00:16\n",
      "   ------------ -------------------------- 120.6/385.2 MB 17.2 MB/s eta 0:00:16\n",
      "   ------------ -------------------------- 121.4/385.2 MB 16.8 MB/s eta 0:00:16\n",
      "   ------------ -------------------------- 121.8/385.2 MB 16.4 MB/s eta 0:00:17\n",
      "   ------------ -------------------------- 122.6/385.2 MB 16.0 MB/s eta 0:00:17\n",
      "   ------------ -------------------------- 123.6/385.2 MB 15.6 MB/s eta 0:00:17\n",
      "   ------------ -------------------------- 124.4/385.2 MB 15.2 MB/s eta 0:00:18\n",
      "   ------------ -------------------------- 125.4/385.2 MB 16.0 MB/s eta 0:00:17\n",
      "   ------------ -------------------------- 126.2/385.2 MB 16.0 MB/s eta 0:00:17\n",
      "   ------------ -------------------------- 127.0/385.2 MB 16.4 MB/s eta 0:00:16\n",
      "   ------------ -------------------------- 127.6/385.2 MB 16.0 MB/s eta 0:00:17\n",
      "   ------------ -------------------------- 128.3/385.2 MB 16.0 MB/s eta 0:00:17\n",
      "   ------------- ------------------------- 129.1/385.2 MB 16.0 MB/s eta 0:00:17\n",
      "   ------------- ------------------------- 129.9/385.2 MB 16.0 MB/s eta 0:00:16\n",
      "   ------------- ------------------------- 130.6/385.2 MB 16.0 MB/s eta 0:00:16\n",
      "   ------------- ------------------------- 131.0/385.2 MB 15.2 MB/s eta 0:00:17\n",
      "   ------------- ------------------------- 132.1/385.2 MB 16.4 MB/s eta 0:00:16\n",
      "   ------------- ------------------------- 132.1/385.2 MB 16.4 MB/s eta 0:00:16\n",
      "   ------------- ------------------------- 132.1/385.2 MB 16.4 MB/s eta 0:00:16\n",
      "   ------------- ------------------------- 132.4/385.2 MB 13.6 MB/s eta 0:00:19\n",
      "   ------------- ------------------------- 133.2/385.2 MB 13.6 MB/s eta 0:00:19\n",
      "   ------------- ------------------------- 133.9/385.2 MB 13.6 MB/s eta 0:00:19\n",
      "   ------------- ------------------------- 134.7/385.2 MB 14.2 MB/s eta 0:00:18\n",
      "   ------------- ------------------------- 135.4/385.2 MB 13.6 MB/s eta 0:00:19\n",
      "   ------------- ------------------------- 136.2/385.2 MB 13.6 MB/s eta 0:00:19\n",
      "   ------------- ------------------------- 136.9/385.2 MB 13.4 MB/s eta 0:00:19\n",
      "   ------------- ------------------------- 137.6/385.2 MB 13.4 MB/s eta 0:00:19\n",
      "   -------------- ------------------------ 138.4/385.2 MB 13.6 MB/s eta 0:00:19\n",
      "   -------------- ------------------------ 139.3/385.2 MB 13.9 MB/s eta 0:00:18\n",
      "   -------------- ------------------------ 140.0/385.2 MB 13.9 MB/s eta 0:00:18\n",
      "   -------------- ------------------------ 140.9/385.2 MB 14.2 MB/s eta 0:00:18\n",
      "   -------------- ------------------------ 141.8/385.2 MB 14.2 MB/s eta 0:00:18\n",
      "   -------------- ------------------------ 142.7/385.2 MB 17.2 MB/s eta 0:00:15\n",
      "   -------------- ------------------------ 143.6/385.2 MB 17.7 MB/s eta 0:00:14\n",
      "   -------------- ------------------------ 144.6/385.2 MB 18.2 MB/s eta 0:00:14\n",
      "   -------------- ------------------------ 145.6/385.2 MB 18.2 MB/s eta 0:00:14\n",
      "   -------------- ------------------------ 146.6/385.2 MB 19.3 MB/s eta 0:00:13\n",
      "   -------------- ------------------------ 147.3/385.2 MB 18.7 MB/s eta 0:00:13\n",
      "   -------------- ------------------------ 148.1/385.2 MB 18.7 MB/s eta 0:00:13\n",
      "   --------------- ----------------------- 148.9/385.2 MB 18.7 MB/s eta 0:00:13\n",
      "   --------------- ----------------------- 149.4/385.2 MB 18.2 MB/s eta 0:00:13\n",
      "   --------------- ----------------------- 150.3/385.2 MB 18.7 MB/s eta 0:00:13\n",
      "   --------------- ----------------------- 151.1/385.2 MB 18.2 MB/s eta 0:00:13\n",
      "   --------------- ----------------------- 152.0/385.2 MB 18.2 MB/s eta 0:00:13\n",
      "   --------------- ----------------------- 152.8/385.2 MB 18.2 MB/s eta 0:00:13\n",
      "   --------------- ----------------------- 153.5/385.2 MB 17.7 MB/s eta 0:00:14\n",
      "   --------------- ----------------------- 154.4/385.2 MB 17.7 MB/s eta 0:00:14\n",
      "   --------------- ----------------------- 155.2/385.2 MB 17.7 MB/s eta 0:00:13\n",
      "   --------------- ----------------------- 155.8/385.2 MB 16.8 MB/s eta 0:00:14\n",
      "   --------------- ----------------------- 156.7/385.2 MB 16.8 MB/s eta 0:00:14\n",
      "   --------------- ----------------------- 157.7/385.2 MB 17.3 MB/s eta 0:00:14\n",
      "   ---------------- ---------------------- 158.3/385.2 MB 17.2 MB/s eta 0:00:14\n",
      "   ---------------- ---------------------- 159.0/385.2 MB 16.8 MB/s eta 0:00:14\n",
      "   ---------------- ---------------------- 159.4/385.2 MB 16.4 MB/s eta 0:00:14\n",
      "   ---------------- ---------------------- 160.2/385.2 MB 16.8 MB/s eta 0:00:14\n",
      "   ---------------- ---------------------- 161.2/385.2 MB 16.8 MB/s eta 0:00:14\n",
      "   ---------------- ---------------------- 161.9/385.2 MB 16.8 MB/s eta 0:00:14\n",
      "   ---------------- ---------------------- 162.6/385.2 MB 16.8 MB/s eta 0:00:14\n",
      "   ---------------- ---------------------- 163.5/385.2 MB 16.8 MB/s eta 0:00:14\n",
      "   ---------------- ---------------------- 164.2/385.2 MB 16.8 MB/s eta 0:00:14\n",
      "   ---------------- ---------------------- 165.1/385.2 MB 16.8 MB/s eta 0:00:14\n",
      "   ---------------- ---------------------- 166.0/385.2 MB 16.8 MB/s eta 0:00:14\n",
      "   ---------------- ---------------------- 166.7/385.2 MB 16.8 MB/s eta 0:00:14\n",
      "   ---------------- ---------------------- 167.5/385.2 MB 16.8 MB/s eta 0:00:13\n",
      "   ----------------- --------------------- 168.4/385.2 MB 16.8 MB/s eta 0:00:13\n",
      "   ----------------- --------------------- 169.0/385.2 MB 16.8 MB/s eta 0:00:13\n",
      "   ----------------- --------------------- 169.7/385.2 MB 17.2 MB/s eta 0:00:13\n",
      "   ----------------- --------------------- 170.6/385.2 MB 17.2 MB/s eta 0:00:13\n",
      "   ----------------- --------------------- 171.2/385.2 MB 16.8 MB/s eta 0:00:13\n",
      "   ----------------- --------------------- 172.0/385.2 MB 16.8 MB/s eta 0:00:13\n",
      "   ----------------- --------------------- 172.0/385.2 MB 16.8 MB/s eta 0:00:13\n",
      "   ----------------- --------------------- 172.9/385.2 MB 15.6 MB/s eta 0:00:14\n",
      "   ----------------- --------------------- 173.6/385.2 MB 15.6 MB/s eta 0:00:14\n",
      "   ----------------- --------------------- 174.4/385.2 MB 16.0 MB/s eta 0:00:14\n",
      "   ----------------- --------------------- 175.1/385.2 MB 15.6 MB/s eta 0:00:14\n",
      "   ----------------- --------------------- 175.1/385.2 MB 15.6 MB/s eta 0:00:14\n",
      "   ----------------- --------------------- 175.1/385.2 MB 15.6 MB/s eta 0:00:14\n",
      "   ----------------- --------------------- 175.1/385.2 MB 15.6 MB/s eta 0:00:14\n",
      "   ----------------- --------------------- 175.8/385.2 MB 12.6 MB/s eta 0:00:17\n",
      "   ----------------- --------------------- 176.5/385.2 MB 12.4 MB/s eta 0:00:17\n",
      "   ----------------- --------------------- 177.3/385.2 MB 12.4 MB/s eta 0:00:17\n",
      "   ------------------ -------------------- 178.1/385.2 MB 12.4 MB/s eta 0:00:17\n",
      "   ------------------ -------------------- 179.1/385.2 MB 12.8 MB/s eta 0:00:17\n",
      "   ------------------ -------------------- 179.8/385.2 MB 12.8 MB/s eta 0:00:17\n",
      "   ------------------ -------------------- 180.4/385.2 MB 12.6 MB/s eta 0:00:17\n",
      "   ------------------ -------------------- 181.0/385.2 MB 12.4 MB/s eta 0:00:17\n",
      "   ------------------ -------------------- 181.9/385.2 MB 12.6 MB/s eta 0:00:17\n",
      "   ------------------ -------------------- 182.6/385.2 MB 13.6 MB/s eta 0:00:15\n",
      "   ------------------ -------------------- 183.6/385.2 MB 13.6 MB/s eta 0:00:15\n",
      "   ------------------ -------------------- 184.6/385.2 MB 13.9 MB/s eta 0:00:15\n",
      "   ------------------ -------------------- 185.5/385.2 MB 17.7 MB/s eta 0:00:12\n",
      "   ------------------ -------------------- 185.6/385.2 MB 17.2 MB/s eta 0:00:12\n",
      "   ------------------ -------------------- 185.6/385.2 MB 17.2 MB/s eta 0:00:12\n",
      "   ------------------ -------------------- 186.3/385.2 MB 15.2 MB/s eta 0:00:14\n",
      "   ------------------ -------------------- 187.1/385.2 MB 15.6 MB/s eta 0:00:13\n",
      "   ------------------- ------------------- 188.1/385.2 MB 15.6 MB/s eta 0:00:13\n",
      "   ------------------- ------------------- 189.0/385.2 MB 15.6 MB/s eta 0:00:13\n",
      "   ------------------- ------------------- 189.8/385.2 MB 16.0 MB/s eta 0:00:13\n",
      "   ------------------- ------------------- 189.8/385.2 MB 16.0 MB/s eta 0:00:13\n",
      "   ------------------- ------------------- 190.2/385.2 MB 13.9 MB/s eta 0:00:14\n",
      "   ------------------- ------------------- 191.0/385.2 MB 14.2 MB/s eta 0:00:14\n",
      "   ------------------- ------------------- 191.8/385.2 MB 14.6 MB/s eta 0:00:14\n",
      "   ------------------- ------------------- 192.7/385.2 MB 14.5 MB/s eta 0:00:14\n",
      "   ------------------- ------------------- 193.4/385.2 MB 14.2 MB/s eta 0:00:14\n",
      "   ------------------- ------------------- 194.3/385.2 MB 14.2 MB/s eta 0:00:14\n",
      "   ------------------- ------------------- 195.1/385.2 MB 14.2 MB/s eta 0:00:14\n",
      "   ------------------- ------------------- 196.0/385.2 MB 16.0 MB/s eta 0:00:12\n",
      "   ------------------- ------------------- 196.8/385.2 MB 16.0 MB/s eta 0:00:12\n",
      "   ------------------- ------------------- 197.1/385.2 MB 16.0 MB/s eta 0:00:12\n",
      "   ------------------- ------------------- 197.1/385.2 MB 16.0 MB/s eta 0:00:12\n",
      "   ------------------- ------------------- 197.1/385.2 MB 16.0 MB/s eta 0:00:12\n",
      "   ------------------- ------------------- 197.1/385.2 MB 16.0 MB/s eta 0:00:12\n",
      "   ------------------- ------------------- 197.1/385.2 MB 16.0 MB/s eta 0:00:12\n",
      "   ------------------- ------------------- 197.5/385.2 MB 11.7 MB/s eta 0:00:17\n",
      "   -------------------- ------------------ 198.1/385.2 MB 11.7 MB/s eta 0:00:16\n",
      "   -------------------- ------------------ 198.7/385.2 MB 11.3 MB/s eta 0:00:17\n",
      "   -------------------- ------------------ 199.4/385.2 MB 10.9 MB/s eta 0:00:18\n",
      "   -------------------- ------------------ 200.4/385.2 MB 12.1 MB/s eta 0:00:16\n",
      "   -------------------- ------------------ 201.3/385.2 MB 12.1 MB/s eta 0:00:16\n",
      "   -------------------- ------------------ 202.3/385.2 MB 12.4 MB/s eta 0:00:15\n",
      "   -------------------- ------------------ 202.9/385.2 MB 12.4 MB/s eta 0:00:15\n",
      "   -------------------- ------------------ 203.6/385.2 MB 12.3 MB/s eta 0:00:15\n",
      "   -------------------- ------------------ 204.6/385.2 MB 12.4 MB/s eta 0:00:15\n",
      "   -------------------- ------------------ 205.3/385.2 MB 12.4 MB/s eta 0:00:15\n",
      "   -------------------- ------------------ 206.2/385.2 MB 12.4 MB/s eta 0:00:15\n",
      "   -------------------- ------------------ 206.8/385.2 MB 12.4 MB/s eta 0:00:15\n",
      "   --------------------- ----------------- 207.9/385.2 MB 17.7 MB/s eta 0:00:11\n",
      "   --------------------- ----------------- 208.6/385.2 MB 17.7 MB/s eta 0:00:10\n",
      "   --------------------- ----------------- 209.5/385.2 MB 18.2 MB/s eta 0:00:10\n",
      "   --------------------- ----------------- 210.4/385.2 MB 18.2 MB/s eta 0:00:10\n",
      "   --------------------- ----------------- 211.1/385.2 MB 17.7 MB/s eta 0:00:10\n",
      "   --------------------- ----------------- 211.9/385.2 MB 17.3 MB/s eta 0:00:11\n",
      "   --------------------- ----------------- 212.4/385.2 MB 16.8 MB/s eta 0:00:11\n",
      "   --------------------- ----------------- 213.3/385.2 MB 17.7 MB/s eta 0:00:10\n",
      "   --------------------- ----------------- 214.2/385.2 MB 17.2 MB/s eta 0:00:10\n",
      "   --------------------- ----------------- 214.9/385.2 MB 17.2 MB/s eta 0:00:10\n",
      "   --------------------- ----------------- 215.8/385.2 MB 17.2 MB/s eta 0:00:10\n",
      "   --------------------- ----------------- 216.6/385.2 MB 17.2 MB/s eta 0:00:10\n",
      "   ---------------------- ---------------- 217.3/385.2 MB 17.2 MB/s eta 0:00:10\n",
      "   ---------------------- ---------------- 218.1/385.2 MB 17.2 MB/s eta 0:00:10\n",
      "   ---------------------- ---------------- 219.0/385.2 MB 17.2 MB/s eta 0:00:10\n",
      "   ---------------------- ---------------- 219.7/385.2 MB 17.3 MB/s eta 0:00:10\n",
      "   ---------------------- ---------------- 220.6/385.2 MB 17.3 MB/s eta 0:00:10\n",
      "   ---------------------- ---------------- 221.6/385.2 MB 17.7 MB/s eta 0:00:10\n",
      "   ---------------------- ---------------- 222.5/385.2 MB 18.2 MB/s eta 0:00:09\n",
      "   ---------------------- ---------------- 223.4/385.2 MB 18.2 MB/s eta 0:00:09\n",
      "   ---------------------- ---------------- 224.3/385.2 MB 18.7 MB/s eta 0:00:09\n",
      "   ---------------------- ---------------- 225.0/385.2 MB 18.2 MB/s eta 0:00:09\n",
      "   ---------------------- ---------------- 226.0/385.2 MB 18.7 MB/s eta 0:00:09\n",
      "   ---------------------- ---------------- 226.8/385.2 MB 18.7 MB/s eta 0:00:09\n",
      "   ----------------------- --------------- 227.8/385.2 MB 19.3 MB/s eta 0:00:09\n",
      "   ----------------------- --------------- 228.6/385.2 MB 18.7 MB/s eta 0:00:09\n",
      "   ----------------------- --------------- 228.6/385.2 MB 18.7 MB/s eta 0:00:09\n",
      "   ----------------------- --------------- 228.6/385.2 MB 18.7 MB/s eta 0:00:09\n",
      "   ----------------------- --------------- 228.6/385.2 MB 18.7 MB/s eta 0:00:09\n",
      "   ----------------------- --------------- 228.6/385.2 MB 18.7 MB/s eta 0:00:09\n",
      "   ----------------------- --------------- 228.6/385.2 MB 18.7 MB/s eta 0:00:09\n",
      "   ----------------------- --------------- 229.0/385.2 MB 12.9 MB/s eta 0:00:13\n",
      "   ----------------------- --------------- 229.9/385.2 MB 12.8 MB/s eta 0:00:13\n",
      "   ----------------------- --------------- 230.8/385.2 MB 12.8 MB/s eta 0:00:13\n",
      "   ----------------------- --------------- 231.6/385.2 MB 12.8 MB/s eta 0:00:12\n",
      "   ----------------------- --------------- 232.4/385.2 MB 12.8 MB/s eta 0:00:12\n",
      "   ----------------------- --------------- 233.3/385.2 MB 12.8 MB/s eta 0:00:12\n",
      "   ----------------------- --------------- 234.0/385.2 MB 12.6 MB/s eta 0:00:13\n",
      "   ----------------------- --------------- 234.8/385.2 MB 12.3 MB/s eta 0:00:13\n",
      "   ----------------------- --------------- 235.6/385.2 MB 12.4 MB/s eta 0:00:13\n",
      "   ----------------------- --------------- 236.4/385.2 MB 12.4 MB/s eta 0:00:13\n",
      "   ------------------------ -------------- 237.1/385.2 MB 12.1 MB/s eta 0:00:13\n",
      "   ------------------------ -------------- 237.9/385.2 MB 12.1 MB/s eta 0:00:13\n",
      "   ------------------------ -------------- 238.5/385.2 MB 12.1 MB/s eta 0:00:13\n",
      "   ------------------------ -------------- 239.3/385.2 MB 16.8 MB/s eta 0:00:09\n",
      "   ------------------------ -------------- 240.1/385.2 MB 16.8 MB/s eta 0:00:09\n",
      "   ------------------------ -------------- 240.9/385.2 MB 16.8 MB/s eta 0:00:09\n",
      "   ------------------------ -------------- 241.8/385.2 MB 16.8 MB/s eta 0:00:09\n",
      "   ------------------------ -------------- 242.3/385.2 MB 16.8 MB/s eta 0:00:09\n",
      "   ------------------------ -------------- 243.2/385.2 MB 16.4 MB/s eta 0:00:09\n",
      "   ------------------------ -------------- 244.0/385.2 MB 16.8 MB/s eta 0:00:09\n",
      "   ------------------------ -------------- 244.9/385.2 MB 16.8 MB/s eta 0:00:09\n",
      "   ------------------------ -------------- 245.8/385.2 MB 17.2 MB/s eta 0:00:09\n",
      "   ------------------------ -------------- 246.5/385.2 MB 17.2 MB/s eta 0:00:09\n",
      "   ------------------------- ------------- 247.3/385.2 MB 17.2 MB/s eta 0:00:09\n",
      "   ------------------------- ------------- 248.1/385.2 MB 17.2 MB/s eta 0:00:08\n",
      "   ------------------------- ------------- 248.9/385.2 MB 17.2 MB/s eta 0:00:08\n",
      "   ------------------------- ------------- 249.6/385.2 MB 17.7 MB/s eta 0:00:08\n",
      "   ------------------------- ------------- 250.4/385.2 MB 17.3 MB/s eta 0:00:08\n",
      "   ------------------------- ------------- 250.9/385.2 MB 16.8 MB/s eta 0:00:08\n",
      "   ------------------------- ------------- 251.7/385.2 MB 16.8 MB/s eta 0:00:08\n",
      "   ------------------------- ------------- 252.4/385.2 MB 16.8 MB/s eta 0:00:08\n",
      "   ------------------------- ------------- 253.0/385.2 MB 16.4 MB/s eta 0:00:09\n",
      "   ------------------------- ------------- 253.7/385.2 MB 16.0 MB/s eta 0:00:09\n",
      "   ------------------------- ------------- 254.5/385.2 MB 16.0 MB/s eta 0:00:09\n",
      "   ------------------------- ------------- 255.1/385.2 MB 15.6 MB/s eta 0:00:09\n",
      "   ------------------------- ------------- 255.9/385.2 MB 15.6 MB/s eta 0:00:09\n",
      "   ------------------------- ------------- 256.7/385.2 MB 15.6 MB/s eta 0:00:09\n",
      "   -------------------------- ------------ 257.5/385.2 MB 15.6 MB/s eta 0:00:09\n",
      "   -------------------------- ------------ 258.5/385.2 MB 16.0 MB/s eta 0:00:08\n",
      "   -------------------------- ------------ 259.2/385.2 MB 16.0 MB/s eta 0:00:08\n",
      "   -------------------------- ------------ 260.1/385.2 MB 16.0 MB/s eta 0:00:08\n",
      "   -------------------------- ------------ 260.8/385.2 MB 16.0 MB/s eta 0:00:08\n",
      "   -------------------------- ------------ 261.4/385.2 MB 16.0 MB/s eta 0:00:08\n",
      "   -------------------------- ------------ 262.1/385.2 MB 16.0 MB/s eta 0:00:08\n",
      "   -------------------------- ------------ 263.0/385.2 MB 16.4 MB/s eta 0:00:08\n",
      "   -------------------------- ------------ 263.6/385.2 MB 16.0 MB/s eta 0:00:08\n",
      "   -------------------------- ------------ 264.2/385.2 MB 16.4 MB/s eta 0:00:08\n",
      "   -------------------------- ------------ 265.0/385.2 MB 16.8 MB/s eta 0:00:08\n",
      "   -------------------------- ------------ 265.6/385.2 MB 16.4 MB/s eta 0:00:08\n",
      "   -------------------------- ------------ 266.3/385.2 MB 16.4 MB/s eta 0:00:08\n",
      "   --------------------------- ----------- 267.1/385.2 MB 16.4 MB/s eta 0:00:08\n",
      "   --------------------------- ----------- 268.0/385.2 MB 16.4 MB/s eta 0:00:08\n",
      "   --------------------------- ----------- 268.6/385.2 MB 16.0 MB/s eta 0:00:08\n",
      "   --------------------------- ----------- 269.4/385.2 MB 16.0 MB/s eta 0:00:08\n",
      "   --------------------------- ----------- 269.9/385.2 MB 15.6 MB/s eta 0:00:08\n",
      "   --------------------------- ----------- 270.5/385.2 MB 15.6 MB/s eta 0:00:08\n",
      "   --------------------------- ----------- 271.2/385.2 MB 15.2 MB/s eta 0:00:08\n",
      "   --------------------------- ----------- 271.9/385.2 MB 15.2 MB/s eta 0:00:08\n",
      "   --------------------------- ----------- 272.6/385.2 MB 15.2 MB/s eta 0:00:08\n",
      "   --------------------------- ----------- 273.3/385.2 MB 14.9 MB/s eta 0:00:08\n",
      "   --------------------------- ----------- 273.9/385.2 MB 14.9 MB/s eta 0:00:08\n",
      "   --------------------------- ----------- 274.5/385.2 MB 14.9 MB/s eta 0:00:08\n",
      "   --------------------------- ----------- 275.2/385.2 MB 14.6 MB/s eta 0:00:08\n",
      "   --------------------------- ----------- 275.9/385.2 MB 14.9 MB/s eta 0:00:08\n",
      "   --------------------------- ----------- 276.5/385.2 MB 14.6 MB/s eta 0:00:08\n",
      "   ---------------------------- ---------- 277.1/385.2 MB 14.6 MB/s eta 0:00:08\n",
      "   ---------------------------- ---------- 278.0/385.2 MB 14.6 MB/s eta 0:00:08\n",
      "   ---------------------------- ---------- 278.7/385.2 MB 14.6 MB/s eta 0:00:08\n",
      "   ---------------------------- ---------- 279.4/385.2 MB 14.6 MB/s eta 0:00:08\n",
      "   ---------------------------- ---------- 280.3/385.2 MB 14.9 MB/s eta 0:00:08\n",
      "   ---------------------------- ---------- 280.9/385.2 MB 14.9 MB/s eta 0:00:08\n",
      "   ---------------------------- ---------- 281.7/385.2 MB 15.2 MB/s eta 0:00:07\n",
      "   ---------------------------- ---------- 282.6/385.2 MB 15.2 MB/s eta 0:00:07\n",
      "   ---------------------------- ---------- 283.5/385.2 MB 16.4 MB/s eta 0:00:07\n",
      "   ---------------------------- ---------- 284.3/385.2 MB 16.4 MB/s eta 0:00:07\n",
      "   ---------------------------- ---------- 285.2/385.2 MB 16.8 MB/s eta 0:00:06\n",
      "   ---------------------------- ---------- 286.1/385.2 MB 17.2 MB/s eta 0:00:06\n",
      "   ----------------------------- --------- 286.7/385.2 MB 17.2 MB/s eta 0:00:06\n",
      "   ----------------------------- --------- 287.5/385.2 MB 17.2 MB/s eta 0:00:06\n",
      "   ----------------------------- --------- 288.3/385.2 MB 17.2 MB/s eta 0:00:06\n",
      "   ----------------------------- --------- 288.9/385.2 MB 17.2 MB/s eta 0:00:06\n",
      "   ----------------------------- --------- 289.5/385.2 MB 17.3 MB/s eta 0:00:06\n",
      "   ----------------------------- --------- 290.3/385.2 MB 16.8 MB/s eta 0:00:06\n",
      "   ----------------------------- --------- 291.1/385.2 MB 17.2 MB/s eta 0:00:06\n",
      "   ----------------------------- --------- 292.0/385.2 MB 17.2 MB/s eta 0:00:06\n",
      "   ----------------------------- --------- 292.9/385.2 MB 17.7 MB/s eta 0:00:06\n",
      "   ----------------------------- --------- 293.7/385.2 MB 17.2 MB/s eta 0:00:06\n",
      "   ----------------------------- --------- 294.5/385.2 MB 17.2 MB/s eta 0:00:06\n",
      "   ----------------------------- --------- 295.1/385.2 MB 16.8 MB/s eta 0:00:06\n",
      "   ----------------------------- --------- 296.1/385.2 MB 16.8 MB/s eta 0:00:06\n",
      "   ------------------------------ -------- 296.9/385.2 MB 17.2 MB/s eta 0:00:06\n",
      "   ------------------------------ -------- 297.8/385.2 MB 17.2 MB/s eta 0:00:06\n",
      "   ------------------------------ -------- 298.6/385.2 MB 17.3 MB/s eta 0:00:06\n",
      "   ------------------------------ -------- 299.3/385.2 MB 18.2 MB/s eta 0:00:05\n",
      "   ------------------------------ -------- 300.0/385.2 MB 17.7 MB/s eta 0:00:05\n",
      "   ------------------------------ -------- 300.8/385.2 MB 17.7 MB/s eta 0:00:05\n",
      "   ------------------------------ -------- 301.7/385.2 MB 17.7 MB/s eta 0:00:05\n",
      "   ------------------------------ -------- 302.7/385.2 MB 17.7 MB/s eta 0:00:05\n",
      "   ------------------------------ -------- 303.5/385.2 MB 17.7 MB/s eta 0:00:05\n",
      "   ------------------------------ -------- 304.2/385.2 MB 17.7 MB/s eta 0:00:05\n",
      "   ------------------------------ -------- 305.0/385.2 MB 17.7 MB/s eta 0:00:05\n",
      "   ------------------------------ -------- 305.7/385.2 MB 17.7 MB/s eta 0:00:05\n",
      "   ------------------------------- ------- 306.2/385.2 MB 17.7 MB/s eta 0:00:05\n",
      "   ------------------------------- ------- 306.2/385.2 MB 17.7 MB/s eta 0:00:05\n",
      "   ------------------------------- ------- 306.6/385.2 MB 15.2 MB/s eta 0:00:06\n",
      "   ------------------------------- ------- 307.3/385.2 MB 15.2 MB/s eta 0:00:06\n",
      "   ------------------------------- ------- 308.2/385.2 MB 15.2 MB/s eta 0:00:06\n",
      "   ------------------------------- ------- 309.3/385.2 MB 15.6 MB/s eta 0:00:05\n",
      "   ------------------------------- ------- 310.2/385.2 MB 15.6 MB/s eta 0:00:05\n",
      "   ------------------------------- ------- 311.1/385.2 MB 16.0 MB/s eta 0:00:05\n",
      "   ------------------------------- ------- 311.9/385.2 MB 15.6 MB/s eta 0:00:05\n",
      "   ------------------------------- ------- 312.7/385.2 MB 15.6 MB/s eta 0:00:05\n",
      "   ------------------------------- ------- 313.4/385.2 MB 15.2 MB/s eta 0:00:05\n",
      "   ------------------------------- ------- 314.3/385.2 MB 15.6 MB/s eta 0:00:05\n",
      "   ------------------------------- ------- 315.1/385.2 MB 15.6 MB/s eta 0:00:05\n",
      "   ------------------------------- ------- 316.0/385.2 MB 16.0 MB/s eta 0:00:05\n",
      "   -------------------------------- ------ 316.9/385.2 MB 18.7 MB/s eta 0:00:04\n",
      "   -------------------------------- ------ 317.7/385.2 MB 19.3 MB/s eta 0:00:04\n",
      "   -------------------------------- ------ 318.6/385.2 MB 19.3 MB/s eta 0:00:04\n",
      "   -------------------------------- ------ 319.6/385.2 MB 18.2 MB/s eta 0:00:04\n",
      "   -------------------------------- ------ 320.6/385.2 MB 19.2 MB/s eta 0:00:04\n",
      "   -------------------------------- ------ 321.5/385.2 MB 19.2 MB/s eta 0:00:04\n",
      "   -------------------------------- ------ 322.6/385.2 MB 19.9 MB/s eta 0:00:04\n",
      "   -------------------------------- ------ 323.5/385.2 MB 20.5 MB/s eta 0:00:04\n",
      "   -------------------------------- ------ 324.4/385.2 MB 19.9 MB/s eta 0:00:04\n",
      "   -------------------------------- ------ 325.1/385.2 MB 20.5 MB/s eta 0:00:03\n",
      "   -------------------------------- ------ 325.1/385.2 MB 20.5 MB/s eta 0:00:03\n",
      "   --------------------------------- ----- 326.2/385.2 MB 18.7 MB/s eta 0:00:04\n",
      "   --------------------------------- ----- 326.8/385.2 MB 18.2 MB/s eta 0:00:04\n",
      "   --------------------------------- ----- 327.1/385.2 MB 18.2 MB/s eta 0:00:04\n",
      "   --------------------------------- ----- 327.7/385.2 MB 16.4 MB/s eta 0:00:04\n",
      "   --------------------------------- ----- 328.5/385.2 MB 16.4 MB/s eta 0:00:04\n",
      "   --------------------------------- ----- 329.4/385.2 MB 16.4 MB/s eta 0:00:04\n",
      "   --------------------------------- ----- 330.2/385.2 MB 16.4 MB/s eta 0:00:04\n",
      "   --------------------------------- ----- 330.8/385.2 MB 15.6 MB/s eta 0:00:04\n",
      "   --------------------------------- ----- 331.7/385.2 MB 15.6 MB/s eta 0:00:04\n",
      "   --------------------------------- ----- 332.7/385.2 MB 15.6 MB/s eta 0:00:04\n",
      "   --------------------------------- ----- 333.7/385.2 MB 15.6 MB/s eta 0:00:04\n",
      "   --------------------------------- ----- 334.6/385.2 MB 15.6 MB/s eta 0:00:04\n",
      "   --------------------------------- ----- 335.2/385.2 MB 15.2 MB/s eta 0:00:04\n",
      "   ---------------------------------- ---- 336.2/385.2 MB 16.8 MB/s eta 0:00:03\n",
      "   ---------------------------------- ---- 337.0/385.2 MB 16.8 MB/s eta 0:00:03\n",
      "   ---------------------------------- ---- 337.6/385.2 MB 18.7 MB/s eta 0:00:03\n",
      "   ---------------------------------- ---- 337.6/385.2 MB 18.7 MB/s eta 0:00:03\n",
      "   ---------------------------------- ---- 337.6/385.2 MB 18.7 MB/s eta 0:00:03\n",
      "   ---------------------------------- ---- 338.3/385.2 MB 15.2 MB/s eta 0:00:04\n",
      "   ---------------------------------- ---- 339.1/385.2 MB 15.2 MB/s eta 0:00:04\n",
      "   ---------------------------------- ---- 340.2/385.2 MB 15.6 MB/s eta 0:00:03\n",
      "   ---------------------------------- ---- 341.3/385.2 MB 16.4 MB/s eta 0:00:03\n",
      "   ---------------------------------- ---- 342.1/385.2 MB 16.4 MB/s eta 0:00:03\n",
      "   ---------------------------------- ---- 343.2/385.2 MB 16.4 MB/s eta 0:00:03\n",
      "   ---------------------------------- ---- 344.1/385.2 MB 16.4 MB/s eta 0:00:03\n",
      "   ---------------------------------- ---- 345.1/385.2 MB 16.4 MB/s eta 0:00:03\n",
      "   ----------------------------------- --- 346.0/385.2 MB 16.8 MB/s eta 0:00:03\n",
      "   ----------------------------------- --- 347.0/385.2 MB 16.8 MB/s eta 0:00:03\n",
      "   ----------------------------------- --- 348.0/385.2 MB 21.1 MB/s eta 0:00:02\n",
      "   ----------------------------------- --- 349.0/385.2 MB 21.1 MB/s eta 0:00:02\n",
      "   ----------------------------------- --- 349.9/385.2 MB 21.1 MB/s eta 0:00:02\n",
      "   ----------------------------------- --- 350.2/385.2 MB 21.1 MB/s eta 0:00:02\n",
      "   ----------------------------------- --- 350.2/385.2 MB 21.1 MB/s eta 0:00:02\n",
      "   ----------------------------------- --- 351.1/385.2 MB 17.7 MB/s eta 0:00:02\n",
      "   ----------------------------------- --- 351.3/385.2 MB 17.7 MB/s eta 0:00:02\n",
      "   ----------------------------------- --- 351.8/385.2 MB 16.4 MB/s eta 0:00:03\n",
      "   ----------------------------------- --- 352.3/385.2 MB 16.0 MB/s eta 0:00:03\n",
      "   ----------------------------------- --- 352.3/385.2 MB 16.0 MB/s eta 0:00:03\n",
      "   ----------------------------------- --- 352.3/385.2 MB 16.0 MB/s eta 0:00:03\n",
      "   ----------------------------------- --- 352.8/385.2 MB 13.4 MB/s eta 0:00:03\n",
      "   ----------------------------------- --- 353.5/385.2 MB 13.1 MB/s eta 0:00:03\n",
      "   ----------------------------------- --- 354.5/385.2 MB 13.1 MB/s eta 0:00:03\n",
      "   ------------------------------------ -- 355.6/385.2 MB 13.4 MB/s eta 0:00:03\n",
      "   ------------------------------------ -- 356.4/385.2 MB 13.1 MB/s eta 0:00:03\n",
      "   ------------------------------------ -- 357.3/385.2 MB 12.8 MB/s eta 0:00:03\n",
      "   ------------------------------------ -- 357.9/385.2 MB 12.6 MB/s eta 0:00:03\n",
      "   ------------------------------------ -- 358.7/385.2 MB 12.4 MB/s eta 0:00:03\n",
      "   ------------------------------------ -- 359.4/385.2 MB 12.4 MB/s eta 0:00:03\n",
      "   ------------------------------------ -- 360.3/385.2 MB 12.4 MB/s eta 0:00:03\n",
      "   ------------------------------------ -- 361.1/385.2 MB 13.6 MB/s eta 0:00:02\n",
      "   ------------------------------------ -- 361.8/385.2 MB 14.9 MB/s eta 0:00:02\n",
      "   ------------------------------------ -- 362.8/385.2 MB 18.2 MB/s eta 0:00:02\n",
      "   ------------------------------------ -- 363.6/385.2 MB 17.7 MB/s eta 0:00:02\n",
      "   ------------------------------------ -- 364.6/385.2 MB 18.7 MB/s eta 0:00:02\n",
      "   ------------------------------------- - 365.5/385.2 MB 18.2 MB/s eta 0:00:02\n",
      "   ------------------------------------- - 366.6/385.2 MB 18.7 MB/s eta 0:00:01\n",
      "   ------------------------------------- - 367.4/385.2 MB 18.7 MB/s eta 0:00:01\n",
      "   ------------------------------------- - 368.1/385.2 MB 18.7 MB/s eta 0:00:01\n",
      "   ------------------------------------- - 369.0/385.2 MB 19.2 MB/s eta 0:00:01\n",
      "   ------------------------------------- - 369.2/385.2 MB 17.7 MB/s eta 0:00:01\n",
      "   ------------------------------------- - 370.2/385.2 MB 18.2 MB/s eta 0:00:01\n",
      "   ------------------------------------- - 370.9/385.2 MB 17.7 MB/s eta 0:00:01\n",
      "   ------------------------------------- - 371.8/385.2 MB 17.7 MB/s eta 0:00:01\n",
      "   ------------------------------------- - 372.3/385.2 MB 17.7 MB/s eta 0:00:01\n",
      "   ------------------------------------- - 373.2/385.2 MB 17.2 MB/s eta 0:00:01\n",
      "   ------------------------------------- - 374.0/385.2 MB 17.3 MB/s eta 0:00:01\n",
      "   ------------------------------------- - 374.8/385.2 MB 16.8 MB/s eta 0:00:01\n",
      "   --------------------------------------  375.6/385.2 MB 17.2 MB/s eta 0:00:01\n",
      "   --------------------------------------  376.7/385.2 MB 17.3 MB/s eta 0:00:01\n",
      "   --------------------------------------  377.5/385.2 MB 17.3 MB/s eta 0:00:01\n",
      "   --------------------------------------  377.8/385.2 MB 17.7 MB/s eta 0:00:01\n",
      "   --------------------------------------  378.7/385.2 MB 16.4 MB/s eta 0:00:01\n",
      "   --------------------------------------  379.4/385.2 MB 17.2 MB/s eta 0:00:01\n",
      "   --------------------------------------  380.4/385.2 MB 17.2 MB/s eta 0:00:01\n",
      "   --------------------------------------  381.4/385.2 MB 17.2 MB/s eta 0:00:01\n",
      "   --------------------------------------  382.4/385.2 MB 18.2 MB/s eta 0:00:01\n",
      "   --------------------------------------  383.3/385.2 MB 18.2 MB/s eta 0:00:01\n",
      "   --------------------------------------  384.1/385.2 MB 18.2 MB/s eta 0:00:01\n",
      "   --------------------------------------  385.0/385.2 MB 18.7 MB/s eta 0:00:01\n",
      "   --------------------------------------  385.1/385.2 MB 18.7 MB/s eta 0:00:01\n",
      "   --------------------------------------  385.1/385.2 MB 18.7 MB/s eta 0:00:01\n",
      "   --------------------------------------  385.1/385.2 MB 18.7 MB/s eta 0:00:01\n",
      "   --------------------------------------  385.1/385.2 MB 18.7 MB/s eta 0:00:01\n",
      "   --------------------------------------  385.1/385.2 MB 18.7 MB/s eta 0:00:01\n",
      "   --------------------------------------  385.1/385.2 MB 18.7 MB/s eta 0:00:01\n",
      "   --------------------------------------  385.1/385.2 MB 18.7 MB/s eta 0:00:01\n",
      "   --------------------------------------  385.1/385.2 MB 18.7 MB/s eta 0:00:01\n",
      "   --------------------------------------  385.1/385.2 MB 18.7 MB/s eta 0:00:01\n",
      "   --------------------------------------  385.1/385.2 MB 18.7 MB/s eta 0:00:01\n",
      "   --------------------------------------  385.1/385.2 MB 18.7 MB/s eta 0:00:01\n",
      "   --------------------------------------  385.1/385.2 MB 18.7 MB/s eta 0:00:01\n",
      "   --------------------------------------  385.1/385.2 MB 18.7 MB/s eta 0:00:01\n",
      "   --------------------------------------  385.1/385.2 MB 18.7 MB/s eta 0:00:01\n",
      "   --------------------------------------  385.1/385.2 MB 18.7 MB/s eta 0:00:01\n",
      "   --------------------------------------  385.1/385.2 MB 18.7 MB/s eta 0:00:01\n",
      "   --------------------------------------  385.1/385.2 MB 18.7 MB/s eta 0:00:01\n",
      "   --------------------------------------  385.1/385.2 MB 18.7 MB/s eta 0:00:01\n",
      "   ---------------------------------------- 385.2/385.2 MB 7.3 MB/s eta 0:00:00\n",
      "Using cached absl_py-2.1.0-py3-none-any.whl (133 kB)\n",
      "Using cached astunparse-1.6.3-py2.py3-none-any.whl (12 kB)\n",
      "Using cached flatbuffers-24.3.25-py2.py3-none-any.whl (26 kB)\n",
      "Downloading gast-0.6.0-py3-none-any.whl (21 kB)\n",
      "Using cached google_pasta-0.2.0-py3-none-any.whl (57 kB)\n",
      "Downloading grpcio-1.66.1-cp312-cp312-win_amd64.whl (4.3 MB)\n",
      "   ---------------------------------------- 0.0/4.3 MB ? eta -:--:--\n",
      "   ------ --------------------------------- 0.7/4.3 MB 15.1 MB/s eta 0:00:01\n",
      "   -------------- ------------------------- 1.6/4.3 MB 17.0 MB/s eta 0:00:01\n",
      "   ------------------- -------------------- 2.0/4.3 MB 14.5 MB/s eta 0:00:01\n",
      "   ------------------------- -------------- 2.7/4.3 MB 15.7 MB/s eta 0:00:01\n",
      "   ---------------------------------- ----- 3.7/4.3 MB 16.9 MB/s eta 0:00:01\n",
      "   ---------------------------------------  4.3/4.3 MB 17.0 MB/s eta 0:00:01\n",
      "   ---------------------------------------- 4.3/4.3 MB 15.2 MB/s eta 0:00:00\n",
      "Downloading keras-3.5.0-py3-none-any.whl (1.1 MB)\n",
      "   ---------------------------------------- 0.0/1.1 MB ? eta -:--:--\n",
      "   ------------------------------- -------- 0.9/1.1 MB 27.5 MB/s eta 0:00:01\n",
      "   ---------------------------------------- 1.1/1.1 MB 18.0 MB/s eta 0:00:00\n",
      "Using cached libclang-18.1.1-py2.py3-none-win_amd64.whl (26.4 MB)\n",
      "Downloading ml_dtypes-0.4.0-cp312-cp312-win_amd64.whl (127 kB)\n",
      "   ---------------------------------------- 0.0/127.5 kB ? eta -:--:--\n",
      "   ---------------------------------------- 127.5/127.5 kB 7.3 MB/s eta 0:00:00\n",
      "Using cached opt_einsum-3.3.0-py3-none-any.whl (65 kB)\n",
      "Downloading tensorboard-2.17.1-py3-none-any.whl (5.5 MB)\n",
      "   ---------------------------------------- 0.0/5.5 MB ? eta -:--:--\n",
      "   -------- ------------------------------- 1.2/5.5 MB 24.6 MB/s eta 0:00:01\n",
      "   --------------- ------------------------ 2.1/5.5 MB 22.5 MB/s eta 0:00:01\n",
      "   -------------------- ------------------- 2.8/5.5 MB 20.0 MB/s eta 0:00:01\n",
      "   ---------------------------- ----------- 3.9/5.5 MB 20.5 MB/s eta 0:00:01\n",
      "   ---------------------------------- ----- 4.7/5.5 MB 20.1 MB/s eta 0:00:01\n",
      "   ---------------------------------------  5.5/5.5 MB 20.6 MB/s eta 0:00:01\n",
      "   ---------------------------------------- 5.5/5.5 MB 18.5 MB/s eta 0:00:00\n",
      "Using cached termcolor-2.4.0-py3-none-any.whl (7.7 kB)\n",
      "Using cached tensorboard_data_server-0.7.2-py3-none-any.whl (2.4 kB)\n",
      "Downloading namex-0.0.8-py3-none-any.whl (5.8 kB)\n",
      "Downloading optree-0.12.1-cp312-cp312-win_amd64.whl (267 kB)\n",
      "   ---------------------------------------- 0.0/267.2 kB ? eta -:--:--\n",
      "   ---------------------------------------- 267.2/267.2 kB 8.0 MB/s eta 0:00:00\n",
      "Installing collected packages: namex, libclang, flatbuffers, termcolor, tensorboard-data-server, optree, opt-einsum, ml-dtypes, grpcio, google-pasta, gast, astunparse, absl-py, tensorboard, keras, tensorflow-intel, tensorflow\n",
      "Successfully installed absl-py-2.1.0 astunparse-1.6.3 flatbuffers-24.3.25 gast-0.6.0 google-pasta-0.2.0 grpcio-1.66.1 keras-3.5.0 libclang-18.1.1 ml-dtypes-0.4.0 namex-0.0.8 opt-einsum-3.3.0 optree-0.12.1 tensorboard-2.17.1 tensorboard-data-server-0.7.2 tensorflow-2.17.0 tensorflow-intel-2.17.0 termcolor-2.4.0\n"
     ]
    }
   ],
   "source": [
    "!pip install tensorflow"
   ]
  },
  {
   "cell_type": "code",
   "execution_count": 2377,
   "metadata": {},
   "outputs": [
    {
     "name": "stdout",
     "output_type": "stream",
     "text": [
      "Requirement already satisfied: keras in c:\\users\\humming\\anaconda3\\lib\\site-packages (3.5.0)\n",
      "Requirement already satisfied: absl-py in c:\\users\\humming\\anaconda3\\lib\\site-packages (from keras) (2.1.0)\n",
      "Requirement already satisfied: numpy in c:\\users\\humming\\anaconda3\\lib\\site-packages (from keras) (1.26.4)\n",
      "Requirement already satisfied: rich in c:\\users\\humming\\anaconda3\\lib\\site-packages (from keras) (13.3.5)\n",
      "Requirement already satisfied: namex in c:\\users\\humming\\anaconda3\\lib\\site-packages (from keras) (0.0.8)\n",
      "Requirement already satisfied: h5py in c:\\users\\humming\\anaconda3\\lib\\site-packages (from keras) (3.11.0)\n",
      "Requirement already satisfied: optree in c:\\users\\humming\\anaconda3\\lib\\site-packages (from keras) (0.12.1)\n",
      "Requirement already satisfied: ml-dtypes in c:\\users\\humming\\anaconda3\\lib\\site-packages (from keras) (0.4.0)\n",
      "Requirement already satisfied: packaging in c:\\users\\humming\\anaconda3\\lib\\site-packages (from keras) (23.2)\n",
      "Requirement already satisfied: typing-extensions>=4.5.0 in c:\\users\\humming\\anaconda3\\lib\\site-packages (from optree->keras) (4.11.0)\n",
      "Requirement already satisfied: markdown-it-py<3.0.0,>=2.2.0 in c:\\users\\humming\\anaconda3\\lib\\site-packages (from rich->keras) (2.2.0)\n",
      "Requirement already satisfied: pygments<3.0.0,>=2.13.0 in c:\\users\\humming\\anaconda3\\lib\\site-packages (from rich->keras) (2.15.1)\n",
      "Requirement already satisfied: mdurl~=0.1 in c:\\users\\humming\\anaconda3\\lib\\site-packages (from markdown-it-py<3.0.0,>=2.2.0->rich->keras) (0.1.0)\n"
     ]
    }
   ],
   "source": [
    "!pip install keras"
   ]
  },
  {
   "cell_type": "code",
   "execution_count": 6,
   "metadata": {},
   "outputs": [],
   "source": [
    "import numpy as np \n",
    "import tensorflow as tf"
   ]
  },
  {
   "cell_type": "code",
   "execution_count": 2402,
   "metadata": {},
   "outputs": [
    {
     "data": {
      "text/plain": [
       "<tf.Tensor: shape=(), dtype=int32, numpy=3>"
      ]
     },
     "execution_count": 2402,
     "metadata": {},
     "output_type": "execute_result"
    }
   ],
   "source": [
    "t0=tf.constant(1)#0차원\n",
    "t1=tf.constant([1,2,3,1,2,3]) #1ckdnjs\n",
    "t2 = tf.constant([[1,2,3,4],[1,2,3,4]])\n",
    "t3 = tf.constant([[[2,2,3],[2,3,2],[1,2,2]]])\n",
    "tf.rank(t3) # 3차원"
   ]
  },
  {
   "cell_type": "code",
   "execution_count": 2405,
   "metadata": {},
   "outputs": [
    {
     "data": {
      "text/plain": [
       "<tf.Variable 'Variable:0' shape=(3,) dtype=int32, numpy=array([1, 2, 3])>"
      ]
     },
     "execution_count": 2405,
     "metadata": {},
     "output_type": "execute_result"
    }
   ],
   "source": [
    "t1_Var = tf.Variable([1,2,3])\n",
    "t1_Var"
   ]
  },
  {
   "cell_type": "code",
   "execution_count": 2409,
   "metadata": {},
   "outputs": [
    {
     "data": {
      "text/plain": [
       "<tf.Tensor: shape=(30,), dtype=float64, numpy=\n",
       "array([ 1.        ,  1.31034483,  1.62068966,  1.93103448,  2.24137931,\n",
       "        2.55172414,  2.86206897,  3.17241379,  3.48275862,  3.79310345,\n",
       "        4.10344828,  4.4137931 ,  4.72413793,  5.03448276,  5.34482759,\n",
       "        5.65517241,  5.96551724,  6.27586207,  6.5862069 ,  6.89655172,\n",
       "        7.20689655,  7.51724138,  7.82758621,  8.13793103,  8.44827586,\n",
       "        8.75862069,  9.06896552,  9.37931034,  9.68965517, 10.        ])>"
      ]
     },
     "execution_count": 2409,
     "metadata": {},
     "output_type": "execute_result"
    }
   ],
   "source": [
    "seq_t1 = tf.linspace(1, 10, 30)\n",
    "seq_t1"
   ]
  },
  {
   "cell_type": "code",
   "execution_count": 2463,
   "metadata": {},
   "outputs": [
    {
     "data": {
      "text/plain": [
       "<tf.Tensor: shape=(9,), dtype=int32, numpy=array([1, 2, 3, 4, 5, 6, 7, 8, 9])>"
      ]
     },
     "execution_count": 2463,
     "metadata": {},
     "output_type": "execute_result"
    }
   ],
   "source": [
    "seq_range_t1 = tf.range(1,10,1)\n",
    "seq_range_t1"
   ]
  },
  {
   "cell_type": "code",
   "execution_count": 2467,
   "metadata": {},
   "outputs": [],
   "source": [
    "t2_0 = tf.zeros((3,5), name = 'b')\n",
    "t2_1 = tf.Variable(tf.ones((5,3),name='W'))"
   ]
  },
  {
   "cell_type": "code",
   "execution_count": 2472,
   "metadata": {},
   "outputs": [
    {
     "name": "stdout",
     "output_type": "stream",
     "text": [
      "tf.Tensor(\n",
      "[[0. 0. 0. 0. 0.]\n",
      " [0. 0. 0. 0. 0.]\n",
      " [0. 0. 0. 0. 0.]], shape=(3, 5), dtype=float32)\n",
      "<tf.Variable 'Variable:0' shape=(5, 3) dtype=float32, numpy=\n",
      "array([[1., 1., 1.],\n",
      "       [1., 1., 1.],\n",
      "       [1., 1., 1.],\n",
      "       [1., 1., 1.],\n",
      "       [1., 1., 1.]], dtype=float32)>\n"
     ]
    }
   ],
   "source": [
    "print(t2_0)\n",
    "print(t2_1)\n"
   ]
  },
  {
   "cell_type": "code",
   "execution_count": 2476,
   "metadata": {},
   "outputs": [
    {
     "data": {
      "text/plain": [
       "3"
      ]
     },
     "execution_count": 2476,
     "metadata": {},
     "output_type": "execute_result"
    }
   ],
   "source": [
    "t3 = tf.constant([[[2,2,3],[2,3,2],[1,2,2]],[[2,2,3],[2,3,2],[1,2,2]],[[2,2,3],[2,3,2],[1,2,2]]])\n",
    "t3._rank()"
   ]
  },
  {
   "cell_type": "code",
   "execution_count": 2491,
   "metadata": {},
   "outputs": [
    {
     "data": {
      "text/plain": [
       "<tf.Tensor: shape=(), dtype=float32, numpy=4.0>"
      ]
     },
     "execution_count": 2491,
     "metadata": {},
     "output_type": "execute_result"
    }
   ],
   "source": [
    "i = tf.constant(2.+2)\n",
    "i"
   ]
  },
  {
   "cell_type": "code",
   "execution_count": 2492,
   "metadata": {},
   "outputs": [
    {
     "data": {
      "text/plain": [
       "<tf.Tensor: shape=(), dtype=float32, numpy=7.1>"
      ]
     },
     "execution_count": 2492,
     "metadata": {},
     "output_type": "execute_result"
    }
   ],
   "source": [
    "tf.add(tf.constant(3.),tf.constant(4.1)) # tf.add(tf.constant(3),tf.constant(4.1)) 같이 자료형이 다르면 에러"
   ]
  },
  {
   "cell_type": "code",
   "execution_count": 7,
   "metadata": {},
   "outputs": [],
   "source": [
    "from tensorflow.keras.layers import Dense, Activation, Flatten, Input # Dense 완전연결계층"
   ]
  },
  {
   "cell_type": "code",
   "execution_count": 2503,
   "metadata": {},
   "outputs": [
    {
     "data": {
      "text/plain": [
       "<Dense name=test, built=False>"
      ]
     },
     "execution_count": 2503,
     "metadata": {},
     "output_type": "execute_result"
    }
   ],
   "source": [
    "Dense(10, activation='sigmoid')\n",
    "Dense(10 , activation= 'relu', name= 'test')"
   ]
  },
  {
   "cell_type": "code",
   "execution_count": 2511,
   "metadata": {},
   "outputs": [
    {
     "data": {
      "text/plain": [
       "<Dense name=Dense Layer 3, built=False>"
      ]
     },
     "execution_count": 2511,
     "metadata": {},
     "output_type": "execute_result"
    }
   ],
   "source": [
    "Dense(10, kernel_initializer='he_normal', activation='relu' , name='Dense Layer 3')"
   ]
  },
  {
   "cell_type": "code",
   "execution_count": 2513,
   "metadata": {},
   "outputs": [
    {
     "data": {
      "text/plain": [
       "<Activation name=activation_1, built=False>"
      ]
     },
     "execution_count": 2513,
     "metadata": {},
     "output_type": "execute_result"
    }
   ],
   "source": [
    "dense = Dense(10 , activation='relu', name = 'denselayer')\n",
    "Activation(dense)"
   ]
  },
  {
   "cell_type": "code",
   "execution_count": 15,
   "metadata": {},
   "outputs": [],
   "source": [
    "from tensorflow.keras.layers import Dense, Activation, Flatten, Input # Dense 완전연결계층\n",
    "from tensorflow.keras.models import Sequential, Model\n",
    "from tensorflow.keras.utils import plot_model\n"
   ]
  },
  {
   "cell_type": "code",
   "execution_count": 2528,
   "metadata": {},
   "outputs": [
    {
     "name": "stdout",
     "output_type": "stream",
     "text": [
      "Requirement already satisfied: graphviz in c:\\users\\humming\\anaconda3\\lib\\site-packages (0.20.3)\n"
     ]
    }
   ],
   "source": [
    "# !pip install pydot\n",
    "# !pip install pydotplus\n",
    "# !pip install graphviz"
   ]
  },
  {
   "cell_type": "code",
   "execution_count": 9,
   "metadata": {},
   "outputs": [
    {
     "data": {
      "text/html": [
       "<pre style=\"white-space:pre;overflow-x:auto;line-height:normal;font-family:Menlo,'DejaVu Sans Mono',consolas,'Courier New',monospace\"><span style=\"font-weight: bold\">Model: \"sequential_1\"</span>\n",
       "</pre>\n"
      ],
      "text/plain": [
       "\u001b[1mModel: \"sequential_1\"\u001b[0m\n"
      ]
     },
     "metadata": {},
     "output_type": "display_data"
    },
    {
     "data": {
      "text/html": [
       "<pre style=\"white-space:pre;overflow-x:auto;line-height:normal;font-family:Menlo,'DejaVu Sans Mono',consolas,'Courier New',monospace\">┏━━━━━━━━━━━━━━━━━━━━━━━━━━━━━━━━━┳━━━━━━━━━━━━━━━━━━━━━━━━┳━━━━━━━━━━━━━━━┓\n",
       "┃<span style=\"font-weight: bold\"> Layer (type)                    </span>┃<span style=\"font-weight: bold\"> Output Shape           </span>┃<span style=\"font-weight: bold\">       Param # </span>┃\n",
       "┡━━━━━━━━━━━━━━━━━━━━━━━━━━━━━━━━━╇━━━━━━━━━━━━━━━━━━━━━━━━╇━━━━━━━━━━━━━━━┩\n",
       "│ Dense1 (<span style=\"color: #0087ff; text-decoration-color: #0087ff\">Dense</span>)                  │ (<span style=\"color: #00d7ff; text-decoration-color: #00d7ff\">None</span>, <span style=\"color: #00af00; text-decoration-color: #00af00\">28</span>, <span style=\"color: #00af00; text-decoration-color: #00af00\">256</span>)        │         <span style=\"color: #00af00; text-decoration-color: #00af00\">7,424</span> │\n",
       "├─────────────────────────────────┼────────────────────────┼───────────────┤\n",
       "│ Dense2 (<span style=\"color: #0087ff; text-decoration-color: #0087ff\">Dense</span>)                  │ (<span style=\"color: #00d7ff; text-decoration-color: #00d7ff\">None</span>, <span style=\"color: #00af00; text-decoration-color: #00af00\">28</span>, <span style=\"color: #00af00; text-decoration-color: #00af00\">128</span>)        │        <span style=\"color: #00af00; text-decoration-color: #00af00\">32,896</span> │\n",
       "├─────────────────────────────────┼────────────────────────┼───────────────┤\n",
       "│ Dense3 (<span style=\"color: #0087ff; text-decoration-color: #0087ff\">Dense</span>)                  │ (<span style=\"color: #00d7ff; text-decoration-color: #00d7ff\">None</span>, <span style=\"color: #00af00; text-decoration-color: #00af00\">28</span>, <span style=\"color: #00af00; text-decoration-color: #00af00\">10</span>)         │         <span style=\"color: #00af00; text-decoration-color: #00af00\">1,290</span> │\n",
       "└─────────────────────────────────┴────────────────────────┴───────────────┘\n",
       "</pre>\n"
      ],
      "text/plain": [
       "┏━━━━━━━━━━━━━━━━━━━━━━━━━━━━━━━━━┳━━━━━━━━━━━━━━━━━━━━━━━━┳━━━━━━━━━━━━━━━┓\n",
       "┃\u001b[1m \u001b[0m\u001b[1mLayer (type)                   \u001b[0m\u001b[1m \u001b[0m┃\u001b[1m \u001b[0m\u001b[1mOutput Shape          \u001b[0m\u001b[1m \u001b[0m┃\u001b[1m \u001b[0m\u001b[1m      Param #\u001b[0m\u001b[1m \u001b[0m┃\n",
       "┡━━━━━━━━━━━━━━━━━━━━━━━━━━━━━━━━━╇━━━━━━━━━━━━━━━━━━━━━━━━╇━━━━━━━━━━━━━━━┩\n",
       "│ Dense1 (\u001b[38;5;33mDense\u001b[0m)                  │ (\u001b[38;5;45mNone\u001b[0m, \u001b[38;5;34m28\u001b[0m, \u001b[38;5;34m256\u001b[0m)        │         \u001b[38;5;34m7,424\u001b[0m │\n",
       "├─────────────────────────────────┼────────────────────────┼───────────────┤\n",
       "│ Dense2 (\u001b[38;5;33mDense\u001b[0m)                  │ (\u001b[38;5;45mNone\u001b[0m, \u001b[38;5;34m28\u001b[0m, \u001b[38;5;34m128\u001b[0m)        │        \u001b[38;5;34m32,896\u001b[0m │\n",
       "├─────────────────────────────────┼────────────────────────┼───────────────┤\n",
       "│ Dense3 (\u001b[38;5;33mDense\u001b[0m)                  │ (\u001b[38;5;45mNone\u001b[0m, \u001b[38;5;34m28\u001b[0m, \u001b[38;5;34m10\u001b[0m)         │         \u001b[38;5;34m1,290\u001b[0m │\n",
       "└─────────────────────────────────┴────────────────────────┴───────────────┘\n"
      ]
     },
     "metadata": {},
     "output_type": "display_data"
    },
    {
     "data": {
      "text/html": [
       "<pre style=\"white-space:pre;overflow-x:auto;line-height:normal;font-family:Menlo,'DejaVu Sans Mono',consolas,'Courier New',monospace\"><span style=\"font-weight: bold\"> Total params: </span><span style=\"color: #00af00; text-decoration-color: #00af00\">41,610</span> (162.54 KB)\n",
       "</pre>\n"
      ],
      "text/plain": [
       "\u001b[1m Total params: \u001b[0m\u001b[38;5;34m41,610\u001b[0m (162.54 KB)\n"
      ]
     },
     "metadata": {},
     "output_type": "display_data"
    },
    {
     "data": {
      "text/html": [
       "<pre style=\"white-space:pre;overflow-x:auto;line-height:normal;font-family:Menlo,'DejaVu Sans Mono',consolas,'Courier New',monospace\"><span style=\"font-weight: bold\"> Trainable params: </span><span style=\"color: #00af00; text-decoration-color: #00af00\">41,610</span> (162.54 KB)\n",
       "</pre>\n"
      ],
      "text/plain": [
       "\u001b[1m Trainable params: \u001b[0m\u001b[38;5;34m41,610\u001b[0m (162.54 KB)\n"
      ]
     },
     "metadata": {},
     "output_type": "display_data"
    },
    {
     "data": {
      "text/html": [
       "<pre style=\"white-space:pre;overflow-x:auto;line-height:normal;font-family:Menlo,'DejaVu Sans Mono',consolas,'Courier New',monospace\"><span style=\"font-weight: bold\"> Non-trainable params: </span><span style=\"color: #00af00; text-decoration-color: #00af00\">0</span> (0.00 B)\n",
       "</pre>\n"
      ],
      "text/plain": [
       "\u001b[1m Non-trainable params: \u001b[0m\u001b[38;5;34m0\u001b[0m (0.00 B)\n"
      ]
     },
     "metadata": {},
     "output_type": "display_data"
    }
   ],
   "source": [
    "model = Sequential()\n",
    "model.add(Input(shape=(28,28)))\n",
    "model.add(Dense(256, activation='relu', name = 'Dense1'))\n",
    "model.add(Dense(128, activation='relu', name = 'Dense2'))\n",
    "model.add(Dense(10, activation='softmax', name = 'Dense3'))\n",
    "model.summary()"
   ]
  },
  {
   "cell_type": "code",
   "execution_count": 10,
   "metadata": {},
   "outputs": [
    {
     "data": {
      "image/png": "[encoded data removed]",
      "text/plain": [
       "<IPython.core.display.Image object>"
      ]
     },
     "execution_count": 10,
     "metadata": {},
     "output_type": "execute_result"
    }
   ],
   "source": [
    "plot_model(model)"
   ]
  },
  {
   "cell_type": "code",
   "execution_count": 11,
   "metadata": {},
   "outputs": [
    {
     "data": {
      "text/html": [
       "<pre style=\"white-space:pre;overflow-x:auto;line-height:normal;font-family:Menlo,'DejaVu Sans Mono',consolas,'Courier New',monospace\"><span style=\"font-weight: bold\">Model: \"sequential_2\"</span>\n",
       "</pre>\n"
      ],
      "text/plain": [
       "\u001b[1mModel: \"sequential_2\"\u001b[0m\n"
      ]
     },
     "metadata": {},
     "output_type": "display_data"
    },
    {
     "data": {
      "text/html": [
       "<pre style=\"white-space:pre;overflow-x:auto;line-height:normal;font-family:Menlo,'DejaVu Sans Mono',consolas,'Courier New',monospace\">┏━━━━━━━━━━━━━━━━━━━━━━━━━━━━━━━━━┳━━━━━━━━━━━━━━━━━━━━━━━━┳━━━━━━━━━━━━━━━┓\n",
       "┃<span style=\"font-weight: bold\"> Layer (type)                    </span>┃<span style=\"font-weight: bold\"> Output Shape           </span>┃<span style=\"font-weight: bold\">       Param # </span>┃\n",
       "┡━━━━━━━━━━━━━━━━━━━━━━━━━━━━━━━━━╇━━━━━━━━━━━━━━━━━━━━━━━━╇━━━━━━━━━━━━━━━┩\n",
       "│ Dense1 (<span style=\"color: #0087ff; text-decoration-color: #0087ff\">Dense</span>)                  │ (<span style=\"color: #00d7ff; text-decoration-color: #00d7ff\">None</span>, <span style=\"color: #00af00; text-decoration-color: #00af00\">28</span>, <span style=\"color: #00af00; text-decoration-color: #00af00\">256</span>)        │         <span style=\"color: #00af00; text-decoration-color: #00af00\">7,424</span> │\n",
       "├─────────────────────────────────┼────────────────────────┼───────────────┤\n",
       "│ Dense2 (<span style=\"color: #0087ff; text-decoration-color: #0087ff\">Dense</span>)                  │ (<span style=\"color: #00d7ff; text-decoration-color: #00d7ff\">None</span>, <span style=\"color: #00af00; text-decoration-color: #00af00\">28</span>, <span style=\"color: #00af00; text-decoration-color: #00af00\">128</span>)        │        <span style=\"color: #00af00; text-decoration-color: #00af00\">32,896</span> │\n",
       "├─────────────────────────────────┼────────────────────────┼───────────────┤\n",
       "│ Output (<span style=\"color: #0087ff; text-decoration-color: #0087ff\">Dense</span>)                  │ (<span style=\"color: #00d7ff; text-decoration-color: #00d7ff\">None</span>, <span style=\"color: #00af00; text-decoration-color: #00af00\">28</span>, <span style=\"color: #00af00; text-decoration-color: #00af00\">10</span>)         │         <span style=\"color: #00af00; text-decoration-color: #00af00\">1,290</span> │\n",
       "└─────────────────────────────────┴────────────────────────┴───────────────┘\n",
       "</pre>\n"
      ],
      "text/plain": [
       "┏━━━━━━━━━━━━━━━━━━━━━━━━━━━━━━━━━┳━━━━━━━━━━━━━━━━━━━━━━━━┳━━━━━━━━━━━━━━━┓\n",
       "┃\u001b[1m \u001b[0m\u001b[1mLayer (type)                   \u001b[0m\u001b[1m \u001b[0m┃\u001b[1m \u001b[0m\u001b[1mOutput Shape          \u001b[0m\u001b[1m \u001b[0m┃\u001b[1m \u001b[0m\u001b[1m      Param #\u001b[0m\u001b[1m \u001b[0m┃\n",
       "┡━━━━━━━━━━━━━━━━━━━━━━━━━━━━━━━━━╇━━━━━━━━━━━━━━━━━━━━━━━━╇━━━━━━━━━━━━━━━┩\n",
       "│ Dense1 (\u001b[38;5;33mDense\u001b[0m)                  │ (\u001b[38;5;45mNone\u001b[0m, \u001b[38;5;34m28\u001b[0m, \u001b[38;5;34m256\u001b[0m)        │         \u001b[38;5;34m7,424\u001b[0m │\n",
       "├─────────────────────────────────┼────────────────────────┼───────────────┤\n",
       "│ Dense2 (\u001b[38;5;33mDense\u001b[0m)                  │ (\u001b[38;5;45mNone\u001b[0m, \u001b[38;5;34m28\u001b[0m, \u001b[38;5;34m128\u001b[0m)        │        \u001b[38;5;34m32,896\u001b[0m │\n",
       "├─────────────────────────────────┼────────────────────────┼───────────────┤\n",
       "│ Output (\u001b[38;5;33mDense\u001b[0m)                  │ (\u001b[38;5;45mNone\u001b[0m, \u001b[38;5;34m28\u001b[0m, \u001b[38;5;34m10\u001b[0m)         │         \u001b[38;5;34m1,290\u001b[0m │\n",
       "└─────────────────────────────────┴────────────────────────┴───────────────┘\n"
      ]
     },
     "metadata": {},
     "output_type": "display_data"
    },
    {
     "data": {
      "text/html": [
       "<pre style=\"white-space:pre;overflow-x:auto;line-height:normal;font-family:Menlo,'DejaVu Sans Mono',consolas,'Courier New',monospace\"><span style=\"font-weight: bold\"> Total params: </span><span style=\"color: #00af00; text-decoration-color: #00af00\">41,610</span> (162.54 KB)\n",
       "</pre>\n"
      ],
      "text/plain": [
       "\u001b[1m Total params: \u001b[0m\u001b[38;5;34m41,610\u001b[0m (162.54 KB)\n"
      ]
     },
     "metadata": {},
     "output_type": "display_data"
    },
    {
     "data": {
      "text/html": [
       "<pre style=\"white-space:pre;overflow-x:auto;line-height:normal;font-family:Menlo,'DejaVu Sans Mono',consolas,'Courier New',monospace\"><span style=\"font-weight: bold\"> Trainable params: </span><span style=\"color: #00af00; text-decoration-color: #00af00\">41,610</span> (162.54 KB)\n",
       "</pre>\n"
      ],
      "text/plain": [
       "\u001b[1m Trainable params: \u001b[0m\u001b[38;5;34m41,610\u001b[0m (162.54 KB)\n"
      ]
     },
     "metadata": {},
     "output_type": "display_data"
    },
    {
     "data": {
      "text/html": [
       "<pre style=\"white-space:pre;overflow-x:auto;line-height:normal;font-family:Menlo,'DejaVu Sans Mono',consolas,'Courier New',monospace\"><span style=\"font-weight: bold\"> Non-trainable params: </span><span style=\"color: #00af00; text-decoration-color: #00af00\">0</span> (0.00 B)\n",
       "</pre>\n"
      ],
      "text/plain": [
       "\u001b[1m Non-trainable params: \u001b[0m\u001b[38;5;34m0\u001b[0m (0.00 B)\n"
      ]
     },
     "metadata": {},
     "output_type": "display_data"
    }
   ],
   "source": [
    "model = Sequential([Input(shape=(28,28),name='Input'),\n",
    "                    Dense(256, activation='relu', name = 'Dense1'),\n",
    "                    Dense(128, activation='relu', name = 'Dense2'),\n",
    "                    Dense(10, activation='softmax', name = 'Output')\n",
    "                    ])\n",
    "\n",
    "model.summary()\n",
    "plot_model(model)"
   ]
  },
  {
   "cell_type": "code",
   "execution_count": 13,
   "metadata": {},
   "outputs": [
    {
     "data": {
      "image/png": "[encoded data removed]",
      "text/plain": [
       "<IPython.core.display.Image object>"
      ]
     },
     "execution_count": 13,
     "metadata": {},
     "output_type": "execute_result"
    }
   ],
   "source": [
    "plot_model(model)"
   ]
  },
  {
   "cell_type": "code",
   "execution_count": 17,
   "metadata": {},
   "outputs": [
    {
     "name": "stderr",
     "output_type": "stream",
     "text": [
      "c:\\Users\\humming\\anaconda3\\Lib\\site-packages\\keras\\src\\layers\\reshaping\\flatten.py:37: UserWarning: Do not pass an `input_shape`/`input_dim` argument to a layer. When using Sequential models, prefer using an `Input(shape)` object as the first layer in the model instead.\n",
      "  super().__init__(**kwargs)\n"
     ]
    },
    {
     "data": {
      "text/html": [
       "<pre style=\"white-space:pre;overflow-x:auto;line-height:normal;font-family:Menlo,'DejaVu Sans Mono',consolas,'Courier New',monospace\"><span style=\"font-weight: bold\">Model: \"functional_5\"</span>\n",
       "</pre>\n"
      ],
      "text/plain": [
       "\u001b[1mModel: \"functional_5\"\u001b[0m\n"
      ]
     },
     "metadata": {},
     "output_type": "display_data"
    },
    {
     "data": {
      "text/html": [
       "<pre style=\"white-space:pre;overflow-x:auto;line-height:normal;font-family:Menlo,'DejaVu Sans Mono',consolas,'Courier New',monospace\">┏━━━━━━━━━━━━━━━━━━━━━━━━━━━━━━━━━┳━━━━━━━━━━━━━━━━━━━━━━━━┳━━━━━━━━━━━━━━━┓\n",
       "┃<span style=\"font-weight: bold\"> Layer (type)                    </span>┃<span style=\"font-weight: bold\"> Output Shape           </span>┃<span style=\"font-weight: bold\">       Param # </span>┃\n",
       "┡━━━━━━━━━━━━━━━━━━━━━━━━━━━━━━━━━╇━━━━━━━━━━━━━━━━━━━━━━━━╇━━━━━━━━━━━━━━━┩\n",
       "│ input_layer_3 (<span style=\"color: #0087ff; text-decoration-color: #0087ff\">InputLayer</span>)      │ (<span style=\"color: #00d7ff; text-decoration-color: #00d7ff\">None</span>, <span style=\"color: #00af00; text-decoration-color: #00af00\">28</span>, <span style=\"color: #00af00; text-decoration-color: #00af00\">28</span>)         │             <span style=\"color: #00af00; text-decoration-color: #00af00\">0</span> │\n",
       "├─────────────────────────────────┼────────────────────────┼───────────────┤\n",
       "│ flatten_2 (<span style=\"color: #0087ff; text-decoration-color: #0087ff\">Flatten</span>)             │ (<span style=\"color: #00d7ff; text-decoration-color: #00d7ff\">None</span>, <span style=\"color: #00af00; text-decoration-color: #00af00\">784</span>)            │             <span style=\"color: #00af00; text-decoration-color: #00af00\">0</span> │\n",
       "├─────────────────────────────────┼────────────────────────┼───────────────┤\n",
       "│ Dense1 (<span style=\"color: #0087ff; text-decoration-color: #0087ff\">Dense</span>)                  │ (<span style=\"color: #00d7ff; text-decoration-color: #00d7ff\">None</span>, <span style=\"color: #00af00; text-decoration-color: #00af00\">256</span>)            │       <span style=\"color: #00af00; text-decoration-color: #00af00\">200,960</span> │\n",
       "├─────────────────────────────────┼────────────────────────┼───────────────┤\n",
       "│ Dense2 (<span style=\"color: #0087ff; text-decoration-color: #0087ff\">Dense</span>)                  │ (<span style=\"color: #00d7ff; text-decoration-color: #00d7ff\">None</span>, <span style=\"color: #00af00; text-decoration-color: #00af00\">128</span>)            │        <span style=\"color: #00af00; text-decoration-color: #00af00\">32,896</span> │\n",
       "├─────────────────────────────────┼────────────────────────┼───────────────┤\n",
       "│ Output (<span style=\"color: #0087ff; text-decoration-color: #0087ff\">Dense</span>)                  │ (<span style=\"color: #00d7ff; text-decoration-color: #00d7ff\">None</span>, <span style=\"color: #00af00; text-decoration-color: #00af00\">10</span>)             │         <span style=\"color: #00af00; text-decoration-color: #00af00\">1,290</span> │\n",
       "└─────────────────────────────────┴────────────────────────┴───────────────┘\n",
       "</pre>\n"
      ],
      "text/plain": [
       "┏━━━━━━━━━━━━━━━━━━━━━━━━━━━━━━━━━┳━━━━━━━━━━━━━━━━━━━━━━━━┳━━━━━━━━━━━━━━━┓\n",
       "┃\u001b[1m \u001b[0m\u001b[1mLayer (type)                   \u001b[0m\u001b[1m \u001b[0m┃\u001b[1m \u001b[0m\u001b[1mOutput Shape          \u001b[0m\u001b[1m \u001b[0m┃\u001b[1m \u001b[0m\u001b[1m      Param #\u001b[0m\u001b[1m \u001b[0m┃\n",
       "┡━━━━━━━━━━━━━━━━━━━━━━━━━━━━━━━━━╇━━━━━━━━━━━━━━━━━━━━━━━━╇━━━━━━━━━━━━━━━┩\n",
       "│ input_layer_3 (\u001b[38;5;33mInputLayer\u001b[0m)      │ (\u001b[38;5;45mNone\u001b[0m, \u001b[38;5;34m28\u001b[0m, \u001b[38;5;34m28\u001b[0m)         │             \u001b[38;5;34m0\u001b[0m │\n",
       "├─────────────────────────────────┼────────────────────────┼───────────────┤\n",
       "│ flatten_2 (\u001b[38;5;33mFlatten\u001b[0m)             │ (\u001b[38;5;45mNone\u001b[0m, \u001b[38;5;34m784\u001b[0m)            │             \u001b[38;5;34m0\u001b[0m │\n",
       "├─────────────────────────────────┼────────────────────────┼───────────────┤\n",
       "│ Dense1 (\u001b[38;5;33mDense\u001b[0m)                  │ (\u001b[38;5;45mNone\u001b[0m, \u001b[38;5;34m256\u001b[0m)            │       \u001b[38;5;34m200,960\u001b[0m │\n",
       "├─────────────────────────────────┼────────────────────────┼───────────────┤\n",
       "│ Dense2 (\u001b[38;5;33mDense\u001b[0m)                  │ (\u001b[38;5;45mNone\u001b[0m, \u001b[38;5;34m128\u001b[0m)            │        \u001b[38;5;34m32,896\u001b[0m │\n",
       "├─────────────────────────────────┼────────────────────────┼───────────────┤\n",
       "│ Output (\u001b[38;5;33mDense\u001b[0m)                  │ (\u001b[38;5;45mNone\u001b[0m, \u001b[38;5;34m10\u001b[0m)             │         \u001b[38;5;34m1,290\u001b[0m │\n",
       "└─────────────────────────────────┴────────────────────────┴───────────────┘\n"
      ]
     },
     "metadata": {},
     "output_type": "display_data"
    },
    {
     "data": {
      "text/html": [
       "<pre style=\"white-space:pre;overflow-x:auto;line-height:normal;font-family:Menlo,'DejaVu Sans Mono',consolas,'Courier New',monospace\"><span style=\"font-weight: bold\"> Total params: </span><span style=\"color: #00af00; text-decoration-color: #00af00\">235,146</span> (918.54 KB)\n",
       "</pre>\n"
      ],
      "text/plain": [
       "\u001b[1m Total params: \u001b[0m\u001b[38;5;34m235,146\u001b[0m (918.54 KB)\n"
      ]
     },
     "metadata": {},
     "output_type": "display_data"
    },
    {
     "data": {
      "text/html": [
       "<pre style=\"white-space:pre;overflow-x:auto;line-height:normal;font-family:Menlo,'DejaVu Sans Mono',consolas,'Courier New',monospace\"><span style=\"font-weight: bold\"> Trainable params: </span><span style=\"color: #00af00; text-decoration-color: #00af00\">235,146</span> (918.54 KB)\n",
       "</pre>\n"
      ],
      "text/plain": [
       "\u001b[1m Trainable params: \u001b[0m\u001b[38;5;34m235,146\u001b[0m (918.54 KB)\n"
      ]
     },
     "metadata": {},
     "output_type": "display_data"
    },
    {
     "data": {
      "text/html": [
       "<pre style=\"white-space:pre;overflow-x:auto;line-height:normal;font-family:Menlo,'DejaVu Sans Mono',consolas,'Courier New',monospace\"><span style=\"font-weight: bold\"> Non-trainable params: </span><span style=\"color: #00af00; text-decoration-color: #00af00\">0</span> (0.00 B)\n",
       "</pre>\n"
      ],
      "text/plain": [
       "\u001b[1m Non-trainable params: \u001b[0m\u001b[38;5;34m0\u001b[0m (0.00 B)\n"
      ]
     },
     "metadata": {},
     "output_type": "display_data"
    }
   ],
   "source": [
    "inputs = Input(shape=(28,28))\n",
    "x = Flatten(input_dim=28)(inputs)\n",
    "x =  Dense(256, activation='relu', name = 'Dense1')(x)\n",
    "x =  Dense(128, activation='relu', name = 'Dense2')(x)\n",
    "x =  Dense(10, activation='softmax', name = 'Output')(x)\n",
    "model = Model(inputs=inputs, outputs=x)\n",
    "model.summary()"
   ]
  },
  {
   "cell_type": "code",
   "execution_count": 18,
   "metadata": {},
   "outputs": [
    {
     "data": {
      "text/html": [
       "<pre style=\"white-space:pre;overflow-x:auto;line-height:normal;font-family:Menlo,'DejaVu Sans Mono',consolas,'Courier New',monospace\"><span style=\"font-weight: bold\">Model: \"functional_6\"</span>\n",
       "</pre>\n"
      ],
      "text/plain": [
       "\u001b[1mModel: \"functional_6\"\u001b[0m\n"
      ]
     },
     "metadata": {},
     "output_type": "display_data"
    },
    {
     "data": {
      "text/html": [
       "<pre style=\"white-space:pre;overflow-x:auto;line-height:normal;font-family:Menlo,'DejaVu Sans Mono',consolas,'Courier New',monospace\">┏━━━━━━━━━━━━━━━━━━━━━┳━━━━━━━━━━━━━━━━━━━┳━━━━━━━━━━━━┳━━━━━━━━━━━━━━━━━━━┓\n",
       "┃<span style=\"font-weight: bold\"> Layer (type)        </span>┃<span style=\"font-weight: bold\"> Output Shape      </span>┃<span style=\"font-weight: bold\">    Param # </span>┃<span style=\"font-weight: bold\"> Connected to      </span>┃\n",
       "┡━━━━━━━━━━━━━━━━━━━━━╇━━━━━━━━━━━━━━━━━━━╇━━━━━━━━━━━━╇━━━━━━━━━━━━━━━━━━━┩\n",
       "│ Input Layer         │ (<span style=\"color: #00d7ff; text-decoration-color: #00d7ff\">None</span>, <span style=\"color: #00af00; text-decoration-color: #00af00\">28</span>, <span style=\"color: #00af00; text-decoration-color: #00af00\">28</span>)    │          <span style=\"color: #00af00; text-decoration-color: #00af00\">0</span> │ -                 │\n",
       "│ (<span style=\"color: #0087ff; text-decoration-color: #0087ff\">InputLayer</span>)        │                   │            │                   │\n",
       "├─────────────────────┼───────────────────┼────────────┼───────────────────┤\n",
       "│ dense (<span style=\"color: #0087ff; text-decoration-color: #0087ff\">Dense</span>)       │ (<span style=\"color: #00d7ff; text-decoration-color: #00d7ff\">None</span>, <span style=\"color: #00af00; text-decoration-color: #00af00\">28</span>, <span style=\"color: #00af00; text-decoration-color: #00af00\">128</span>)   │      <span style=\"color: #00af00; text-decoration-color: #00af00\">3,712</span> │ Input Layer[<span style=\"color: #00af00; text-decoration-color: #00af00\">0</span>][<span style=\"color: #00af00; text-decoration-color: #00af00\">0</span>] │\n",
       "├─────────────────────┼───────────────────┼────────────┼───────────────────┤\n",
       "│ dense_1 (<span style=\"color: #0087ff; text-decoration-color: #0087ff\">Dense</span>)     │ (<span style=\"color: #00d7ff; text-decoration-color: #00d7ff\">None</span>, <span style=\"color: #00af00; text-decoration-color: #00af00\">28</span>, <span style=\"color: #00af00; text-decoration-color: #00af00\">32</span>)    │      <span style=\"color: #00af00; text-decoration-color: #00af00\">4,128</span> │ dense[<span style=\"color: #00af00; text-decoration-color: #00af00\">0</span>][<span style=\"color: #00af00; text-decoration-color: #00af00\">0</span>]       │\n",
       "├─────────────────────┼───────────────────┼────────────┼───────────────────┤\n",
       "│ concatenate         │ (<span style=\"color: #00d7ff; text-decoration-color: #00d7ff\">None</span>, <span style=\"color: #00af00; text-decoration-color: #00af00\">28</span>, <span style=\"color: #00af00; text-decoration-color: #00af00\">60</span>)    │          <span style=\"color: #00af00; text-decoration-color: #00af00\">0</span> │ Input             │\n",
       "│ (<span style=\"color: #0087ff; text-decoration-color: #0087ff\">Concatenate</span>)       │                   │            │ Layer[<span style=\"color: #00af00; text-decoration-color: #00af00\">0</span>][<span style=\"color: #00af00; text-decoration-color: #00af00\">0</span>],      │\n",
       "│                     │                   │            │ dense_1[<span style=\"color: #00af00; text-decoration-color: #00af00\">0</span>][<span style=\"color: #00af00; text-decoration-color: #00af00\">0</span>]     │\n",
       "├─────────────────────┼───────────────────┼────────────┼───────────────────┤\n",
       "│ dense_2 (<span style=\"color: #0087ff; text-decoration-color: #0087ff\">Dense</span>)     │ (<span style=\"color: #00d7ff; text-decoration-color: #00d7ff\">None</span>, <span style=\"color: #00af00; text-decoration-color: #00af00\">28</span>, <span style=\"color: #00af00; text-decoration-color: #00af00\">1</span>)     │         <span style=\"color: #00af00; text-decoration-color: #00af00\">61</span> │ concatenate[<span style=\"color: #00af00; text-decoration-color: #00af00\">0</span>][<span style=\"color: #00af00; text-decoration-color: #00af00\">0</span>] │\n",
       "└─────────────────────┴───────────────────┴────────────┴───────────────────┘\n",
       "</pre>\n"
      ],
      "text/plain": [
       "┏━━━━━━━━━━━━━━━━━━━━━┳━━━━━━━━━━━━━━━━━━━┳━━━━━━━━━━━━┳━━━━━━━━━━━━━━━━━━━┓\n",
       "┃\u001b[1m \u001b[0m\u001b[1mLayer (type)       \u001b[0m\u001b[1m \u001b[0m┃\u001b[1m \u001b[0m\u001b[1mOutput Shape     \u001b[0m\u001b[1m \u001b[0m┃\u001b[1m \u001b[0m\u001b[1m   Param #\u001b[0m\u001b[1m \u001b[0m┃\u001b[1m \u001b[0m\u001b[1mConnected to     \u001b[0m\u001b[1m \u001b[0m┃\n",
       "┡━━━━━━━━━━━━━━━━━━━━━╇━━━━━━━━━━━━━━━━━━━╇━━━━━━━━━━━━╇━━━━━━━━━━━━━━━━━━━┩\n",
       "│ Input Layer         │ (\u001b[38;5;45mNone\u001b[0m, \u001b[38;5;34m28\u001b[0m, \u001b[38;5;34m28\u001b[0m)    │          \u001b[38;5;34m0\u001b[0m │ -                 │\n",
       "│ (\u001b[38;5;33mInputLayer\u001b[0m)        │                   │            │                   │\n",
       "├─────────────────────┼───────────────────┼────────────┼───────────────────┤\n",
       "│ dense (\u001b[38;5;33mDense\u001b[0m)       │ (\u001b[38;5;45mNone\u001b[0m, \u001b[38;5;34m28\u001b[0m, \u001b[38;5;34m128\u001b[0m)   │      \u001b[38;5;34m3,712\u001b[0m │ Input Layer[\u001b[38;5;34m0\u001b[0m][\u001b[38;5;34m0\u001b[0m] │\n",
       "├─────────────────────┼───────────────────┼────────────┼───────────────────┤\n",
       "│ dense_1 (\u001b[38;5;33mDense\u001b[0m)     │ (\u001b[38;5;45mNone\u001b[0m, \u001b[38;5;34m28\u001b[0m, \u001b[38;5;34m32\u001b[0m)    │      \u001b[38;5;34m4,128\u001b[0m │ dense[\u001b[38;5;34m0\u001b[0m][\u001b[38;5;34m0\u001b[0m]       │\n",
       "├─────────────────────┼───────────────────┼────────────┼───────────────────┤\n",
       "│ concatenate         │ (\u001b[38;5;45mNone\u001b[0m, \u001b[38;5;34m28\u001b[0m, \u001b[38;5;34m60\u001b[0m)    │          \u001b[38;5;34m0\u001b[0m │ Input             │\n",
       "│ (\u001b[38;5;33mConcatenate\u001b[0m)       │                   │            │ Layer[\u001b[38;5;34m0\u001b[0m][\u001b[38;5;34m0\u001b[0m],      │\n",
       "│                     │                   │            │ dense_1[\u001b[38;5;34m0\u001b[0m][\u001b[38;5;34m0\u001b[0m]     │\n",
       "├─────────────────────┼───────────────────┼────────────┼───────────────────┤\n",
       "│ dense_2 (\u001b[38;5;33mDense\u001b[0m)     │ (\u001b[38;5;45mNone\u001b[0m, \u001b[38;5;34m28\u001b[0m, \u001b[38;5;34m1\u001b[0m)     │         \u001b[38;5;34m61\u001b[0m │ concatenate[\u001b[38;5;34m0\u001b[0m][\u001b[38;5;34m0\u001b[0m] │\n",
       "└─────────────────────┴───────────────────┴────────────┴───────────────────┘\n"
      ]
     },
     "metadata": {},
     "output_type": "display_data"
    },
    {
     "data": {
      "text/html": [
       "<pre style=\"white-space:pre;overflow-x:auto;line-height:normal;font-family:Menlo,'DejaVu Sans Mono',consolas,'Courier New',monospace\"><span style=\"font-weight: bold\"> Total params: </span><span style=\"color: #00af00; text-decoration-color: #00af00\">7,901</span> (30.86 KB)\n",
       "</pre>\n"
      ],
      "text/plain": [
       "\u001b[1m Total params: \u001b[0m\u001b[38;5;34m7,901\u001b[0m (30.86 KB)\n"
      ]
     },
     "metadata": {},
     "output_type": "display_data"
    },
    {
     "data": {
      "text/html": [
       "<pre style=\"white-space:pre;overflow-x:auto;line-height:normal;font-family:Menlo,'DejaVu Sans Mono',consolas,'Courier New',monospace\"><span style=\"font-weight: bold\"> Trainable params: </span><span style=\"color: #00af00; text-decoration-color: #00af00\">7,901</span> (30.86 KB)\n",
       "</pre>\n"
      ],
      "text/plain": [
       "\u001b[1m Trainable params: \u001b[0m\u001b[38;5;34m7,901\u001b[0m (30.86 KB)\n"
      ]
     },
     "metadata": {},
     "output_type": "display_data"
    },
    {
     "data": {
      "text/html": [
       "<pre style=\"white-space:pre;overflow-x:auto;line-height:normal;font-family:Menlo,'DejaVu Sans Mono',consolas,'Courier New',monospace\"><span style=\"font-weight: bold\"> Non-trainable params: </span><span style=\"color: #00af00; text-decoration-color: #00af00\">0</span> (0.00 B)\n",
       "</pre>\n"
      ],
      "text/plain": [
       "\u001b[1m Non-trainable params: \u001b[0m\u001b[38;5;34m0\u001b[0m (0.00 B)\n"
      ]
     },
     "metadata": {},
     "output_type": "display_data"
    }
   ],
   "source": [
    "from tensorflow.keras.layers import Concatenate\n",
    "input_layer = Input(shape=(28,28), name='Input Layer')\n",
    "# x = Flatten(input_dim=28)(inputs)\n",
    "hidden1 =  Dense(128, activation='relu')(input_layer)\n",
    "hidden2 =  Dense(32, activation='relu')(hidden1)\n",
    "\n",
    "concat = Concatenate()([input_layer,hidden2])\n",
    "output = Dense(1)(concat)\n",
    "model = Model(inputs=[input_layer], outputs=[output])\n",
    "model.summary()"
   ]
  },
  {
   "cell_type": "code",
   "execution_count": 19,
   "metadata": {},
   "outputs": [
    {
     "data": {
      "image/png": "[encoded data removed]",
      "text/plain": [
       "<IPython.core.display.Image object>"
      ]
     },
     "execution_count": 19,
     "metadata": {},
     "output_type": "execute_result"
    }
   ],
   "source": [
    "plot_model(model)"
   ]
  },
  {
   "cell_type": "code",
   "execution_count": 25,
   "metadata": {},
   "outputs": [
    {
     "data": {
      "text/html": [
       "<pre style=\"white-space:pre;overflow-x:auto;line-height:normal;font-family:Menlo,'DejaVu Sans Mono',consolas,'Courier New',monospace\"><span style=\"font-weight: bold\">Model: \"functional_9\"</span>\n",
       "</pre>\n"
      ],
      "text/plain": [
       "\u001b[1mModel: \"functional_9\"\u001b[0m\n"
      ]
     },
     "metadata": {},
     "output_type": "display_data"
    },
    {
     "data": {
      "text/html": [
       "<pre style=\"white-space:pre;overflow-x:auto;line-height:normal;font-family:Menlo,'DejaVu Sans Mono',consolas,'Courier New',monospace\">┏━━━━━━━━━━━━━━━━━━━━━┳━━━━━━━━━━━━━━━━━━━┳━━━━━━━━━━━━┳━━━━━━━━━━━━━━━━━━━┓\n",
       "┃<span style=\"font-weight: bold\"> Layer (type)        </span>┃<span style=\"font-weight: bold\"> Output Shape      </span>┃<span style=\"font-weight: bold\">    Param # </span>┃<span style=\"font-weight: bold\"> Connected to      </span>┃\n",
       "┡━━━━━━━━━━━━━━━━━━━━━╇━━━━━━━━━━━━━━━━━━━╇━━━━━━━━━━━━╇━━━━━━━━━━━━━━━━━━━┩\n",
       "│ input2 (<span style=\"color: #0087ff; text-decoration-color: #0087ff\">InputLayer</span>) │ (<span style=\"color: #00d7ff; text-decoration-color: #00d7ff\">None</span>, <span style=\"color: #00af00; text-decoration-color: #00af00\">10</span>, <span style=\"color: #00af00; text-decoration-color: #00af00\">28</span>)    │          <span style=\"color: #00af00; text-decoration-color: #00af00\">0</span> │ -                 │\n",
       "├─────────────────────┼───────────────────┼────────────┼───────────────────┤\n",
       "│ dense_13 (<span style=\"color: #0087ff; text-decoration-color: #0087ff\">Dense</span>)    │ (<span style=\"color: #00d7ff; text-decoration-color: #00d7ff\">None</span>, <span style=\"color: #00af00; text-decoration-color: #00af00\">10</span>, <span style=\"color: #00af00; text-decoration-color: #00af00\">128</span>)   │      <span style=\"color: #00af00; text-decoration-color: #00af00\">3,712</span> │ input2[<span style=\"color: #00af00; text-decoration-color: #00af00\">0</span>][<span style=\"color: #00af00; text-decoration-color: #00af00\">0</span>]      │\n",
       "├─────────────────────┼───────────────────┼────────────┼───────────────────┤\n",
       "│ input1 (<span style=\"color: #0087ff; text-decoration-color: #0087ff\">InputLayer</span>) │ (<span style=\"color: #00d7ff; text-decoration-color: #00d7ff\">None</span>, <span style=\"color: #00af00; text-decoration-color: #00af00\">10</span>, <span style=\"color: #00af00; text-decoration-color: #00af00\">10</span>)    │          <span style=\"color: #00af00; text-decoration-color: #00af00\">0</span> │ -                 │\n",
       "├─────────────────────┼───────────────────┼────────────┼───────────────────┤\n",
       "│ dense_14 (<span style=\"color: #0087ff; text-decoration-color: #0087ff\">Dense</span>)    │ (<span style=\"color: #00d7ff; text-decoration-color: #00d7ff\">None</span>, <span style=\"color: #00af00; text-decoration-color: #00af00\">10</span>, <span style=\"color: #00af00; text-decoration-color: #00af00\">32</span>)    │      <span style=\"color: #00af00; text-decoration-color: #00af00\">4,128</span> │ dense_13[<span style=\"color: #00af00; text-decoration-color: #00af00\">0</span>][<span style=\"color: #00af00; text-decoration-color: #00af00\">0</span>]    │\n",
       "├─────────────────────┼───────────────────┼────────────┼───────────────────┤\n",
       "│ concatenate_5       │ (<span style=\"color: #00d7ff; text-decoration-color: #00d7ff\">None</span>, <span style=\"color: #00af00; text-decoration-color: #00af00\">10</span>, <span style=\"color: #00af00; text-decoration-color: #00af00\">42</span>)    │          <span style=\"color: #00af00; text-decoration-color: #00af00\">0</span> │ input1[<span style=\"color: #00af00; text-decoration-color: #00af00\">0</span>][<span style=\"color: #00af00; text-decoration-color: #00af00\">0</span>],     │\n",
       "│ (<span style=\"color: #0087ff; text-decoration-color: #0087ff\">Concatenate</span>)       │                   │            │ dense_14[<span style=\"color: #00af00; text-decoration-color: #00af00\">0</span>][<span style=\"color: #00af00; text-decoration-color: #00af00\">0</span>]    │\n",
       "├─────────────────────┼───────────────────┼────────────┼───────────────────┤\n",
       "│ Input Layer         │ (<span style=\"color: #00d7ff; text-decoration-color: #00d7ff\">None</span>, <span style=\"color: #00af00; text-decoration-color: #00af00\">28</span>, <span style=\"color: #00af00; text-decoration-color: #00af00\">28</span>)    │          <span style=\"color: #00af00; text-decoration-color: #00af00\">0</span> │ -                 │\n",
       "│ (<span style=\"color: #0087ff; text-decoration-color: #0087ff\">InputLayer</span>)        │                   │            │                   │\n",
       "├─────────────────────┼───────────────────┼────────────┼───────────────────┤\n",
       "│ dense_15 (<span style=\"color: #0087ff; text-decoration-color: #0087ff\">Dense</span>)    │ (<span style=\"color: #00d7ff; text-decoration-color: #00d7ff\">None</span>, <span style=\"color: #00af00; text-decoration-color: #00af00\">10</span>, <span style=\"color: #00af00; text-decoration-color: #00af00\">1</span>)     │         <span style=\"color: #00af00; text-decoration-color: #00af00\">43</span> │ concatenate_5[<span style=\"color: #00af00; text-decoration-color: #00af00\">0</span>]… │\n",
       "└─────────────────────┴───────────────────┴────────────┴───────────────────┘\n",
       "</pre>\n"
      ],
      "text/plain": [
       "┏━━━━━━━━━━━━━━━━━━━━━┳━━━━━━━━━━━━━━━━━━━┳━━━━━━━━━━━━┳━━━━━━━━━━━━━━━━━━━┓\n",
       "┃\u001b[1m \u001b[0m\u001b[1mLayer (type)       \u001b[0m\u001b[1m \u001b[0m┃\u001b[1m \u001b[0m\u001b[1mOutput Shape     \u001b[0m\u001b[1m \u001b[0m┃\u001b[1m \u001b[0m\u001b[1m   Param #\u001b[0m\u001b[1m \u001b[0m┃\u001b[1m \u001b[0m\u001b[1mConnected to     \u001b[0m\u001b[1m \u001b[0m┃\n",
       "┡━━━━━━━━━━━━━━━━━━━━━╇━━━━━━━━━━━━━━━━━━━╇━━━━━━━━━━━━╇━━━━━━━━━━━━━━━━━━━┩\n",
       "│ input2 (\u001b[38;5;33mInputLayer\u001b[0m) │ (\u001b[38;5;45mNone\u001b[0m, \u001b[38;5;34m10\u001b[0m, \u001b[38;5;34m28\u001b[0m)    │          \u001b[38;5;34m0\u001b[0m │ -                 │\n",
       "├─────────────────────┼───────────────────┼────────────┼───────────────────┤\n",
       "│ dense_13 (\u001b[38;5;33mDense\u001b[0m)    │ (\u001b[38;5;45mNone\u001b[0m, \u001b[38;5;34m10\u001b[0m, \u001b[38;5;34m128\u001b[0m)   │      \u001b[38;5;34m3,712\u001b[0m │ input2[\u001b[38;5;34m0\u001b[0m][\u001b[38;5;34m0\u001b[0m]      │\n",
       "├─────────────────────┼───────────────────┼────────────┼───────────────────┤\n",
       "│ input1 (\u001b[38;5;33mInputLayer\u001b[0m) │ (\u001b[38;5;45mNone\u001b[0m, \u001b[38;5;34m10\u001b[0m, \u001b[38;5;34m10\u001b[0m)    │          \u001b[38;5;34m0\u001b[0m │ -                 │\n",
       "├─────────────────────┼───────────────────┼────────────┼───────────────────┤\n",
       "│ dense_14 (\u001b[38;5;33mDense\u001b[0m)    │ (\u001b[38;5;45mNone\u001b[0m, \u001b[38;5;34m10\u001b[0m, \u001b[38;5;34m32\u001b[0m)    │      \u001b[38;5;34m4,128\u001b[0m │ dense_13[\u001b[38;5;34m0\u001b[0m][\u001b[38;5;34m0\u001b[0m]    │\n",
       "├─────────────────────┼───────────────────┼────────────┼───────────────────┤\n",
       "│ concatenate_5       │ (\u001b[38;5;45mNone\u001b[0m, \u001b[38;5;34m10\u001b[0m, \u001b[38;5;34m42\u001b[0m)    │          \u001b[38;5;34m0\u001b[0m │ input1[\u001b[38;5;34m0\u001b[0m][\u001b[38;5;34m0\u001b[0m],     │\n",
       "│ (\u001b[38;5;33mConcatenate\u001b[0m)       │                   │            │ dense_14[\u001b[38;5;34m0\u001b[0m][\u001b[38;5;34m0\u001b[0m]    │\n",
       "├─────────────────────┼───────────────────┼────────────┼───────────────────┤\n",
       "│ Input Layer         │ (\u001b[38;5;45mNone\u001b[0m, \u001b[38;5;34m28\u001b[0m, \u001b[38;5;34m28\u001b[0m)    │          \u001b[38;5;34m0\u001b[0m │ -                 │\n",
       "│ (\u001b[38;5;33mInputLayer\u001b[0m)        │                   │            │                   │\n",
       "├─────────────────────┼───────────────────┼────────────┼───────────────────┤\n",
       "│ dense_15 (\u001b[38;5;33mDense\u001b[0m)    │ (\u001b[38;5;45mNone\u001b[0m, \u001b[38;5;34m10\u001b[0m, \u001b[38;5;34m1\u001b[0m)     │         \u001b[38;5;34m43\u001b[0m │ concatenate_5[\u001b[38;5;34m0\u001b[0m]… │\n",
       "└─────────────────────┴───────────────────┴────────────┴───────────────────┘\n"
      ]
     },
     "metadata": {},
     "output_type": "display_data"
    },
    {
     "data": {
      "text/html": [
       "<pre style=\"white-space:pre;overflow-x:auto;line-height:normal;font-family:Menlo,'DejaVu Sans Mono',consolas,'Courier New',monospace\"><span style=\"font-weight: bold\"> Total params: </span><span style=\"color: #00af00; text-decoration-color: #00af00\">7,883</span> (30.79 KB)\n",
       "</pre>\n"
      ],
      "text/plain": [
       "\u001b[1m Total params: \u001b[0m\u001b[38;5;34m7,883\u001b[0m (30.79 KB)\n"
      ]
     },
     "metadata": {},
     "output_type": "display_data"
    },
    {
     "data": {
      "text/html": [
       "<pre style=\"white-space:pre;overflow-x:auto;line-height:normal;font-family:Menlo,'DejaVu Sans Mono',consolas,'Courier New',monospace\"><span style=\"font-weight: bold\"> Trainable params: </span><span style=\"color: #00af00; text-decoration-color: #00af00\">7,883</span> (30.79 KB)\n",
       "</pre>\n"
      ],
      "text/plain": [
       "\u001b[1m Trainable params: \u001b[0m\u001b[38;5;34m7,883\u001b[0m (30.79 KB)\n"
      ]
     },
     "metadata": {},
     "output_type": "display_data"
    },
    {
     "data": {
      "text/html": [
       "<pre style=\"white-space:pre;overflow-x:auto;line-height:normal;font-family:Menlo,'DejaVu Sans Mono',consolas,'Courier New',monospace\"><span style=\"font-weight: bold\"> Non-trainable params: </span><span style=\"color: #00af00; text-decoration-color: #00af00\">0</span> (0.00 B)\n",
       "</pre>\n"
      ],
      "text/plain": [
       "\u001b[1m Non-trainable params: \u001b[0m\u001b[38;5;34m0\u001b[0m (0.00 B)\n"
      ]
     },
     "metadata": {},
     "output_type": "display_data"
    }
   ],
   "source": [
    "input1 = Input(shape= (10,10), name='input1')\n",
    "input2 = Input(shape= (10, 28), name='input2')\n",
    "hidden1 =  Dense(128, activation='relu')(input2)\n",
    "hidden2 =  Dense(32, activation='relu')(hidden1)\n",
    "\n",
    "concat = Concatenate()([input1,hidden2])\n",
    "output = Dense(1, activation='sigmoid')(concat)\n",
    "model = Model(inputs=[input_layer], outputs=[output])\n",
    "model.summary()"
   ]
  },
  {
   "cell_type": "code",
   "execution_count": 26,
   "metadata": {},
   "outputs": [
    {
     "data": {
      "image/png": "[encoded data removed]",
      "text/plain": [
       "<IPython.core.display.Image object>"
      ]
     },
     "execution_count": 26,
     "metadata": {},
     "output_type": "execute_result"
    }
   ],
   "source": [
    "plot_model(model)"
   ]
  },
  {
   "cell_type": "code",
   "execution_count": 29,
   "metadata": {},
   "outputs": [
    {
     "data": {
      "text/html": [
       "<pre style=\"white-space:pre;overflow-x:auto;line-height:normal;font-family:Menlo,'DejaVu Sans Mono',consolas,'Courier New',monospace\"><span style=\"font-weight: bold\">Model: \"functional_11\"</span>\n",
       "</pre>\n"
      ],
      "text/plain": [
       "\u001b[1mModel: \"functional_11\"\u001b[0m\n"
      ]
     },
     "metadata": {},
     "output_type": "display_data"
    },
    {
     "data": {
      "text/html": [
       "<pre style=\"white-space:pre;overflow-x:auto;line-height:normal;font-family:Menlo,'DejaVu Sans Mono',consolas,'Courier New',monospace\">┏━━━━━━━━━━━━━━━━━━━━━┳━━━━━━━━━━━━━━━━━━━┳━━━━━━━━━━━━┳━━━━━━━━━━━━━━━━━━━┓\n",
       "┃<span style=\"font-weight: bold\"> Layer (type)        </span>┃<span style=\"font-weight: bold\"> Output Shape      </span>┃<span style=\"font-weight: bold\">    Param # </span>┃<span style=\"font-weight: bold\"> Connected to      </span>┃\n",
       "┡━━━━━━━━━━━━━━━━━━━━━╇━━━━━━━━━━━━━━━━━━━╇━━━━━━━━━━━━╇━━━━━━━━━━━━━━━━━━━┩\n",
       "│ Input1 (<span style=\"color: #0087ff; text-decoration-color: #0087ff\">InputLayer</span>) │ (<span style=\"color: #00d7ff; text-decoration-color: #00d7ff\">None</span>, <span style=\"color: #00af00; text-decoration-color: #00af00\">10</span>, <span style=\"color: #00af00; text-decoration-color: #00af00\">10</span>)    │          <span style=\"color: #00af00; text-decoration-color: #00af00\">0</span> │ -                 │\n",
       "├─────────────────────┼───────────────────┼────────────┼───────────────────┤\n",
       "│ dense_19 (<span style=\"color: #0087ff; text-decoration-color: #0087ff\">Dense</span>)    │ (<span style=\"color: #00d7ff; text-decoration-color: #00d7ff\">None</span>, <span style=\"color: #00af00; text-decoration-color: #00af00\">10</span>, <span style=\"color: #00af00; text-decoration-color: #00af00\">128</span>)   │      <span style=\"color: #00af00; text-decoration-color: #00af00\">1,408</span> │ Input1[<span style=\"color: #00af00; text-decoration-color: #00af00\">0</span>][<span style=\"color: #00af00; text-decoration-color: #00af00\">0</span>]      │\n",
       "├─────────────────────┼───────────────────┼────────────┼───────────────────┤\n",
       "│ dense_20 (<span style=\"color: #0087ff; text-decoration-color: #0087ff\">Dense</span>)    │ (<span style=\"color: #00d7ff; text-decoration-color: #00d7ff\">None</span>, <span style=\"color: #00af00; text-decoration-color: #00af00\">10</span>, <span style=\"color: #00af00; text-decoration-color: #00af00\">10</span>)    │      <span style=\"color: #00af00; text-decoration-color: #00af00\">1,290</span> │ dense_19[<span style=\"color: #00af00; text-decoration-color: #00af00\">0</span>][<span style=\"color: #00af00; text-decoration-color: #00af00\">0</span>]    │\n",
       "├─────────────────────┼───────────────────┼────────────┼───────────────────┤\n",
       "│ dense_21 (<span style=\"color: #0087ff; text-decoration-color: #0087ff\">Dense</span>)    │ (<span style=\"color: #00d7ff; text-decoration-color: #00d7ff\">None</span>, <span style=\"color: #00af00; text-decoration-color: #00af00\">10</span>, <span style=\"color: #00af00; text-decoration-color: #00af00\">1</span>)     │         <span style=\"color: #00af00; text-decoration-color: #00af00\">11</span> │ dense_20[<span style=\"color: #00af00; text-decoration-color: #00af00\">0</span>][<span style=\"color: #00af00; text-decoration-color: #00af00\">0</span>]    │\n",
       "├─────────────────────┼───────────────────┼────────────┼───────────────────┤\n",
       "│ sub_output (<span style=\"color: #0087ff; text-decoration-color: #0087ff\">Dense</span>)  │ (<span style=\"color: #00d7ff; text-decoration-color: #00d7ff\">None</span>, <span style=\"color: #00af00; text-decoration-color: #00af00\">10</span>, <span style=\"color: #00af00; text-decoration-color: #00af00\">1</span>)     │         <span style=\"color: #00af00; text-decoration-color: #00af00\">11</span> │ dense_20[<span style=\"color: #00af00; text-decoration-color: #00af00\">0</span>][<span style=\"color: #00af00; text-decoration-color: #00af00\">0</span>]    │\n",
       "└─────────────────────┴───────────────────┴────────────┴───────────────────┘\n",
       "</pre>\n"
      ],
      "text/plain": [
       "┏━━━━━━━━━━━━━━━━━━━━━┳━━━━━━━━━━━━━━━━━━━┳━━━━━━━━━━━━┳━━━━━━━━━━━━━━━━━━━┓\n",
       "┃\u001b[1m \u001b[0m\u001b[1mLayer (type)       \u001b[0m\u001b[1m \u001b[0m┃\u001b[1m \u001b[0m\u001b[1mOutput Shape     \u001b[0m\u001b[1m \u001b[0m┃\u001b[1m \u001b[0m\u001b[1m   Param #\u001b[0m\u001b[1m \u001b[0m┃\u001b[1m \u001b[0m\u001b[1mConnected to     \u001b[0m\u001b[1m \u001b[0m┃\n",
       "┡━━━━━━━━━━━━━━━━━━━━━╇━━━━━━━━━━━━━━━━━━━╇━━━━━━━━━━━━╇━━━━━━━━━━━━━━━━━━━┩\n",
       "│ Input1 (\u001b[38;5;33mInputLayer\u001b[0m) │ (\u001b[38;5;45mNone\u001b[0m, \u001b[38;5;34m10\u001b[0m, \u001b[38;5;34m10\u001b[0m)    │          \u001b[38;5;34m0\u001b[0m │ -                 │\n",
       "├─────────────────────┼───────────────────┼────────────┼───────────────────┤\n",
       "│ dense_19 (\u001b[38;5;33mDense\u001b[0m)    │ (\u001b[38;5;45mNone\u001b[0m, \u001b[38;5;34m10\u001b[0m, \u001b[38;5;34m128\u001b[0m)   │      \u001b[38;5;34m1,408\u001b[0m │ Input1[\u001b[38;5;34m0\u001b[0m][\u001b[38;5;34m0\u001b[0m]      │\n",
       "├─────────────────────┼───────────────────┼────────────┼───────────────────┤\n",
       "│ dense_20 (\u001b[38;5;33mDense\u001b[0m)    │ (\u001b[38;5;45mNone\u001b[0m, \u001b[38;5;34m10\u001b[0m, \u001b[38;5;34m10\u001b[0m)    │      \u001b[38;5;34m1,290\u001b[0m │ dense_19[\u001b[38;5;34m0\u001b[0m][\u001b[38;5;34m0\u001b[0m]    │\n",
       "├─────────────────────┼───────────────────┼────────────┼───────────────────┤\n",
       "│ dense_21 (\u001b[38;5;33mDense\u001b[0m)    │ (\u001b[38;5;45mNone\u001b[0m, \u001b[38;5;34m10\u001b[0m, \u001b[38;5;34m1\u001b[0m)     │         \u001b[38;5;34m11\u001b[0m │ dense_20[\u001b[38;5;34m0\u001b[0m][\u001b[38;5;34m0\u001b[0m]    │\n",
       "├─────────────────────┼───────────────────┼────────────┼───────────────────┤\n",
       "│ sub_output (\u001b[38;5;33mDense\u001b[0m)  │ (\u001b[38;5;45mNone\u001b[0m, \u001b[38;5;34m10\u001b[0m, \u001b[38;5;34m1\u001b[0m)     │         \u001b[38;5;34m11\u001b[0m │ dense_20[\u001b[38;5;34m0\u001b[0m][\u001b[38;5;34m0\u001b[0m]    │\n",
       "└─────────────────────┴───────────────────┴────────────┴───────────────────┘\n"
      ]
     },
     "metadata": {},
     "output_type": "display_data"
    },
    {
     "data": {
      "text/html": [
       "<pre style=\"white-space:pre;overflow-x:auto;line-height:normal;font-family:Menlo,'DejaVu Sans Mono',consolas,'Courier New',monospace\"><span style=\"font-weight: bold\"> Total params: </span><span style=\"color: #00af00; text-decoration-color: #00af00\">2,720</span> (10.62 KB)\n",
       "</pre>\n"
      ],
      "text/plain": [
       "\u001b[1m Total params: \u001b[0m\u001b[38;5;34m2,720\u001b[0m (10.62 KB)\n"
      ]
     },
     "metadata": {},
     "output_type": "display_data"
    },
    {
     "data": {
      "text/html": [
       "<pre style=\"white-space:pre;overflow-x:auto;line-height:normal;font-family:Menlo,'DejaVu Sans Mono',consolas,'Courier New',monospace\"><span style=\"font-weight: bold\"> Trainable params: </span><span style=\"color: #00af00; text-decoration-color: #00af00\">2,720</span> (10.62 KB)\n",
       "</pre>\n"
      ],
      "text/plain": [
       "\u001b[1m Trainable params: \u001b[0m\u001b[38;5;34m2,720\u001b[0m (10.62 KB)\n"
      ]
     },
     "metadata": {},
     "output_type": "display_data"
    },
    {
     "data": {
      "text/html": [
       "<pre style=\"white-space:pre;overflow-x:auto;line-height:normal;font-family:Menlo,'DejaVu Sans Mono',consolas,'Courier New',monospace\"><span style=\"font-weight: bold\"> Non-trainable params: </span><span style=\"color: #00af00; text-decoration-color: #00af00\">0</span> (0.00 B)\n",
       "</pre>\n"
      ],
      "text/plain": [
       "\u001b[1m Non-trainable params: \u001b[0m\u001b[38;5;34m0\u001b[0m (0.00 B)\n"
      ]
     },
     "metadata": {},
     "output_type": "display_data"
    }
   ],
   "source": [
    "input1 = Input(shape= (10,10), name='Input1')\n",
    "# input2 = Input(shape= (10, 10), name='Input2')\n",
    "hidden1 =  Dense(128, activation='relu')(input1)\n",
    "hidden2 =  Dense(10, activation='relu')(hidden1)\n",
    "output = Dense(1, activation='sigmoid')(hidden2)\n",
    "\n",
    "sub_output = Dense(1,name = 'sub_output')(hidden2)\n",
    "model = Model(inputs=[input1], outputs=[output, sub_output])\n",
    "model.summary()"
   ]
  },
  {
   "cell_type": "code",
   "execution_count": 30,
   "metadata": {},
   "outputs": [
    {
     "data": {
      "image/png": "[encoded data removed]",
      "text/plain": [
       "<IPython.core.display.Image object>"
      ]
     },
     "execution_count": 30,
     "metadata": {},
     "output_type": "execute_result"
    }
   ],
   "source": [
    "plot_model(model)"
   ]
  },
  {
   "cell_type": "code",
   "execution_count": 36,
   "metadata": {},
   "outputs": [
    {
     "data": {
      "text/html": [
       "<pre style=\"white-space:pre;overflow-x:auto;line-height:normal;font-family:Menlo,'DejaVu Sans Mono',consolas,'Courier New',monospace\"><span style=\"font-weight: bold\">Model: \"functional_15\"</span>\n",
       "</pre>\n"
      ],
      "text/plain": [
       "\u001b[1mModel: \"functional_15\"\u001b[0m\n"
      ]
     },
     "metadata": {},
     "output_type": "display_data"
    },
    {
     "data": {
      "text/html": [
       "<pre style=\"white-space:pre;overflow-x:auto;line-height:normal;font-family:Menlo,'DejaVu Sans Mono',consolas,'Courier New',monospace\">┏━━━━━━━━━━━━━━━━━━━━━┳━━━━━━━━━━━━━━━━━━━┳━━━━━━━━━━━━┳━━━━━━━━━━━━━━━━━━━┓\n",
       "┃<span style=\"font-weight: bold\"> Layer (type)        </span>┃<span style=\"font-weight: bold\"> Output Shape      </span>┃<span style=\"font-weight: bold\">    Param # </span>┃<span style=\"font-weight: bold\"> Connected to      </span>┃\n",
       "┡━━━━━━━━━━━━━━━━━━━━━╇━━━━━━━━━━━━━━━━━━━╇━━━━━━━━━━━━╇━━━━━━━━━━━━━━━━━━━┩\n",
       "│ input2 (<span style=\"color: #0087ff; text-decoration-color: #0087ff\">InputLayer</span>) │ (<span style=\"color: #00d7ff; text-decoration-color: #00d7ff\">None</span>, <span style=\"color: #00af00; text-decoration-color: #00af00\">10</span>, <span style=\"color: #00af00; text-decoration-color: #00af00\">28</span>)    │          <span style=\"color: #00af00; text-decoration-color: #00af00\">0</span> │ -                 │\n",
       "├─────────────────────┼───────────────────┼────────────┼───────────────────┤\n",
       "│ dense_38 (<span style=\"color: #0087ff; text-decoration-color: #0087ff\">Dense</span>)    │ (<span style=\"color: #00d7ff; text-decoration-color: #00d7ff\">None</span>, <span style=\"color: #00af00; text-decoration-color: #00af00\">10</span>, <span style=\"color: #00af00; text-decoration-color: #00af00\">128</span>)   │      <span style=\"color: #00af00; text-decoration-color: #00af00\">3,712</span> │ input2[<span style=\"color: #00af00; text-decoration-color: #00af00\">0</span>][<span style=\"color: #00af00; text-decoration-color: #00af00\">0</span>]      │\n",
       "├─────────────────────┼───────────────────┼────────────┼───────────────────┤\n",
       "│ dense_39 (<span style=\"color: #0087ff; text-decoration-color: #0087ff\">Dense</span>)    │ (<span style=\"color: #00d7ff; text-decoration-color: #00d7ff\">None</span>, <span style=\"color: #00af00; text-decoration-color: #00af00\">10</span>, <span style=\"color: #00af00; text-decoration-color: #00af00\">16</span>)    │      <span style=\"color: #00af00; text-decoration-color: #00af00\">2,064</span> │ dense_38[<span style=\"color: #00af00; text-decoration-color: #00af00\">0</span>][<span style=\"color: #00af00; text-decoration-color: #00af00\">0</span>]    │\n",
       "├─────────────────────┼───────────────────┼────────────┼───────────────────┤\n",
       "│ input1 (<span style=\"color: #0087ff; text-decoration-color: #0087ff\">InputLayer</span>) │ (<span style=\"color: #00d7ff; text-decoration-color: #00d7ff\">None</span>, <span style=\"color: #00af00; text-decoration-color: #00af00\">10</span>, <span style=\"color: #00af00; text-decoration-color: #00af00\">10</span>)    │          <span style=\"color: #00af00; text-decoration-color: #00af00\">0</span> │ -                 │\n",
       "├─────────────────────┼───────────────────┼────────────┼───────────────────┤\n",
       "│ concatenate_10      │ (<span style=\"color: #00d7ff; text-decoration-color: #00d7ff\">None</span>, <span style=\"color: #00af00; text-decoration-color: #00af00\">10</span>, <span style=\"color: #00af00; text-decoration-color: #00af00\">26</span>)    │          <span style=\"color: #00af00; text-decoration-color: #00af00\">0</span> │ input1[<span style=\"color: #00af00; text-decoration-color: #00af00\">0</span>][<span style=\"color: #00af00; text-decoration-color: #00af00\">0</span>],     │\n",
       "│ (<span style=\"color: #0087ff; text-decoration-color: #0087ff\">Concatenate</span>)       │                   │            │ dense_39[<span style=\"color: #00af00; text-decoration-color: #00af00\">0</span>][<span style=\"color: #00af00; text-decoration-color: #00af00\">0</span>]    │\n",
       "├─────────────────────┼───────────────────┼────────────┼───────────────────┤\n",
       "│ dense_40 (<span style=\"color: #0087ff; text-decoration-color: #0087ff\">Dense</span>)    │ (<span style=\"color: #00d7ff; text-decoration-color: #00d7ff\">None</span>, <span style=\"color: #00af00; text-decoration-color: #00af00\">10</span>, <span style=\"color: #00af00; text-decoration-color: #00af00\">1</span>)     │         <span style=\"color: #00af00; text-decoration-color: #00af00\">17</span> │ dense_39[<span style=\"color: #00af00; text-decoration-color: #00af00\">0</span>][<span style=\"color: #00af00; text-decoration-color: #00af00\">0</span>]    │\n",
       "├─────────────────────┼───────────────────┼────────────┼───────────────────┤\n",
       "│ dense_41 (<span style=\"color: #0087ff; text-decoration-color: #0087ff\">Dense</span>)    │ (<span style=\"color: #00d7ff; text-decoration-color: #00d7ff\">None</span>, <span style=\"color: #00af00; text-decoration-color: #00af00\">10</span>, <span style=\"color: #00af00; text-decoration-color: #00af00\">1</span>)     │         <span style=\"color: #00af00; text-decoration-color: #00af00\">27</span> │ concatenate_10[<span style=\"color: #00af00; text-decoration-color: #00af00\">0</span>… │\n",
       "└─────────────────────┴───────────────────┴────────────┴───────────────────┘\n",
       "</pre>\n"
      ],
      "text/plain": [
       "┏━━━━━━━━━━━━━━━━━━━━━┳━━━━━━━━━━━━━━━━━━━┳━━━━━━━━━━━━┳━━━━━━━━━━━━━━━━━━━┓\n",
       "┃\u001b[1m \u001b[0m\u001b[1mLayer (type)       \u001b[0m\u001b[1m \u001b[0m┃\u001b[1m \u001b[0m\u001b[1mOutput Shape     \u001b[0m\u001b[1m \u001b[0m┃\u001b[1m \u001b[0m\u001b[1m   Param #\u001b[0m\u001b[1m \u001b[0m┃\u001b[1m \u001b[0m\u001b[1mConnected to     \u001b[0m\u001b[1m \u001b[0m┃\n",
       "┡━━━━━━━━━━━━━━━━━━━━━╇━━━━━━━━━━━━━━━━━━━╇━━━━━━━━━━━━╇━━━━━━━━━━━━━━━━━━━┩\n",
       "│ input2 (\u001b[38;5;33mInputLayer\u001b[0m) │ (\u001b[38;5;45mNone\u001b[0m, \u001b[38;5;34m10\u001b[0m, \u001b[38;5;34m28\u001b[0m)    │          \u001b[38;5;34m0\u001b[0m │ -                 │\n",
       "├─────────────────────┼───────────────────┼────────────┼───────────────────┤\n",
       "│ dense_38 (\u001b[38;5;33mDense\u001b[0m)    │ (\u001b[38;5;45mNone\u001b[0m, \u001b[38;5;34m10\u001b[0m, \u001b[38;5;34m128\u001b[0m)   │      \u001b[38;5;34m3,712\u001b[0m │ input2[\u001b[38;5;34m0\u001b[0m][\u001b[38;5;34m0\u001b[0m]      │\n",
       "├─────────────────────┼───────────────────┼────────────┼───────────────────┤\n",
       "│ dense_39 (\u001b[38;5;33mDense\u001b[0m)    │ (\u001b[38;5;45mNone\u001b[0m, \u001b[38;5;34m10\u001b[0m, \u001b[38;5;34m16\u001b[0m)    │      \u001b[38;5;34m2,064\u001b[0m │ dense_38[\u001b[38;5;34m0\u001b[0m][\u001b[38;5;34m0\u001b[0m]    │\n",
       "├─────────────────────┼───────────────────┼────────────┼───────────────────┤\n",
       "│ input1 (\u001b[38;5;33mInputLayer\u001b[0m) │ (\u001b[38;5;45mNone\u001b[0m, \u001b[38;5;34m10\u001b[0m, \u001b[38;5;34m10\u001b[0m)    │          \u001b[38;5;34m0\u001b[0m │ -                 │\n",
       "├─────────────────────┼───────────────────┼────────────┼───────────────────┤\n",
       "│ concatenate_10      │ (\u001b[38;5;45mNone\u001b[0m, \u001b[38;5;34m10\u001b[0m, \u001b[38;5;34m26\u001b[0m)    │          \u001b[38;5;34m0\u001b[0m │ input1[\u001b[38;5;34m0\u001b[0m][\u001b[38;5;34m0\u001b[0m],     │\n",
       "│ (\u001b[38;5;33mConcatenate\u001b[0m)       │                   │            │ dense_39[\u001b[38;5;34m0\u001b[0m][\u001b[38;5;34m0\u001b[0m]    │\n",
       "├─────────────────────┼───────────────────┼────────────┼───────────────────┤\n",
       "│ dense_40 (\u001b[38;5;33mDense\u001b[0m)    │ (\u001b[38;5;45mNone\u001b[0m, \u001b[38;5;34m10\u001b[0m, \u001b[38;5;34m1\u001b[0m)     │         \u001b[38;5;34m17\u001b[0m │ dense_39[\u001b[38;5;34m0\u001b[0m][\u001b[38;5;34m0\u001b[0m]    │\n",
       "├─────────────────────┼───────────────────┼────────────┼───────────────────┤\n",
       "│ dense_41 (\u001b[38;5;33mDense\u001b[0m)    │ (\u001b[38;5;45mNone\u001b[0m, \u001b[38;5;34m10\u001b[0m, \u001b[38;5;34m1\u001b[0m)     │         \u001b[38;5;34m27\u001b[0m │ concatenate_10[\u001b[38;5;34m0\u001b[0m… │\n",
       "└─────────────────────┴───────────────────┴────────────┴───────────────────┘\n"
      ]
     },
     "metadata": {},
     "output_type": "display_data"
    },
    {
     "data": {
      "text/html": [
       "<pre style=\"white-space:pre;overflow-x:auto;line-height:normal;font-family:Menlo,'DejaVu Sans Mono',consolas,'Courier New',monospace\"><span style=\"font-weight: bold\"> Total params: </span><span style=\"color: #00af00; text-decoration-color: #00af00\">5,820</span> (22.73 KB)\n",
       "</pre>\n"
      ],
      "text/plain": [
       "\u001b[1m Total params: \u001b[0m\u001b[38;5;34m5,820\u001b[0m (22.73 KB)\n"
      ]
     },
     "metadata": {},
     "output_type": "display_data"
    },
    {
     "data": {
      "text/html": [
       "<pre style=\"white-space:pre;overflow-x:auto;line-height:normal;font-family:Menlo,'DejaVu Sans Mono',consolas,'Courier New',monospace\"><span style=\"font-weight: bold\"> Trainable params: </span><span style=\"color: #00af00; text-decoration-color: #00af00\">5,820</span> (22.73 KB)\n",
       "</pre>\n"
      ],
      "text/plain": [
       "\u001b[1m Trainable params: \u001b[0m\u001b[38;5;34m5,820\u001b[0m (22.73 KB)\n"
      ]
     },
     "metadata": {},
     "output_type": "display_data"
    },
    {
     "data": {
      "text/html": [
       "<pre style=\"white-space:pre;overflow-x:auto;line-height:normal;font-family:Menlo,'DejaVu Sans Mono',consolas,'Courier New',monospace\"><span style=\"font-weight: bold\"> Non-trainable params: </span><span style=\"color: #00af00; text-decoration-color: #00af00\">0</span> (0.00 B)\n",
       "</pre>\n"
      ],
      "text/plain": [
       "\u001b[1m Non-trainable params: \u001b[0m\u001b[38;5;34m0\u001b[0m (0.00 B)\n"
      ]
     },
     "metadata": {},
     "output_type": "display_data"
    }
   ],
   "source": [
    "input1 = Input(shape= (10,10), name='input1')\n",
    "input2 = Input(shape= (10, 28), name='input2')\n",
    "hidden1 =  Dense(128, activation='relu')(input2)\n",
    "hidden2 =  Dense(16, activation='relu')(hidden1)\n",
    "concat = Concatenate()([input1,hidden2])\n",
    "output = Dense(1, activation='sigmoid')(hidden2)\n",
    "sub_output=Dense(1)(concat)\n",
    "model = Model(inputs=[input1, input2], outputs=[output, sub_output])\n",
    "\n",
    "model.summary()"
   ]
  },
  {
   "cell_type": "code",
   "execution_count": null,
   "metadata": {},
   "outputs": [],
   "source": []
  },
  {
   "cell_type": "code",
   "execution_count": 37,
   "metadata": {},
   "outputs": [
    {
     "data": {
      "image/png": "[encoded data removed]",
      "text/plain": [
       "<IPython.core.display.Image object>"
      ]
     },
     "execution_count": 37,
     "metadata": {},
     "output_type": "execute_result"
    }
   ],
   "source": [
    "plot_model(model)"
   ]
  },
  {
   "cell_type": "code",
   "execution_count": null,
   "metadata": {},
   "outputs": [],
   "source": [
    "\n",
    "model.fit(훈련용_data, 훈련용_target, epochs=20, batch_size=64, validation_split=0.2) #학습\n",
    "loss, accuracy=model.evaluate(테스트용_data, 테스트용_target)\n",
    "print(loss, accuracy)\n",
    "model.predict(임의의 데이터)\n",
    "from tensorflow.keras.models import ModelC\n",
    "checkpoint = ModelCheckpoint('best.keras', save_best_only=True, monitor = 'val_loss', mode='min')\n",
    "model.load_weights('best.keras')"
   ]
  },
  {
   "cell_type": "code",
   "execution_count": 280,
   "metadata": {},
   "outputs": [],
   "source": [
    "import pandas as pd\n",
    "src_data = pd.read_csv(\"C:/Users/humming/Downloads/0828 코드/와인.csv\", encoding='cp949')\n",
    "data = src_data.drop('종류', axis=1)\n",
    "target = src_data['종류']"
   ]
  },
  {
   "cell_type": "code",
   "execution_count": 288,
   "metadata": {},
   "outputs": [],
   "source": [
    "target.value_counts()\n",
    "target = pd.get_dummies(src_data['종류']).astype(int)"
   ]
  },
  {
   "cell_type": "code",
   "execution_count": null,
   "metadata": {},
   "outputs": [],
   "source": []
  },
  {
   "cell_type": "code",
   "execution_count": 290,
   "metadata": {},
   "outputs": [
    {
     "name": "stdout",
     "output_type": "stream",
     "text": [
      "Epoch 1/100\n",
      "\u001b[1m366/366\u001b[0m \u001b[32m━━━━━━━━━━━━━━━━━━━━\u001b[0m\u001b[37m\u001b[0m \u001b[1m7s\u001b[0m 4ms/step - accuracy: 0.7831 - loss: 0.4598 - precision_46: 0.7806 - recall_46: 0.7801 - val_accuracy: 0.8400 - val_loss: 0.4085 - val_precision_46: 0.8382 - val_recall_46: 0.8446\n",
      "Epoch 2/100\n",
      "\u001b[1m366/366\u001b[0m \u001b[32m━━━━━━━━━━━━━━━━━━━━\u001b[0m\u001b[37m\u001b[0m \u001b[1m1s\u001b[0m 2ms/step - accuracy: 0.8168 - loss: 0.3937 - precision_46: 0.8158 - recall_46: 0.8204 - val_accuracy: 0.7923 - val_loss: 0.4082 - val_precision_46: 0.7935 - val_recall_46: 0.7923\n",
      "Epoch 3/100\n",
      "\u001b[1m366/366\u001b[0m \u001b[32m━━━━━━━━━━━━━━━━━━━━\u001b[0m\u001b[37m\u001b[0m \u001b[1m1s\u001b[0m 2ms/step - accuracy: 0.8316 - loss: 0.3801 - precision_46: 0.8317 - recall_46: 0.8290 - val_accuracy: 0.8138 - val_loss: 0.4547 - val_precision_46: 0.8138 - val_recall_46: 0.8138\n",
      "Epoch 4/100\n",
      "\u001b[1m366/366\u001b[0m \u001b[32m━━━━━━━━━━━━━━━━━━━━\u001b[0m\u001b[37m\u001b[0m \u001b[1m1s\u001b[0m 2ms/step - accuracy: 0.8206 - loss: 0.3876 - precision_46: 0.8203 - recall_46: 0.8203 - val_accuracy: 0.8692 - val_loss: 0.3617 - val_precision_46: 0.8692 - val_recall_46: 0.8692\n",
      "Epoch 5/100\n",
      "\u001b[1m366/366\u001b[0m \u001b[32m━━━━━━━━━━━━━━━━━━━━\u001b[0m\u001b[37m\u001b[0m \u001b[1m1s\u001b[0m 2ms/step - accuracy: 0.8260 - loss: 0.3884 - precision_46: 0.8253 - recall_46: 0.8259 - val_accuracy: 0.8092 - val_loss: 0.4140 - val_precision_46: 0.8092 - val_recall_46: 0.8092\n",
      "Epoch 6/100\n",
      "\u001b[1m366/366\u001b[0m \u001b[32m━━━━━━━━━━━━━━━━━━━━\u001b[0m\u001b[37m\u001b[0m \u001b[1m1s\u001b[0m 2ms/step - accuracy: 0.8374 - loss: 0.3706 - precision_46: 0.8369 - recall_46: 0.8366 - val_accuracy: 0.8508 - val_loss: 0.3821 - val_precision_46: 0.8508 - val_recall_46: 0.8508\n",
      "Epoch 7/100\n",
      "\u001b[1m366/366\u001b[0m \u001b[32m━━━━━━━━━━━━━━━━━━━━\u001b[0m\u001b[37m\u001b[0m \u001b[1m1s\u001b[0m 2ms/step - accuracy: 0.8284 - loss: 0.3745 - precision_46: 0.8283 - recall_46: 0.8284 - val_accuracy: 0.8200 - val_loss: 0.4039 - val_precision_46: 0.8187 - val_recall_46: 0.8200\n",
      "Epoch 8/100\n",
      "\u001b[1m366/366\u001b[0m \u001b[32m━━━━━━━━━━━━━━━━━━━━\u001b[0m\u001b[37m\u001b[0m \u001b[1m1s\u001b[0m 2ms/step - accuracy: 0.8364 - loss: 0.3680 - precision_46: 0.8363 - recall_46: 0.8366 - val_accuracy: 0.8385 - val_loss: 0.3726 - val_precision_46: 0.8385 - val_recall_46: 0.8385\n",
      "Epoch 9/100\n",
      "\u001b[1m366/366\u001b[0m \u001b[32m━━━━━━━━━━━━━━━━━━━━\u001b[0m\u001b[37m\u001b[0m \u001b[1m1s\u001b[0m 2ms/step - accuracy: 0.8260 - loss: 0.3705 - precision_46: 0.8265 - recall_46: 0.8261 - val_accuracy: 0.8108 - val_loss: 0.4569 - val_precision_46: 0.8108 - val_recall_46: 0.8108\n",
      "Epoch 10/100\n",
      "\u001b[1m366/366\u001b[0m \u001b[32m━━━━━━━━━━━━━━━━━━━━\u001b[0m\u001b[37m\u001b[0m \u001b[1m1s\u001b[0m 2ms/step - accuracy: 0.8344 - loss: 0.3652 - precision_46: 0.8345 - recall_46: 0.8347 - val_accuracy: 0.7431 - val_loss: 0.5216 - val_precision_46: 0.7431 - val_recall_46: 0.7431\n",
      "Epoch 11/100\n",
      "\u001b[1m366/366\u001b[0m \u001b[32m━━━━━━━━━━━━━━━━━━━━\u001b[0m\u001b[37m\u001b[0m \u001b[1m1s\u001b[0m 2ms/step - accuracy: 0.8358 - loss: 0.3693 - precision_46: 0.8364 - recall_46: 0.8363 - val_accuracy: 0.8123 - val_loss: 0.4212 - val_precision_46: 0.8123 - val_recall_46: 0.8123\n",
      "Epoch 12/100\n",
      "\u001b[1m366/366\u001b[0m \u001b[32m━━━━━━━━━━━━━━━━━━━━\u001b[0m\u001b[37m\u001b[0m \u001b[1m1s\u001b[0m 2ms/step - accuracy: 0.8426 - loss: 0.3607 - precision_46: 0.8426 - recall_46: 0.8426 - val_accuracy: 0.8338 - val_loss: 0.3923 - val_precision_46: 0.8338 - val_recall_46: 0.8338\n",
      "Epoch 13/100\n",
      "\u001b[1m366/366\u001b[0m \u001b[32m━━━━━━━━━━━━━━━━━━━━\u001b[0m\u001b[37m\u001b[0m \u001b[1m1s\u001b[0m 3ms/step - accuracy: 0.8477 - loss: 0.3571 - precision_46: 0.8472 - recall_46: 0.8464 - val_accuracy: 0.8323 - val_loss: 0.3818 - val_precision_46: 0.8323 - val_recall_46: 0.8323\n",
      "Epoch 14/100\n",
      "\u001b[1m366/366\u001b[0m \u001b[32m━━━━━━━━━━━━━━━━━━━━\u001b[0m\u001b[37m\u001b[0m \u001b[1m1s\u001b[0m 2ms/step - accuracy: 0.8350 - loss: 0.3671 - precision_46: 0.8351 - recall_46: 0.8352 - val_accuracy: 0.8585 - val_loss: 0.3665 - val_precision_46: 0.8585 - val_recall_46: 0.8585\n",
      "Epoch 15/100\n",
      "\u001b[1m366/366\u001b[0m \u001b[32m━━━━━━━━━━━━━━━━━━━━\u001b[0m\u001b[37m\u001b[0m \u001b[1m1s\u001b[0m 2ms/step - accuracy: 0.8431 - loss: 0.3678 - precision_46: 0.8432 - recall_46: 0.8431 - val_accuracy: 0.8277 - val_loss: 0.3841 - val_precision_46: 0.8277 - val_recall_46: 0.8277\n",
      "Epoch 16/100\n",
      "\u001b[1m366/366\u001b[0m \u001b[32m━━━━━━━━━━━━━━━━━━━━\u001b[0m\u001b[37m\u001b[0m \u001b[1m1s\u001b[0m 2ms/step - accuracy: 0.8316 - loss: 0.3782 - precision_46: 0.8323 - recall_46: 0.8316 - val_accuracy: 0.8585 - val_loss: 0.3610 - val_precision_46: 0.8585 - val_recall_46: 0.8585\n",
      "Epoch 17/100\n",
      "\u001b[1m366/366\u001b[0m \u001b[32m━━━━━━━━━━━━━━━━━━━━\u001b[0m\u001b[37m\u001b[0m \u001b[1m1s\u001b[0m 2ms/step - accuracy: 0.8468 - loss: 0.3483 - precision_46: 0.8468 - recall_46: 0.8468 - val_accuracy: 0.8492 - val_loss: 0.3568 - val_precision_46: 0.8492 - val_recall_46: 0.8492\n",
      "Epoch 18/100\n",
      "\u001b[1m366/366\u001b[0m \u001b[32m━━━━━━━━━━━━━━━━━━━━\u001b[0m\u001b[37m\u001b[0m \u001b[1m1s\u001b[0m 2ms/step - accuracy: 0.8350 - loss: 0.3705 - precision_46: 0.8347 - recall_46: 0.8350 - val_accuracy: 0.7492 - val_loss: 0.4890 - val_precision_46: 0.7492 - val_recall_46: 0.7492\n",
      "Epoch 19/100\n",
      "\u001b[1m366/366\u001b[0m \u001b[32m━━━━━━━━━━━━━━━━━━━━\u001b[0m\u001b[37m\u001b[0m \u001b[1m1s\u001b[0m 2ms/step - accuracy: 0.8425 - loss: 0.3597 - precision_46: 0.8425 - recall_46: 0.8425 - val_accuracy: 0.8200 - val_loss: 0.3893 - val_precision_46: 0.8200 - val_recall_46: 0.8200\n",
      "Epoch 20/100\n",
      "\u001b[1m366/366\u001b[0m \u001b[32m━━━━━━━━━━━━━━━━━━━━\u001b[0m\u001b[37m\u001b[0m \u001b[1m1s\u001b[0m 2ms/step - accuracy: 0.8460 - loss: 0.3580 - precision_46: 0.8460 - recall_46: 0.8460 - val_accuracy: 0.8369 - val_loss: 0.3780 - val_precision_46: 0.8369 - val_recall_46: 0.8369\n",
      "Epoch 21/100\n",
      "\u001b[1m366/366\u001b[0m \u001b[32m━━━━━━━━━━━━━━━━━━━━\u001b[0m\u001b[37m\u001b[0m \u001b[1m1s\u001b[0m 2ms/step - accuracy: 0.8385 - loss: 0.3666 - precision_46: 0.8385 - recall_46: 0.8385 - val_accuracy: 0.8369 - val_loss: 0.3600 - val_precision_46: 0.8369 - val_recall_46: 0.8369\n",
      "Epoch 22/100\n",
      "\u001b[1m366/366\u001b[0m \u001b[32m━━━━━━━━━━━━━━━━━━━━\u001b[0m\u001b[37m\u001b[0m \u001b[1m1s\u001b[0m 2ms/step - accuracy: 0.8394 - loss: 0.3582 - precision_46: 0.8395 - recall_46: 0.8394 - val_accuracy: 0.8477 - val_loss: 0.3732 - val_precision_46: 0.8477 - val_recall_46: 0.8477\n",
      "Epoch 23/100\n",
      "\u001b[1m366/366\u001b[0m \u001b[32m━━━━━━━━━━━━━━━━━━━━\u001b[0m\u001b[37m\u001b[0m \u001b[1m1s\u001b[0m 2ms/step - accuracy: 0.8295 - loss: 0.3740 - precision_46: 0.8295 - recall_46: 0.8295 - val_accuracy: 0.7646 - val_loss: 0.4376 - val_precision_46: 0.7646 - val_recall_46: 0.7646\n",
      "Epoch 24/100\n",
      "\u001b[1m366/366\u001b[0m \u001b[32m━━━━━━━━━━━━━━━━━━━━\u001b[0m\u001b[37m\u001b[0m \u001b[1m1s\u001b[0m 2ms/step - accuracy: 0.8206 - loss: 0.3887 - precision_46: 0.8206 - recall_46: 0.8206 - val_accuracy: 0.8569 - val_loss: 0.3834 - val_precision_46: 0.8567 - val_recall_46: 0.8554\n",
      "Epoch 25/100\n",
      "\u001b[1m366/366\u001b[0m \u001b[32m━━━━━━━━━━━━━━━━━━━━\u001b[0m\u001b[37m\u001b[0m \u001b[1m1s\u001b[0m 2ms/step - accuracy: 0.8470 - loss: 0.3484 - precision_46: 0.8470 - recall_46: 0.8470 - val_accuracy: 0.8462 - val_loss: 0.3588 - val_precision_46: 0.8462 - val_recall_46: 0.8462\n",
      "Epoch 26/100\n",
      "\u001b[1m366/366\u001b[0m \u001b[32m━━━━━━━━━━━━━━━━━━━━\u001b[0m\u001b[37m\u001b[0m \u001b[1m1s\u001b[0m 2ms/step - accuracy: 0.8362 - loss: 0.3649 - precision_46: 0.8362 - recall_46: 0.8362 - val_accuracy: 0.8508 - val_loss: 0.3574 - val_precision_46: 0.8508 - val_recall_46: 0.8508\n",
      "Epoch 27/100\n",
      "\u001b[1m366/366\u001b[0m \u001b[32m━━━━━━━━━━━━━━━━━━━━\u001b[0m\u001b[37m\u001b[0m \u001b[1m1s\u001b[0m 2ms/step - accuracy: 0.8379 - loss: 0.3616 - precision_46: 0.8379 - recall_46: 0.8379 - val_accuracy: 0.8415 - val_loss: 0.3659 - val_precision_46: 0.8415 - val_recall_46: 0.8415\n",
      "Epoch 28/100\n",
      "\u001b[1m366/366\u001b[0m \u001b[32m━━━━━━━━━━━━━━━━━━━━\u001b[0m\u001b[37m\u001b[0m \u001b[1m1s\u001b[0m 2ms/step - accuracy: 0.8373 - loss: 0.3625 - precision_46: 0.8373 - recall_46: 0.8373 - val_accuracy: 0.8185 - val_loss: 0.3840 - val_precision_46: 0.8185 - val_recall_46: 0.8185\n",
      "Epoch 29/100\n",
      "\u001b[1m366/366\u001b[0m \u001b[32m━━━━━━━━━━━━━━━━━━━━\u001b[0m\u001b[37m\u001b[0m \u001b[1m1s\u001b[0m 2ms/step - accuracy: 0.8427 - loss: 0.3597 - precision_46: 0.8427 - recall_46: 0.8427 - val_accuracy: 0.8308 - val_loss: 0.3814 - val_precision_46: 0.8308 - val_recall_46: 0.8308\n",
      "Epoch 30/100\n",
      "\u001b[1m366/366\u001b[0m \u001b[32m━━━━━━━━━━━━━━━━━━━━\u001b[0m\u001b[37m\u001b[0m \u001b[1m1s\u001b[0m 2ms/step - accuracy: 0.8415 - loss: 0.3487 - precision_46: 0.8415 - recall_46: 0.8415 - val_accuracy: 0.8708 - val_loss: 0.3552 - val_precision_46: 0.8708 - val_recall_46: 0.8708\n",
      "Epoch 31/100\n",
      "\u001b[1m366/366\u001b[0m \u001b[32m━━━━━━━━━━━━━━━━━━━━\u001b[0m\u001b[37m\u001b[0m \u001b[1m1s\u001b[0m 2ms/step - accuracy: 0.8386 - loss: 0.3678 - precision_46: 0.8386 - recall_46: 0.8386 - val_accuracy: 0.8246 - val_loss: 0.3888 - val_precision_46: 0.8246 - val_recall_46: 0.8246\n",
      "Epoch 32/100\n",
      "\u001b[1m366/366\u001b[0m \u001b[32m━━━━━━━━━━━━━━━━━━━━\u001b[0m\u001b[37m\u001b[0m \u001b[1m1s\u001b[0m 2ms/step - accuracy: 0.8319 - loss: 0.3851 - precision_46: 0.8319 - recall_46: 0.8319 - val_accuracy: 0.8631 - val_loss: 0.3435 - val_precision_46: 0.8631 - val_recall_46: 0.8631\n",
      "Epoch 33/100\n",
      "\u001b[1m366/366\u001b[0m \u001b[32m━━━━━━━━━━━━━━━━━━━━\u001b[0m\u001b[37m\u001b[0m \u001b[1m1s\u001b[0m 2ms/step - accuracy: 0.8428 - loss: 0.3579 - precision_46: 0.8428 - recall_46: 0.8428 - val_accuracy: 0.8077 - val_loss: 0.3990 - val_precision_46: 0.8077 - val_recall_46: 0.8077\n",
      "Epoch 34/100\n",
      "\u001b[1m366/366\u001b[0m \u001b[32m━━━━━━━━━━━━━━━━━━━━\u001b[0m\u001b[37m\u001b[0m \u001b[1m1s\u001b[0m 2ms/step - accuracy: 0.8331 - loss: 0.3764 - precision_46: 0.8331 - recall_46: 0.8331 - val_accuracy: 0.8446 - val_loss: 0.3724 - val_precision_46: 0.8446 - val_recall_46: 0.8446\n",
      "Epoch 35/100\n",
      "\u001b[1m366/366\u001b[0m \u001b[32m━━━━━━━━━━━━━━━━━━━━\u001b[0m\u001b[37m\u001b[0m \u001b[1m1s\u001b[0m 2ms/step - accuracy: 0.8381 - loss: 0.3707 - precision_46: 0.8381 - recall_46: 0.8381 - val_accuracy: 0.8323 - val_loss: 0.3813 - val_precision_46: 0.8323 - val_recall_46: 0.8323\n",
      "Epoch 36/100\n",
      "\u001b[1m366/366\u001b[0m \u001b[32m━━━━━━━━━━━━━━━━━━━━\u001b[0m\u001b[37m\u001b[0m \u001b[1m1s\u001b[0m 2ms/step - accuracy: 0.8412 - loss: 0.3559 - precision_46: 0.8412 - recall_46: 0.8412 - val_accuracy: 0.8323 - val_loss: 0.3849 - val_precision_46: 0.8323 - val_recall_46: 0.8323\n",
      "Epoch 37/100\n",
      "\u001b[1m366/366\u001b[0m \u001b[32m━━━━━━━━━━━━━━━━━━━━\u001b[0m\u001b[37m\u001b[0m \u001b[1m1s\u001b[0m 2ms/step - accuracy: 0.8475 - loss: 0.3602 - precision_46: 0.8475 - recall_46: 0.8475 - val_accuracy: 0.8477 - val_loss: 0.3511 - val_precision_46: 0.8477 - val_recall_46: 0.8477\n",
      "Epoch 38/100\n",
      "\u001b[1m366/366\u001b[0m \u001b[32m━━━━━━━━━━━━━━━━━━━━\u001b[0m\u001b[37m\u001b[0m \u001b[1m1s\u001b[0m 2ms/step - accuracy: 0.8327 - loss: 0.3731 - precision_46: 0.8327 - recall_46: 0.8327 - val_accuracy: 0.8262 - val_loss: 0.4083 - val_precision_46: 0.8262 - val_recall_46: 0.8262\n",
      "Epoch 39/100\n",
      "\u001b[1m366/366\u001b[0m \u001b[32m━━━━━━━━━━━━━━━━━━━━\u001b[0m\u001b[37m\u001b[0m \u001b[1m1s\u001b[0m 2ms/step - accuracy: 0.8446 - loss: 0.3508 - precision_46: 0.8446 - recall_46: 0.8446 - val_accuracy: 0.8554 - val_loss: 0.3556 - val_precision_46: 0.8554 - val_recall_46: 0.8554\n",
      "Epoch 40/100\n",
      "\u001b[1m366/366\u001b[0m \u001b[32m━━━━━━━━━━━━━━━━━━━━\u001b[0m\u001b[37m\u001b[0m \u001b[1m1s\u001b[0m 2ms/step - accuracy: 0.8404 - loss: 0.3557 - precision_46: 0.8404 - recall_46: 0.8404 - val_accuracy: 0.8662 - val_loss: 0.3615 - val_precision_46: 0.8662 - val_recall_46: 0.8662\n",
      "Epoch 41/100\n",
      "\u001b[1m366/366\u001b[0m \u001b[32m━━━━━━━━━━━━━━━━━━━━\u001b[0m\u001b[37m\u001b[0m \u001b[1m1s\u001b[0m 2ms/step - accuracy: 0.8380 - loss: 0.3630 - precision_46: 0.8380 - recall_46: 0.8380 - val_accuracy: 0.8462 - val_loss: 0.3690 - val_precision_46: 0.8462 - val_recall_46: 0.8462\n",
      "Epoch 42/100\n",
      "\u001b[1m366/366\u001b[0m \u001b[32m━━━━━━━━━━━━━━━━━━━━\u001b[0m\u001b[37m\u001b[0m \u001b[1m1s\u001b[0m 2ms/step - accuracy: 0.8397 - loss: 0.3623 - precision_46: 0.8397 - recall_46: 0.8397 - val_accuracy: 0.8508 - val_loss: 0.3490 - val_precision_46: 0.8508 - val_recall_46: 0.8508\n",
      "Epoch 43/100\n",
      "\u001b[1m366/366\u001b[0m \u001b[32m━━━━━━━━━━━━━━━━━━━━\u001b[0m\u001b[37m\u001b[0m \u001b[1m1s\u001b[0m 2ms/step - accuracy: 0.8414 - loss: 0.3528 - precision_46: 0.8414 - recall_46: 0.8414 - val_accuracy: 0.8631 - val_loss: 0.3490 - val_precision_46: 0.8631 - val_recall_46: 0.8631\n",
      "Epoch 44/100\n",
      "\u001b[1m366/366\u001b[0m \u001b[32m━━━━━━━━━━━━━━━━━━━━\u001b[0m\u001b[37m\u001b[0m \u001b[1m1s\u001b[0m 2ms/step - accuracy: 0.8406 - loss: 0.3650 - precision_46: 0.8406 - recall_46: 0.8406 - val_accuracy: 0.8523 - val_loss: 0.3474 - val_precision_46: 0.8523 - val_recall_46: 0.8523\n",
      "Epoch 45/100\n",
      "\u001b[1m366/366\u001b[0m \u001b[32m━━━━━━━━━━━━━━━━━━━━\u001b[0m\u001b[37m\u001b[0m \u001b[1m1s\u001b[0m 2ms/step - accuracy: 0.8423 - loss: 0.3590 - precision_46: 0.8423 - recall_46: 0.8423 - val_accuracy: 0.8308 - val_loss: 0.3849 - val_precision_46: 0.8308 - val_recall_46: 0.8308\n",
      "Epoch 46/100\n",
      "\u001b[1m366/366\u001b[0m \u001b[32m━━━━━━━━━━━━━━━━━━━━\u001b[0m\u001b[37m\u001b[0m \u001b[1m1s\u001b[0m 2ms/step - accuracy: 0.8350 - loss: 0.3611 - precision_46: 0.8350 - recall_46: 0.8350 - val_accuracy: 0.8615 - val_loss: 0.3506 - val_precision_46: 0.8615 - val_recall_46: 0.8615\n",
      "Epoch 47/100\n",
      "\u001b[1m366/366\u001b[0m \u001b[32m━━━━━━━━━━━━━━━━━━━━\u001b[0m\u001b[37m\u001b[0m \u001b[1m1s\u001b[0m 2ms/step - accuracy: 0.8431 - loss: 0.3577 - precision_46: 0.8431 - recall_46: 0.8431 - val_accuracy: 0.8415 - val_loss: 0.3609 - val_precision_46: 0.8415 - val_recall_46: 0.8415\n",
      "Epoch 48/100\n",
      "\u001b[1m366/366\u001b[0m \u001b[32m━━━━━━━━━━━━━━━━━━━━\u001b[0m\u001b[37m\u001b[0m \u001b[1m1s\u001b[0m 2ms/step - accuracy: 0.8397 - loss: 0.3644 - precision_46: 0.8397 - recall_46: 0.8397 - val_accuracy: 0.8462 - val_loss: 0.3520 - val_precision_46: 0.8462 - val_recall_46: 0.8462\n",
      "Epoch 49/100\n",
      "\u001b[1m366/366\u001b[0m \u001b[32m━━━━━━━━━━━━━━━━━━━━\u001b[0m\u001b[37m\u001b[0m \u001b[1m1s\u001b[0m 2ms/step - accuracy: 0.8428 - loss: 0.3564 - precision_46: 0.8428 - recall_46: 0.8428 - val_accuracy: 0.8538 - val_loss: 0.3581 - val_precision_46: 0.8538 - val_recall_46: 0.8538\n",
      "Epoch 50/100\n",
      "\u001b[1m366/366\u001b[0m \u001b[32m━━━━━━━━━━━━━━━━━━━━\u001b[0m\u001b[37m\u001b[0m \u001b[1m1s\u001b[0m 2ms/step - accuracy: 0.8387 - loss: 0.3481 - precision_46: 0.8387 - recall_46: 0.8387 - val_accuracy: 0.8662 - val_loss: 0.3518 - val_precision_46: 0.8662 - val_recall_46: 0.8662\n",
      "Epoch 51/100\n",
      "\u001b[1m366/366\u001b[0m \u001b[32m━━━━━━━━━━━━━━━━━━━━\u001b[0m\u001b[37m\u001b[0m \u001b[1m1s\u001b[0m 2ms/step - accuracy: 0.8330 - loss: 0.3811 - precision_46: 0.8330 - recall_46: 0.8330 - val_accuracy: 0.8462 - val_loss: 0.3539 - val_precision_46: 0.8462 - val_recall_46: 0.8462\n",
      "Epoch 52/100\n",
      "\u001b[1m366/366\u001b[0m \u001b[32m━━━━━━━━━━━━━━━━━━━━\u001b[0m\u001b[37m\u001b[0m \u001b[1m1s\u001b[0m 2ms/step - accuracy: 0.8472 - loss: 0.3543 - precision_46: 0.8472 - recall_46: 0.8472 - val_accuracy: 0.8385 - val_loss: 0.3720 - val_precision_46: 0.8385 - val_recall_46: 0.8385\n",
      "Epoch 53/100\n",
      "\u001b[1m366/366\u001b[0m \u001b[32m━━━━━━━━━━━━━━━━━━━━\u001b[0m\u001b[37m\u001b[0m \u001b[1m1s\u001b[0m 2ms/step - accuracy: 0.8385 - loss: 0.3649 - precision_46: 0.8385 - recall_46: 0.8385 - val_accuracy: 0.8662 - val_loss: 0.3386 - val_precision_46: 0.8662 - val_recall_46: 0.8662\n",
      "Epoch 54/100\n",
      "\u001b[1m366/366\u001b[0m \u001b[32m━━━━━━━━━━━━━━━━━━━━\u001b[0m\u001b[37m\u001b[0m \u001b[1m1s\u001b[0m 2ms/step - accuracy: 0.8389 - loss: 0.3568 - precision_46: 0.8389 - recall_46: 0.8389 - val_accuracy: 0.8538 - val_loss: 0.3540 - val_precision_46: 0.8538 - val_recall_46: 0.8538\n",
      "Epoch 55/100\n",
      "\u001b[1m366/366\u001b[0m \u001b[32m━━━━━━━━━━━━━━━━━━━━\u001b[0m\u001b[37m\u001b[0m \u001b[1m1s\u001b[0m 2ms/step - accuracy: 0.8488 - loss: 0.3609 - precision_46: 0.8488 - recall_46: 0.8488 - val_accuracy: 0.8585 - val_loss: 0.3404 - val_precision_46: 0.8585 - val_recall_46: 0.8585\n",
      "Epoch 56/100\n",
      "\u001b[1m366/366\u001b[0m \u001b[32m━━━━━━━━━━━━━━━━━━━━\u001b[0m\u001b[37m\u001b[0m \u001b[1m1s\u001b[0m 2ms/step - accuracy: 0.8381 - loss: 0.3553 - precision_46: 0.8381 - recall_46: 0.8381 - val_accuracy: 0.8600 - val_loss: 0.3519 - val_precision_46: 0.8600 - val_recall_46: 0.8600\n",
      "Epoch 57/100\n",
      "\u001b[1m366/366\u001b[0m \u001b[32m━━━━━━━━━━━━━━━━━━━━\u001b[0m\u001b[37m\u001b[0m \u001b[1m1s\u001b[0m 2ms/step - accuracy: 0.8344 - loss: 0.3759 - precision_46: 0.8344 - recall_46: 0.8344 - val_accuracy: 0.8677 - val_loss: 0.3530 - val_precision_46: 0.8677 - val_recall_46: 0.8677\n",
      "Epoch 58/100\n",
      "\u001b[1m366/366\u001b[0m \u001b[32m━━━━━━━━━━━━━━━━━━━━\u001b[0m\u001b[37m\u001b[0m \u001b[1m1s\u001b[0m 2ms/step - accuracy: 0.8499 - loss: 0.3517 - precision_46: 0.8499 - recall_46: 0.8499 - val_accuracy: 0.8523 - val_loss: 0.3550 - val_precision_46: 0.8523 - val_recall_46: 0.8523\n",
      "Epoch 59/100\n",
      "\u001b[1m366/366\u001b[0m \u001b[32m━━━━━━━━━━━━━━━━━━━━\u001b[0m\u001b[37m\u001b[0m \u001b[1m1s\u001b[0m 2ms/step - accuracy: 0.8355 - loss: 0.3666 - precision_46: 0.8355 - recall_46: 0.8355 - val_accuracy: 0.8185 - val_loss: 0.4058 - val_precision_46: 0.8185 - val_recall_46: 0.8185\n",
      "Epoch 60/100\n",
      "\u001b[1m366/366\u001b[0m \u001b[32m━━━━━━━━━━━━━━━━━━━━\u001b[0m\u001b[37m\u001b[0m \u001b[1m1s\u001b[0m 2ms/step - accuracy: 0.8455 - loss: 0.3715 - precision_46: 0.8455 - recall_46: 0.8455 - val_accuracy: 0.8369 - val_loss: 0.3695 - val_precision_46: 0.8369 - val_recall_46: 0.8369\n",
      "Epoch 61/100\n",
      "\u001b[1m366/366\u001b[0m \u001b[32m━━━━━━━━━━━━━━━━━━━━\u001b[0m\u001b[37m\u001b[0m \u001b[1m1s\u001b[0m 3ms/step - accuracy: 0.8477 - loss: 0.3427 - precision_46: 0.8477 - recall_46: 0.8477 - val_accuracy: 0.8369 - val_loss: 0.3878 - val_precision_46: 0.8369 - val_recall_46: 0.8369\n",
      "Epoch 62/100\n",
      "\u001b[1m366/366\u001b[0m \u001b[32m━━━━━━━━━━━━━━━━━━━━\u001b[0m\u001b[37m\u001b[0m \u001b[1m1s\u001b[0m 3ms/step - accuracy: 0.8469 - loss: 0.3586 - precision_46: 0.8469 - recall_46: 0.8469 - val_accuracy: 0.8323 - val_loss: 0.3836 - val_precision_46: 0.8323 - val_recall_46: 0.8323\n",
      "Epoch 63/100\n",
      "\u001b[1m366/366\u001b[0m \u001b[32m━━━━━━━━━━━━━━━━━━━━\u001b[0m\u001b[37m\u001b[0m \u001b[1m1s\u001b[0m 3ms/step - accuracy: 0.8276 - loss: 0.3753 - precision_46: 0.8276 - recall_46: 0.8276 - val_accuracy: 0.8538 - val_loss: 0.3513 - val_precision_46: 0.8538 - val_recall_46: 0.8538\n",
      "Epoch 64/100\n",
      "\u001b[1m366/366\u001b[0m \u001b[32m━━━━━━━━━━━━━━━━━━━━\u001b[0m\u001b[37m\u001b[0m \u001b[1m1s\u001b[0m 3ms/step - accuracy: 0.8420 - loss: 0.3521 - precision_46: 0.8420 - recall_46: 0.8420 - val_accuracy: 0.8569 - val_loss: 0.3457 - val_precision_46: 0.8569 - val_recall_46: 0.8569\n",
      "Epoch 65/100\n",
      "\u001b[1m366/366\u001b[0m \u001b[32m━━━━━━━━━━━━━━━━━━━━\u001b[0m\u001b[37m\u001b[0m \u001b[1m2s\u001b[0m 4ms/step - accuracy: 0.8362 - loss: 0.3536 - precision_46: 0.8362 - recall_46: 0.8362 - val_accuracy: 0.8338 - val_loss: 0.3700 - val_precision_46: 0.8338 - val_recall_46: 0.8338\n",
      "Epoch 66/100\n",
      "\u001b[1m366/366\u001b[0m \u001b[32m━━━━━━━━━━━━━━━━━━━━\u001b[0m\u001b[37m\u001b[0m \u001b[1m1s\u001b[0m 2ms/step - accuracy: 0.8445 - loss: 0.3543 - precision_46: 0.8445 - recall_46: 0.8445 - val_accuracy: 0.7754 - val_loss: 0.4287 - val_precision_46: 0.7754 - val_recall_46: 0.7754\n",
      "Epoch 67/100\n",
      "\u001b[1m366/366\u001b[0m \u001b[32m━━━━━━━━━━━━━━━━━━━━\u001b[0m\u001b[37m\u001b[0m \u001b[1m1s\u001b[0m 2ms/step - accuracy: 0.8328 - loss: 0.3694 - precision_46: 0.8328 - recall_46: 0.8328 - val_accuracy: 0.8646 - val_loss: 0.3539 - val_precision_46: 0.8646 - val_recall_46: 0.8646\n",
      "Epoch 68/100\n",
      "\u001b[1m366/366\u001b[0m \u001b[32m━━━━━━━━━━━━━━━━━━━━\u001b[0m\u001b[37m\u001b[0m \u001b[1m1s\u001b[0m 2ms/step - accuracy: 0.8438 - loss: 0.3559 - precision_46: 0.8438 - recall_46: 0.8438 - val_accuracy: 0.6769 - val_loss: 0.5883 - val_precision_46: 0.6769 - val_recall_46: 0.6769\n",
      "Epoch 69/100\n",
      "\u001b[1m366/366\u001b[0m \u001b[32m━━━━━━━━━━━━━━━━━━━━\u001b[0m\u001b[37m\u001b[0m \u001b[1m1s\u001b[0m 2ms/step - accuracy: 0.8387 - loss: 0.3572 - precision_46: 0.8387 - recall_46: 0.8387 - val_accuracy: 0.8215 - val_loss: 0.3845 - val_precision_46: 0.8215 - val_recall_46: 0.8215\n",
      "Epoch 70/100\n",
      "\u001b[1m366/366\u001b[0m \u001b[32m━━━━━━━━━━━━━━━━━━━━\u001b[0m\u001b[37m\u001b[0m \u001b[1m1s\u001b[0m 2ms/step - accuracy: 0.8464 - loss: 0.3542 - precision_46: 0.8464 - recall_46: 0.8464 - val_accuracy: 0.8492 - val_loss: 0.3714 - val_precision_46: 0.8492 - val_recall_46: 0.8492\n",
      "Epoch 71/100\n",
      "\u001b[1m366/366\u001b[0m \u001b[32m━━━━━━━━━━━━━━━━━━━━\u001b[0m\u001b[37m\u001b[0m \u001b[1m1s\u001b[0m 2ms/step - accuracy: 0.8416 - loss: 0.3630 - precision_46: 0.8416 - recall_46: 0.8416 - val_accuracy: 0.8569 - val_loss: 0.3506 - val_precision_46: 0.8569 - val_recall_46: 0.8569\n",
      "Epoch 72/100\n",
      "\u001b[1m366/366\u001b[0m \u001b[32m━━━━━━━━━━━━━━━━━━━━\u001b[0m\u001b[37m\u001b[0m \u001b[1m1s\u001b[0m 2ms/step - accuracy: 0.8374 - loss: 0.3577 - precision_46: 0.8374 - recall_46: 0.8374 - val_accuracy: 0.8246 - val_loss: 0.3721 - val_precision_46: 0.8246 - val_recall_46: 0.8246\n",
      "Epoch 73/100\n",
      "\u001b[1m366/366\u001b[0m \u001b[32m━━━━━━━━━━━━━━━━━━━━\u001b[0m\u001b[37m\u001b[0m \u001b[1m1s\u001b[0m 3ms/step - accuracy: 0.8387 - loss: 0.3596 - precision_46: 0.8387 - recall_46: 0.8387 - val_accuracy: 0.8477 - val_loss: 0.3610 - val_precision_46: 0.8477 - val_recall_46: 0.8477\n",
      "Epoch 74/100\n",
      "\u001b[1m366/366\u001b[0m \u001b[32m━━━━━━━━━━━━━━━━━━━━\u001b[0m\u001b[37m\u001b[0m \u001b[1m1s\u001b[0m 2ms/step - accuracy: 0.8372 - loss: 0.3616 - precision_46: 0.8372 - recall_46: 0.8372 - val_accuracy: 0.8662 - val_loss: 0.3580 - val_precision_46: 0.8662 - val_recall_46: 0.8662\n",
      "Epoch 75/100\n",
      "\u001b[1m366/366\u001b[0m \u001b[32m━━━━━━━━━━━━━━━━━━━━\u001b[0m\u001b[37m\u001b[0m \u001b[1m1s\u001b[0m 2ms/step - accuracy: 0.8444 - loss: 0.3583 - precision_46: 0.8444 - recall_46: 0.8444 - val_accuracy: 0.8646 - val_loss: 0.3469 - val_precision_46: 0.8646 - val_recall_46: 0.8646\n",
      "Epoch 76/100\n",
      "\u001b[1m366/366\u001b[0m \u001b[32m━━━━━━━━━━━━━━━━━━━━\u001b[0m\u001b[37m\u001b[0m \u001b[1m1s\u001b[0m 2ms/step - accuracy: 0.8345 - loss: 0.3601 - precision_46: 0.8345 - recall_46: 0.8345 - val_accuracy: 0.8323 - val_loss: 0.3739 - val_precision_46: 0.8323 - val_recall_46: 0.8323\n",
      "Epoch 77/100\n",
      "\u001b[1m366/366\u001b[0m \u001b[32m━━━━━━━━━━━━━━━━━━━━\u001b[0m\u001b[37m\u001b[0m \u001b[1m1s\u001b[0m 2ms/step - accuracy: 0.8490 - loss: 0.3633 - precision_46: 0.8490 - recall_46: 0.8490 - val_accuracy: 0.8154 - val_loss: 0.3895 - val_precision_46: 0.8154 - val_recall_46: 0.8154\n",
      "Epoch 78/100\n",
      "\u001b[1m366/366\u001b[0m \u001b[32m━━━━━━━━━━━━━━━━━━━━\u001b[0m\u001b[37m\u001b[0m \u001b[1m1s\u001b[0m 2ms/step - accuracy: 0.8484 - loss: 0.3437 - precision_46: 0.8484 - recall_46: 0.8484 - val_accuracy: 0.8523 - val_loss: 0.3538 - val_precision_46: 0.8523 - val_recall_46: 0.8523\n",
      "Epoch 79/100\n",
      "\u001b[1m366/366\u001b[0m \u001b[32m━━━━━━━━━━━━━━━━━━━━\u001b[0m\u001b[37m\u001b[0m \u001b[1m1s\u001b[0m 2ms/step - accuracy: 0.8495 - loss: 0.3485 - precision_46: 0.8495 - recall_46: 0.8495 - val_accuracy: 0.8477 - val_loss: 0.3595 - val_precision_46: 0.8477 - val_recall_46: 0.8477\n",
      "Epoch 80/100\n",
      "\u001b[1m366/366\u001b[0m \u001b[32m━━━━━━━━━━━━━━━━━━━━\u001b[0m\u001b[37m\u001b[0m \u001b[1m1s\u001b[0m 2ms/step - accuracy: 0.8502 - loss: 0.3407 - precision_46: 0.8502 - recall_46: 0.8502 - val_accuracy: 0.8508 - val_loss: 0.3636 - val_precision_46: 0.8508 - val_recall_46: 0.8508\n",
      "Epoch 81/100\n",
      "\u001b[1m366/366\u001b[0m \u001b[32m━━━━━━━━━━━━━━━━━━━━\u001b[0m\u001b[37m\u001b[0m \u001b[1m1s\u001b[0m 2ms/step - accuracy: 0.8401 - loss: 0.3604 - precision_46: 0.8401 - recall_46: 0.8401 - val_accuracy: 0.8677 - val_loss: 0.3416 - val_precision_46: 0.8677 - val_recall_46: 0.8677\n",
      "Epoch 82/100\n",
      "\u001b[1m366/366\u001b[0m \u001b[32m━━━━━━━━━━━━━━━━━━━━\u001b[0m\u001b[37m\u001b[0m \u001b[1m1s\u001b[0m 2ms/step - accuracy: 0.8443 - loss: 0.3557 - precision_46: 0.8443 - recall_46: 0.8443 - val_accuracy: 0.8462 - val_loss: 0.3545 - val_precision_46: 0.8462 - val_recall_46: 0.8462\n",
      "Epoch 83/100\n",
      "\u001b[1m366/366\u001b[0m \u001b[32m━━━━━━━━━━━━━━━━━━━━\u001b[0m\u001b[37m\u001b[0m \u001b[1m1s\u001b[0m 2ms/step - accuracy: 0.8468 - loss: 0.3589 - precision_46: 0.8468 - recall_46: 0.8468 - val_accuracy: 0.8446 - val_loss: 0.3750 - val_precision_46: 0.8446 - val_recall_46: 0.8446\n",
      "Epoch 84/100\n",
      "\u001b[1m366/366\u001b[0m \u001b[32m━━━━━━━━━━━━━━━━━━━━\u001b[0m\u001b[37m\u001b[0m \u001b[1m1s\u001b[0m 2ms/step - accuracy: 0.8488 - loss: 0.3667 - precision_46: 0.8488 - recall_46: 0.8488 - val_accuracy: 0.8631 - val_loss: 0.3601 - val_precision_46: 0.8631 - val_recall_46: 0.8631\n",
      "Epoch 85/100\n",
      "\u001b[1m366/366\u001b[0m \u001b[32m━━━━━━━━━━━━━━━━━━━━\u001b[0m\u001b[37m\u001b[0m \u001b[1m1s\u001b[0m 2ms/step - accuracy: 0.8409 - loss: 0.3527 - precision_46: 0.8409 - recall_46: 0.8409 - val_accuracy: 0.8523 - val_loss: 0.3596 - val_precision_46: 0.8523 - val_recall_46: 0.8523\n",
      "Epoch 86/100\n",
      "\u001b[1m366/366\u001b[0m \u001b[32m━━━━━━━━━━━━━━━━━━━━\u001b[0m\u001b[37m\u001b[0m \u001b[1m1s\u001b[0m 2ms/step - accuracy: 0.8402 - loss: 0.3484 - precision_46: 0.8402 - recall_46: 0.8402 - val_accuracy: 0.8538 - val_loss: 0.3492 - val_precision_46: 0.8538 - val_recall_46: 0.8538\n",
      "Epoch 87/100\n",
      "\u001b[1m366/366\u001b[0m \u001b[32m━━━━━━━━━━━━━━━━━━━━\u001b[0m\u001b[37m\u001b[0m \u001b[1m1s\u001b[0m 2ms/step - accuracy: 0.8412 - loss: 0.3481 - precision_46: 0.8412 - recall_46: 0.8412 - val_accuracy: 0.8277 - val_loss: 0.3689 - val_precision_46: 0.8277 - val_recall_46: 0.8277\n",
      "Epoch 88/100\n",
      "\u001b[1m366/366\u001b[0m \u001b[32m━━━━━━━━━━━━━━━━━━━━\u001b[0m\u001b[37m\u001b[0m \u001b[1m1s\u001b[0m 2ms/step - accuracy: 0.8371 - loss: 0.3654 - precision_46: 0.8371 - recall_46: 0.8371 - val_accuracy: 0.8308 - val_loss: 0.3783 - val_precision_46: 0.8308 - val_recall_46: 0.8308\n",
      "Epoch 89/100\n",
      "\u001b[1m366/366\u001b[0m \u001b[32m━━━━━━━━━━━━━━━━━━━━\u001b[0m\u001b[37m\u001b[0m \u001b[1m1s\u001b[0m 2ms/step - accuracy: 0.8504 - loss: 0.3574 - precision_46: 0.8504 - recall_46: 0.8504 - val_accuracy: 0.8554 - val_loss: 0.3664 - val_precision_46: 0.8554 - val_recall_46: 0.8554\n",
      "Epoch 90/100\n",
      "\u001b[1m366/366\u001b[0m \u001b[32m━━━━━━━━━━━━━━━━━━━━\u001b[0m\u001b[37m\u001b[0m \u001b[1m1s\u001b[0m 2ms/step - accuracy: 0.8428 - loss: 0.3544 - precision_46: 0.8428 - recall_46: 0.8428 - val_accuracy: 0.8277 - val_loss: 0.3796 - val_precision_46: 0.8277 - val_recall_46: 0.8277\n",
      "Epoch 91/100\n",
      "\u001b[1m366/366\u001b[0m \u001b[32m━━━━━━━━━━━━━━━━━━━━\u001b[0m\u001b[37m\u001b[0m \u001b[1m1s\u001b[0m 2ms/step - accuracy: 0.8433 - loss: 0.3523 - precision_46: 0.8433 - recall_46: 0.8433 - val_accuracy: 0.8385 - val_loss: 0.3549 - val_precision_46: 0.8385 - val_recall_46: 0.8385\n",
      "Epoch 92/100\n",
      "\u001b[1m366/366\u001b[0m \u001b[32m━━━━━━━━━━━━━━━━━━━━\u001b[0m\u001b[37m\u001b[0m \u001b[1m1s\u001b[0m 2ms/step - accuracy: 0.8382 - loss: 0.3681 - precision_46: 0.8382 - recall_46: 0.8382 - val_accuracy: 0.8631 - val_loss: 0.3638 - val_precision_46: 0.8631 - val_recall_46: 0.8631\n",
      "Epoch 93/100\n",
      "\u001b[1m366/366\u001b[0m \u001b[32m━━━━━━━━━━━━━━━━━━━━\u001b[0m\u001b[37m\u001b[0m \u001b[1m1s\u001b[0m 2ms/step - accuracy: 0.8451 - loss: 0.3550 - precision_46: 0.8451 - recall_46: 0.8451 - val_accuracy: 0.7862 - val_loss: 0.4175 - val_precision_46: 0.7862 - val_recall_46: 0.7862\n",
      "Epoch 94/100\n",
      "\u001b[1m366/366\u001b[0m \u001b[32m━━━━━━━━━━━━━━━━━━━━\u001b[0m\u001b[37m\u001b[0m \u001b[1m1s\u001b[0m 2ms/step - accuracy: 0.8312 - loss: 0.3681 - precision_46: 0.8312 - recall_46: 0.8312 - val_accuracy: 0.8354 - val_loss: 0.3573 - val_precision_46: 0.8354 - val_recall_46: 0.8354\n",
      "Epoch 95/100\n",
      "\u001b[1m366/366\u001b[0m \u001b[32m━━━━━━━━━━━━━━━━━━━━\u001b[0m\u001b[37m\u001b[0m \u001b[1m1s\u001b[0m 2ms/step - accuracy: 0.8385 - loss: 0.3576 - precision_46: 0.8385 - recall_46: 0.8385 - val_accuracy: 0.8354 - val_loss: 0.3598 - val_precision_46: 0.8354 - val_recall_46: 0.8354\n",
      "Epoch 96/100\n",
      "\u001b[1m366/366\u001b[0m \u001b[32m━━━━━━━━━━━━━━━━━━━━\u001b[0m\u001b[37m\u001b[0m \u001b[1m1s\u001b[0m 2ms/step - accuracy: 0.8426 - loss: 0.3520 - precision_46: 0.8426 - recall_46: 0.8426 - val_accuracy: 0.7800 - val_loss: 0.4383 - val_precision_46: 0.7800 - val_recall_46: 0.7800\n",
      "Epoch 97/100\n",
      "\u001b[1m366/366\u001b[0m \u001b[32m━━━━━━━━━━━━━━━━━━━━\u001b[0m\u001b[37m\u001b[0m \u001b[1m1s\u001b[0m 2ms/step - accuracy: 0.8391 - loss: 0.3576 - precision_46: 0.8391 - recall_46: 0.8391 - val_accuracy: 0.8523 - val_loss: 0.3430 - val_precision_46: 0.8523 - val_recall_46: 0.8523\n",
      "Epoch 98/100\n",
      "\u001b[1m366/366\u001b[0m \u001b[32m━━━━━━━━━━━━━━━━━━━━\u001b[0m\u001b[37m\u001b[0m \u001b[1m1s\u001b[0m 2ms/step - accuracy: 0.8463 - loss: 0.3520 - precision_46: 0.8463 - recall_46: 0.8463 - val_accuracy: 0.8600 - val_loss: 0.3591 - val_precision_46: 0.8600 - val_recall_46: 0.8600\n",
      "Epoch 99/100\n",
      "\u001b[1m366/366\u001b[0m \u001b[32m━━━━━━━━━━━━━━━━━━━━\u001b[0m\u001b[37m\u001b[0m \u001b[1m1s\u001b[0m 2ms/step - accuracy: 0.8349 - loss: 0.3602 - precision_46: 0.8349 - recall_46: 0.8349 - val_accuracy: 0.8246 - val_loss: 0.3719 - val_precision_46: 0.8246 - val_recall_46: 0.8246\n",
      "Epoch 100/100\n",
      "\u001b[1m366/366\u001b[0m \u001b[32m━━━━━━━━━━━━━━━━━━━━\u001b[0m\u001b[37m\u001b[0m \u001b[1m1s\u001b[0m 2ms/step - accuracy: 0.8290 - loss: 0.3715 - precision_46: 0.8290 - recall_46: 0.8290 - val_accuracy: 0.8385 - val_loss: 0.3617 - val_precision_46: 0.8385 - val_recall_46: 0.8385\n"
     ]
    },
    {
     "data": {
      "text/plain": [
       "<keras.src.callbacks.history.History at 0x12203bed610>"
      ]
     },
     "execution_count": 290,
     "metadata": {},
     "output_type": "execute_result"
    }
   ],
   "source": [
    "from sklearn.model_selection import train_test_split\n",
    "import tensorflow as tf\n",
    "from tensorflow.keras.optimizers import Adam\n",
    "from tensorflow.keras.models import Sequential\n",
    "from tensorflow.keras.layers import Dense, Dropout, BatchNormalization, Input\n",
    "from tensorflow.keras.metrics import Precision, Recall\n",
    "from tensorflow.keras.callbacks import ModelCheckpoint\n",
    "\n",
    "# Checkpoint 설정\n",
    "checkpoint = ModelCheckpoint('best_model.keras', save_best_only=True, monitor='val_loss', mode='min')\n",
    "\n",
    "# 데이터 분할\n",
    "훈련용_data, 테스트용_data, 훈련용_target, 테스트용_target = train_test_split(data, target, test_size=0.1, random_state=40)\n",
    "\n",
    "# 모델 구성\n",
    "model = Sequential([\n",
    "    Input(shape=(3,)),                       # 입력 레이어, 입력 크기 (3,)\n",
    "    BatchNormalization(),                    # 배치 정규화\n",
    "    Dense(64, activation='gelu', name='D1'), # 첫 번째 Dense 레이어\n",
    "    BatchNormalization(),                    # 배치 정규화\n",
    "    Dense(64, activation='gelu', name='D2'), # 두 번째 Dense 레이어\n",
    "    Dropout(rate=0.3),                       # 드롭아웃 레이어 (과적합 방지)\n",
    "    Dense(32, activation='gelu', name='D3'), # 세 번째 Dense 레이어\n",
    "    BatchNormalization(),                    # 배치 정규화\n",
    "    Dense(32, activation='gelu', name='D4'), # 네 번째 Dense 레이어\n",
    "    Dropout(rate=0.3),                       # 드롭아웃 레이어\n",
    "    Dense(2, activation='sigmoid')           # 출력 레이어 (이진 분류용 시그모이드 활성화 함수)\n",
    "])\n",
    "\n",
    "# 모델 컴파일\n",
    "model.compile(optimizer=Adam(learning_rate=0.01), loss='class_crossentropy', metrics=['accuracy', Precision(), Recall()])\n",
    "\n",
    "# 모델 학습\n",
    "model.fit(훈련용_data, 훈련용_target, epochs=100, batch_size=16, validation_data=(테스트용_data, 테스트용_target), callbacks=[checkpoint])\n"
   ]
  },
  {
   "cell_type": "code",
   "execution_count": 291,
   "metadata": {},
   "outputs": [
    {
     "name": "stdout",
     "output_type": "stream",
     "text": [
      "\u001b[1m21/21\u001b[0m \u001b[32m━━━━━━━━━━━━━━━━━━━━\u001b[0m\u001b[37m\u001b[0m \u001b[1m0s\u001b[0m 1ms/step - accuracy: 0.8255 - loss: 0.3691 - precision_46: 0.8255 - recall_46: 0.8255 \n"
     ]
    }
   ],
   "source": [
    "result= model.evaluate(테스트용_data,  테스트용_target)"
   ]
  },
  {
   "cell_type": "code",
   "execution_count": 292,
   "metadata": {},
   "outputs": [
    {
     "name": "stdout",
     "output_type": "stream",
     "text": [
      "\u001b[1m21/21\u001b[0m \u001b[32m━━━━━━━━━━━━━━━━━━━━\u001b[0m\u001b[37m\u001b[0m \u001b[1m0s\u001b[0m 9ms/step\n"
     ]
    }
   ],
   "source": [
    "pred= model.predict(테스트용_data)"
   ]
  },
  {
   "cell_type": "code",
   "execution_count": 248,
   "metadata": {},
   "outputs": [
    {
     "name": "stdout",
     "output_type": "stream",
     "text": [
      "\u001b[1m21/21\u001b[0m \u001b[32m━━━━━━━━━━━━━━━━━━━━\u001b[0m\u001b[37m\u001b[0m \u001b[1m0s\u001b[0m 1ms/step \n"
     ]
    }
   ],
   "source": [
    "pred=model.predict(테스트용_data)\n",
    "\n"
   ]
  },
  {
   "cell_type": "code",
   "execution_count": 294,
   "metadata": {},
   "outputs": [],
   "source": [
    "preds = (pred > 0.5).astype(int)"
   ]
  },
  {
   "cell_type": "code",
   "execution_count": 295,
   "metadata": {},
   "outputs": [
    {
     "name": "stdout",
     "output_type": "stream",
     "text": [
      "              precision    recall  f1-score   support\n",
      "\n",
      "           0       0.64      0.72      0.68       152\n",
      "           1       0.91      0.87      0.89       498\n",
      "\n",
      "   micro avg       0.84      0.84      0.84       650\n",
      "   macro avg       0.77      0.80      0.78       650\n",
      "weighted avg       0.85      0.84      0.84       650\n",
      " samples avg       0.84      0.84      0.84       650\n",
      "\n"
     ]
    }
   ],
   "source": [
    "from sklearn.metrics import classification_report\n",
    "from sklearn.metrics import confusion_matrix\n",
    "report = classification_report(테스트용_target,preds)\n",
    "print(report)"
   ]
  },
  {
   "cell_type": "code",
   "execution_count": 299,
   "metadata": {},
   "outputs": [
    {
     "name": "stdout",
     "output_type": "stream",
     "text": [
      "[[[[175. 242. 255.]\n",
      "   [175. 247. 255.]\n",
      "   [174. 252. 255.]\n",
      "   ...\n",
      "   [191. 237. 255.]\n",
      "   [190. 241. 255.]\n",
      "   [204. 223. 255.]]\n",
      "\n",
      "  [[189. 225. 230.]\n",
      "   [199. 217. 229.]\n",
      "   [207. 213. 226.]\n",
      "   ...\n",
      "   [208. 222. 235.]\n",
      "   [209. 219. 226.]\n",
      "   [214. 212. 237.]]\n",
      "\n",
      "  [[199. 211. 184.]\n",
      "   [202. 211. 182.]\n",
      "   [202. 214. 182.]\n",
      "   ...\n",
      "   [209. 209. 186.]\n",
      "   [208. 215. 195.]\n",
      "   [205. 218. 200.]]\n",
      "\n",
      "  ...\n",
      "\n",
      "  [[209. 186. 174.]\n",
      "   [204. 195. 170.]\n",
      "   [197. 199. 179.]\n",
      "   ...\n",
      "   [197. 190. 168.]\n",
      "   [195. 191. 171.]\n",
      "   [194. 192. 175.]]\n",
      "\n",
      "  [[215. 183. 171.]\n",
      "   [206. 196. 164.]\n",
      "   [196. 198. 175.]\n",
      "   ...\n",
      "   [196. 189. 167.]\n",
      "   [197. 185. 172.]\n",
      "   [193. 195. 172.]]\n",
      "\n",
      "  [[215. 188. 167.]\n",
      "   [200. 199. 164.]\n",
      "   [193. 198. 174.]\n",
      "   ...\n",
      "   [190. 202. 158.]\n",
      "   [190. 202. 163.]\n",
      "   [191. 201. 168.]]]]\n"
     ]
    },
    {
     "ename": "ValueError",
     "evalue": "With n_samples=1, test_size=0.2 and train_size=None, the resulting train set will be empty. Adjust any of the aforementioned parameters.",
     "output_type": "error",
     "traceback": [
      "\u001b[1;31m---------------------------------------------------------------------------\u001b[0m",
      "\u001b[1;31mValueError\u001b[0m                                Traceback (most recent call last)",
      "Cell \u001b[1;32mIn[299], line 26\u001b[0m\n\u001b[0;32m     24\u001b[0m images, masks \u001b[38;5;241m=\u001b[39m load_data(\u001b[38;5;124m'\u001b[39m\u001b[38;5;124mcnn\u001b[39m\u001b[38;5;130;01m\\\\\u001b[39;00m\u001b[38;5;124mimages\u001b[39m\u001b[38;5;124m'\u001b[39m, \u001b[38;5;124m'\u001b[39m\u001b[38;5;124mcnn\u001b[39m\u001b[38;5;130;01m\\\\\u001b[39;00m\u001b[38;5;124mmasks\u001b[39m\u001b[38;5;124m'\u001b[39m)\n\u001b[0;32m     25\u001b[0m \u001b[38;5;28mprint\u001b[39m(images)\n\u001b[1;32m---> 26\u001b[0m x_train, x_val, y_train, y_val \u001b[38;5;241m=\u001b[39m train_test_split(images, masks, test_size\u001b[38;5;241m=\u001b[39m\u001b[38;5;241m0.2\u001b[39m, random_state\u001b[38;5;241m=\u001b[39m\u001b[38;5;241m42\u001b[39m)\n",
      "File \u001b[1;32mc:\\Users\\humming\\anaconda3\\Lib\\site-packages\\sklearn\\utils\\_param_validation.py:213\u001b[0m, in \u001b[0;36mvalidate_params.<locals>.decorator.<locals>.wrapper\u001b[1;34m(*args, **kwargs)\u001b[0m\n\u001b[0;32m    207\u001b[0m \u001b[38;5;28;01mtry\u001b[39;00m:\n\u001b[0;32m    208\u001b[0m     \u001b[38;5;28;01mwith\u001b[39;00m config_context(\n\u001b[0;32m    209\u001b[0m         skip_parameter_validation\u001b[38;5;241m=\u001b[39m(\n\u001b[0;32m    210\u001b[0m             prefer_skip_nested_validation \u001b[38;5;129;01mor\u001b[39;00m global_skip_validation\n\u001b[0;32m    211\u001b[0m         )\n\u001b[0;32m    212\u001b[0m     ):\n\u001b[1;32m--> 213\u001b[0m         \u001b[38;5;28;01mreturn\u001b[39;00m func(\u001b[38;5;241m*\u001b[39margs, \u001b[38;5;241m*\u001b[39m\u001b[38;5;241m*\u001b[39mkwargs)\n\u001b[0;32m    214\u001b[0m \u001b[38;5;28;01mexcept\u001b[39;00m InvalidParameterError \u001b[38;5;28;01mas\u001b[39;00m e:\n\u001b[0;32m    215\u001b[0m     \u001b[38;5;66;03m# When the function is just a wrapper around an estimator, we allow\u001b[39;00m\n\u001b[0;32m    216\u001b[0m     \u001b[38;5;66;03m# the function to delegate validation to the estimator, but we replace\u001b[39;00m\n\u001b[0;32m    217\u001b[0m     \u001b[38;5;66;03m# the name of the estimator by the name of the function in the error\u001b[39;00m\n\u001b[0;32m    218\u001b[0m     \u001b[38;5;66;03m# message to avoid confusion.\u001b[39;00m\n\u001b[0;32m    219\u001b[0m     msg \u001b[38;5;241m=\u001b[39m re\u001b[38;5;241m.\u001b[39msub(\n\u001b[0;32m    220\u001b[0m         \u001b[38;5;124mr\u001b[39m\u001b[38;5;124m\"\u001b[39m\u001b[38;5;124mparameter of \u001b[39m\u001b[38;5;124m\\\u001b[39m\u001b[38;5;124mw+ must be\u001b[39m\u001b[38;5;124m\"\u001b[39m,\n\u001b[0;32m    221\u001b[0m         \u001b[38;5;124mf\u001b[39m\u001b[38;5;124m\"\u001b[39m\u001b[38;5;124mparameter of \u001b[39m\u001b[38;5;132;01m{\u001b[39;00mfunc\u001b[38;5;241m.\u001b[39m\u001b[38;5;18m__qualname__\u001b[39m\u001b[38;5;132;01m}\u001b[39;00m\u001b[38;5;124m must be\u001b[39m\u001b[38;5;124m\"\u001b[39m,\n\u001b[0;32m    222\u001b[0m         \u001b[38;5;28mstr\u001b[39m(e),\n\u001b[0;32m    223\u001b[0m     )\n",
      "File \u001b[1;32mc:\\Users\\humming\\anaconda3\\Lib\\site-packages\\sklearn\\model_selection\\_split.py:2660\u001b[0m, in \u001b[0;36mtrain_test_split\u001b[1;34m(test_size, train_size, random_state, shuffle, stratify, *arrays)\u001b[0m\n\u001b[0;32m   2657\u001b[0m arrays \u001b[38;5;241m=\u001b[39m indexable(\u001b[38;5;241m*\u001b[39marrays)\n\u001b[0;32m   2659\u001b[0m n_samples \u001b[38;5;241m=\u001b[39m _num_samples(arrays[\u001b[38;5;241m0\u001b[39m])\n\u001b[1;32m-> 2660\u001b[0m n_train, n_test \u001b[38;5;241m=\u001b[39m _validate_shuffle_split(\n\u001b[0;32m   2661\u001b[0m     n_samples, test_size, train_size, default_test_size\u001b[38;5;241m=\u001b[39m\u001b[38;5;241m0.25\u001b[39m\n\u001b[0;32m   2662\u001b[0m )\n\u001b[0;32m   2664\u001b[0m \u001b[38;5;28;01mif\u001b[39;00m shuffle \u001b[38;5;129;01mis\u001b[39;00m \u001b[38;5;28;01mFalse\u001b[39;00m:\n\u001b[0;32m   2665\u001b[0m     \u001b[38;5;28;01mif\u001b[39;00m stratify \u001b[38;5;129;01mis\u001b[39;00m \u001b[38;5;129;01mnot\u001b[39;00m \u001b[38;5;28;01mNone\u001b[39;00m:\n",
      "File \u001b[1;32mc:\\Users\\humming\\anaconda3\\Lib\\site-packages\\sklearn\\model_selection\\_split.py:2308\u001b[0m, in \u001b[0;36m_validate_shuffle_split\u001b[1;34m(n_samples, test_size, train_size, default_test_size)\u001b[0m\n\u001b[0;32m   2305\u001b[0m n_train, n_test \u001b[38;5;241m=\u001b[39m \u001b[38;5;28mint\u001b[39m(n_train), \u001b[38;5;28mint\u001b[39m(n_test)\n\u001b[0;32m   2307\u001b[0m \u001b[38;5;28;01mif\u001b[39;00m n_train \u001b[38;5;241m==\u001b[39m \u001b[38;5;241m0\u001b[39m:\n\u001b[1;32m-> 2308\u001b[0m     \u001b[38;5;28;01mraise\u001b[39;00m \u001b[38;5;167;01mValueError\u001b[39;00m(\n\u001b[0;32m   2309\u001b[0m         \u001b[38;5;124m\"\u001b[39m\u001b[38;5;124mWith n_samples=\u001b[39m\u001b[38;5;132;01m{}\u001b[39;00m\u001b[38;5;124m, test_size=\u001b[39m\u001b[38;5;132;01m{}\u001b[39;00m\u001b[38;5;124m and train_size=\u001b[39m\u001b[38;5;132;01m{}\u001b[39;00m\u001b[38;5;124m, the \u001b[39m\u001b[38;5;124m\"\u001b[39m\n\u001b[0;32m   2310\u001b[0m         \u001b[38;5;124m\"\u001b[39m\u001b[38;5;124mresulting train set will be empty. Adjust any of the \u001b[39m\u001b[38;5;124m\"\u001b[39m\n\u001b[0;32m   2311\u001b[0m         \u001b[38;5;124m\"\u001b[39m\u001b[38;5;124maforementioned parameters.\u001b[39m\u001b[38;5;124m\"\u001b[39m\u001b[38;5;241m.\u001b[39mformat(n_samples, test_size, train_size)\n\u001b[0;32m   2312\u001b[0m     )\n\u001b[0;32m   2314\u001b[0m \u001b[38;5;28;01mreturn\u001b[39;00m n_train, n_test\n",
      "\u001b[1;31mValueError\u001b[0m: With n_samples=1, test_size=0.2 and train_size=None, the resulting train set will be empty. Adjust any of the aforementioned parameters."
     ]
    }
   ],
   "source": [
    "import tensorflow as tf\n",
    "from tensorflow.keras import layers, models\n",
    "import numpy as np\n",
    "import os\n",
    "from sklearn.model_selection import train_test_split\n",
    "from tensorflow.keras.preprocessing.image import ImageDataGenerator\n",
    "\n",
    "# 예시 데이터셋을 불러오는 함수 (여기서는 사용자가 데이터를 준비해야 함)\n",
    "def load_data(image_dir, mask_dir):\n",
    "    images = []\n",
    "    masks = []\n",
    "    for filename in os.listdir(image_dir):\n",
    "        img = tf.keras.preprocessing.image.load_img(os.path.join(image_dir, filename))\n",
    "        img = tf.keras.preprocessing.image.img_to_array(img)\n",
    "        images.append(img)\n",
    "        \n",
    "        mask = tf.keras.preprocessing.image.load_img(os.path.join(mask_dir, filename), color_mode=\"grayscale\")\n",
    "        mask = tf.keras.preprocessing.image.img_to_array(mask)\n",
    "        masks.append(mask)\n",
    "        \n",
    "    return np.array(images), np.array(masks)\n",
    "\n",
    "# 예시로 데이터셋을 나눔\n",
    "images, masks = load_data('cnn\\\\images', 'cnn\\\\masks')\n",
    "\n",
    "x_train, x_val, y_train, y_val = train_test_split(images, masks, test_size=0.2, random_state=42)\n"
   ]
  }
 ],
 "metadata": {
  "kernelspec": {
   "display_name": "base",
   "language": "python",
   "name": "python3"
  },
  "language_info": {
   "codemirror_mode": {
    "name": "ipython",
    "version": 3
   },
   "file_extension": ".py",
   "mimetype": "text/x-python",
   "name": "python",
   "nbconvert_exporter": "python",
   "pygments_lexer": "ipython3",
   "version": "3.12.4"
  }
 },
 "nbformat": 4,
 "nbformat_minor": 2
}
